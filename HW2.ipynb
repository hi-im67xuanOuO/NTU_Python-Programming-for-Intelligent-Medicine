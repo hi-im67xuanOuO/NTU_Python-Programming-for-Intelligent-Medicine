{
  "cells": [
    {
      "cell_type": "markdown",
      "metadata": {
        "id": "vJUcgM0BhZG8"
      },
      "source": [
        "## 注意事項\n",
        "\n",
        "- **作業繳交**\n",
        "\t1. 截止日期: 以Cool為準。\n",
        "\t1. 繳交方式: 上傳至Cool作業區。\n",
        "\t1. 檔案格式: 請**修改助教提供之ipynb檔**，繳交修改後的檔案，並以學號作為檔名。(ex. hw1_b1234567.ipynb)\n",
        "\t1. 抄襲以零分計算，並由校規處置。\n",
        "\t1. 遲交24hr以內，分數x0.8，超過一天不予繳交\n",
        "- **程式碼要求**\n",
        "\t1. 除非題目要求，程式碼請務必正確的包裝在function當中\n",
        "\t1. 函式定義外自己的測試程式碼請放在測試區中\n",
        "\t1. 強烈建議自行複製範例輸出的字串，和自己的輸出字串用函式比對，確認是否完全一樣\n",
        "\t1. 實際評分會包含範例以外的測試資料\n",
        "\t1. 請注意\"回傳\"與\"print\"的差別\n",
        "\n",
        "## [題目連結 HackMD](https://hackmd.io/No1DWA_3TvqFuEsaGSzr2A)"
      ]
    },
    {
      "cell_type": "markdown",
      "metadata": {
        "id": "ObUHQOIbP73F"
      },
      "source": [
        "# **Q1**"
      ]
    },
    {
      "cell_type": "code",
      "execution_count": 1,
      "metadata": {
        "id": "-W2PQk6ugSY2"
      },
      "outputs": [],
      "source": [
        "def Q1_Draw_an_arrow(treeSize):\n",
        "    if treeSize<2:\n",
        "        print(\"Too small!!!\")\n",
        "    else:\n",
        "        for n in range(treeSize+1):\n",
        "            for i in range(treeSize-n):\n",
        "                print(\"_\", end=\"\")\n",
        "            for j in range(2*n+1):\n",
        "                print(\"*\", end=\"\")\n",
        "            for k in range(treeSize-n):\n",
        "                print(\"_\", end=\"\")\n",
        "            print()\n",
        "\n",
        "        m = 0\n",
        "        if treeSize%2 == 0: ## 樹幹寬度\n",
        "            m = treeSize+1\n",
        "        else:\n",
        "            m = treeSize\n",
        "        \n",
        "        for time in range(treeSize+1):\n",
        "            print(\"_\"*int(((2*treeSize)+1-m)/2),end=\"\")\n",
        "            print(\"*\"*int(m), end=\"\")\n",
        "            print(\"_\"*int(((2*treeSize)+1-m)/2),end=\"\")\n",
        "            print()\n",
        "        "
      ]
    },
    {
      "cell_type": "markdown",
      "metadata": {
        "id": "GrChe75RQEfu"
      },
      "source": [
        "# **Q2**"
      ]
    },
    {
      "cell_type": "code",
      "execution_count": 2,
      "metadata": {
        "id": "i9XNXUbrQDq_"
      },
      "outputs": [],
      "source": [
        "def bingo_game(*bingo_list, n, pick_list):\n",
        "\n",
        "    for bingo_list_ in bingo_list:\n",
        "\n",
        "        current_find = 0\n",
        "        count = 0 # bingo個數\n",
        "        ans = []\n",
        "        # 依序找pick list中數值在bingo list中的index位置\n",
        "        for num in pick_list:\n",
        "            current_find = num\n",
        "            for i in range(n):\n",
        "                if current_find in bingo_list_[i]:\n",
        "                    col = bingo_list_[i].index(current_find)\n",
        "                    row = i\n",
        "\n",
        "            if row == col:\n",
        "                # 分別找該 row,col的四周：上下/左右/左上右下/右上左下\n",
        "                # 左上到右下\n",
        "                r = 0\n",
        "                c = 0\n",
        "                current_ans = []\n",
        "                while r<n and c<n:\n",
        "                    if bingo_list_[r][c] not in pick_list:\n",
        "                        break\n",
        "                    current_ans.append(bingo_list_[r][c])\n",
        "                    r+=1\n",
        "                    c+=1\n",
        "                    if r==n and c==n:\n",
        "                        count+=1\n",
        "                        if current_ans[0] not in ans:\n",
        "                            ans.append(current_ans[0])\n",
        "                # 右上到左下  \n",
        "                r = n-1\n",
        "                c = 0\n",
        "                current_ans = []\n",
        "                while r>=0 and c<=n:\n",
        "                    if bingo_list_[r][c] not in pick_list:\n",
        "                        break\n",
        "                    current_ans.append(bingo_list_[r][c])\n",
        "                    r-=1\n",
        "                    c+=1\n",
        "                    if r==-1 and c==n:\n",
        "                        count+=1\n",
        "                        if current_ans[0] not in ans:\n",
        "                            ans.append(current_ans[0])\n",
        "            # 上到下\n",
        "            r = 0\n",
        "            c = col\n",
        "            current_ans = []\n",
        "            while r<n:\n",
        "                if bingo_list_[r][c] not in pick_list:\n",
        "                    break\n",
        "                current_ans.append(bingo_list_[r][c])\n",
        "                r+=1\n",
        "                if r==n:\n",
        "                    count+=1\n",
        "                    if current_ans[0] not in ans:\n",
        "                        ans.append(current_ans[0])\n",
        "            # 左到右\n",
        "            r = row\n",
        "            c = 0\n",
        "            current_ans = []\n",
        "            while c<n:\n",
        "                if bingo_list_[r][c] not in pick_list:\n",
        "                    break\n",
        "                current_ans.append(bingo_list_[r][c])\n",
        "                c+=1\n",
        "                if c==n:\n",
        "                    count+=1\n",
        "                    if current_ans[0] not in ans:\n",
        "                        ans.append(current_ans[0])\n",
        "        if len(ans) == 0 :\n",
        "            print(\"Nope\")\n",
        "        else:\n",
        "            print(\"bingo x\",len(ans))"
      ]
    },
    {
      "cell_type": "markdown",
      "metadata": {
        "id": "aTX8S3V2QGl0"
      },
      "source": [
        "# **Q3**"
      ]
    },
    {
      "cell_type": "code",
      "execution_count": 3,
      "metadata": {
        "id": "xcXb9xDYgpyK"
      },
      "outputs": [],
      "source": [
        "def find_substrings(S):\n",
        "    str_len = len(S)\n",
        "    all_list_2 = [] # 偶數所有的可能組合\n",
        "    all_list_1 = [] # 奇數所有的可能組合\n",
        "    count_2 = 0 # 偶數長度對稱個數\n",
        "    count_1 = 0 # 奇數長度對稱個數\n",
        "    count_list = [] # 對稱的所有組合\n",
        "\n",
        "    for i in range(2,str_len+1,2): ## 偶數長度\n",
        "        for j in range(str_len-i +1): ## 起始值\n",
        "            str_ = \"\"\n",
        "            for n in range(j,j+i):\n",
        "                str_ = str_+S[n]\n",
        "            all_list_2.append(str_)\n",
        "    print()\n",
        "    for i in range(1,str_len+1,2): ## 偶數長度\n",
        "        for j in range(str_len-i +1): ## 起始值\n",
        "            str_ = \"\"\n",
        "            for n in range(j,j+i):\n",
        "                str_ = str_+S[n]\n",
        "            all_list_1.append(str_)\n",
        "    \n",
        "\n",
        "\n",
        "\n",
        "    for str in all_list_2:\n",
        "        i = 0\n",
        "        while i < (int(len(str)/2)):\n",
        "            if str[i] == str[-i-1]:\n",
        "                if i == int(len(str)/2)-1:\n",
        "                    count_2 += 1\n",
        "                    if str not in count_list:\n",
        "                        count_list.append(str)\n",
        "                i += 1\n",
        "            else:\n",
        "                break\n",
        "    \n",
        "    for str in all_list_1:\n",
        "        if len(str)==1:\n",
        "            count_1 += 1\n",
        "            if str not in count_list:\n",
        "                count_list.append(str)\n",
        "        else:\n",
        "            i = 0\n",
        "            while i < (int(len(str)/2)):\n",
        "                if str[i] == str[-i-1]:\n",
        "                    if i == int(len(str)/2-1):\n",
        "                        count_1 += 1\n",
        "                        if str not in count_list:\n",
        "                            count_list.append(str)\n",
        "                    i += 1\n",
        "                else:\n",
        "                    break\n",
        "    \n",
        "    print(count_1)\n",
        "    print(count_2)\n",
        "\n",
        "    ans_list = sorted(count_list)\n",
        "    for i in ans_list:\n",
        "        print(i)"
      ]
    },
    {
      "cell_type": "markdown",
      "metadata": {
        "id": "sIgw1N1Ygq2a"
      },
      "source": [
        "# 測試區(實際評分會包含範例以外的測試資料)\n",
        "### 在if當中的程式可以不用移除"
      ]
    },
    {
      "cell_type": "code",
      "execution_count": 5,
      "metadata": {
        "id": "ABSC2jI4gqfW"
      },
      "outputs": [
        {
          "name": "stdout",
          "output_type": "stream",
          "text": [
            "Hello world.\n",
            "_____*_____\n",
            "____***____\n",
            "___*****___\n",
            "__*******__\n",
            "_*********_\n",
            "***********\n",
            "___*****___\n",
            "___*****___\n",
            "___*****___\n",
            "___*****___\n",
            "___*****___\n",
            "___*****___\n",
            "Nope\n",
            "bingo x 2\n",
            "bingo x 3\n",
            "bingo x 1\n",
            "bingo x 3\n",
            "\n",
            "9\n",
            "0\n",
            "a\n",
            "aba\n",
            "ababa\n",
            "b\n",
            "bab\n",
            "\n",
            "147\n",
            "12\n",
            "a\n",
            "ama\n",
            "asa\n",
            "b\n",
            "c\n",
            "d\n",
            "dd\n",
            "e\n",
            "ee\n",
            "ese\n",
            "eve\n",
            "g\n",
            "h\n",
            "i\n",
            "k\n",
            "l\n",
            "lal\n",
            "ll\n",
            "m\n",
            "n\n",
            "nn\n",
            "o\n",
            "oo\n",
            "p\n",
            "r\n",
            "s\n",
            "t\n",
            "u\n",
            "uu\n",
            "v\n",
            "w\n",
            "y\n",
            "\n",
            "16\n",
            "12\n",
            "c\n",
            "cc\n",
            "ccc\n",
            "cccc\n",
            "ccccc\n",
            "cccccc\n",
            "ccccccc\n"
          ]
        }
      ],
      "source": [
        "if __name__ == '__main__':\n",
        "  # You can leave anything you want in this block.\n",
        "  print(\"Hello world.\")\n",
        "\n",
        "  Q1_Draw_an_arrow(5)\n",
        "\n",
        "  bingo_game([[1, 2, 3], [4, 5, 6], [7, 8, 9]], n=3, pick_list=[2, 4, 6, 8])\n",
        "  bingo_game(\n",
        "    [[5, 22, 12, 20, 23], [11, 9, 16, 19, 8], [2, 15, 21, 10, 4], [7, 18, 1, 24, 17], [25, 3, 14, 6, 13]], \n",
        "    [[14, 15, 2, 5, 25], [19, 1, 13, 7, 4], [11, 9, 16, 21, 8], [12, 22, 23, 20, 17], [18, 6, 24, 10, 3]], \n",
        "    [[5, 10, 21, 25, 18], [24, 22, 14, 15, 8], [11, 13, 1, 3, 2], [19, 23, 12, 9, 20], [16, 4, 6, 7, 17]], \n",
        "    [[17, 14, 23, 9, 2], [5, 11, 25, 15, 7], [6, 10, 19, 20, 3], [13, 8, 22, 1, 4], [16, 18, 12, 21, 24]], \n",
        "    n=5, pick_list=[24, 15, 22, 1, 7, 21, 10, 20, 25, 12, 5, 17, 3, 14, 16, 11, 23, 19]\n",
        "    )\n",
        "  \n",
        "  find_substrings(\"ababa\")\n",
        "  find_substrings(\"nevergonnagiveyouupnevergonnaletyoudownnevergonnarunaroundanddesertyounevergonnamakeyoucrynevergonnasaygoodbyeevergonnatellalieandhurtyou\")\n",
        "  find_substrings(\"ccccccc\")"
      ]
    },
    {
      "cell_type": "code",
      "execution_count": null,
      "metadata": {},
      "outputs": [],
      "source": []
    }
  ],
  "metadata": {
    "colab": {
      "collapsed_sections": [],
      "name": "IMP_HW2.ipynb",
      "provenance": []
    },
    "interpreter": {
      "hash": "40d3a090f54c6569ab1632332b64b2c03c39dcf918b08424e98f38b5ae0af88f"
    },
    "kernelspec": {
      "display_name": "Python 3.7.4 64-bit ('base': conda)",
      "name": "python3"
    },
    "language_info": {
      "codemirror_mode": {
        "name": "ipython",
        "version": 3
      },
      "file_extension": ".py",
      "mimetype": "text/x-python",
      "name": "python",
      "nbconvert_exporter": "python",
      "pygments_lexer": "ipython3",
      "version": "3.7.4"
    }
  },
  "nbformat": 4,
  "nbformat_minor": 0
}
