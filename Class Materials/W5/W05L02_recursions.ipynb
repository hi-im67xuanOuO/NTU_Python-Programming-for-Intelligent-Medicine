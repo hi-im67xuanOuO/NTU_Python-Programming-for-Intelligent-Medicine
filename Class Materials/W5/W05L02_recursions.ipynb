{
 "cells": [
  {
   "cell_type": "markdown",
   "metadata": {},
   "source": [
    "<div style=\"text-align:center;color:#888888;\"><h2> IMP 5001 - Introduction to Medical Informatics </h2></div>\n",
    "<div style=\"text-align:center;\"><h1> Recursions </h1></div>\n",
    "\n",
    "<div style=\"color:#999999;text-align:right;\">Ref: <a href=\"http://www.ucs.cam.ac.uk/docs/course-notes/unix-courses/PythonAB\">Python: Introduction for Absolute Beginners</a> &ensp; <a href=\"https://learnpythonthehardway.org\">Learn Python the Hard Way</a> &ensp; <a href=\"https://www.w3schools.com/python/default.asp\">w3schools</a></div>"
   ]
  },
  {
   "cell_type": "markdown",
   "metadata": {},
   "source": [
    "***When a function calls itself ...***"
   ]
  },
  {
   "cell_type": "code",
   "execution_count": 1,
   "metadata": {},
   "outputs": [
    {
     "name": "stdout",
     "output_type": "stream",
     "text": [
      "10\n",
      "9\n",
      "8\n",
      "7\n",
      "6\n",
      "5\n",
      "4\n",
      "3\n",
      "2\n",
      "1\n",
      "Time is up!\n"
     ]
    }
   ],
   "source": [
    "def countdown(n):\n",
    "    if n <= 0:\n",
    "        print('Time is up!')\n",
    "    else:\n",
    "        print(n)\n",
    "        countdown(n-1)\n",
    "countdown(10)"
   ]
  },
  {
   "cell_type": "markdown",
   "metadata": {},
   "source": [
    "Properly add ```print``` statements to help you trace the program progress and debug."
   ]
  },
  {
   "cell_type": "code",
   "execution_count": 2,
   "metadata": {},
   "outputs": [
    {
     "name": "stdout",
     "output_type": "stream",
     "text": [
      "> in function \"coundown\" with n = 3\n",
      "3\n",
      "> call \"countdown\" with n = 2\n",
      "> in function \"coundown\" with n = 2\n",
      "2\n",
      "> call \"countdown\" with n = 1\n",
      "> in function \"coundown\" with n = 1\n",
      "1\n",
      "> call \"countdown\" with n = 0\n",
      "> in function \"coundown\" with n = 0\n",
      "Time is up!\n"
     ]
    }
   ],
   "source": [
    "def countdown(n):\n",
    "    print('> in function \"coundown\" with n =', n)\n",
    "    if n <= 0:\n",
    "        print('Time is up!')\n",
    "    else:\n",
    "        print(n)\n",
    "        print('> call \"countdown\" with n =', n - 1)\n",
    "        countdown(n-1)\n",
    "countdown(3)"
   ]
  },
  {
   "cell_type": "code",
   "execution_count": 3,
   "metadata": {},
   "outputs": [
    {
     "name": "stdout",
     "output_type": "stream",
     "text": [
      "Hi\n",
      "Hi\n",
      "Hi\n",
      "Hi\n",
      "Hi\n"
     ]
    }
   ],
   "source": [
    "def printN(s,n):\n",
    "    if n <= 0:\n",
    "        return\n",
    "    print(s)\n",
    "    printN(s,n-1)\n",
    "\n",
    "printN('Hi',5)"
   ]
  },
  {
   "cell_type": "markdown",
   "metadata": {},
   "source": [
    "Simmilarly, let's add some ```print``` statements to trace the program flow."
   ]
  },
  {
   "cell_type": "code",
   "execution_count": 4,
   "metadata": {},
   "outputs": [
    {
     "name": "stdout",
     "output_type": "stream",
     "text": [
      "> printN('Hi',3)\n",
      "Hi\n",
      "> call printN('Hi',2)\n",
      "> printN('Hi',2)\n",
      "Hi\n",
      "> call printN('Hi',1)\n",
      "> printN('Hi',1)\n",
      "Hi\n",
      "> call printN('Hi',0)\n",
      "> printN('Hi',0)\n"
     ]
    }
   ],
   "source": [
    "def printN(s,n):\n",
    "    print(\"> printN('%s',%d)\" % (s, n))\n",
    "    if n <= 0:\n",
    "        return\n",
    "    print(s)\n",
    "    print(\"> call printN('%s',%d)\" % (s, n-1))\n",
    "    printN(s,n-1)\n",
    "\n",
    "printN('Hi',3)"
   ]
  },
  {
   "cell_type": "markdown",
   "metadata": {},
   "source": [
    "## Stack diagrams for recursive functions"
   ]
  },
  {
   "cell_type": "markdown",
   "metadata": {},
   "source": [
    "Stack diagram for `printN('Hi',3)`"
   ]
  },
  {
   "cell_type": "markdown",
   "metadata": {},
   "source": [
    "| frame | <!-- --> | <span style=\"color:red\">variables</span> |\n",
    "| :----- | ----- | :----- |\n",
    "| \\_\\_main\\_\\_ | <!-- --> | <!-- --> |\n",
    "| printN | <!-- --> | <span style=\"color:red\">s ===> \"Hi\"<br>n ===> 3</span> |\n",
    "| printN | <!-- --> | <span style=\"color:red\">s ===> \"Hi\"<br>n ===> 2</span> |\n",
    "| printN | <!-- --> | <span style=\"color:red\">s ===> \"Hi\"<br>n ===> 1</span> |\n",
    "| printN | <!-- --> | <span style=\"color:red\">s ===> \"Hi\"<br>n ===> 0</span> |"
   ]
  },
  {
   "cell_type": "markdown",
   "metadata": {},
   "source": [
    "For `printN`, `n = 0` is the **base case** -- it does not make a recursive call."
   ]
  },
  {
   "cell_type": "markdown",
   "metadata": {},
   "source": [
    "## Infinite recursion"
   ]
  },
  {
   "cell_type": "markdown",
   "metadata": {},
   "source": [
    "If a recursion never reaches a base case, it goes on making recursive calls forever, and the program never terminates."
   ]
  },
  {
   "cell_type": "code",
   "execution_count": null,
   "metadata": {},
   "outputs": [
    {
     "name": "stdout",
     "output_type": "stream",
     "text": [
      "\b"
     ]
    }
   ],
   "source": [
    "import time\n",
    "def blinkingStar(back):\n",
    "    if back:\n",
    "        print('\\b',end='')\n",
    "    else:\n",
    "        print('*',end='')\n",
    "    time.sleep(1)\n",
    "    blinkingStar(not back)\n",
    "\n",
    "    \n",
    "blinkingStar(True)"
   ]
  },
  {
   "cell_type": "markdown",
   "metadata": {},
   "source": [
    "## More recursion"
   ]
  },
  {
   "cell_type": "markdown",
   "metadata": {},
   "source": [
    "**Factorial**\n",
    "> $0! = 1$  \n",
    "> $n! = n\\left(n-1\\right)!$\n"
   ]
  },
  {
   "cell_type": "code",
   "execution_count": 1,
   "metadata": {},
   "outputs": [
    {
     "name": "stdout",
     "output_type": "stream",
     "text": [
      "120\n"
     ]
    }
   ],
   "source": [
    "def factorial(n):\n",
    "    if n == 0:\n",
    "        return 1\n",
    "    else:\n",
    "        recurse = factorial(n-1)\n",
    "        result = n * recurse\n",
    "        return result\n",
    "    \n",
    "print(factorial(5))"
   ]
  },
  {
   "cell_type": "markdown",
   "metadata": {},
   "source": [
    "Stack diagram of ```factorial(3)```:\n",
    "![this is](./figures/factorial_stack_diagram.png)"
   ]
  },
  {
   "cell_type": "markdown",
   "metadata": {},
   "source": [
    "### <span style=\"color:red\">Exercise1:</span> Fibonacci sequence\n",
    "\n",
    "The definition of Fibonacci sequence is:\n",
    "\n",
    "> $\\mbox{fibonacci}\\left( 0 \\right) = 0 $  \n",
    "> $\\mbox{fibonacci}\\left( 1 \\right) = 1 $  \n",
    "> $\\mbox{fibonacci}\\left( n \\right) = \\mbox{fibonacci}\\left( n-1 \\right) + \\mbox{fibonacci}\\left( n-2 \\right) $\n",
    "\n",
    "Now please write a function `fibonacci(n)` that returns the n-th element of Fibonacci sequence"
   ]
  },
  {
   "cell_type": "code",
   "execution_count": null,
   "metadata": {},
   "outputs": [],
   "source": [
    "# Exercise1\n",
    "\n",
    "def fibonacci(n):\n",
    "    # implement the function using recursion\n",
    "    return 0\n",
    "\n",
    "print(fibonacci(10))"
   ]
  },
  {
   "cell_type": "markdown",
   "metadata": {},
   "source": [
    "While the above implementation of ```fibonacci``` is intuitive and easy, it is very inefficient."
   ]
  },
  {
   "cell_type": "markdown",
   "metadata": {},
   "source": [
    "## Checking types"
   ]
  },
  {
   "cell_type": "markdown",
   "metadata": {},
   "source": [
    "A function can misbehave if the types of the input arguments are incorrect."
   ]
  },
  {
   "cell_type": "code",
   "execution_count": 4,
   "metadata": {},
   "outputs": [
    {
     "data": {
      "text/plain": [
       "0"
      ]
     },
     "execution_count": 4,
     "metadata": {},
     "output_type": "execute_result"
    }
   ],
   "source": [
    "fibonacci(1.5)"
   ]
  },
  {
   "cell_type": "markdown",
   "metadata": {},
   "source": [
    "We can use the built-in function ```isinstance``` to verify the type of the argument."
   ]
  },
  {
   "cell_type": "code",
   "execution_count": 5,
   "metadata": {},
   "outputs": [
    {
     "name": "stdout",
     "output_type": "stream",
     "text": [
      "fibonacci is only defined for non-negative integers.\n",
      "None\n"
     ]
    }
   ],
   "source": [
    "def fibonacci(n):\n",
    "    if not isinstance(n,int) or n < 0:\n",
    "        print('fibonacci is only defined for non-negative integers.')\n",
    "        return\n",
    "    if n == 0:\n",
    "        return 0\n",
    "    elif n == 1:\n",
    "        return 1\n",
    "    else:\n",
    "        return fibonacci(n-1) + fibonacci(n-2)\n",
    "\n",
    "print(fibonacci(10.5))"
   ]
  },
  {
   "cell_type": "markdown",
   "metadata": {},
   "source": [
    "### <span style=\"color:red\">Exercise2:</span> Palindrome\n",
    "\n",
    "A **palindrome** is a word that is spelled the same backward and forward,\n",
    "like “noon” and “redivider”.  \n",
    "\n",
    "Recursively, **a word is a palindrome if the first and last letters are\n",
    "the same and the middle is a palindrome**.\n",
    "\n",
    "Write a function called `is_palindrome(s)` that takes a string `s` and returns\n",
    "True if it is a palindrome or False otherwise."
   ]
  },
  {
   "cell_type": "code",
   "execution_count": null,
   "metadata": {},
   "outputs": [],
   "source": [
    "# Exercise2\n",
    "\n",
    "def is_palindrome(s):\n",
    "    # implement the function using recursion\n",
    "    return False\n",
    "\n",
    "print(is_palindrome(\"noon\"))\n",
    "print(is_palindrome(\"redivider\"))\n",
    "print(is_palindrome(\"aladdin\"))"
   ]
  },
  {
   "cell_type": "markdown",
   "metadata": {},
   "source": [
    "### <span style=\"color:red\">Exercise3:</span> Power of a Number"
   ]
  },
  {
   "cell_type": "markdown",
   "metadata": {},
   "source": [
    "A number, <i>a</i>, is a power of <i>b</i> if it is divisible by <i>b</i> and <i>a</i>/<i>b</i> is a power of <i>b</i>.  \n",
    "Write a function called `is_power` that takes parameters <i>a</i> and <i>b</i> and returns True\n",
    "if <i>a</i> is a power of <i>b</i>.  \n",
    "Note: you will have to think about the base case."
   ]
  },
  {
   "cell_type": "code",
   "execution_count": null,
   "metadata": {},
   "outputs": [],
   "source": [
    "# Exercise3\n",
    "\n",
    "def is_power(a,b):\n",
    "    # implement the function using recursion\n",
    "    return False\n",
    "\n",
    "print(is_power(1024,2))\n",
    "print(is_power(1023,2))\n",
    "print(is_power(343,7))"
   ]
  },
  {
   "cell_type": "code",
   "execution_count": null,
   "metadata": {},
   "outputs": [],
   "source": []
  }
 ],
 "metadata": {
  "kernelspec": {
   "display_name": "Python 3",
   "language": "python",
   "name": "python3"
  },
  "language_info": {
   "codemirror_mode": {
    "name": "ipython",
    "version": 3
   },
   "file_extension": ".py",
   "mimetype": "text/x-python",
   "name": "python",
   "nbconvert_exporter": "python",
   "pygments_lexer": "ipython3",
   "version": "3.8.10"
  }
 },
 "nbformat": 4,
 "nbformat_minor": 2
}
