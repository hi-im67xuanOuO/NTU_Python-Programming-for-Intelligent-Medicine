{
 "cells": [
  {
   "cell_type": "markdown",
   "metadata": {},
   "source": [
    "<div style=\"text-align:center;color:#888888;\"><h2> IMP 5001 - Introduction to Medical Informatics </h2></div>\n",
    "<div style=\"text-align:center;\"><h1> More about Functions </h1></div>\n",
    "\n",
    "<div style=\"color:#999999;text-align:right;\">Ref: <a href=\"http://www.ucs.cam.ac.uk/docs/course-notes/unix-courses/PythonAB\">Python: Introduction for Absolute Beginners</a> &ensp; <a href=\"https://learnpythonthehardway.org\">Learn Python the Hard Way</a> &ensp; <a href=\"https://www.w3schools.com/python/default.asp\">w3schools</a></div>"
   ]
  },
  {
   "cell_type": "markdown",
   "metadata": {},
   "source": [
    "## Review"
   ]
  },
  {
   "cell_type": "markdown",
   "metadata": {},
   "source": [
    "There are 2 types of functions:\n",
    "\n",
    "* **Fruitful** functions: functions that *`return`* values\n",
    "* **Void** functions: functions that don't return values"
   ]
  },
  {
   "cell_type": "code",
   "execution_count": 1,
   "metadata": {
    "scrolled": true
   },
   "outputs": [
    {
     "name": "stdout",
     "output_type": "stream",
     "text": [
      "2\n"
     ]
    }
   ],
   "source": [
    "## fruitful\n",
    "x = abs(-2)\n",
    "\n",
    "## void\n",
    "y = print(x)"
   ]
  },
  {
   "cell_type": "markdown",
   "metadata": {},
   "source": [
    "**Note that although the `print()` function shows value on the display, it returns nothing, i.e., `y` is meaningless. Thus, `print()` is a void function**\n",
    "\n",
    "The returned value, if you insist, of a void function is **None**.  \n",
    "**None** is a value of **NoneType**, not the string  ```'None'```."
   ]
  },
  {
   "cell_type": "code",
   "execution_count": 2,
   "metadata": {},
   "outputs": [
    {
     "name": "stdout",
     "output_type": "stream",
     "text": [
      "None\n",
      "<class 'NoneType'>\n"
     ]
    }
   ],
   "source": [
    "print(y)\n",
    "print(type(y))"
   ]
  },
  {
   "cell_type": "markdown",
   "metadata": {},
   "source": [
    "### The *`return`* statement"
   ]
  },
  {
   "cell_type": "markdown",
   "metadata": {},
   "source": [
    "A **fruitful** function has a **return value** which can be assigned to variables or used as part of an expression.  \n",
    "A return statement has the form\n",
    "\n",
    "    return expression\n",
    "\n",
    "which tells the Python interpreter to ***return immediately from this function and use the `expression` as a returned value***, which will be sent back to the process calling this function.  \n",
    "\n",
    "A `return` statement without the expression simply instructs the interpreter to return to the calling process.  "
   ]
  },
  {
   "cell_type": "code",
   "execution_count": 3,
   "metadata": {},
   "outputs": [
    {
     "name": "stdout",
     "output_type": "stream",
     "text": [
      "The area of a circle with radius 3 is 28.274.\n"
     ]
    }
   ],
   "source": [
    "import math\n",
    "\n",
    "def circleArea(radius):\n",
    "    a = math.pi * radius ** 2\n",
    "    return a\n",
    "\n",
    "radius = 3\n",
    "area = circleArea(radius)\n",
    "\n",
    "print(f\"The area of a circle with radius {radius} is {round(area,3)}.\")"
   ]
  },
  {
   "cell_type": "markdown",
   "metadata": {},
   "source": [
    "Multiple return statements are common and ease coding efforts; however, ***make sure that every branch in your function ends with a return statement***."
   ]
  },
  {
   "cell_type": "code",
   "execution_count": 4,
   "metadata": {},
   "outputs": [
    {
     "name": "stdout",
     "output_type": "stream",
     "text": [
      "3.5\n"
     ]
    }
   ],
   "source": [
    "#\n",
    "# with the \"else\" branch, all possibilities are covered\n",
    "#\n",
    "def absValue(x):\n",
    "    if x > 0:\n",
    "        return x\n",
    "    else:\n",
    "        return -x\n",
    "\n",
    "print(absValue(-3.5))"
   ]
  },
  {
   "cell_type": "code",
   "execution_count": 5,
   "metadata": {},
   "outputs": [
    {
     "name": "stdout",
     "output_type": "stream",
     "text": [
      "None\n"
     ]
    }
   ],
   "source": [
    "#\n",
    "# What's missing in this function?\n",
    "#\n",
    "def maximumOfThree(r1, r2, r3):\n",
    "    if r1 > r2 and r1 > r3:\n",
    "        return r1\n",
    "    if r2 > r3 and r2 > r1:\n",
    "        return r2\n",
    "    if r3 > r1 and r3 > r2:\n",
    "        return r3\n",
    "\n",
    "print(maximumOfThree(2, 3, 3))"
   ]
  },
  {
   "cell_type": "markdown",
   "metadata": {},
   "source": [
    "## Return multiple  values"
   ]
  },
  {
   "cell_type": "markdown",
   "metadata": {},
   "source": [
    "One can return multiple values, seperated by comma.\n",
    "(This is actually a **`tuple`**, which we have introduced in last lecture.)"
   ]
  },
  {
   "cell_type": "code",
   "execution_count": 6,
   "metadata": {},
   "outputs": [
    {
     "name": "stdout",
     "output_type": "stream",
     "text": [
      "(2, 1) <class 'tuple'>\n"
     ]
    }
   ],
   "source": [
    "# The built-in `divmod()` function takes two numbers\n",
    "# and returns a pair of numbers (a tuple) consisting\n",
    "# of their quotient and remainder\n",
    "x = divmod(5,2)\n",
    "print(x, type(x))\n",
    "\n",
    "\n"
   ]
  },
  {
   "cell_type": "code",
   "execution_count": 7,
   "metadata": {},
   "outputs": [
    {
     "name": "stdout",
     "output_type": "stream",
     "text": [
      "2\n",
      "1\n",
      "1\n",
      "3\n"
     ]
    }
   ],
   "source": [
    "# we can get elements of the returned tuple by such syntax called `unpacking`\n",
    "(q, r) = divmod(5,2)\n",
    "print(q)\n",
    "print(r)\n",
    "\n",
    "# either with or without `()` would be OK\n",
    "q, r = divmod(7,4)\n",
    "print(q)\n",
    "print(r)"
   ]
  },
  {
   "cell_type": "code",
   "execution_count": 8,
   "metadata": {},
   "outputs": [
    {
     "name": "stdout",
     "output_type": "stream",
     "text": [
      "153176 days, 14 hours, 29 minutes, 46 seconds\n"
     ]
    }
   ],
   "source": [
    "def dayHourMinuteSecond(x):\n",
    "    m, s = divmod(x,60)\n",
    "    h, m = divmod(m,60)\n",
    "    d, h = divmod(h,24)\n",
    "    return d, h, m, s\n",
    "\n",
    "d, h, m, s = dayHourMinuteSecond(13234458586)\n",
    "print(f\"{d} days, {h} hours, {m} minutes, {s} seconds\")"
   ]
  },
  {
   "cell_type": "markdown",
   "metadata": {},
   "source": [
    "### <span style=\"color:red\">Exercise1:</span> Falling Object\n",
    "\n",
    "In high school, we have learnt to compute the speed and position of a falling object given its start velocity and duration by the following formulas:\n",
    "\n",
    "$$y(t) = v_0t −\\frac{1}{2}gt^2$$\n",
    "$$y'(t) = v_0 − gt$$ \n",
    "\n",
    "Now please write a function `falling_loc_and_speed(t,v0)` to compute these values."
   ]
  },
  {
   "cell_type": "code",
   "execution_count": null,
   "metadata": {
    "scrolled": true
   },
   "outputs": [],
   "source": [
    "# Exercise1\n",
    "g = 9.80665\n",
    "\n",
    "# define your function here\n",
    "def falling_loc_and_speed(t, v0):\n",
    "    return 0, 0\n",
    "\n",
    "v0 = 20\n",
    "print(f\"The srart velocity is {v0} m/s\")\n",
    "for t in range(10):\n",
    "    print(\"At t = {}, the object is at {} m with speed {} m/s\".format(t, *falling_loc_and_speed(t,v0)))\n"
   ]
  },
  {
   "cell_type": "markdown",
   "metadata": {},
   "source": [
    "## Functions are first class objects"
   ]
  },
  {
   "cell_type": "markdown",
   "metadata": {},
   "source": [
    "In Python, functions behave like any other object, such as an int or a list. That means you can use functions as arguments to other functions, store functions as values, or return a function from another function. This leads to many powerful ways to use functions."
   ]
  },
  {
   "cell_type": "code",
   "execution_count": 10,
   "metadata": {
    "scrolled": true
   },
   "outputs": [
    {
     "data": {
      "text/plain": [
       "49"
      ]
     },
     "execution_count": 10,
     "metadata": {},
     "output_type": "execute_result"
    }
   ],
   "source": [
    "def square(x):\n",
    "    \"\"\"Square of x.\"\"\"\n",
    "    return x*x\n",
    "\n",
    "# Give an alias to the function\n",
    "m = square\n",
    "m(7)"
   ]
  },
  {
   "cell_type": "markdown",
   "metadata": {},
   "source": [
    "And so we can write a procedure that consumes a function as an argument. So, now we could\n",
    "write:"
   ]
  },
  {
   "cell_type": "code",
   "execution_count": 11,
   "metadata": {},
   "outputs": [],
   "source": [
    "def doTwice(f, x):\n",
    "    return f(f(x))"
   ]
  },
  {
   "cell_type": "markdown",
   "metadata": {},
   "source": [
    "This is cool, because we can apply it to any function and argument. So, if we wanted to square\n",
    "twice, we could do:"
   ]
  },
  {
   "cell_type": "code",
   "execution_count": 12,
   "metadata": {},
   "outputs": [
    {
     "data": {
      "text/plain": [
       "16"
      ]
     },
     "execution_count": 12,
     "metadata": {},
     "output_type": "execute_result"
    }
   ],
   "source": [
    "doTwice(square,2)"
   ]
  },
  {
   "cell_type": "markdown",
   "metadata": {},
   "source": [
    "You could write it this way:"
   ]
  },
  {
   "cell_type": "code",
   "execution_count": 13,
   "metadata": {},
   "outputs": [],
   "source": [
    "def doTwiceMaker(f):\n",
    "    def twoF(x):\n",
    "        return f(f(x))\n",
    "    return twoF"
   ]
  },
  {
   "cell_type": "code",
   "execution_count": 14,
   "metadata": {},
   "outputs": [],
   "source": [
    "twoSquare = doTwiceMaker(square)"
   ]
  },
  {
   "cell_type": "code",
   "execution_count": 15,
   "metadata": {},
   "outputs": [
    {
     "data": {
      "text/plain": [
       "81"
      ]
     },
     "execution_count": 15,
     "metadata": {},
     "output_type": "execute_result"
    }
   ],
   "source": [
    "twoSquare(3)"
   ]
  },
  {
   "cell_type": "markdown",
   "metadata": {},
   "source": [
    "## Higher Order Functions"
   ]
  },
  {
   "cell_type": "markdown",
   "metadata": {},
   "source": [
    "A <b>higher order function (HOF)</b> is a function that manipulates other functions by taking\n",
    "in functions as arguments, returning a function, or both."
   ]
  },
  {
   "cell_type": "markdown",
   "metadata": {},
   "source": [
    "### Functions as Arguments"
   ]
  },
  {
   "cell_type": "markdown",
   "metadata": {},
   "source": [
    "One way a higher order function can exploit other functions is by taking functions as\n",
    "input. <br>\n",
    "Consider this higher order function called <b><em>negate</em></b>"
   ]
  },
  {
   "cell_type": "code",
   "execution_count": 16,
   "metadata": {},
   "outputs": [],
   "source": [
    "def negate(f, x):\n",
    "    return -f(x)\n"
   ]
  },
  {
   "cell_type": "markdown",
   "metadata": {},
   "source": [
    "<b><em>negate</em></b> takes in a function f and a number x.  <br>\n",
    "It doesn’t care what exactly f does, as long\n",
    "as f takes in a number and returns a number.  <br>Its job is simple: call f on x and return the\n",
    "negation of that value."
   ]
  },
  {
   "cell_type": "code",
   "execution_count": 17,
   "metadata": {},
   "outputs": [],
   "source": [
    "def square(n):\n",
    "    return n * n\n",
    "def double(n):\n",
    "    return 2 * n"
   ]
  },
  {
   "cell_type": "code",
   "execution_count": 18,
   "metadata": {},
   "outputs": [
    {
     "data": {
      "text/plain": [
       "-25"
      ]
     },
     "execution_count": 18,
     "metadata": {},
     "output_type": "execute_result"
    }
   ],
   "source": [
    "negate(square, 5)\n"
   ]
  },
  {
   "cell_type": "code",
   "execution_count": 19,
   "metadata": {},
   "outputs": [
    {
     "data": {
      "text/plain": [
       "38"
      ]
     },
     "execution_count": 19,
     "metadata": {},
     "output_type": "execute_result"
    }
   ],
   "source": [
    "negate(double, -19)"
   ]
  },
  {
   "cell_type": "code",
   "execution_count": 20,
   "metadata": {
    "scrolled": true
   },
   "outputs": [
    {
     "data": {
      "text/plain": [
       "32"
      ]
     },
     "execution_count": 20,
     "metadata": {},
     "output_type": "execute_result"
    }
   ],
   "source": [
    "negate(double, negate(square, -4))"
   ]
  },
  {
   "cell_type": "markdown",
   "metadata": {},
   "source": [
    "### <span style=\"color:red\">Exercise2:</span> Conditional Series\n",
    "\n",
    "Implement a function cond_series(), which takes in a function `cond` and a number `n`, and only prints numbers among \\[1,n\\] that make cond returns `True`"
   ]
  },
  {
   "cell_type": "code",
   "execution_count": null,
   "metadata": {},
   "outputs": [],
   "source": [
    "# Exercise2\n",
    "\n",
    "def cond_series(cond, n):\n",
    "    pass\n",
    "\n",
    "def is_even(x):\n",
    "    return x % 2 == 0\n",
    "\n",
    "def multiple_of_7(x):\n",
    "    return x % 7 == 0\n",
    "\n",
    "\n",
    "cond_series(is_even, 5)\n",
    "\n",
    "cond_series(multiple_of_7, 50)\n"
   ]
  },
  {
   "cell_type": "markdown",
   "metadata": {},
   "source": [
    "### Call Expressions as Operator Expressions"
   ]
  },
  {
   "cell_type": "code",
   "execution_count": 22,
   "metadata": {},
   "outputs": [],
   "source": [
    "def square(x):\n",
    "    return x * x\n",
    "\n",
    "def successor(x):\n",
    "    return x + 1\n",
    "\n",
    "def compose1(f, g):\n",
    "    def h(x):\n",
    "        return f(g(x))\n",
    "    return h\n"
   ]
  },
  {
   "cell_type": "code",
   "execution_count": 23,
   "metadata": {},
   "outputs": [
    {
     "name": "stdout",
     "output_type": "stream",
     "text": [
      "169\n"
     ]
    }
   ],
   "source": [
    "square_successor = compose1(square, successor)\n",
    "print(square_successor(12))"
   ]
  },
  {
   "cell_type": "markdown",
   "metadata": {},
   "source": [
    "### <span style=\"color:red\">Exercise3:</span> Conditional Series -- The Function Maker\n",
    "\n",
    "Implement a function cond_series_maker() like in Exercise2, but now it takes a function `cond` and returns another function that has one parameter `n`. The returned function prints out all numbers from \\[1,n\\] that make cond(i) returns True\n",
    "\n"
   ]
  },
  {
   "cell_type": "code",
   "execution_count": null,
   "metadata": {},
   "outputs": [],
   "source": [
    "# Exercise3\n",
    "\n",
    "# define `cond_series_maker` here\n",
    "\n",
    "def is_even(x):\n",
    "    return x % 2 == 0\n",
    "\n",
    "def multiple_of_7(x):\n",
    "    return x % 7 == 0\n",
    "\n",
    "get_even_series = cond_series_maker(is_even)\n",
    "get_7_multiples = cond_series_maker(multiple_of_7)\n",
    "\n",
    "\n",
    "# this should output \"2, 4\"\n",
    "get_even_series(5)\n",
    "\n",
    "# this should output \"7, 14, 21, 28, 35, 42, 49\"\n",
    "get_7_multiples(50)"
   ]
  },
  {
   "cell_type": "markdown",
   "metadata": {},
   "source": [
    "## Callback Functions\n",
    "\n",
    "From the examples above, we know that we can pass a function, f1, to another function, f2, and execute f1 in f2. This gives rise to plenitiful applications. One subset of these usuful applications are called `Callback` functions. \n",
    ">A callback is a function that's called from within another, having initially been \"registered\" for use at an outer level earlier on\n",
    "\n",
    "Imagine that, in practical use, we often need to get data from a server and do some manipulations with the response. However, we are not sure when will the server response. In such cases, we can define a function that handles message from the server. This function will not be called immediately, but be called when the server response is received.\n",
    "\n",
    "**We call this type of functions `Callbacks` or `Handlers`**\n",
    "\n",
    "Let‘s see an example."
   ]
  },
  {
   "cell_type": "code",
   "execution_count": 27,
   "metadata": {},
   "outputs": [
    {
     "name": "stdout",
     "output_type": "stream",
     "text": [
      "[Sun Sep  6 08:06:16 2020] sending request to server...\n",
      "[Sun Sep  6 08:06:17 2020] message from server: RECEIVED hihi, I'M A LITTLE BUSY, THOUGH\n"
     ]
    }
   ],
   "source": [
    "import time\n",
    "\n",
    "# define a callback\n",
    "# this function takes message from server as an input\n",
    "def on_response(message):\n",
    "    print(f\"[{time.ctime()}] message from server: {message}\")\n",
    "\n",
    "\n",
    "def send_request_to_server(request, callback):\n",
    "    print(f\"[{time.ctime()}] sending request to server...\")\n",
    "    \n",
    "    # simulate the server behavior\n",
    "    # in practical use, this might be an HTTP request\n",
    "    time.sleep(1)\n",
    "    message_from_server = f\"RECEIVED {request}, I'M A LITTLE BUSY, THOUGH\"\n",
    "    \n",
    "    # call the callback function when receiving response from the server\n",
    "    callback(message_from_server)\n",
    "\n",
    "\n",
    "send_request_to_server('hihi', on_response)"
   ]
  },
  {
   "cell_type": "markdown",
   "metadata": {},
   "source": [
    "### <span style=\"color:red\">Exercise4:</span> A Dice Gambling\n",
    "\n",
    "Define a callback function `show_result` that prints: `The winner is A!`, `The winner is B!`, or `It's a tight game!` depending on the points they get\n",
    "\n",
    "<!-- Solution:\n",
    "def show_result(points_a,points_b):\n",
    "    if points_a > points_b:\n",
    "        print(\"The winner is A!\")\n",
    "    elif points_a < points_b:\n",
    "        print(\"The winner is B!\")\n",
    "    else:\n",
    "        print(\"It's a tight game!\")\n",
    "-->"
   ]
  },
  {
   "cell_type": "code",
   "execution_count": null,
   "metadata": {},
   "outputs": [],
   "source": [
    "# Exercise4\n",
    "\n",
    "import numpy as np\n",
    "\n",
    "# define your `show_result` callback here\n",
    "\n",
    "def dice_gambling(callback):\n",
    "    points_a = np.random.randint(6)+1\n",
    "    points_b = np.random.randint(6)+1\n",
    "    callback(points_a, points_b)\n",
    "\n",
    "dice_gambling(show_result)"
   ]
  },
  {
   "cell_type": "markdown",
   "metadata": {},
   "source": [
    "## The Anonymous Functions (`Lambda Functions`)"
   ]
  },
  {
   "cell_type": "markdown",
   "metadata": {},
   "source": [
    "These functions are called anonymous because they are not declared using the `def` keyword. You can use the lambda keyword to create small anonymous functions.\n",
    "\n",
    "* Lambda forms can take any number of arguments but **return just one value in the form of an expression**. They cannot contain statements.\n",
    "\n",
    "* Lambda functions have their own local namespace and cannot access variables other than those in their parameter list and those in the global namespace.\n",
    "\n",
    "The syntax of lambda functions contains only a single expression:\n",
    "\n",
    "    lambda arguments: expression\n"
   ]
  },
  {
   "cell_type": "markdown",
   "metadata": {},
   "source": [
    "<div class=\"table-responsive\">\n",
    "  <table class=\"table table-bordered\">\n",
    "      <tr>\n",
    "          <th></th>\n",
    "          <th>lambda</th>\n",
    "          <th>def</th>\n",
    "      </tr>\n",
    "      <tr>\n",
    "          <td>Type</td>\n",
    "          <td><code>lambda</code> is an <i>expression</i></td>\n",
    "          <td><code>def</code> is a <i>statement</i></td>\n",
    "      </tr>\n",
    "      <tr>\n",
    "          <td>Description</td>\n",
    "          <td>Evaluating a <code>lambda</code> expression does not create or modify any variables.\n",
    "          Lambda expressions just create new function values.</td>\n",
    "          <td>Executing a <code>def</code> statement will create a new function value and bind it to a variable in the current environment.</td>\n",
    "      </tr>\n",
    "      <tr>\n",
    "          <td>Example</td>\n",
    "          <td><pre><code>lambda x: x * x\n",
    "           </code></pre></td>\n",
    "          <td><pre><code>def square(x):\n",
    "    return x * x</code></pre></td>\n",
    "      </tr>\n",
    "  </table>\n",
    "</div>"
   ]
  },
  {
   "cell_type": "code",
   "execution_count": 28,
   "metadata": {},
   "outputs": [],
   "source": [
    "f = lambda x, y, z: x + y + z "
   ]
  },
  {
   "cell_type": "code",
   "execution_count": 29,
   "metadata": {},
   "outputs": [],
   "source": [
    "s = lambda x: x * x"
   ]
  },
  {
   "cell_type": "code",
   "execution_count": 30,
   "metadata": {},
   "outputs": [
    {
     "data": {
      "text/plain": [
       "<function __main__.<lambda>(x)>"
      ]
     },
     "execution_count": 30,
     "metadata": {},
     "output_type": "execute_result"
    }
   ],
   "source": [
    "s\n"
   ]
  },
  {
   "cell_type": "code",
   "execution_count": 31,
   "metadata": {},
   "outputs": [
    {
     "data": {
      "text/plain": [
       "144"
      ]
     },
     "execution_count": 31,
     "metadata": {},
     "output_type": "execute_result"
    }
   ],
   "source": [
    "s(12)"
   ]
  },
  {
   "cell_type": "markdown",
   "metadata": {},
   "source": [
    "It has no intrinsic name (and so Python prints <b> $< lambda>$</b> for the name), but otherwise it behaves like any other function."
   ]
  },
  {
   "cell_type": "code",
   "execution_count": 32,
   "metadata": {},
   "outputs": [
    {
     "data": {
      "text/plain": [
       "9"
      ]
     },
     "execution_count": 32,
     "metadata": {},
     "output_type": "execute_result"
    }
   ],
   "source": [
    "f(2, 3, 4)"
   ]
  },
  {
   "cell_type": "code",
   "execution_count": 33,
   "metadata": {},
   "outputs": [],
   "source": [
    "lower = (lambda x, y: x if x < y else y)"
   ]
  },
  {
   "cell_type": "code",
   "execution_count": 34,
   "metadata": {},
   "outputs": [
    {
     "data": {
      "text/plain": [
       "2"
      ]
     },
     "execution_count": 34,
     "metadata": {},
     "output_type": "execute_result"
    }
   ],
   "source": [
    "lower(2, 3)"
   ]
  },
  {
   "cell_type": "code",
   "execution_count": 35,
   "metadata": {},
   "outputs": [
    {
     "data": {
      "text/plain": [
       "'aa'"
      ]
     },
     "execution_count": 35,
     "metadata": {},
     "output_type": "execute_result"
    }
   ],
   "source": [
    "lower('aa', 'bb')"
   ]
  },
  {
   "cell_type": "code",
   "execution_count": 36,
   "metadata": {},
   "outputs": [
    {
     "data": {
      "text/plain": [
       "'aa'"
      ]
     },
     "execution_count": 36,
     "metadata": {},
     "output_type": "execute_result"
    }
   ],
   "source": [
    "lower('bb', 'aa')"
   ]
  },
  {
   "cell_type": "code",
   "execution_count": 37,
   "metadata": {},
   "outputs": [
    {
     "name": "stdout",
     "output_type": "stream",
     "text": [
      "16\n"
     ]
    }
   ],
   "source": [
    "f = lambda x, y, z: x + y + z \n",
    "d = lambda f: f(4)  # They can have functions as arguments as well.\n",
    "\n",
    "def square(x):\n",
    "    return x * x\n",
    "\n",
    "print(d(square))"
   ]
  },
  {
   "cell_type": "code",
   "execution_count": 38,
   "metadata": {},
   "outputs": [
    {
     "name": "stdout",
     "output_type": "stream",
     "text": [
      "3\n",
      "6\n"
     ]
    }
   ],
   "source": [
    "t = lambda f: lambda x: f(f(f(x)))\n",
    "s = lambda x: x + 1\n",
    "\n",
    "print(t(s)(0))\n",
    "print(t(s)(3))"
   ]
  },
  {
   "cell_type": "code",
   "execution_count": 39,
   "metadata": {},
   "outputs": [
    {
     "data": {
      "text/plain": [
       "225"
      ]
     },
     "execution_count": 39,
     "metadata": {},
     "output_type": "execute_result"
    }
   ],
   "source": [
    "bar = lambda y: lambda x: pow(x, y)\n",
    "bar(2)(15)"
   ]
  },
  {
   "cell_type": "code",
   "execution_count": 40,
   "metadata": {},
   "outputs": [
    {
     "data": {
      "text/plain": [
       "2"
      ]
     },
     "execution_count": 40,
     "metadata": {},
     "output_type": "execute_result"
    }
   ],
   "source": [
    "foo = lambda: 32\n",
    "foobar = lambda x, y: x // y\n",
    "a = lambda x: foobar(foo(), bar(4)(x))\n",
    "\n",
    "a(2)"
   ]
  },
  {
   "cell_type": "code",
   "execution_count": 41,
   "metadata": {},
   "outputs": [
    {
     "data": {
      "text/plain": [
       "<function __main__.<lambda>.<locals>.<lambda>()>"
      ]
     },
     "execution_count": 41,
     "metadata": {},
     "output_type": "execute_result"
    }
   ],
   "source": [
    "c = lambda x: lambda: print('123')\n",
    "c(88)"
   ]
  },
  {
   "cell_type": "code",
   "execution_count": 42,
   "metadata": {
    "scrolled": true
   },
   "outputs": [
    {
     "name": "stdout",
     "output_type": "stream",
     "text": [
      "123\n"
     ]
    }
   ],
   "source": [
    "c(88)()"
   ]
  },
  {
   "cell_type": "markdown",
   "metadata": {},
   "source": [
    "## Mixing loops, branching, and functions in bioinformatics examples"
   ]
  },
  {
   "cell_type": "markdown",
   "metadata": {},
   "source": [
    "Life is definitely digital. The genetic code of all living organisms are represented by a long sequence of simple molecules called nucleotides, or bases, which makes up the Deoxyribonucleic acid, better known as DNA. There are only four such nucleotides, and the entire genetic code of a human can be seen as a simple, though 3 billion long, string of the letters A, C, G, and T. Analyzing DNA data to gain increased biological understanding is much about searching in long strings for certain string patterns involving the letters A, C, G, and T. This is an integral part of bioinformatics, a scientific discipline addressing the use of computers to search for, explore, and use information about genes, nucleic acids, and proteins. <br>\n",
    "The leading Python software for bioinformatics applications is BioPython4. The examples in this book are simple illustrations of the type of problem settings and corresponding Python implementations that are encountered in bioinformatics. For real-world problem solving one should rather utilize BioPython, but the sections below act as an introduction to what is inside packages like BioPython.<br>\n",
    "We start with some very simple examples on DNA analysis that bring together basic building blocks in programming: loops, if tests, and functions."
   ]
  },
  {
   "cell_type": "markdown",
   "metadata": {},
   "source": [
    "### Counting letters in DNA strings"
   ]
  },
  {
   "cell_type": "markdown",
   "metadata": {},
   "source": [
    "Given some string dna containing the letters A, C, G, or T, representing the bases that make up DNA, we ask the question: how many times\n",
    "does a certain base occur in the DNA string? For example, if dna is ATGGCATTA and we ask how many times the base A occur in this\n",
    "string, the answer is 3. <br>\n",
    "A general Python implementation answering this problem can be done in many ways. Several possible solutions are presented below."
   ]
  },
  {
   "cell_type": "markdown",
   "metadata": {},
   "source": [
    "<b>List iteration.</b> The most straightforward solution is to loop over the letters in the string, test if the current letter equals the desired one, and if so, increase a counter. Looping over the letters is obvious if the letters are stored in a list."
   ]
  },
  {
   "cell_type": "code",
   "execution_count": 43,
   "metadata": {},
   "outputs": [
    {
     "data": {
      "text/plain": [
       "['A', 'T', 'G', 'C']"
      ]
     },
     "execution_count": 43,
     "metadata": {},
     "output_type": "execute_result"
    }
   ],
   "source": [
    ">>> list('ATGC')"
   ]
  },
  {
   "cell_type": "code",
   "execution_count": 44,
   "metadata": {},
   "outputs": [],
   "source": [
    "def count_v1(dna, base):\n",
    "    dna = list(dna) # convert string to list of letters\n",
    "    i = 0              # counter\n",
    "    for c in dna:\n",
    "        if c == base:\n",
    "            i += 1\n",
    "    return i"
   ]
  },
  {
   "cell_type": "markdown",
   "metadata": {},
   "source": [
    "<b>String iteration.</b> Python allows us to iterate directly over a string without converting it to a list:"
   ]
  },
  {
   "cell_type": "code",
   "execution_count": 45,
   "metadata": {},
   "outputs": [
    {
     "name": "stdout",
     "output_type": "stream",
     "text": [
      "A\n",
      "T\n",
      "G\n",
      "C\n"
     ]
    }
   ],
   "source": [
    "for c in 'ATGC':\n",
    "    print(c)"
   ]
  },
  {
   "cell_type": "markdown",
   "metadata": {},
   "source": [
    "In fact, all built-in objects in Python that contain a set of elements in a particular sequence allow a for loop construction of the type for element in object."
   ]
  },
  {
   "cell_type": "code",
   "execution_count": 46,
   "metadata": {},
   "outputs": [
    {
     "name": "stdout",
     "output_type": "stream",
     "text": [
      "C appears 3 times in ATGCGGACCTAT\n"
     ]
    }
   ],
   "source": [
    "def count_v2(dna, base):\n",
    "    i = 0 # counter\n",
    "    for c in dna:\n",
    "        if c == base:\n",
    "            i += 1\n",
    "    return i\n",
    "dna = 'ATGCGGACCTAT'\n",
    "base = 'C'\n",
    "n = count_v2(dna, base)\n",
    "print('{base} appears {n} times in {dna}'.format(base=base, n=n, dna=dna))"
   ]
  },
  {
   "cell_type": "markdown",
   "metadata": {},
   "source": [
    "<b>Index iteration.</b> Although it is natural in Python to iterate over the letters in a string, programmers with experience from other languages are used to for loops with an integer counter running\n",
    "over all indices in a string or array:"
   ]
  },
  {
   "cell_type": "code",
   "execution_count": 47,
   "metadata": {},
   "outputs": [],
   "source": [
    "def count_v3(dna, base):\n",
    "    i = 0 # counter\n",
    "    for j in range(len(dna)):\n",
    "        if dna[j] == base:\n",
    "            i += 1\n",
    "    return i"
   ]
  },
  {
   "cell_type": "markdown",
   "metadata": {},
   "source": [
    "<b>While loops.</b> The while loop equivalent to the last function reads"
   ]
  },
  {
   "cell_type": "code",
   "execution_count": 48,
   "metadata": {},
   "outputs": [],
   "source": [
    "def count_v4(dna, base):\n",
    "    i = 0 # counter\n",
    "    j = 0 # string index\n",
    "    while j < len(dna):\n",
    "        if dna[j] == base:\n",
    "            i += 1\n",
    "        j += 1\n",
    "    return i"
   ]
  },
  {
   "cell_type": "markdown",
   "metadata": {},
   "source": [
    "<b>Summing a boolean list.</b> The idea now is to create a list m where m[i] is True if dna[i] equals the letter we search for (base). The number of True values in m is then the number of base letters in dna. That is, sum(m) returns the number of True elements in m. A possible function doing this is"
   ]
  },
  {
   "cell_type": "code",
   "execution_count": 49,
   "metadata": {},
   "outputs": [],
   "source": [
    "def count_v5(dna, base):\n",
    "    m = [] # matches for base in dna: m[i]=True if dna[i]==base\n",
    "    for c in dna:\n",
    "        if c == base:\n",
    "            m.append(True)\n",
    "        else:\n",
    "            m.append(False)\n",
    "    return sum(m)"
   ]
  },
  {
   "cell_type": "markdown",
   "metadata": {},
   "source": [
    "<b>Inline if test.</b> Shorter, more compact code is often a goal if the compactness enhances readability. The four-line if test in the previous function can be condensed to one line using the inline if construction: if condition value1 else value2."
   ]
  },
  {
   "cell_type": "code",
   "execution_count": 50,
   "metadata": {},
   "outputs": [],
   "source": [
    "def count_v6(dna, base):\n",
    "    m = [] # matches for base in dna: m[i]=True if dna[i]==base\n",
    "    for c in dna:\n",
    "        m.append(True if c == base else False)\n",
    "    return sum(m)"
   ]
  },
  {
   "cell_type": "markdown",
   "metadata": {},
   "source": [
    "<b>Using boolean values directly.</b> The inline if test is in fact redundant in the previous function because the value of the condition c == base can be used directly: it has the value True or False."
   ]
  },
  {
   "cell_type": "code",
   "execution_count": 51,
   "metadata": {},
   "outputs": [],
   "source": [
    "def count_v7(dna, base):\n",
    "    m = [] # matches for base in dna: m[i]=True if dna[i]==base\n",
    "    for c in dna:\n",
    "        m.append(c == base)\n",
    "    return sum(m)"
   ]
  },
  {
   "cell_type": "markdown",
   "metadata": {},
   "source": [
    "<b>List comprehensions.</b> Building a list with the aid of a for loop can often be condensed to a single line by using list comprehensions: [expr for e in sequence], where expr is some expression normally involving the iteration variable e."
   ]
  },
  {
   "cell_type": "code",
   "execution_count": 52,
   "metadata": {},
   "outputs": [],
   "source": [
    "def count_v8(dna, base):\n",
    "    m = [c == base for c in dna]\n",
    "    return sum(m)"
   ]
  },
  {
   "cell_type": "code",
   "execution_count": 53,
   "metadata": {},
   "outputs": [],
   "source": [
    "def count_v9(dna, base):\n",
    "    return sum([c == base for c in dna])"
   ]
  },
  {
   "cell_type": "markdown",
   "metadata": {},
   "source": [
    "<b>Using a sum iterator.</b> The DNA string is usually huge - 3 billion letters for the human species. Making a boolean array with True and False values therefore increases the memory usage by a factor of two in our sample functions count_v5 to count_v9. Summing without actually storing an extra list is desirable. "
   ]
  },
  {
   "cell_type": "code",
   "execution_count": 54,
   "metadata": {},
   "outputs": [],
   "source": [
    "def count_v10(dna, base):\n",
    "    return sum(c == base for c in dna)"
   ]
  },
  {
   "cell_type": "markdown",
   "metadata": {},
   "source": [
    "<b>Extracting indices.</b> Instead of making a boolean list with elements expressing whether a letter matches the given base or not, we may collect all the indices of the matches."
   ]
  },
  {
   "cell_type": "code",
   "execution_count": 55,
   "metadata": {},
   "outputs": [],
   "source": [
    "def count_v11(dna, base):\n",
    "    return len([i for i in range(len(dna)) if dna[i] == base])"
   ]
  },
  {
   "cell_type": "code",
   "execution_count": 56,
   "metadata": {},
   "outputs": [
    {
     "data": {
      "text/plain": [
       "[0, 1, 7]"
      ]
     },
     "execution_count": 56,
     "metadata": {},
     "output_type": "execute_result"
    }
   ],
   "source": [
    "dna = 'AATGCTTA'\n",
    "base = 'A'\n",
    "indices = [i for i in range(len(dna)) if dna[i] == base]\n",
    "indices"
   ]
  },
  {
   "cell_type": "code",
   "execution_count": 57,
   "metadata": {},
   "outputs": [
    {
     "name": "stdout",
     "output_type": "stream",
     "text": [
      "A A A\n"
     ]
    }
   ],
   "source": [
    "print(dna[0], dna[1], dna[7]) # check"
   ]
  },
  {
   "cell_type": "markdown",
   "metadata": {},
   "source": [
    "<b>Using Python’s library.</b> Very often when you set out to do a task in Python, there is already functionality for the task in the object itself, in the Python libraries, or in third-party libraries found on the Internet."
   ]
  },
  {
   "cell_type": "code",
   "execution_count": 58,
   "metadata": {},
   "outputs": [],
   "source": [
    "def count_v12(dna, base):\n",
    "    return dna.count(base)\n",
    "#def compare_efficiency():"
   ]
  },
  {
   "cell_type": "markdown",
   "metadata": {},
   "source": [
    "### Efficiency assessment"
   ]
  },
  {
   "cell_type": "markdown",
   "metadata": {},
   "source": [
    "Now we have 11 different versions of how to count the occurrences of a letter in a string. Which one of these implementations is the fastest? "
   ]
  },
  {
   "cell_type": "markdown",
   "metadata": {},
   "source": [
    "<b>Generating random DNA strings.</b> The simplest way of generating a long string is to repeat a character a large number of times:"
   ]
  },
  {
   "cell_type": "code",
   "execution_count": 59,
   "metadata": {},
   "outputs": [],
   "source": [
    "N = 1000000\n",
    "dna = 'A'*N"
   ]
  },
  {
   "cell_type": "markdown",
   "metadata": {},
   "source": [
    "The resulting string is just ’AAA...A, of length N, which is fine for testing the efficiency of Python functions. "
   ]
  },
  {
   "cell_type": "markdown",
   "metadata": {},
   "source": [
    "To make a DNA string with a random composition of the letters we can first make a list of random letters and then join all those letters to a string: "
   ]
  },
  {
   "cell_type": "code",
   "execution_count": 60,
   "metadata": {},
   "outputs": [],
   "source": [
    "import random\n",
    "alphabet = list('ATGC')\n",
    "dna = [random.choice(alphabet) for i in range(N)]\n",
    "dna = ''.join(dna) # join the list elements to a string"
   ]
  },
  {
   "cell_type": "markdown",
   "metadata": {},
   "source": [
    "Note that N is very often a large number. In Python version 2.x, range(N) generates a list of N integers."
   ]
  },
  {
   "cell_type": "code",
   "execution_count": 61,
   "metadata": {},
   "outputs": [],
   "source": [
    "import random\n",
    "def generate_string(N, alphabet='ACGT'):\n",
    "    return ''.join([random.choice(alphabet) for i in range(N)])\n",
    "dna = generate_string(600000)"
   ]
  },
  {
   "cell_type": "code",
   "execution_count": 62,
   "metadata": {},
   "outputs": [
    {
     "data": {
      "text/plain": [
       "'TTTGAGCACA'"
      ]
     },
     "execution_count": 62,
     "metadata": {},
     "output_type": "execute_result"
    }
   ],
   "source": [
    "generate_string(10)"
   ]
  },
  {
   "cell_type": "markdown",
   "metadata": {},
   "source": [
    "<b>Measuring CPU time.</b> Our next goal is to see how much time the various count_v* functions spend on counting letters in a huge string, which is to be generated as shown above."
   ]
  },
  {
   "cell_type": "code",
   "execution_count": 81,
   "metadata": {},
   "outputs": [],
   "source": [
    "import time\n",
    "\n",
    "t0 = time.perf_counter()\n",
    "# do stuff\n",
    "t1 = time.perf_counter()\n",
    "cpu_time = t1 - t0"
   ]
  },
  {
   "cell_type": "markdown",
   "metadata": {},
   "source": [
    "The time.clock() function returns the CPU time spent in the program since its start."
   ]
  },
  {
   "cell_type": "code",
   "execution_count": 64,
   "metadata": {},
   "outputs": [],
   "source": [
    "import time\n",
    "functions = [count_v1, count_v2, count_v3, count_v4,\n",
    "            count_v5, count_v6, count_v7, count_v8,\n",
    "            count_v9, count_v10, count_v11]\n",
    "timings = [] # timings[i] holds CPU time for functions[i]\n",
    "for function in functions:\n",
    "    t0 = time.perf_counter()\n",
    "    function(dna, 'A')\n",
    "    t1 = time.perf_counter()\n",
    "    cpu_time = t1 - t0\n",
    "    timings.append(cpu_time)"
   ]
  },
  {
   "cell_type": "markdown",
   "metadata": {},
   "source": [
    "In Python, functions are ordinary objects so making a list of functions is no more special than making a list of strings or numbers. "
   ]
  },
  {
   "cell_type": "code",
   "execution_count": 65,
   "metadata": {},
   "outputs": [
    {
     "name": "stdout",
     "output_type": "stream",
     "text": [
      "count_v1 : 0.03 s\n",
      "count_v2 : 0.02 s\n",
      "count_v3 : 0.03 s\n",
      "count_v4 : 0.10 s\n",
      "count_v5 : 0.09 s\n",
      "count_v6 : 0.08 s\n",
      "count_v7 : 0.08 s\n",
      "count_v8 : 0.05 s\n",
      "count_v9 : 0.06 s\n",
      "count_v10: 0.05 s\n",
      "count_v11: 0.04 s\n"
     ]
    }
   ],
   "source": [
    "for cpu_time, function in zip(timings, functions):\n",
    "    print('{f:<9s}: {cpu:.2f} s'.format(f=function.__name__, cpu=cpu_time))"
   ]
  },
  {
   "cell_type": "markdown",
   "metadata": {},
   "source": [
    "### Verifying the implementations"
   ]
  },
  {
   "cell_type": "markdown",
   "metadata": {},
   "source": [
    "We end this section with showing how to make tests that verify our 12 counting functions. To this end, we make a new function that first computes a certainly correct answer to a counting problem and then calls all the count_* functions, stored in the list functions, to check that each call has the correct result:"
   ]
  },
  {
   "cell_type": "code",
   "execution_count": 66,
   "metadata": {},
   "outputs": [],
   "source": [
    "def test_count_all():\n",
    "    dna = 'ATTTGCGGTCCAAA'\n",
    "    exact = dna.count('A')\n",
    "    for f in functions:\n",
    "        if f(dna, 'A') != exact:\n",
    "            print(f.__name__, 'failed')"
   ]
  },
  {
   "cell_type": "markdown",
   "metadata": {},
   "source": [
    "These conventions say that the test function should\n",
    "- have a name starting with test_;\n",
    "- have no arguments;\n",
    "- let a boolean variable, say success, be True if a test passes and be False if the test fails;\n",
    "- create a message about what failed, stored in some string, say msg;\n",
    "- use the construction assert success, msg, which will abort the program and write out the error message msg if success is False."
   ]
  },
  {
   "cell_type": "markdown",
   "metadata": {},
   "source": [
    "The pytest and nose test frameworks can search for all Python files in a folder tree, run all test_*() functions, and report how many of the tests that failed, if we adopt the conventions above."
   ]
  },
  {
   "cell_type": "code",
   "execution_count": 67,
   "metadata": {},
   "outputs": [],
   "source": [
    "def test_count_all():\n",
    "    dna = 'ATTTGCGGTCCAAA'\n",
    "    exact = dna.count('A')\n",
    "    for f in functions:\n",
    "        success = f(dna, 'A') == exact\n",
    "        msg = '%s failed' % f.__name__\n",
    "        assert success, msg"
   ]
  },
  {
   "cell_type": "markdown",
   "metadata": {},
   "source": [
    "## Summary"
   ]
  },
  {
   "cell_type": "markdown",
   "metadata": {},
   "source": [
    "<b>User-defined functions.</b> Functions are useful (i) when a set of commands are to be executed several times, or (ii) to partition the program into smaller pieces to gain better overview. Function arguments are local variables inside the function whose values are set when calling the function."
   ]
  },
  {
   "cell_type": "code",
   "execution_count": 68,
   "metadata": {},
   "outputs": [],
   "source": [
    "# function definition:\n",
    "def quadratic_polynomial(x, a, b, c):\n",
    "    value = a*x*x + b*x + c\n",
    "    derivative = 2*a*x + b\n",
    "    return value, derivative\n",
    "# function call:\n",
    "x = 1\n",
    "p, dp = quadratic_polynomial(x, 2, 0.5, 1)\n",
    "p, dp = quadratic_polynomial(x=x, a=-4, b=0.5, c=0)"
   ]
  },
  {
   "cell_type": "markdown",
   "metadata": {},
   "source": [
    "Functions may have no arguments and/or no return value(s):"
   ]
  },
  {
   "cell_type": "code",
   "execution_count": 69,
   "metadata": {},
   "outputs": [
    {
     "name": "stdout",
     "output_type": "stream",
     "text": [
      "Sep 06, 2020\n"
     ]
    }
   ],
   "source": [
    "def print_date():\n",
    "    \"\"\"Print the current date in the format ’Jan 07, 2007’.\"\"\"\n",
    "    import time\n",
    "    print(time.strftime(\"%b %d, %Y\"))\n",
    "# call:\n",
    "print_date()"
   ]
  },
  {
   "cell_type": "markdown",
   "metadata": {},
   "source": [
    "<b>Keyword arguments.</b> Function arguments with default values are called keyword arguments, and they help to document the meaning of arguments in function calls. They also make it possible to specify just a subset of the arguments in function calls."
   ]
  },
  {
   "cell_type": "code",
   "execution_count": 70,
   "metadata": {},
   "outputs": [],
   "source": [
    "from math import exp, sin, pi\n",
    "def f(x, A=1, a=1, w=pi):\n",
    "    return A*exp(-a*x)*sin(w*x)\n",
    "f1 = f(0)\n",
    "x2 = 0.1\n",
    "f2 = f(x2, w=2*pi)\n",
    "f3 = f(x2, w=4*pi, A=10, a=0.1)\n",
    "f4 = f(w=4*pi, A=10, a=0.1, x=x2)"
   ]
  },
  {
   "cell_type": "markdown",
   "metadata": {},
   "source": [
    "The sequence of the keyword arguments can be arbitrary, and the keyword arguments that are not listed in the call get their default values according to the function definition."
   ]
  },
  {
   "cell_type": "markdown",
   "metadata": {},
   "source": [
    "<b>If tests.</b> The if-elif-else tests are used to branch the flow of statements. That is, different sets of statements are executed depending on whether some conditions are True or False."
   ]
  },
  {
   "cell_type": "code",
   "execution_count": 71,
   "metadata": {},
   "outputs": [],
   "source": [
    "def f(x):\n",
    "    if x < 0:\n",
    "        value = -1\n",
    "    elif x >= 0 and x <= 1:\n",
    "        value = x\n",
    "    else:\n",
    "        value = 1\n",
    "    return value"
   ]
  },
  {
   "cell_type": "markdown",
   "metadata": {},
   "source": [
    "<b>Inline if tests.</b> Assigning a variable one value if a condition is True and another value if False, is compactly done with an inline if test:"
   ]
  },
  {
   "cell_type": "code",
   "execution_count": 72,
   "metadata": {},
   "outputs": [],
   "source": [
    "a = 3\n",
    "sign = -1 if a < 0 else 1"
   ]
  },
  {
   "cell_type": "markdown",
   "metadata": {},
   "source": [
    "<b>Terminology.</b> The important computer science terms in this chapter are\n",
    "- function\n",
    "- method\n",
    "- return statement\n",
    "- positional arguments\n",
    "- keyword arguments\n",
    "- local and global variables\n",
    "- doc strings\n",
    "- if tests with if, elif, and else (branching)\n",
    "- the None object\n",
    "- test functions (for verification)"
   ]
  },
  {
   "cell_type": "markdown",
   "metadata": {},
   "source": [
    "### Example: Numerical integration"
   ]
  },
  {
   "cell_type": "markdown",
   "metadata": {},
   "source": [
    "<b>Problem.</b> An integral $$\\int_{a}^{b}f(x)dx $$ can be approximated by the so-called Simpson’s rule: $$ \\frac{b-a}{3n}\\left(f(a)+f(b)+4\\sum_{i=1}^{n/2}f(a+(2i-1)h)+2\\sum_{i=1}^{n/2-1}f(a+2ih)\\right) $$"
   ]
  },
  {
   "cell_type": "markdown",
   "metadata": {},
   "source": [
    "Here, $h = (b − a)/n$ and $n$ must be an even integer. The problem is to make a function Simpson(f, a, b, n=500) that returns the right-hand side formula of the equation above. Apply the Simpson function to the integral $\\frac{3}{2}\\int_{0}^{π} sin^3 xdx$ which has exact value 2, and investigate how the approximation error varies with n."
   ]
  },
  {
   "cell_type": "markdown",
   "metadata": {},
   "source": [
    "<b>Solution.</b>  Basically, $\\sum_{i=M}^{N}q(i)$, for some expression $q(i)$ involving $i$, is coded with the aid of a for loop over i and an accumulation variable s for building up the sum, one term at a time:\n",
    "\n",
    "```python\n",
    "s = 0\n",
    "for i in range(M, N):\n",
    "    s += q(i)\n",
    "```"
   ]
  },
  {
   "cell_type": "markdown",
   "metadata": {},
   "source": [
    "The Simpson function can then be coded as"
   ]
  },
  {
   "cell_type": "code",
   "execution_count": 73,
   "metadata": {},
   "outputs": [],
   "source": [
    "def Simpson(f, a, b, n=500):\n",
    "    h = (b - a)/float(n)\n",
    "    sum1 = 0\n",
    "    for i in range(1, n//2 + 1):\n",
    "        sum1 += f(a + (2*i-1)*h)\n",
    "    sum2 = 0\n",
    "    for i in range(1, n//2):\n",
    "        sum2 += f(a + 2*i*h)\n",
    "    integral = (b-a)/(3*n)*(f(a) + f(b) + 4*sum1 + 2*sum2)\n",
    "    return integral"
   ]
  },
  {
   "cell_type": "markdown",
   "metadata": {},
   "source": [
    "Note that Simpson can integrate any Python function f of one variable. $$ h(x) = \\frac{3}{2}sin^3 xdx$$"
   ]
  },
  {
   "cell_type": "code",
   "execution_count": 74,
   "metadata": {},
   "outputs": [],
   "source": [
    "def h(x):\n",
    "    return (3./2)*sin(x)**3"
   ]
  },
  {
   "cell_type": "code",
   "execution_count": 75,
   "metadata": {},
   "outputs": [],
   "source": [
    "from math import sin, pi\n",
    "def application():\n",
    "    print('Integral of 1.5*sin^3 from 0 to pi:')\n",
    "    for n in [2, 6, 12, 100, 500]:\n",
    "        approx = Simpson(h, 0, pi, n)\n",
    "        print('n=%3d, approx=%18.15f, error=%9.2E' % (n, approx, 2-approx))"
   ]
  },
  {
   "cell_type": "markdown",
   "metadata": {},
   "source": [
    "<b>Verification.</b>"
   ]
  },
  {
   "cell_type": "code",
   "execution_count": 76,
   "metadata": {},
   "outputs": [
    {
     "name": "stdout",
     "output_type": "stream",
     "text": [
      "Integral of 1.5*sin^3 from 0 to pi:\n",
      "n=  2, approx= 3.141592653589793, error=-1.14E+00\n",
      "n=  6, approx= 1.989171700583579, error= 1.08E-02\n",
      "n= 12, approx= 1.999489233010781, error= 5.11E-04\n",
      "n=100, approx= 1.999999902476350, error= 9.75E-08\n",
      "n=500, approx= 1.999999999844138, error= 1.56E-10\n"
     ]
    }
   ],
   "source": [
    "application()"
   ]
  },
  {
   "cell_type": "markdown",
   "metadata": {},
   "source": [
    "We clearly see that the approximation improves as n increases. However, every computation will give an answer that deviates from the exact value 2. We cannot from this test alone know if the errors above are those implied by the approximation only, or if there are additional programming mistakes."
   ]
  },
  {
   "cell_type": "markdown",
   "metadata": {},
   "source": [
    "A much better way of verifying the implementation is therefore to look for test cases where the numerical approximation formula is exact, such that we know exactly what the result of the function should be. Since it is stated that the formula is exact for polynomials up to second degree, we just test the Simpson function on an “arbitrary” parabola, say $$ \\int_{\\frac{3}{2}}^{2} \\left ( 3x^2-7x+2.5 \\right )dx $$ "
   ]
  },
  {
   "cell_type": "markdown",
   "metadata": {},
   "source": [
    "This integral equals $G(2) − G(3/2)$, where $G(x) = x^3 − 3.5x^2 + 2.5x$."
   ]
  },
  {
   "cell_type": "code",
   "execution_count": 77,
   "metadata": {},
   "outputs": [],
   "source": [
    "def test_Simpson():\n",
    "    \"\"\"Check that 2nd-degree polynomials are integrated exactly.\"\"\"\n",
    "    a = 1.5\n",
    "    b = 2.0\n",
    "    n = 8\n",
    "    g = lambda x: 3*x**2 - 7*x + 2.5 # test integrand\n",
    "    G = lambda x: x**3 - 3.5*x**2 + 2.5*x # integral of g\n",
    "    exact = G(b) - G(a)\n",
    "    approx = Simpson(g, a, b, n)\n",
    "    success = abs(exact - approx) < 1E-14 # never use == for floats!\n",
    "    msg = 'Cannot integrate a quadratic function exactly'\n",
    "    assert success, msg"
   ]
  },
  {
   "cell_type": "markdown",
   "metadata": {},
   "source": [
    "<b>Checking the validity of function arguments.</b> Another improvement is to increase the robustness of the function. That is, to check that the input data, i.e., the arguments, are acceptable.In Python, the percentage sign is used for the mod function:"
   ]
  },
  {
   "cell_type": "code",
   "execution_count": null,
   "metadata": {},
   "outputs": [
    {
     "data": {
      "text/plain": [
       "2"
      ]
     },
     "execution_count": 78,
     "metadata": {},
     "output_type": "execute_result"
    }
   ],
   "source": [
    ">>> 18 % 8"
   ]
  },
  {
   "cell_type": "markdown",
   "metadata": {},
   "source": [
    "The improved Simpson function with validity tests on the provided arguments. "
   ]
  },
  {
   "cell_type": "code",
   "execution_count": 79,
   "metadata": {},
   "outputs": [],
   "source": [
    "def Simpson(f, a, b, n=500):\n",
    "    \"\"\"\n",
    "    Return the approximation of the integral of f\n",
    "    from a to b using Simpson’s rule with n intervals.\n",
    "    \"\"\"\n",
    "    if a > b:\n",
    "        print('Error: a=%g > b=%g' % (a, b)) \n",
    "        return None\n",
    "    # check that n is even:\n",
    "    if n % 2 != 0:\n",
    "        print('Error: n=%d is not an even integer!' % n) \n",
    "        n = n+1 # make n even\n",
    "    h = (b - a)/float(n)\n",
    "    sum1 = 0\n",
    "    for i in range(1, n//2 + 1):\n",
    "        sum1 += f(a + (2*i-1)*h)\n",
    "    sum2 = 0\n",
    "    for i in range(1, n//2):\n",
    "        sum2 += f(a + 2*i*h)\n",
    "    integral = (b-a)/(3*n)*(f(a) + f(b) + 4*sum1 + 2*sum2)\n",
    "    return integral"
   ]
  },
  {
   "cell_type": "code",
   "execution_count": 80,
   "metadata": {},
   "outputs": [],
   "source": [
    "test_Simpson()"
   ]
  }
 ],
 "metadata": {
  "kernelspec": {
   "display_name": "Python 3",
   "language": "python",
   "name": "python3"
  },
  "language_info": {
   "codemirror_mode": {
    "name": "ipython",
    "version": 3
   },
   "file_extension": ".py",
   "mimetype": "text/x-python",
   "name": "python",
   "nbconvert_exporter": "python",
   "pygments_lexer": "ipython3",
   "version": "3.8.10"
  }
 },
 "nbformat": 4,
 "nbformat_minor": 2
}
