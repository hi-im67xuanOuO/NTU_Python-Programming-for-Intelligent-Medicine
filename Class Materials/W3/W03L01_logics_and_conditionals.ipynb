{
 "cells": [
  {
   "cell_type": "markdown",
   "metadata": {
    "id": "WuSyAtSE67iQ"
   },
   "source": [
    "<div style=\"text-align:center;color:#888888;\"><h2> IMP 5001 - Introduction to Medical Informatics </h2></div>\n",
    "<div style=\"text-align:center;\"><h1> Logics and Conditionals </h1></div>\n",
    "\n",
    "<div style=\"color:#999999;text-align:right;\">Ref: <a href=\"https://greenteapress.com/wp/think-python/\">Think Python</a> &ensp; <a href=\"https://learnpythonthehardway.org\">Learn Python the Hard Way</a></div>"
   ]
  },
  {
   "cell_type": "markdown",
   "metadata": {
    "id": "jduE8-la67iT"
   },
   "source": [
    "This lecture we start learning about `logics`"
   ]
  },
  {
   "cell_type": "markdown",
   "metadata": {
    "id": "tZdIW91967ia"
   },
   "source": [
    "## The Truth Terms"
   ]
  },
  {
   "cell_type": "markdown",
   "metadata": {
    "id": "3BJuwML167ic"
   },
   "source": [
    "In Python we have the following terms for determining if something is `True` or `False`.  \n",
    "Logic on a computer is all about seeing if some combination of these characters and some variables is `True` at that point of program  \n",
    "* not\n",
    "* or\n",
    "* and\n",
    "* != (not equal)\n",
    "* == (equal)\n",
    "* \\>= (greater-than-equal)\n",
    "* <= (less-than-equal)\n",
    "* True\n",
    "* False"
   ]
  },
  {
   "cell_type": "markdown",
   "metadata": {
    "id": "8Y8yoXxz67id"
   },
   "source": [
    "## The Truth Tables"
   ]
  },
  {
   "cell_type": "markdown",
   "metadata": {
    "id": "yVZ-UiM867if"
   },
   "source": [
    "#### not\n",
    "| Expression | Value |\n",
    "|------------|-------|\n",
    "| not False  | True  |\n",
    "| not True   | False |\n",
    "  \n",
    "#### or\n",
    "| Expression     | Value |\n",
    "|----------------|-------|\n",
    "| True or False  | True  |\n",
    "| True or True   | True  |\n",
    "| False or True  | True  |\n",
    "| False or False | False |\n",
    "\n",
    "#### and\n",
    "| Expression      | Value |\n",
    "|-----------------|-------|\n",
    "| True and False  | False |\n",
    "| True and True   | True  |\n",
    "| False and True  | False |\n",
    "| False and False | False |"
   ]
  },
  {
   "cell_type": "markdown",
   "metadata": {
    "id": "JEOVN4s-67ig"
   },
   "source": [
    "## Boolean Expressions"
   ]
  },
  {
   "cell_type": "markdown",
   "metadata": {
    "id": "QEMz6R0w67ih"
   },
   "source": [
    "A **boolean expression** is an expression that is either true or false.  \n",
    "A **boolean expression** is a combination of variables, values, and the **Truth Terms** above."
   ]
  },
  {
   "cell_type": "code",
   "execution_count": null,
   "metadata": {
    "id": "u25cz7_q67ij",
    "outputId": "487ca83c-6a16-40fe-dad6-6fda557531d5"
   },
   "outputs": [
    {
     "name": "stdout",
     "output_type": "stream",
     "text": [
      "True and True :  True\n",
      "False and True :  False\n",
      "1 == 1 and 2 == 1 :  False\n",
      "'test' == 'test: ' True\n",
      "1 == 1 or 2 != 1 :  True\n",
      "True and 1 == 1 :  True\n",
      "False and 0 != 0 :  False\n",
      "True or 1 == 1 :  True\n",
      "'test' == 'testing' :  False\n",
      "1 != 0 and 2 == 1 :  False\n"
     ]
    }
   ],
   "source": [
    "# These are all boolean expressions\n",
    "\n",
    "print(\"True and True : \", True and True)\n",
    "print(\"False and True : \", False and True)\n",
    "print(\"1 == 1 and 2 == 1 : \", 1 == 1 and 2 == 1)\n",
    "print(\"'test' == 'test: '\", 'test' == 'test')\n",
    "print(\"1 == 1 or 2 != 1 : \", 1 == 1 or 2 != 1)\n",
    "print(\"True and 1 == 1 : \", True and 1 == 1)\n",
    "print(\"False and 0 != 0 : \", False and 0 != 0)\n",
    "print(\"True or 1 == 1 : \", True or 1 == 1)\n",
    "print(\"'test' == 'testing' : \", 'test' == 'testing')\n",
    "print(\"1 != 0 and 2 == 1 : \", 1 != 0 and 2 == 1)"
   ]
  },
  {
   "cell_type": "markdown",
   "metadata": {
    "id": "GVmM52G-67iu"
   },
   "source": [
    "### <span style=\"color:red\">Exercise1:</span> Try to evaluate these boolean expressions by yourself first, then print out the correct answer using Python:  \n",
    "\n",
    "1. 'test' != 'testing'\n",
    "2. 'test' == 1\n",
    "3. not (True and False)\n",
    "4. not (1 == 1 and 0 != 1)\n",
    "5. not (10 == 1 or 1000 == 1000)\n",
    "6. not (1 != 10 or 3 == 4)\n",
    "7. not ('testing' == 'testing' and 'Tom' == 'Cool Guy')\n",
    "8. 1 == 1 and (not ('testing' == 1 or 1 == 0))\n",
    "9. 'chunky' == 'bacon' and (not (3 == 4 or 3 == 3))\n",
    "10. 3 == 3 and (not ('testing' == 'testing' or 'python' == 'Fun'))"
   ]
  },
  {
   "cell_type": "code",
   "execution_count": null,
   "metadata": {
    "id": "8zySuXO767iv"
   },
   "outputs": [],
   "source": [
    "# Exercise1"
   ]
  },
  {
   "cell_type": "markdown",
   "metadata": {
    "id": "dw0LF-d167i1"
   },
   "source": [
    "A **boolean expression** can also contain variables"
   ]
  },
  {
   "cell_type": "code",
   "execution_count": null,
   "metadata": {
    "id": "KYeVSQX-67i2"
   },
   "outputs": [],
   "source": [
    "x = 3\n",
    "y = 10\n",
    "z = 7\n",
    "print(x == y)\n",
    "print(y > z)\n",
    "print(z >= x - y)"
   ]
  },
  {
   "cell_type": "code",
   "execution_count": null,
   "metadata": {
    "id": "9SNk90jr67i_"
   },
   "outputs": [],
   "source": [
    "# In Python, this also works!\n",
    "x < z < y"
   ]
  },
  {
   "cell_type": "markdown",
   "metadata": {
    "id": "zn8aZWUS67jI"
   },
   "source": [
    "## Operator precedence\n",
    "The following table summarizes a subset of the operator precedence in Python,\n",
    "from lowest precedence (least binding) to highest precedence (most binding).\n",
    "Operators in the same box group left to right\n",
    "(except for exponentiation, which groups from right to left).\n",
    "\n",
    "Operator | Description\n",
    ":----- | :-----\n",
    "or | Boolean OR\n",
    "and | Boolean AND\n",
    "not | Boolean NOT\n",
    "<, <=, >, >=, !=, == | Comparisons\n",
    "+, - | Addition and subtraction\n",
    "\\*, /, //, % | Multiplication, division, floor division, remainder\n",
    "\\*\\* | Exponentiation\n",
    "\n",
    "You can always use parentheses to avoid confusion."
   ]
  },
  {
   "cell_type": "markdown",
   "metadata": {
    "id": "wCiPjoET67jJ"
   },
   "source": [
    "### <span style=\"color:red\">Exercise2:</span> Leap Year\n",
    "A year <i>y</i> is a leap year if <i>y</i> is divisible by 4 but not by 100 or <i>y</i> is divisible by 400.\n",
    "This condition can be written as follows."
   ]
  },
  {
   "cell_type": "code",
   "execution_count": null,
   "metadata": {
    "id": "D20-enD667jK"
   },
   "outputs": [],
   "source": [
    "# Exercise2\n",
    "\n",
    "y = int(input(\"Please insert a valid year, e.g., 1995 : \"))\n",
    "\n",
    "# Modify the definition of is_leap_year\n",
    "is_leap_year = False\n",
    "\n",
    "print(\"The year is a leap year:\", is_leap_year)\n"
   ]
  },
  {
   "cell_type": "markdown",
   "metadata": {
    "id": "W3PSDIcq67jU"
   },
   "source": [
    "## Conditional execution"
   ]
  },
  {
   "cell_type": "markdown",
   "metadata": {
    "id": "DOv36o2m67jW"
   },
   "source": [
    "If **condition**, a Boolean expression, is evaluated to be ***True***,\n",
    "the **identedBlockA** will be executed; otherwise, nothing happens.\n",
    "```\n",
    "if condition:\n",
    "    indentedBlockA\n",
    "```\n",
    "\n",
    "An if-statement creates what is called a ***branch*** in the code. It’s kind of like those choose your own adventure books where you are asked to turn to one page if you make one choice and another if you go a different direction.  \n",
    "  \n",
    "The if-statement tells your script, ”If this Boolean expression is True, then run the code under it, otherwise skip it.”\n",
    "  \n",
    "A colon at the end of a line is how you tell Python you are going to create a new ***block*** of code, and then ***indent***ing four spaces tells Python what lines of code are in that block.  \n",
    "  \n",
    "If it isn’t indented, you will most likely create a Python error. ***Python expects you to indent something after you end a line with a : (colon).***"
   ]
  },
  {
   "cell_type": "code",
   "execution_count": null,
   "metadata": {
    "id": "daV29igI67jY"
   },
   "outputs": [],
   "source": [
    "people = 20\n",
    "cats = 30\n",
    "dogs = 15\n",
    "\n",
    "if people < cats:\n",
    "    print(\"Too many cats! The world is doomed!\")\n",
    "\n",
    "if people > cats:\n",
    "    print(\"Not many cats! The world is saved!\")\n",
    "\n",
    "if people < dogs:\n",
    "    print(\"The world is drooled on!\")\n",
    "\n",
    "if people > dogs:\n",
    "    print(\"The world is dry!\")\n",
    "\n",
    "dogs += 5\n",
    "\n",
    "if people >= dogs:\n",
    "    print(\"People are greater than or equal to dogs.\")\n",
    "\n",
    "if people <= dogs:\n",
    "    print(\"People are less than or equal to dogs.\")\n",
    "\n",
    "if people == dogs:\n",
    "    print(\"People are dogs.\")\n"
   ]
  },
  {
   "cell_type": "markdown",
   "metadata": {
    "id": "33jhZpIo67jf"
   },
   "source": [
    "There must be at lease one statement in the **identedBlockA**.\n",
    "However, if you really have nothing to do (why?), you can use the ***pass*** statement."
   ]
  },
  {
   "cell_type": "code",
   "execution_count": null,
   "metadata": {
    "id": "vKlxvz6E67jg"
   },
   "outputs": [],
   "source": [
    "x = 2\n",
    "if x > 0:\n",
    "    pass"
   ]
  },
  {
   "cell_type": "code",
   "execution_count": null,
   "metadata": {
    "id": "p9zREG4j67ju"
   },
   "outputs": [],
   "source": [
    "def f(x):\n",
    "    print(\"A\", end=\"\")\n",
    "    if (x == 0):\n",
    "        print(\"B\", end=\"\")\n",
    "        print(\"C\", end=\"\")\n",
    "    print(\"D\")\n"
   ]
  },
  {
   "cell_type": "code",
   "execution_count": null,
   "metadata": {
    "id": "5TeTyXho67j0",
    "outputId": "34e5593b-5001-4d46-e921-4485b48b8892"
   },
   "outputs": [
    {
     "name": "stdout",
     "output_type": "stream",
     "text": [
      "ABCD\n"
     ]
    }
   ],
   "source": [
    "f(0)"
   ]
  },
  {
   "cell_type": "code",
   "execution_count": null,
   "metadata": {
    "id": "mTAHXOZJ67j9",
    "outputId": "f5eb0c0a-4756-4e34-af2b-8d2f020326e9"
   },
   "outputs": [
    {
     "name": "stdout",
     "output_type": "stream",
     "text": [
      "AD\n"
     ]
    }
   ],
   "source": [
    "f(1)"
   ]
  },
  {
   "cell_type": "markdown",
   "metadata": {
    "id": "F1Y1SIVF67kF"
   },
   "source": [
    "## Alternative execution"
   ]
  },
  {
   "cell_type": "markdown",
   "metadata": {
    "id": "gPbfoyfV67kG"
   },
   "source": [
    "In the examples above, we execute the **block** if the **condition** is evaluated to be **True**. Otherwise nothing is executed.  \n",
    "Now we talk about the **'otherwise'** case."
   ]
  },
  {
   "cell_type": "markdown",
   "metadata": {
    "id": "tElBepeO67kH"
   },
   "source": [
    "If **condition**, is evaluated to be ***True***, the **indentedBlockA** will be executed;  \n",
    "Otherwise, the **indentedBlockB** will be executed instead\n",
    "```\n",
    "if condition:\n",
    "    indentedBlockA\n",
    "else:\n",
    "    indentedBlockB\n",
    "```"
   ]
  },
  {
   "cell_type": "code",
   "execution_count": null,
   "metadata": {
    "id": "DdPW3JL467kJ",
    "scrolled": true
   },
   "outputs": [],
   "source": [
    "x = 3\n",
    "if x % 2 == 1:\n",
    "    print('x is odd')\n",
    "else:\n",
    "    print('x is even')\n",
    "\n",
    "# We can also write it in a single line\n",
    "print('x is odd') if x % 2 == 1 else print('x is even')"
   ]
  },
  {
   "cell_type": "markdown",
   "metadata": {
    "id": "egK7dAM_67kQ"
   },
   "source": [
    "## Chained conditionals"
   ]
  },
  {
   "cell_type": "markdown",
   "metadata": {
    "id": "E5TOqklK67kV"
   },
   "source": [
    "For cases where there are more than two branches, i.e., possibilities.\n",
    "```\n",
    "if condition1:\n",
    "    indentedBlock1\n",
    "elif condition2:\n",
    "    indentedBlock2\n",
    " ...\n",
    "elif conditionN:\n",
    "    indentedBlockN_1\n",
    "else:\n",
    "    indentedBlockN\n",
    "```"
   ]
  },
  {
   "cell_type": "code",
   "execution_count": null,
   "metadata": {
    "id": "fZL2Uze767kW"
   },
   "outputs": [],
   "source": [
    "x = 3\n",
    "y = 4\n",
    "if x < y:\n",
    "    print('x is less than y')\n",
    "elif x > y:\n",
    "    print('x is greater than y')\n",
    "else:\n",
    "    print('x and y are equal')"
   ]
  },
  {
   "cell_type": "markdown",
   "metadata": {
    "id": "osqCGixS67ke"
   },
   "source": [
    "Note that\n",
    "1. The **else** branch has to be at the end; it is optional.\n",
    "2. If more than one condition is true, only the first true branch runs."
   ]
  },
  {
   "cell_type": "code",
   "execution_count": null,
   "metadata": {
    "id": "WV5Rz7Ra67kf"
   },
   "outputs": [],
   "source": [
    "people = 30\n",
    "cars = 40\n",
    "trucks = 15\n",
    "\n",
    "if cars > people:\n",
    "    print(\"We should take the cars.\")\n",
    "elif cars < people:\n",
    "    print(\"We should not take the cars.\")\n",
    "else:\n",
    "    print(\"We can't decide.\")\n",
    "\n",
    "if trucks > cars:\n",
    "    print(\"That's too many trucks.\")\n",
    "elif trucks < cars:\n",
    "    print(\"Maybe we could take the trucks.\")\n",
    "else:\n",
    "    print(\"We still can't decide.\")\n",
    "\n",
    "if people > trucks:\n",
    "    print(\"Alright, let's just take the trucks.\")\n",
    "else:\n",
    "    print(\"Fine, let's stay home then.\")"
   ]
  },
  {
   "cell_type": "markdown",
   "metadata": {
    "id": "umHUaGRZ67km"
   },
   "source": [
    "### <span style=\"color:red\">Exercise3:</span> What to wear?\n",
    "Write a program that prints out the appropriate clothing to wear for a given temperature $t$.\n",
    "\n",
    "| temperature | clothing to wear |\n",
    "| :---------------- | :-----|\n",
    "| $t$ > 90          | swim suit |\n",
    "| 90 $\\geq t$ > 70  | shorts |\n",
    "| 70 $\\geq t$ > 50  | long pants |\n",
    "| 50 > $t$          | thermalwear and long pants |\n"
   ]
  },
  {
   "cell_type": "code",
   "execution_count": null,
   "metadata": {
    "id": "O87we9jp67kq",
    "outputId": "0ed7c1b3-a61b-44e4-e775-0598d0eb1ed6"
   },
   "outputs": [
    {
     "name": "stdout",
     "output_type": "stream",
     "text": [
      "You should wear thermalwear and long pants.\n"
     ]
    }
   ],
   "source": [
    "# Exercise3\n",
    "\n",
    "cloth = 'nothing'\n",
    "t = 50\n",
    "\n",
    "# Insert codes here\n",
    "\n",
    "print(f\"You should wear {cloth}.\")"
   ]
  },
  {
   "cell_type": "markdown",
   "metadata": {
    "id": "irXpsacG67kv"
   },
   "source": [
    "***What happens if you change the order of the branches?***"
   ]
  },
  {
   "cell_type": "markdown",
   "metadata": {
    "id": "B_qnIu6-67kw"
   },
   "source": [
    "## Nested conditionals"
   ]
  },
  {
   "cell_type": "markdown",
   "metadata": {
    "id": "zIuwmQSP67kx"
   },
   "source": [
    "Conditional statement inside conditional statament branches.  \n",
    "An example:\n",
    "```\n",
    "if condition_1:\n",
    "    if condition_1a:\n",
    "        block_1a\n",
    "    else:\n",
    "        block_1a_else\n",
    "else:\n",
    "    block_1_else\n",
    "``` "
   ]
  },
  {
   "cell_type": "markdown",
   "metadata": {
    "id": "DcOEnXTr67ky"
   },
   "source": [
    "Nested conditionals should be avoided, or one should limit the depth.  \n",
    "Careful analysis of the conditions often helps"
   ]
  },
  {
   "cell_type": "code",
   "execution_count": null,
   "metadata": {
    "id": "Xou18yxw67kz"
   },
   "outputs": [],
   "source": [
    "if x >= 0:\n",
    "    if x < 10:\n",
    "        print('x is a single-digit number.')"
   ]
  },
  {
   "cell_type": "code",
   "execution_count": null,
   "metadata": {
    "id": "Fw41yBsB67k3"
   },
   "outputs": [],
   "source": [
    "if x >= 0 and x < 10:\n",
    "    print('x is a single-digit number.')"
   ]
  },
  {
   "cell_type": "code",
   "execution_count": null,
   "metadata": {
    "id": "w_xoQG_x67k_",
    "scrolled": true
   },
   "outputs": [],
   "source": [
    "if 0 <= x < 10:\n",
    "    print('x is a single-digit number.')"
   ]
  },
  {
   "cell_type": "markdown",
   "metadata": {
    "id": "9Yi3BEJV67lD"
   },
   "source": [
    "### Lets End this Lecture with an Adventure Book"
   ]
  },
  {
   "cell_type": "code",
   "execution_count": null,
   "metadata": {
    "id": "i6p6iMWN67lE"
   },
   "outputs": [],
   "source": [
    "print(\"\"\"You enter a dark room with two doors.\n",
    "Do you go through door #1 or door #2?\"\"\")\n",
    "\n",
    "door = input(\"> \")\n",
    "\n",
    "if door == \"1\":\n",
    "    print(\"There's a giant bear here eating a cheese cake.\")\n",
    "    print(\"What do you do?\")\n",
    "    print(\"1. Take the cake.\")\n",
    "    print(\"2. Scream at the bear.\")\n",
    "    \n",
    "    bear = input(\"> \")\n",
    "    \n",
    "    if bear == \"1\":\n",
    "        print(\"The bear eats your face off. Good job!\")\n",
    "    elif bear == \"2\":\n",
    "        print(\"The bear eats your legs off. Good job!\")\n",
    "    else:\n",
    "        print(f\"Well, doing {bear} is probably better.\")\n",
    "        print(\"Bear runs away.\")\n",
    "\n",
    "elif door == \"2\":\n",
    "    print(\"You stare into the endless abyss at Cthulhu's retina.\")\n",
    "    print(\"1. Blueberries.\")\n",
    "    print(\"2. Yellow jacket clothespins.\")\n",
    "    print(\"3. Understanding resolvers yelling melodies.\")\n",
    "    \n",
    "    insanity = input(\"> \")\n",
    "    \n",
    "    if insanity == \"1\" or insanity == \"2\":\n",
    "        print(\"Your body survives powered by a mind of jello.\")\n",
    "        print(\"Good job!\")\n",
    "    else:\n",
    "        print(\"The insanity rots your eyes into a pool of muck.\")\n",
    "        print(\"Good job!\")\n",
    "\n",
    "else:\n",
    "    print(\"You stumble around and fall on a knife and die. Good job!\")"
   ]
  },
  {
   "cell_type": "code",
   "execution_count": null,
   "metadata": {
    "id": "CHJhsVKv67lJ"
   },
   "outputs": [],
   "source": [
    "def f(x):\n",
    "    print(\"A\", end=\"\")\n",
    "    if (x == 0):\n",
    "        print(\"B\", end=\"\")\n",
    "        print(\"C\", end=\"\")\n",
    "    else:\n",
    "        print(\"D\", end=\"\")\n",
    "        if (x == 1):\n",
    "            print(\"E\", end=\"\")\n",
    "        else:\n",
    "            print(\"F\", end=\"\")\n",
    "    print(\"G\")"
   ]
  },
  {
   "cell_type": "code",
   "execution_count": null,
   "metadata": {
    "id": "GdqVm5bS67lO"
   },
   "outputs": [],
   "source": [
    "f(0)\n"
   ]
  },
  {
   "cell_type": "code",
   "execution_count": null,
   "metadata": {
    "id": "E1s5uAbp67lV"
   },
   "outputs": [],
   "source": [
    "f(1)\n"
   ]
  },
  {
   "cell_type": "code",
   "execution_count": null,
   "metadata": {
    "id": "dpfFmmR967lb"
   },
   "outputs": [],
   "source": [
    "f(2)"
   ]
  },
  {
   "cell_type": "code",
   "execution_count": null,
   "metadata": {
    "id": "AI4F7U0c67lf"
   },
   "outputs": [],
   "source": [
    "def f(x):\n",
    "    print(\"A\", end=\"\")\n",
    "    if (x == 0):\n",
    "        print(\"B\", end=\"\")\n",
    "        print(\"C\", end=\"\")\n",
    "    elif (x == 1):\n",
    "        print(\"D\", end=\"\")\n",
    "    else:\n",
    "        print(\"E\", end=\"\")\n",
    "        if (x == 2):\n",
    "            print(\"F\", end=\"\")\n",
    "        else:\n",
    "            print(\"G\", end=\"\")\n",
    "    print(\"H\")\n",
    "\n"
   ]
  },
  {
   "cell_type": "code",
   "execution_count": null,
   "metadata": {
    "id": "AY5whWR067ll"
   },
   "outputs": [],
   "source": [
    "f(0)"
   ]
  },
  {
   "cell_type": "code",
   "execution_count": null,
   "metadata": {
    "id": "bJUVDmxP67lr"
   },
   "outputs": [],
   "source": [
    "f(1)"
   ]
  },
  {
   "cell_type": "code",
   "execution_count": null,
   "metadata": {
    "id": "11-8EtVW67lv"
   },
   "outputs": [],
   "source": [
    "f(2)"
   ]
  },
  {
   "cell_type": "code",
   "execution_count": null,
   "metadata": {
    "id": "Widsg9fu67l1"
   },
   "outputs": [],
   "source": [
    "f(3)"
   ]
  }
 ],
 "metadata": {
  "colab": {
   "name": "W03L01_logics_and_conditionals.ipynb",
   "provenance": []
  },
  "kernelspec": {
   "display_name": "Python 3",
   "language": "python",
   "name": "python3"
  },
  "language_info": {
   "codemirror_mode": {
    "name": "ipython",
    "version": 3
   },
   "file_extension": ".py",
   "mimetype": "text/x-python",
   "name": "python",
   "nbconvert_exporter": "python",
   "pygments_lexer": "ipython3",
   "version": "3.7.4"
  }
 },
 "nbformat": 4,
 "nbformat_minor": 1
}
