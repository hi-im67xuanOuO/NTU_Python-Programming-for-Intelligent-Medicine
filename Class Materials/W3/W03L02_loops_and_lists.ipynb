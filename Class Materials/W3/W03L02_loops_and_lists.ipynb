{
 "cells": [
  {
   "cell_type": "markdown",
   "metadata": {
    "id": "d2CehDdc6zyq"
   },
   "source": [
    "<div style=\"text-align:center;color:#888888;\"><h2> IMP 5001 - Introduction to Medical Informatics </h2></div>\n",
    "<div style=\"text-align:center;\"><h1> Loops and Lists </h1></div>\n",
    "\n",
    "<div style=\"color:#999999;text-align:right;\">Ref: <a href=\"http://www.ucs.cam.ac.uk/docs/course-notes/unix-courses/PythonAB\">Python: Introduction for Absolute Beginners</a> &ensp; <a href=\"https://learnpythonthehardway.org\">Learn Python the Hard Way</a> &ensp; <a href=\"https://www.w3schools.com/python/default.asp\">w3schools</a></div>"
   ]
  },
  {
   "cell_type": "markdown",
   "metadata": {
    "id": "XvOHim8T6zyr"
   },
   "source": [
    "In this lecture, we will introduce how to do **repetitive** things with Python  \n",
    "We will go with an example first -- **Square Root of 2.0 by Bisection**"
   ]
  },
  {
   "cell_type": "markdown",
   "metadata": {
    "id": "h0Zum7-f6zys"
   },
   "source": [
    "### Square Root of 2.0 by Bisection"
   ]
  },
  {
   "cell_type": "markdown",
   "metadata": {
    "id": "_XWqnE0_6zyt"
   },
   "source": [
    "<span style='color:green;'>In this example, we want to find the value of √2 to some degree of accuracy.</span>  \n",
    "  \n",
    "To find √2, we identify a range of values that must contain the actual value of √2.  \n",
    "That is, a **lower bound** less than √2 and an **upper bound** greater than √2.  \n",
    "  \n",
    "We start by taking:  \n",
    "lower_bound: **0**, since **0<sup>2</sup> = 0 < 2 = (√2)<sup>2</sup>**  \n",
    "upper_bound: **2**, since **2<sup>2</sup> = 4 > 2 = (√2)<sup>2</sup>**"
   ]
  },
  {
   "cell_type": "code",
   "execution_count": null,
   "metadata": {
    "id": "yaWYkOYc6zyu"
   },
   "outputs": [],
   "source": [
    "lower_bound = 0.0\n",
    "upper_bound = 2.0\n",
    "\n",
    "print(lower_bound**2 < 2 < upper_bound**2)"
   ]
  },
  {
   "cell_type": "markdown",
   "metadata": {
    "id": "127jEy4Y6zyy"
   },
   "source": [
    "#### Next, we try to improve the estimation"
   ]
  },
  {
   "cell_type": "code",
   "execution_count": null,
   "metadata": {
    "id": "T-f-tKX86zyz"
   },
   "outputs": [],
   "source": [
    "# Check if the middle value is less than target\n",
    "# This way, we can cut the uncertainty in half\n",
    "\n",
    "mid = (lower_bound + upper_bound)/2\n",
    "\n",
    "if mid**2 < 2:\n",
    "    lower_bound = mid\n",
    "else:\n",
    "    upper_bound = mid\n",
    "\n",
    "print(str(lower_bound) + ' < √2 ≤ ' + str(upper_bound))"
   ]
  },
  {
   "cell_type": "markdown",
   "metadata": {
    "id": "RLT8A1dG6zy3"
   },
   "source": [
    "#### To improve the estimation further, just run the same code one more time"
   ]
  },
  {
   "cell_type": "code",
   "execution_count": null,
   "metadata": {
    "id": "1qOeSGPf6zy3"
   },
   "outputs": [],
   "source": [
    "mid = (lower_bound + upper_bound)/2\n",
    "\n",
    "if mid**2 < 2:\n",
    "    lower_bound = mid\n",
    "else:\n",
    "    upper_bound = mid\n",
    "\n",
    "print(str(lower_bound) + ' < √2 < ' + str(upper_bound))"
   ]
  },
  {
   "cell_type": "markdown",
   "metadata": {
    "id": "jqMoYHv36zy9"
   },
   "source": [
    "#### Now we observe the sequence of improvements by doing multiple times of above codes:\n",
    "In the future, we can wrap above codes into something called `function` for re-usage"
   ]
  },
  {
   "cell_type": "code",
   "execution_count": null,
   "metadata": {
    "id": "xKa6rRoM6zy-"
   },
   "outputs": [],
   "source": [
    "lower_bound = 0.0\n",
    "upper_bound = 2.0\n",
    "\n",
    "\n",
    "# 1st time\n",
    "mid = (lower_bound + upper_bound)/2\n",
    "\n",
    "if mid**2 < 2:\n",
    "    lower_bound = mid\n",
    "else:\n",
    "    upper_bound = mid\n",
    "\n",
    "print(str(lower_bound) + ' < √2 < ' + str(upper_bound))\n",
    "\n",
    "\n",
    "# 2nd time\n",
    "mid = (lower_bound + upper_bound)/2\n",
    "\n",
    "if mid**2 < 2:\n",
    "    lower_bound = mid\n",
    "else:\n",
    "    upper_bound = mid\n",
    "\n",
    "print(str(lower_bound) + ' < √2 < ' + str(upper_bound))\n",
    "\n",
    "\n",
    "# 3rd time\n",
    "mid = (lower_bound + upper_bound)/2\n",
    "\n",
    "if mid**2 < 2:\n",
    "    lower_bound = mid\n",
    "else:\n",
    "    upper_bound = mid\n",
    "\n",
    "print(str(lower_bound) + ' < √2 < ' + str(upper_bound))\n",
    "\n",
    "\n",
    "# 4th time\n",
    "mid = (lower_bound + upper_bound)/2\n",
    "\n",
    "if mid**2 < 2:\n",
    "    lower_bound = mid\n",
    "else:\n",
    "    upper_bound = mid\n",
    "\n",
    "print(str(lower_bound) + ' < √2 < ' + str(upper_bound))\n",
    "\n",
    "\n",
    "# 5th time\n",
    "mid = (lower_bound + upper_bound)/2\n",
    "\n",
    "if mid**2 < 2:\n",
    "    lower_bound = mid\n",
    "else:\n",
    "    upper_bound = mid\n",
    "\n",
    "print(str(lower_bound) + ' < √2 < ' + str(upper_bound))"
   ]
  },
  {
   "cell_type": "markdown",
   "metadata": {
    "id": "pzFR5Hhw6zzC"
   },
   "source": [
    "#### In the codes above, we repeat the same section of code for 5 times in order to iteratively improve the estimation, which is bad for *readability* and *maintenance*\n",
    "*When we want to modify the code, we need to do 5 times!*\n",
    "\n",
    "#### Of course there are simpler ways to do the same job -- *`Loops`*:\n",
    "1. For Loop\n",
    "2. While Loop"
   ]
  },
  {
   "cell_type": "markdown",
   "metadata": {
    "id": "9Ain5vAY6zzD"
   },
   "source": [
    "### `for` Loop"
   ]
  },
  {
   "cell_type": "markdown",
   "metadata": {
    "id": "XcOGDlYk6zzE"
   },
   "source": [
    "#### A `for` loop has following structure:\n",
    "\n",
    "```\n",
    "for <variable> in <list/tuple/dict>:\n",
    "    <indented block statements>\n",
    "```\n",
    "\n",
    "Where ***`list` is a container of things that are organized in order from first to last.***  \n",
    "We will cover `tuple` and `dict` later"
   ]
  },
  {
   "cell_type": "markdown",
   "metadata": {
    "id": "37a5GEj_6zzF"
   },
   "source": [
    "### Lists\n",
    "A ***List*** is a collection of Python variables which is ***ordered*** and ***changeable***. ***Allows duplicate members***."
   ]
  },
  {
   "cell_type": "markdown",
   "metadata": {
    "id": "KPaJMP-N6zzF"
   },
   "source": [
    "### Empty List"
   ]
  },
  {
   "cell_type": "code",
   "execution_count": null,
   "metadata": {
    "id": "VDrS9xFd6zzG",
    "outputId": "54a5e1ac-68ae-49f3-fa7a-a2f8ea52a976"
   },
   "outputs": [
    {
     "name": "stdout",
     "output_type": "stream",
     "text": [
      "Two standard ways to create an empty list:\n",
      "<class 'list'> 0 []\n",
      "<class 'list'> 0 []\n",
      "True\n"
     ]
    }
   ],
   "source": [
    "print(\"Two standard ways to create an empty list:\")\n",
    "a = [ ]\n",
    "b = list()\n",
    "\n",
    "print(type(a), len(a), a)\n",
    "print(type(b), len(b), b)\n",
    "print(a == b)"
   ]
  },
  {
   "cell_type": "code",
   "execution_count": null,
   "metadata": {
    "id": "ZLJpWp3i6zzK",
    "outputId": "4b67c2f4-36ba-4457-d804-7d4ff19696b1"
   },
   "outputs": [
    {
     "name": "stdout",
     "output_type": "stream",
     "text": [
      "<class 'list'> 1 ['hello']\n",
      "<class 'list'> 1 [42]\n",
      "False\n"
     ]
    }
   ],
   "source": [
    "a = [ \"hello\" ]\n",
    "b = [ 42 ]\n",
    "\n",
    "print(type(a), len(a), a)\n",
    "print(type(b), len(b), b)\n",
    "print(a == b)"
   ]
  },
  {
   "cell_type": "code",
   "execution_count": null,
   "metadata": {
    "id": "5XAws5xJ6zzO",
    "outputId": "e845f0fd-475c-4721-f9ea-3a43fa84d56b"
   },
   "outputs": [
    {
     "name": "stdout",
     "output_type": "stream",
     "text": [
      "<class 'list'> 4 [2, 3, 5, 7]\n",
      "<class 'list'> 5 [0, 1, 2, 3, 4]\n",
      "<class 'list'> 3 ['mixed types', True, 42]\n"
     ]
    }
   ],
   "source": [
    "a = [2, 3, 5, 7]\n",
    "b = list(range(5))\n",
    "c = [\"mixed types\", True, 42]\n",
    "\n",
    "print(type(a), len(a), a)\n",
    "print(type(b), len(b), b)\n",
    "print(type(c), len(c), c)"
   ]
  },
  {
   "cell_type": "markdown",
   "metadata": {
    "id": "qG7pntzn6zzU"
   },
   "source": [
    "### Variable-Length List"
   ]
  },
  {
   "cell_type": "code",
   "execution_count": null,
   "metadata": {
    "id": "U0IT1O286zzU",
    "outputId": "51fd87f0-4a84-44eb-9ef6-29293cc3e561"
   },
   "outputs": [
    {
     "name": "stdout",
     "output_type": "stream",
     "text": [
      "<class 'list'> 10 [0, 0, 0, 0, 0, 0, 0, 0, 0, 0]\n",
      "<class 'list'> 10 [0, 1, 2, 3, 4, 5, 6, 7, 8, 9]\n"
     ]
    }
   ],
   "source": [
    "n = 10\n",
    "a = [0] * n\n",
    "b = list(range(n))\n",
    "\n",
    "print(type(a), len(a), a)\n",
    "print(type(b), len(b), b)"
   ]
  },
  {
   "cell_type": "markdown",
   "metadata": {
    "id": "VxrkSBuY6zzY"
   },
   "source": [
    "### List Properties (len, min, max, sum)"
   ]
  },
  {
   "cell_type": "code",
   "execution_count": null,
   "metadata": {
    "id": "TvsageVN6zzY",
    "outputId": "ea1fda6e-1bff-4242-a3d6-5c6ebc1a4f87"
   },
   "outputs": [
    {
     "name": "stdout",
     "output_type": "stream",
     "text": [
      "a =  [2, 3, 5, 2]\n",
      "len = 4\n",
      "min = 2\n",
      "max = 5\n",
      "sum = 12\n"
     ]
    }
   ],
   "source": [
    "a = [ 2, 3, 5, 2 ]\n",
    "print(\"a = \", a)\n",
    "print(\"len =\", len(a))\n",
    "print(\"min =\", min(a))\n",
    "print(\"max =\", max(a))\n",
    "print(\"sum =\", sum(a))"
   ]
  },
  {
   "cell_type": "markdown",
   "metadata": {
    "id": "egqKK4B86zzc"
   },
   "source": [
    "### Accessing Elements (Indexing and Slicing)"
   ]
  },
  {
   "cell_type": "code",
   "execution_count": null,
   "metadata": {
    "id": "KamEQQlq6zzd"
   },
   "outputs": [],
   "source": [
    "a = [2, 3, 5, 7, 11, 13]\n",
    "print(\"a        =\", a)\n",
    "\n",
    "# Access non-negative indexes\n",
    "print(\"a[0]     =\", a[0])\n",
    "print(\"a[2]     =\", a[2])\n",
    "\n",
    "# Access negative indexes\n",
    "print(\"a[-1]    =\", a[-1])\n",
    "print(\"a[-3]    =\", a[-3])\n",
    "\n",
    "# Access slices a[start:end:step]\n",
    "print(\"a[0:2]   =\", a[0:2])\n",
    "print(\"a[1:4]   =\", a[1:4])\n",
    "print(\"a[1:6:2] =\", a[1:6:2])"
   ]
  },
  {
   "cell_type": "markdown",
   "metadata": {
    "id": "fLJrIfqg6zzg"
   },
   "source": [
    "### Aliasing v.s. cloning"
   ]
  },
  {
   "cell_type": "code",
   "execution_count": null,
   "metadata": {
    "id": "_LsYtzU36zzh",
    "outputId": "4a2ea568-b77f-4812-c258-5ae4f681f3dd"
   },
   "outputs": [
    {
     "name": "stdout",
     "output_type": "stream",
     "text": [
      "before a = [1, 2, 3, 4]\n",
      "after: a = [5, 10, 3, 4]  b =  [5, 10, 3, 4]\n"
     ]
    }
   ],
   "source": [
    "#List Aliases\n",
    "a = [1, 2, 3, 4]\n",
    "b = a      # Here a and b refer to the SAME block of memory "
   ]
  },
  {
   "cell_type": "code",
   "execution_count": null,
   "metadata": {
    "id": "TA3x2ABo6zzm",
    "outputId": "1e18f7d9-0bb4-4800-b6f7-b68c24a05488"
   },
   "outputs": [
    {
     "data": {
      "text/plain": [
       "True"
      ]
     },
     "execution_count": 23,
     "metadata": {
      "tags": []
     },
     "output_type": "execute_result"
    }
   ],
   "source": [
    "a == b"
   ]
  },
  {
   "cell_type": "code",
   "execution_count": null,
   "metadata": {
    "id": "nmZR3JBt6zzr",
    "outputId": "44cd0dd0-8ff0-4715-d7ac-3e74a317f22f"
   },
   "outputs": [
    {
     "data": {
      "text/plain": [
       "True"
      ]
     },
     "execution_count": 24,
     "metadata": {
      "tags": []
     },
     "output_type": "execute_result"
    }
   ],
   "source": [
    "a is b"
   ]
  },
  {
   "cell_type": "code",
   "execution_count": null,
   "metadata": {
    "id": "5kVeXawa6zzv",
    "outputId": "d44fffac-b216-4a6a-df20-5ea3e5773953"
   },
   "outputs": [
    {
     "name": "stdout",
     "output_type": "stream",
     "text": [
      "a = [5, 10, 3, 4]\n",
      "b = [5, 10, 3, 4]\n"
     ]
    }
   ],
   "source": [
    "a[1] = 10\n",
    "b[0] = 5\n",
    "print('a =', a)\n",
    "print('b =', b)"
   ]
  },
  {
   "cell_type": "code",
   "execution_count": null,
   "metadata": {
    "id": "BZ37EKGV6zzy"
   },
   "outputs": [],
   "source": [
    "#List Cloning\n",
    "a = [1, 2, 3, 4]\n",
    "b = a[:]   # Here a and b refer to DIFFERENT blocks of memory, though having the same values. "
   ]
  },
  {
   "cell_type": "code",
   "execution_count": null,
   "metadata": {
    "id": "_CnAOkyd6zz2",
    "outputId": "6547b152-c179-40ab-ab72-917d30973a9c"
   },
   "outputs": [
    {
     "data": {
      "text/plain": [
       "True"
      ]
     },
     "execution_count": 27,
     "metadata": {
      "tags": []
     },
     "output_type": "execute_result"
    }
   ],
   "source": [
    "a == b"
   ]
  },
  {
   "cell_type": "code",
   "execution_count": null,
   "metadata": {
    "id": "e9I9ckXx6zz7",
    "outputId": "eae871c3-ed83-45a3-c2bb-490dc5dd23eb"
   },
   "outputs": [
    {
     "data": {
      "text/plain": [
       "False"
      ]
     },
     "execution_count": 28,
     "metadata": {
      "tags": []
     },
     "output_type": "execute_result"
    }
   ],
   "source": [
    "a is b"
   ]
  },
  {
   "cell_type": "code",
   "execution_count": null,
   "metadata": {
    "id": "Ra6KYy6f6zz-",
    "outputId": "af130072-e5ea-4d30-c3fa-f7cdbe930f7e"
   },
   "outputs": [
    {
     "name": "stdout",
     "output_type": "stream",
     "text": [
      "a = [1, 10, 3, 4]\n",
      "b = [5, 2, 3, 4]\n"
     ]
    }
   ],
   "source": [
    "a[1] = 10\n",
    "b[0] = 5\n",
    "print('a =', a)\n",
    "print('b =', b)"
   ]
  },
  {
   "cell_type": "code",
   "execution_count": null,
   "metadata": {
    "id": "-hVSOLvc6z0B",
    "outputId": "672b62dc-e76b-41c7-948f-c130b1ccb804"
   },
   "outputs": [
    {
     "name": "stdout",
     "output_type": "stream",
     "text": [
      "initially:\n",
      "  a==b  : True\n",
      "  a==c  : True\n",
      "  a is b: True\n",
      "  a is c: False\n",
      "After changing a[0] to 42\n",
      "  a= [42, 3, 5, 7]\n",
      "  b= [42, 3, 5, 7]\n",
      "  c= [2, 3, 5, 7]\n",
      "  a==b  : True\n",
      "  a==c  : False\n",
      "  a is b: True\n",
      "  a is c: False\n"
     ]
    }
   ],
   "source": [
    "# Create a list\n",
    "a = [ 2, 3, 5, 7 ]\n",
    "\n",
    "# Create an alias to the list\n",
    "b = a\n",
    "\n",
    "# Create a different list with the same elements\n",
    "c = [ 2, 3, 5, 7 ]\n",
    "\n",
    "# a and b are references (aliases) to the SAME list\n",
    "# c is a reference to a different but EQUAL list\n",
    "\n",
    "print(\"initially:\")\n",
    "print(\"  a==b  :\", a==b)\n",
    "print(\"  a==c  :\", a==c)\n",
    "print(\"  a is b:\", a is b)\n",
    "print(\"  a is c:\", a is c)\n",
    "\n",
    "# Now changes to a also change b (the SAME list) but not c (a different list)\n",
    "a[0] = 42\n",
    "print(\"After changing a[0] to 42\")\n",
    "print(\"  a=\",a)\n",
    "print(\"  b=\",b)\n",
    "print(\"  c=\",c)\n",
    "print(\"  a==b  :\", a==b)\n",
    "print(\"  a==c  :\", a==c)\n",
    "print(\"  a is b:\", a is b)\n",
    "print(\"  a is c:\", a is c)"
   ]
  },
  {
   "cell_type": "code",
   "execution_count": null,
   "metadata": {
    "id": "ZcQnGkwd6z0E",
    "outputId": "89031de9-b303-446e-f001-4e2cfc5ead04"
   },
   "outputs": [
    {
     "name": "stdout",
     "output_type": "stream",
     "text": [
      "a      = [2, 3, 5, 2, 6, 2, 2, 7]\n",
      "2 in a = True\n",
      "4 in a = False\n"
     ]
    }
   ],
   "source": [
    "# Check for list membership: in\n",
    "a = [ 2, 3, 5, 2, 6, 2, 2, 7 ]\n",
    "print(\"a      =\", a)\n",
    "print(\"2 in a =\", (2 in a))\n",
    "print(\"4 in a =\", (4 in a))"
   ]
  },
  {
   "cell_type": "code",
   "execution_count": null,
   "metadata": {
    "id": "ZfshgL8-6z0G",
    "outputId": "cfe9b67f-5c79-4d4b-b7c8-d256d8575bef"
   },
   "outputs": [
    {
     "name": "stdout",
     "output_type": "stream",
     "text": [
      "a          = [2, 3, 5, 2, 6, 2, 2, 7]\n",
      "2 not in a = False\n",
      "4 not in a = True\n"
     ]
    }
   ],
   "source": [
    "# Check for list non-membership: not in\n",
    "a = [ 2, 3, 5, 2, 6, 2, 2, 7 ]\n",
    "print(\"a          =\", a)\n",
    "print(\"2 not in a =\", (2 not in a))\n",
    "print(\"4 not in a =\", (4 not in a))"
   ]
  },
  {
   "cell_type": "code",
   "execution_count": null,
   "metadata": {
    "id": "TUE_XSu-6z0J",
    "outputId": "857c7c45-cc11-420f-90f2-a0e6085bd949"
   },
   "outputs": [
    {
     "name": "stdout",
     "output_type": "stream",
     "text": [
      "a          = [2, 3, 5, 2, 6, 2, 2, 7]\n",
      "a.count(1) = 0\n",
      "a.count(2) = 4\n",
      "a.count(3) = 1\n"
     ]
    }
   ],
   "source": [
    "# Count occurrences in list: list.count(item)\n",
    "a = [ 2, 3, 5, 2, 6, 2, 2, 7 ]\n",
    "print(\"a          =\", a)\n",
    "print(\"a.count(1) =\", a.count(1))\n",
    "print(\"a.count(2) =\", a.count(2))\n",
    "print(\"a.count(3) =\", a.count(3))"
   ]
  },
  {
   "cell_type": "code",
   "execution_count": null,
   "metadata": {
    "id": "ThGG7a7Y6z0O",
    "outputId": "c1efefac-d269-43d3-a2a5-fb2790c93785"
   },
   "outputs": [
    {
     "name": "stdout",
     "output_type": "stream",
     "text": [
      "a            = [2, 3, 5, 2, 6, 2, 2, 7]\n",
      "a.index(6)   = 4\n",
      "a.index(2)   = 0\n",
      "a.index(2,1) = 3\n",
      "a.index(2,4) = 5\n"
     ]
    }
   ],
   "source": [
    "#Find index of item: list.index(item) and list.index(item, start)\n",
    "a = [ 2, 3, 5, 2, 6, 2, 2, 7 ]\n",
    "#help(a.index)\n",
    "print(\"a            =\", a)\n",
    "print(\"a.index(6)   =\", a.index(6))\n",
    "print(\"a.index(2)   =\", a.index(2))\n",
    "print(\"a.index(2,1) =\", a.index(2,1))\n",
    "print(\"a.index(2,4) =\", a.index(2,4))"
   ]
  },
  {
   "cell_type": "code",
   "execution_count": null,
   "metadata": {
    "id": "8Az-h0Z26z0V",
    "outputId": "4c6268dd-0688-4da3-84a8-c9a03acd4122"
   },
   "outputs": [
    {
     "name": "stdout",
     "output_type": "stream",
     "text": [
      "a          = [2, 3, 5, 2]\n"
     ]
    },
    {
     "ename": "ValueError",
     "evalue": "9 is not in list",
     "output_type": "error",
     "traceback": [
      "\u001b[1;31m---------------------------------------------------------------------------\u001b[0m",
      "\u001b[1;31mValueError\u001b[0m                                Traceback (most recent call last)",
      "\u001b[1;32m<ipython-input-35-0405822f2858>\u001b[0m in \u001b[0;36m<module>\u001b[1;34m\u001b[0m\n\u001b[0;32m      2\u001b[0m \u001b[0ma\u001b[0m \u001b[1;33m=\u001b[0m \u001b[1;33m[\u001b[0m \u001b[1;36m2\u001b[0m\u001b[1;33m,\u001b[0m \u001b[1;36m3\u001b[0m\u001b[1;33m,\u001b[0m \u001b[1;36m5\u001b[0m\u001b[1;33m,\u001b[0m \u001b[1;36m2\u001b[0m \u001b[1;33m]\u001b[0m\u001b[1;33m\u001b[0m\u001b[0m\n\u001b[0;32m      3\u001b[0m \u001b[0mprint\u001b[0m\u001b[1;33m(\u001b[0m\u001b[1;34m\"a          =\"\u001b[0m\u001b[1;33m,\u001b[0m \u001b[0ma\u001b[0m\u001b[1;33m)\u001b[0m\u001b[1;33m\u001b[0m\u001b[0m\n\u001b[1;32m----> 4\u001b[1;33m \u001b[0mprint\u001b[0m\u001b[1;33m(\u001b[0m\u001b[1;34m\"a.index(9) =\"\u001b[0m\u001b[1;33m,\u001b[0m \u001b[0ma\u001b[0m\u001b[1;33m.\u001b[0m\u001b[0mindex\u001b[0m\u001b[1;33m(\u001b[0m\u001b[1;36m9\u001b[0m\u001b[1;33m)\u001b[0m\u001b[1;33m)\u001b[0m \u001b[1;31m# crashes!\u001b[0m\u001b[1;33m\u001b[0m\u001b[0m\n\u001b[0m\u001b[0;32m      5\u001b[0m \u001b[0mprint\u001b[0m\u001b[1;33m(\u001b[0m\u001b[1;34m\"This line will not run!\"\u001b[0m\u001b[1;33m)\u001b[0m\u001b[1;33m\u001b[0m\u001b[0m\n",
      "\u001b[1;31mValueError\u001b[0m: 9 is not in list"
     ]
    }
   ],
   "source": [
    "#Problem: crashes when item is not in list\n",
    "a = [ 2, 3, 5, 2 ]\n",
    "print(\"a          =\", a)\n",
    "print(\"a.index(9) =\", a.index(9)) # crashes!\n",
    "print(\"This line will not run!\")"
   ]
  },
  {
   "cell_type": "code",
   "execution_count": null,
   "metadata": {
    "id": "xoTs0ClI6z0Y",
    "outputId": "9b77b50a-6098-4819-84c8-c26e62e2c1e7"
   },
   "outputs": [
    {
     "name": "stdout",
     "output_type": "stream",
     "text": [
      "a = [2, 3, 5, 2]\n",
      "9 not in [2, 3, 5, 2]\n",
      "This line will run now!\n"
     ]
    }
   ],
   "source": [
    "#Solution: use (item in list)\n",
    "a = [ 2, 3, 5, 2 ]\n",
    "print(\"a =\", a)\n",
    "if (9 in a):\n",
    "    print(\"a.index(9) =\", a.index(9))\n",
    "else:\n",
    "    print(\"9 not in\", a)\n",
    "print(\"This line will run now!\")"
   ]
  },
  {
   "cell_type": "code",
   "execution_count": null,
   "metadata": {
    "id": "zryasgKm6z0a",
    "outputId": "c281c1b6-4a70-431d-83f6-c18ed6b0094b"
   },
   "outputs": [
    {
     "name": "stdout",
     "output_type": "stream",
     "text": [
      "[2, 3, 7]\n"
     ]
    }
   ],
   "source": [
    "#Adding Elements\n",
    "# Destructively (Modifying Lists)\n",
    "#  Add an item with list.append(item)\n",
    "\n",
    "a = [ 2, 3 ]\n",
    "a.append(7)\n",
    "print(a)"
   ]
  },
  {
   "cell_type": "code",
   "execution_count": null,
   "metadata": {
    "id": "g3D1VGjP6z0d",
    "outputId": "22e6fdc0-f772-4473-ac42-d691a5f21b0f"
   },
   "outputs": [
    {
     "name": "stdout",
     "output_type": "stream",
     "text": [
      "[2, 3, 11, 13]\n"
     ]
    }
   ],
   "source": [
    "# Add a list of items with list += list2\n",
    "a = [ 2, 3 ]\n",
    "a += [ 11, 13 ]\n",
    "print(a)"
   ]
  },
  {
   "cell_type": "code",
   "execution_count": null,
   "metadata": {
    "id": "4sryJExf6z0g",
    "outputId": "eb533c58-25ca-4985-b451-09726660cdd0"
   },
   "outputs": [
    {
     "name": "stdout",
     "output_type": "stream",
     "text": [
      "[2, 3, 17, 19]\n"
     ]
    }
   ],
   "source": [
    "#Add a list of items with list.extend(list2)\n",
    "a = [ 2, 3 ]\n",
    "a.extend([ 17, 19 ])\n",
    "print(a)"
   ]
  },
  {
   "cell_type": "code",
   "execution_count": null,
   "metadata": {
    "id": "NpkN87S16z0l",
    "outputId": "a26f6729-97f2-4493-ccbc-a955ab5c0a97"
   },
   "outputs": [
    {
     "name": "stdout",
     "output_type": "stream",
     "text": [
      "[2, 3, [17, 19]]\n"
     ]
    }
   ],
   "source": [
    "a = [ 2, 3 ]\n",
    "a.append([ 17, 19 ])\n",
    "print(a)"
   ]
  },
  {
   "cell_type": "code",
   "execution_count": null,
   "metadata": {
    "id": "CKS0vop46z0o",
    "outputId": "027043da-ecf0-4a79-c6f6-413309e6fdb1"
   },
   "outputs": [
    {
     "name": "stdout",
     "output_type": "stream",
     "text": [
      "[2, 3]\n",
      "[2, 3, 13, 17]\n"
     ]
    }
   ],
   "source": [
    "#Non-Destructively (Creating New Lists)\n",
    "#Add an item with list1 + list2\n",
    "a = [ 2, 3 ]\n",
    "b = a + [ 13, 17 ]\n",
    "print(a)\n",
    "print(b)"
   ]
  },
  {
   "cell_type": "code",
   "execution_count": null,
   "metadata": {
    "id": "lAdtYzAU6z0r",
    "outputId": "039351d4-268c-431a-caf9-6563f31452ab"
   },
   "outputs": [
    {
     "name": "stdout",
     "output_type": "stream",
     "text": [
      "[2, 3, 42, 5, 7, 11]\n"
     ]
    }
   ],
   "source": [
    "#Insert an item at a given index\n",
    "a = [ 2, 3, 5, 7, 11 ]\n",
    "a.insert(2, 42)  # at index 2, insert 42\n",
    "print(a)"
   ]
  },
  {
   "cell_type": "code",
   "execution_count": null,
   "metadata": {
    "id": "P5MGJkm36z0u",
    "outputId": "ec4a1f5c-b448-4ef8-e571-b4713334a6bb"
   },
   "outputs": [
    {
     "name": "stdout",
     "output_type": "stream",
     "text": [
      "[2, 3, 7, 11]\n",
      "[2, 3, 5, 7, 11]\n"
     ]
    }
   ],
   "source": [
    "#Insert an item at a given index (with list slices)\n",
    "a = [ 2, 3, 7, 11]\n",
    "b = a[:2] + [5] + a[2:]\n",
    "print(a)\n",
    "print(b)"
   ]
  },
  {
   "cell_type": "code",
   "execution_count": null,
   "metadata": {
    "id": "S_ez5xEd6z0x",
    "outputId": "4ed923f3-8eee-47d0-f078-9a5f0bb410ef"
   },
   "outputs": [
    {
     "name": "stdout",
     "output_type": "stream",
     "text": [
      "a = [2, 3, 5, 3, 7, 6, 5, 11, 13]\n",
      "After a.remove(5), a= [2, 3, 3, 7, 6, 5, 11, 13]\n",
      "After another a.remove(5), a= [2, 3, 3, 7, 6, 11, 13]\n"
     ]
    }
   ],
   "source": [
    "#Removing Elements\n",
    "##Destructively (Modifying Lists)\n",
    "###Remove an item with list.remove(item)\n",
    "\n",
    "a = [ 2, 3, 5, 3, 7, 6, 5, 11, 13 ]\n",
    "print(\"a =\", a)\n",
    "\n",
    "a.remove(5)\n",
    "print(\"After a.remove(5), a=\", a)\n",
    "\n",
    "a.remove(5)\n",
    "print(\"After another a.remove(5), a=\", a)"
   ]
  },
  {
   "cell_type": "code",
   "execution_count": null,
   "metadata": {
    "id": "AGAWxscY6z00",
    "outputId": "002c88a0-7a4c-4ff5-e734-4272b962f221"
   },
   "outputs": [
    {
     "ename": "ValueError",
     "evalue": "list.remove(x): x not in list",
     "output_type": "error",
     "traceback": [
      "\u001b[1;31m---------------------------------------------------------------------------\u001b[0m",
      "\u001b[1;31mValueError\u001b[0m                                Traceback (most recent call last)",
      "\u001b[1;32m<ipython-input-45-fa8c667230ef>\u001b[0m in \u001b[0;36m<module>\u001b[1;34m\u001b[0m\n\u001b[1;32m----> 1\u001b[1;33m \u001b[0ma\u001b[0m\u001b[1;33m.\u001b[0m\u001b[0mremove\u001b[0m\u001b[1;33m(\u001b[0m\u001b[1;36m5\u001b[0m\u001b[1;33m)\u001b[0m\u001b[1;33m\u001b[0m\u001b[0m\n\u001b[0m",
      "\u001b[1;31mValueError\u001b[0m: list.remove(x): x not in list"
     ]
    }
   ],
   "source": [
    "a.remove(5)"
   ]
  },
  {
   "cell_type": "code",
   "execution_count": null,
   "metadata": {
    "id": "LgNHlKav6z07",
    "outputId": "d6c49e60-e95e-4a69-ce79-42e4f4fa2410"
   },
   "outputs": [
    {
     "name": "stdout",
     "output_type": "stream",
     "text": [
      "a = [2, 3, 4, 5, 6, 7, 8]\n",
      "After item = a.pop(3)\n",
      "   item = 5\n",
      "   a = [2, 3, 4, 6, 7, 8]\n",
      "After another item = a.pop(3)\n",
      "   item = 6\n",
      "   a = [2, 3, 4, 7, 8]\n",
      "After item = a.pop()\n",
      "   item = 8\n",
      "   a = [2, 3, 4, 7]\n"
     ]
    }
   ],
   "source": [
    "#Remove an item at a given index with list.pop(index)\n",
    "a = [ 2, 3, 4, 5, 6, 7, 8 ]\n",
    "print(\"a =\", a)\n",
    "\n",
    "item = a.pop(3)\n",
    "print(\"After item = a.pop(3)\")\n",
    "print(\"   item =\", item)\n",
    "print(\"   a =\", a)\n",
    "\n",
    "item = a.pop(3)\n",
    "print(\"After another item = a.pop(3)\")\n",
    "print(\"   item =\", item)\n",
    "print(\"   a =\", a)\n",
    "\n",
    "# Remove last item with list.pop()\n",
    "item = a.pop()\n",
    "print(\"After item = a.pop()\")\n",
    "print(\"   item =\", item)\n",
    "print(\"   a =\", a)"
   ]
  },
  {
   "cell_type": "code",
   "execution_count": null,
   "metadata": {
    "id": "e8nnci8t6z0_",
    "outputId": "6c2a04df-8501-4b5b-cfaa-3d82f5824d7f"
   },
   "outputs": [
    {
     "name": "stdout",
     "output_type": "stream",
     "text": [
      "a = [2, 3, 6, 7, 8]\n"
     ]
    }
   ],
   "source": [
    "#Remove an item with slice assignment\n",
    "a = [ 2, 3, 4, 5, 6, 7, 8 ]\n",
    "a[2:4] = [ ]\n",
    "print(\"a =\", a)"
   ]
  },
  {
   "cell_type": "code",
   "execution_count": null,
   "metadata": {
    "id": "Z0XYOMdT6z1G",
    "outputId": "6efee30e-286a-4dac-cd8f-d823d11fe937",
    "scrolled": true
   },
   "outputs": [
    {
     "name": "stdout",
     "output_type": "stream",
     "text": [
      "['brown', 'blond', 'red']\n",
      "brown\n",
      "black\n"
     ]
    }
   ],
   "source": [
    "hairs = ['brown', 'blond', 'red']\n",
    "eyes = ['brown', 'blue', 'green']\n",
    "weights = [1, 2, 3, 4]\n",
    "\n",
    "# lists can also be printed out, like other type of variables\n",
    "print(hairs)\n",
    "\n",
    "# access list element by index, starting from 0\n",
    "print(hairs[0])\n",
    "\n",
    "# add an element to the end of list\n",
    "hairs.append('black')\n",
    "\n",
    "# index -1 maps to the last element of the list\n",
    "print(hairs[-1])\n",
    "\n"
   ]
  },
  {
   "cell_type": "code",
   "execution_count": null,
   "metadata": {
    "id": "5X2yynlE6z1J",
    "outputId": "73459ac3-61ea-470b-db42-57361c2e0cc3"
   },
   "outputs": [
    {
     "name": "stdout",
     "output_type": "stream",
     "text": [
      "['brown', 'blond', 'red', 'black']\n"
     ]
    }
   ],
   "source": [
    "print(hairs)"
   ]
  },
  {
   "cell_type": "code",
   "execution_count": null,
   "metadata": {
    "id": "wnysdBMC6z1P",
    "outputId": "5d2f7bea-c0f1-4b4e-d149-8b7b078c9a03"
   },
   "outputs": [
    {
     "name": "stdout",
     "output_type": "stream",
     "text": [
      "['brown', 'blond', 'red', 'black', 'brown', 'blue', 'green']\n",
      "['brown', 'blue', 'green', 1, 2, 3, 4]\n"
     ]
    }
   ],
   "source": [
    "# the `+` operator does concatenation\n",
    "print(hairs + eyes)\n",
    "\n",
    "# a list can contain different type of values\n",
    "print(eyes + weights)\n",
    "\n"
   ]
  },
  {
   "cell_type": "code",
   "execution_count": null,
   "metadata": {
    "id": "2i39U-Gd6z1T",
    "outputId": "5cf218d6-e601-4dc3-8ee9-30f2d860182c"
   },
   "outputs": [
    {
     "name": "stdout",
     "output_type": "stream",
     "text": [
      "[['brown', 'blond', 'red', 'black'], ['brown', 'blue', 'green']]\n",
      "['brown', 'blue', 'green']\n",
      "green\n"
     ]
    }
   ],
   "source": [
    "# list can also contain lists, which forms a 2D list\n",
    "face = [hairs, eyes]\n",
    "\n",
    "print(face)\n",
    "print(face[1])\n",
    "print(face[1][2])"
   ]
  },
  {
   "cell_type": "code",
   "execution_count": null,
   "metadata": {
    "id": "q_DqMmhB6z1W",
    "outputId": "69dcfdc6-f768-4fac-a9e4-871e319e87d9",
    "scrolled": true
   },
   "outputs": [
    {
     "name": "stdout",
     "output_type": "stream",
     "text": [
      "a\n",
      "b\n",
      "c\n"
     ]
    }
   ],
   "source": [
    "for char in ['a', 'b', 'c']:\n",
    "    print(char)"
   ]
  },
  {
   "cell_type": "code",
   "execution_count": null,
   "metadata": {
    "id": "X5xA5aLF6z1a",
    "outputId": "c5af3c85-a1ff-4b66-f70e-eaf575201ea7"
   },
   "outputs": [
    {
     "name": "stdout",
     "output_type": "stream",
     "text": [
      "b\n",
      "a\n",
      "n\n",
      "a\n",
      "n\n",
      "a\n"
     ]
    }
   ],
   "source": [
    "for x in \"banana\":\n",
    "    print(x, end=\"\\n\")"
   ]
  },
  {
   "cell_type": "code",
   "execution_count": null,
   "metadata": {
    "id": "sCsCMC3J6z1e",
    "outputId": "9a0c9c03-abb4-4423-9430-1c439867387d",
    "scrolled": true
   },
   "outputs": [
    {
     "name": "stdout",
     "output_type": "stream",
     "text": [
      "0\n",
      "1\n",
      "2\n",
      "3\n"
     ]
    }
   ],
   "source": [
    "# print i for i = 0 to 3\n",
    "for i in [0,1,2,3]:\n",
    "    print(i)"
   ]
  },
  {
   "cell_type": "code",
   "execution_count": null,
   "metadata": {
    "id": "DyG-wxVa6z1m",
    "outputId": "e483652d-84c5-4737-a350-293d107883b7"
   },
   "outputs": [
    {
     "name": "stdout",
     "output_type": "stream",
     "text": [
      "0\n",
      "1\n",
      "2\n",
      "3\n",
      "4\n"
     ]
    }
   ],
   "source": [
    "# we can also use the built-in range() function to iteratively generate evenly-spaced numbers\n",
    "# range(m) generates 0, 1, ... , m-1\n",
    "for i in range(5):\n",
    "    print(i)"
   ]
  },
  {
   "cell_type": "code",
   "execution_count": null,
   "metadata": {
    "id": "XojC4wwF6z1o",
    "outputId": "68fcf477-d225-4fac-8c04-3514c4fd728f"
   },
   "outputs": [
    {
     "name": "stdout",
     "output_type": "stream",
     "text": [
      "2\n",
      "3\n",
      "4\n"
     ]
    }
   ],
   "source": [
    "# range(m,n) generates m, m+1, ... , n-1\n",
    "for i in range(2,5):\n",
    "    print(i)"
   ]
  },
  {
   "cell_type": "code",
   "execution_count": null,
   "metadata": {
    "id": "Az7FMpVB6z1r",
    "outputId": "a57dcdfe-4ab5-4183-c73f-65c6f6736962"
   },
   "outputs": [
    {
     "name": "stdout",
     "output_type": "stream",
     "text": [
      "15\n"
     ]
    }
   ],
   "source": [
    "# Compute the summation from 0 to 5\n",
    "a = 0\n",
    "for i in range(6):\n",
    "    a = a + i\n",
    "print(a)"
   ]
  },
  {
   "cell_type": "markdown",
   "metadata": {
    "id": "_Ar6lRK56z1u"
   },
   "source": [
    "### <span style=\"color:red\">Exercise1:</span> Use `for` loop to print 2<sup>n</sup> for n = 1 to 20\n"
   ]
  },
  {
   "cell_type": "code",
   "execution_count": null,
   "metadata": {
    "id": "1ySZCMQX6z1v"
   },
   "outputs": [],
   "source": [
    "# Exercise1"
   ]
  },
  {
   "cell_type": "markdown",
   "metadata": {
    "id": "tjYdCtn-6z1z"
   },
   "source": [
    "### Declare `lists` using `for` loop"
   ]
  },
  {
   "cell_type": "code",
   "execution_count": null,
   "metadata": {
    "id": "f9ftZuv-6z1z",
    "outputId": "fccd0d3f-b5aa-4819-8b80-601b8279c46e",
    "scrolled": true
   },
   "outputs": [
    {
     "name": "stdout",
     "output_type": "stream",
     "text": [
      "Adding 0 to the list.\n",
      "Adding 1 to the list.\n",
      "Adding 2 to the list.\n",
      "Adding 3 to the list.\n",
      "Adding 4 to the list.\n",
      "Adding 5 to the list.\n",
      "The list is: [0, 1, 2, 3, 4, 5]\n"
     ]
    }
   ],
   "source": [
    "a = []\n",
    "\n",
    "for i in range(6):\n",
    "    print(f\"Adding {i} to the list.\")\n",
    "    a.append(i)\n",
    "print(f\"The list is: {a}\")"
   ]
  },
  {
   "cell_type": "code",
   "execution_count": null,
   "metadata": {
    "id": "-lfc2-O96z14",
    "outputId": "bd97c2f4-8f6a-45b4-d56e-d74cf4ef1b08",
    "scrolled": true
   },
   "outputs": [
    {
     "name": "stdout",
     "output_type": "stream",
     "text": [
      "[0, 1, 2, 3, 4, 5]\n",
      "[27, 30, 33, 36, 39, 42, 45, 48]\n",
      "[5, 7, 9, 11, 13, 15, 17, 19, 21, 23]\n"
     ]
    }
   ],
   "source": [
    "# Single-line approaches\n",
    "a = [i for i in range(6)]\n",
    "print(a)\n",
    "\n",
    "b = [i for i in range(27,51) if i % 3 == 0]\n",
    "print(b)\n",
    "\n",
    "c = [2*i+5 for i in range(10)]\n",
    "print(c)"
   ]
  },
  {
   "cell_type": "markdown",
   "metadata": {
    "id": "Igg3YW6N6z1_"
   },
   "source": [
    "### Wrap `for` loop with a `function`"
   ]
  },
  {
   "cell_type": "code",
   "execution_count": null,
   "metadata": {
    "id": "MAcuml_66z2A",
    "outputId": "bbe6908b-a82a-4fbc-b1ac-ebf6e06bd60e"
   },
   "outputs": [
    {
     "name": "stdout",
     "output_type": "stream",
     "text": [
      "True\n"
     ]
    }
   ],
   "source": [
    "def sumFromMToN(m, n):\n",
    "    total = 0\n",
    "    # note that range(x, y) includes x but excludes y\n",
    "    for x in range(m, n+1):\n",
    "        total += x\n",
    "    return total\n",
    "\n",
    "print(sumFromMToN(5, 10) == 5+6+7+8+9+10)"
   ]
  },
  {
   "cell_type": "markdown",
   "metadata": {
    "id": "DeWQ6eMT6z2D"
   },
   "source": [
    "### Nested for loops"
   ]
  },
  {
   "cell_type": "code",
   "execution_count": null,
   "metadata": {
    "id": "6Fwglk1h6z2E",
    "outputId": "24df32ef-90d4-443c-9cdc-8fc2b45ae608"
   },
   "outputs": [
    {
     "name": "stdout",
     "output_type": "stream",
     "text": [
      "( 0 , 0 )  ( 0 , 1 )  ( 0 , 2 )  ( 0 , 3 )  ( 0 , 4 )  ( 0 , 5 )  \n",
      "( 1 , 0 )  ( 1 , 1 )  ( 1 , 2 )  ( 1 , 3 )  ( 1 , 4 )  ( 1 , 5 )  \n",
      "( 2 , 0 )  ( 2 , 1 )  ( 2 , 2 )  ( 2 , 3 )  ( 2 , 4 )  ( 2 , 5 )  \n",
      "( 3 , 0 )  ( 3 , 1 )  ( 3 , 2 )  ( 3 , 3 )  ( 3 , 4 )  ( 3 , 5 )  \n",
      "( 4 , 0 )  ( 4 , 1 )  ( 4 , 2 )  ( 4 , 3 )  ( 4 , 4 )  ( 4 , 5 )  \n"
     ]
    }
   ],
   "source": [
    "def printCoordinates(xMax, yMax):\n",
    "    for x in range(xMax+1):\n",
    "        for y in range(yMax+1):\n",
    "            print(\"(\", x, \",\", y, \")  \", end=\"\")\n",
    "        print()\n",
    "\n",
    "printCoordinates(4, 5)"
   ]
  },
  {
   "cell_type": "code",
   "execution_count": null,
   "metadata": {
    "id": "QTMxU1E_6z2I",
    "outputId": "869a3bf5-6917-4766-b15f-1b26f8a35748"
   },
   "outputs": [
    {
     "name": "stdout",
     "output_type": "stream",
     "text": [
      "*****\n",
      "*****\n",
      "*****\n",
      "*****\n",
      "*****\n"
     ]
    }
   ],
   "source": [
    "def printStarRectangle(n):\n",
    "    # print an nxn rectangle of asterisks\n",
    "    for row in range(n):\n",
    "        for col in range(n):\n",
    "            print(\"*\", end=\"\")\n",
    "        print()\n",
    "\n",
    "printStarRectangle(5)"
   ]
  },
  {
   "cell_type": "code",
   "execution_count": null,
   "metadata": {
    "id": "KO96Ebt36z2O",
    "outputId": "4995b0e0-16a5-47bc-d1a0-34fd0deab2a4"
   },
   "outputs": [
    {
     "name": "stdout",
     "output_type": "stream",
     "text": [
      "0 \n",
      "1 * \n",
      "2 * * \n",
      "3 * * * \n",
      "4 * * * * \n"
     ]
    }
   ],
   "source": [
    "def printMysteryStarShape(n):\n",
    "    for row in range(n):\n",
    "        print(row, end=\" \")\n",
    "        for col in range(row):\n",
    "            print(\"*\", end=\" \")\n",
    "        print()\n",
    "\n",
    "printMysteryStarShape(5)"
   ]
  },
  {
   "cell_type": "markdown",
   "metadata": {
    "id": "8FJoAIGa6z2U"
   },
   "source": [
    "### `break` and `continue` statements\n",
    "* With the `break` statement we can stop the loop before it has looped through all the items\n",
    "* With the `continue` statement we can stop the current iteration of the loop, and continue with the next"
   ]
  },
  {
   "cell_type": "code",
   "execution_count": null,
   "metadata": {
    "id": "K26Ms0T16z2U",
    "outputId": "dd5222f9-3f70-4120-fc24-d5d97a8415e5"
   },
   "outputs": [
    {
     "name": "stdout",
     "output_type": "stream",
     "text": [
      "apple\n",
      "banana\n"
     ]
    }
   ],
   "source": [
    "fruits = [\"apple\", \"banana\", \"cherry\"]\n",
    "for x in fruits:\n",
    "    print(x) \n",
    "    if x == \"banana\":\n",
    "        break"
   ]
  },
  {
   "cell_type": "code",
   "execution_count": null,
   "metadata": {
    "id": "2UWkQvEK6z2X",
    "outputId": "cda27ff5-650b-4d32-fafa-2f74929d6041"
   },
   "outputs": [
    {
     "name": "stdout",
     "output_type": "stream",
     "text": [
      "apple\n"
     ]
    }
   ],
   "source": [
    "# what's the difference?\n",
    "fruits = [\"apple\", \"banana\", \"cherry\"]\n",
    "for x in fruits:\n",
    "    if x == \"banana\":\n",
    "        break\n",
    "    print(x)"
   ]
  },
  {
   "cell_type": "code",
   "execution_count": null,
   "metadata": {
    "id": "1iL05xtJ6z2a",
    "outputId": "9bf11ead-9e1f-40c5-83b1-5c6520ee1620"
   },
   "outputs": [
    {
     "name": "stdout",
     "output_type": "stream",
     "text": [
      "apple\n",
      "cherry\n"
     ]
    }
   ],
   "source": [
    "fruits = [\"apple\", \"banana\", \"cherry\"]\n",
    "for x in fruits:\n",
    "    if x == \"banana\":\n",
    "        continue\n",
    "    print(x)"
   ]
  },
  {
   "cell_type": "code",
   "execution_count": null,
   "metadata": {
    "id": "xUMEQNIu6z2f",
    "outputId": "7ce6b6fb-3b15-4e0a-967d-f5ee6c05ea2b"
   },
   "outputs": [
    {
     "name": "stdout",
     "output_type": "stream",
     "text": [
      "1 2 4 5 7 \n"
     ]
    }
   ],
   "source": [
    "for n in range(200):\n",
    "    if (n % 3 == 0):\n",
    "        continue # skips rest of this pass (rarely a good idea to use \"continue\")\n",
    "    elif (n == 8):\n",
    "        break # skips rest of entire loop\n",
    "    print(n, end=\" \")\n",
    "print()"
   ]
  },
  {
   "cell_type": "markdown",
   "metadata": {
    "id": "KQQO20De6z2j"
   },
   "source": [
    "### <span style=\"color:red\">Exercise2:</span> Print all the integers from 0 to 30 except those divisible by 3 or 7\n"
   ]
  },
  {
   "cell_type": "code",
   "execution_count": null,
   "metadata": {
    "id": "BI3aNIRx6z2k"
   },
   "outputs": [],
   "source": [
    "# Exercise2"
   ]
  },
  {
   "cell_type": "markdown",
   "metadata": {
    "id": "uX2q5qQm6z2o"
   },
   "source": [
    "### <span style=\"color:red\">Exercise3:</span> Do the `√2 bisection task` for 10 times using `for` loop\n"
   ]
  },
  {
   "cell_type": "code",
   "execution_count": null,
   "metadata": {
    "id": "YgY7eCLS6z2p",
    "outputId": "8347ca4b-664a-439e-cfa5-ece631323e5b"
   },
   "outputs": [
    {
     "name": "stdout",
     "output_type": "stream",
     "text": [
      "1.0 < √2 < 2.0\n",
      "1.0 < √2 < 1.5\n",
      "1.25 < √2 < 1.5\n",
      "1.375 < √2 < 1.5\n",
      "1.375 < √2 < 1.4375\n",
      "1.40625 < √2 < 1.4375\n",
      "1.40625 < √2 < 1.421875\n",
      "1.4140625 < √2 < 1.421875\n",
      "1.4140625 < √2 < 1.41796875\n",
      "1.4140625 < √2 < 1.416015625\n"
     ]
    }
   ],
   "source": [
    "# Exercise3\n",
    "\n",
    "lower_bound = 0.0\n",
    "upper_bound = 2.0\n",
    "\n",
    "# start your for loop here"
   ]
  },
  {
   "cell_type": "markdown",
   "metadata": {
    "id": "Iv3YGZeL6z2s"
   },
   "source": [
    "#### With `for` loop, we can get an accurate result with more rounds of iteration.  \n",
    "#### However, we don't know how many rounds are needed so as to achieve certain accuracy\n",
    "#### To do so, we need to consider such  `terminal condition` at each round of iteration, which is what `while` loop does"
   ]
  },
  {
   "cell_type": "markdown",
   "metadata": {
    "id": "lnzhzYtK6z2s"
   },
   "source": [
    "### `while` Loop"
   ]
  },
  {
   "cell_type": "markdown",
   "metadata": {
    "id": "L6QYz1366z2s"
   },
   "source": [
    "#### A `while` loop has following structure:\n",
    "\n",
    "```\n",
    "while <condition>:\n",
    "    <indented block statements>\n",
    "```\n",
    "\n",
    "The statements will be repeated until condition becomes false"
   ]
  },
  {
   "cell_type": "code",
   "execution_count": null,
   "metadata": {
    "id": "mW8sKgiV6z2t",
    "outputId": "4791022b-9b7b-4067-8d82-ce844bae6a3d"
   },
   "outputs": [
    {
     "name": "stdout",
     "output_type": "stream",
     "text": [
      "Loop Started\n",
      "1\n",
      "2\n",
      "3\n",
      "4\n",
      "5\n",
      "Loop Finished\n"
     ]
    }
   ],
   "source": [
    "i = 1\n",
    "\n",
    "print('Loop Started')\n",
    "while i < 6:\n",
    "    print(i)\n",
    "    i += 1 # this is equivalent to `i = i + 1`\n",
    "print('Loop Finished')"
   ]
  },
  {
   "cell_type": "code",
   "execution_count": null,
   "metadata": {
    "id": "vqPiWi_76z2v",
    "outputId": "37ab9137-d4d2-4c00-9552-2dbabc31a293"
   },
   "outputs": [
    {
     "name": "stdout",
     "output_type": "stream",
     "text": [
      "(1/2)^7 = 0.0078125 <= 0.01\n"
     ]
    }
   ],
   "source": [
    "n = 0\n",
    "k = 1.0\n",
    "\n",
    "# find the minimum n such that (1/2)^n <= 0.01\n",
    "while k > 1e-2:\n",
    "    n += 1\n",
    "    k /= 2 # this is equivalent to `k = k / 2`\n",
    "print(f\"(1/2)^{n} = {k} <= 0.01\")"
   ]
  },
  {
   "cell_type": "markdown",
   "metadata": {
    "id": "40lEXZxR6z2y"
   },
   "source": [
    "### <span style=\"color:red\">Exercise4:</span> Use `while` loop to print all the values of 2<sup>n</sup> that are less than 10<sup>50</sup>\n"
   ]
  },
  {
   "cell_type": "code",
   "execution_count": null,
   "metadata": {
    "id": "RVlTEC026z2y",
    "outputId": "00e1b072-6eb7-4256-8606-3dd7262e9850"
   },
   "outputs": [
    {
     "name": "stdout",
     "output_type": "stream",
     "text": [
      "2^0 = 1\n",
      "2^1 = 2\n",
      "2^2 = 4\n",
      "2^3 = 8\n",
      "2^4 = 16\n",
      "2^5 = 32\n",
      "2^6 = 64\n",
      "2^7 = 128\n",
      "2^8 = 256\n",
      "2^9 = 512\n",
      "2^10 = 1024\n",
      "2^11 = 2048\n",
      "2^12 = 4096\n",
      "2^13 = 8192\n",
      "2^14 = 16384\n",
      "2^15 = 32768\n",
      "2^16 = 65536\n",
      "2^17 = 131072\n",
      "2^18 = 262144\n",
      "2^19 = 524288\n",
      "2^20 = 1048576\n",
      "2^21 = 2097152\n",
      "2^22 = 4194304\n",
      "2^23 = 8388608\n",
      "2^24 = 16777216\n",
      "2^25 = 33554432\n",
      "2^26 = 67108864\n",
      "2^27 = 134217728\n",
      "2^28 = 268435456\n",
      "2^29 = 536870912\n",
      "2^30 = 1073741824\n",
      "2^31 = 2147483648\n",
      "2^32 = 4294967296\n",
      "2^33 = 8589934592\n",
      "2^34 = 17179869184\n",
      "2^35 = 34359738368\n",
      "2^36 = 68719476736\n",
      "2^37 = 137438953472\n",
      "2^38 = 274877906944\n",
      "2^39 = 549755813888\n",
      "2^40 = 1099511627776\n",
      "2^41 = 2199023255552\n",
      "2^42 = 4398046511104\n",
      "2^43 = 8796093022208\n",
      "2^44 = 17592186044416\n",
      "2^45 = 35184372088832\n",
      "2^46 = 70368744177664\n",
      "2^47 = 140737488355328\n",
      "2^48 = 281474976710656\n",
      "2^49 = 562949953421312\n",
      "2^50 = 1125899906842624\n",
      "2^51 = 2251799813685248\n",
      "2^52 = 4503599627370496\n",
      "2^53 = 9007199254740992\n",
      "2^54 = 18014398509481984\n",
      "2^55 = 36028797018963968\n",
      "2^56 = 72057594037927936\n",
      "2^57 = 144115188075855872\n",
      "2^58 = 288230376151711744\n",
      "2^59 = 576460752303423488\n",
      "2^60 = 1152921504606846976\n",
      "2^61 = 2305843009213693952\n",
      "2^62 = 4611686018427387904\n",
      "2^63 = 9223372036854775808\n",
      "2^64 = 18446744073709551616\n",
      "2^65 = 36893488147419103232\n",
      "2^66 = 73786976294838206464\n",
      "2^67 = 147573952589676412928\n",
      "2^68 = 295147905179352825856\n",
      "2^69 = 590295810358705651712\n",
      "2^70 = 1180591620717411303424\n",
      "2^71 = 2361183241434822606848\n",
      "2^72 = 4722366482869645213696\n",
      "2^73 = 9444732965739290427392\n",
      "2^74 = 18889465931478580854784\n",
      "2^75 = 37778931862957161709568\n",
      "2^76 = 75557863725914323419136\n",
      "2^77 = 151115727451828646838272\n",
      "2^78 = 302231454903657293676544\n",
      "2^79 = 604462909807314587353088\n",
      "2^80 = 1208925819614629174706176\n",
      "2^81 = 2417851639229258349412352\n",
      "2^82 = 4835703278458516698824704\n",
      "2^83 = 9671406556917033397649408\n",
      "2^84 = 19342813113834066795298816\n",
      "2^85 = 38685626227668133590597632\n",
      "2^86 = 77371252455336267181195264\n",
      "2^87 = 154742504910672534362390528\n",
      "2^88 = 309485009821345068724781056\n",
      "2^89 = 618970019642690137449562112\n",
      "2^90 = 1237940039285380274899124224\n",
      "2^91 = 2475880078570760549798248448\n",
      "2^92 = 4951760157141521099596496896\n",
      "2^93 = 9903520314283042199192993792\n",
      "2^94 = 19807040628566084398385987584\n",
      "2^95 = 39614081257132168796771975168\n",
      "2^96 = 79228162514264337593543950336\n",
      "2^97 = 158456325028528675187087900672\n",
      "2^98 = 316912650057057350374175801344\n",
      "2^99 = 633825300114114700748351602688\n",
      "2^100 = 1267650600228229401496703205376\n",
      "2^101 = 2535301200456458802993406410752\n",
      "2^102 = 5070602400912917605986812821504\n",
      "2^103 = 10141204801825835211973625643008\n",
      "2^104 = 20282409603651670423947251286016\n",
      "2^105 = 40564819207303340847894502572032\n",
      "2^106 = 81129638414606681695789005144064\n",
      "2^107 = 162259276829213363391578010288128\n",
      "2^108 = 324518553658426726783156020576256\n",
      "2^109 = 649037107316853453566312041152512\n",
      "2^110 = 1298074214633706907132624082305024\n",
      "2^111 = 2596148429267413814265248164610048\n",
      "2^112 = 5192296858534827628530496329220096\n",
      "2^113 = 10384593717069655257060992658440192\n",
      "2^114 = 20769187434139310514121985316880384\n",
      "2^115 = 41538374868278621028243970633760768\n",
      "2^116 = 83076749736557242056487941267521536\n",
      "2^117 = 166153499473114484112975882535043072\n",
      "2^118 = 332306998946228968225951765070086144\n",
      "2^119 = 664613997892457936451903530140172288\n",
      "2^120 = 1329227995784915872903807060280344576\n",
      "2^121 = 2658455991569831745807614120560689152\n",
      "2^122 = 5316911983139663491615228241121378304\n",
      "2^123 = 10633823966279326983230456482242756608\n",
      "2^124 = 21267647932558653966460912964485513216\n",
      "2^125 = 42535295865117307932921825928971026432\n",
      "2^126 = 85070591730234615865843651857942052864\n",
      "2^127 = 170141183460469231731687303715884105728\n",
      "2^128 = 340282366920938463463374607431768211456\n",
      "2^129 = 680564733841876926926749214863536422912\n",
      "2^130 = 1361129467683753853853498429727072845824\n",
      "2^131 = 2722258935367507707706996859454145691648\n",
      "2^132 = 5444517870735015415413993718908291383296\n",
      "2^133 = 10889035741470030830827987437816582766592\n",
      "2^134 = 21778071482940061661655974875633165533184\n",
      "2^135 = 43556142965880123323311949751266331066368\n",
      "2^136 = 87112285931760246646623899502532662132736\n",
      "2^137 = 174224571863520493293247799005065324265472\n",
      "2^138 = 348449143727040986586495598010130648530944\n",
      "2^139 = 696898287454081973172991196020261297061888\n",
      "2^140 = 1393796574908163946345982392040522594123776\n",
      "2^141 = 2787593149816327892691964784081045188247552\n",
      "2^142 = 5575186299632655785383929568162090376495104\n",
      "2^143 = 11150372599265311570767859136324180752990208\n",
      "2^144 = 22300745198530623141535718272648361505980416\n",
      "2^145 = 44601490397061246283071436545296723011960832\n",
      "2^146 = 89202980794122492566142873090593446023921664\n",
      "2^147 = 178405961588244985132285746181186892047843328\n",
      "2^148 = 356811923176489970264571492362373784095686656\n",
      "2^149 = 713623846352979940529142984724747568191373312\n",
      "2^150 = 1427247692705959881058285969449495136382746624\n",
      "2^151 = 2854495385411919762116571938898990272765493248\n",
      "2^152 = 5708990770823839524233143877797980545530986496\n",
      "2^153 = 11417981541647679048466287755595961091061972992\n",
      "2^154 = 22835963083295358096932575511191922182123945984\n",
      "2^155 = 45671926166590716193865151022383844364247891968\n",
      "2^156 = 91343852333181432387730302044767688728495783936\n",
      "2^157 = 182687704666362864775460604089535377456991567872\n",
      "2^158 = 365375409332725729550921208179070754913983135744\n",
      "2^159 = 730750818665451459101842416358141509827966271488\n",
      "2^160 = 1461501637330902918203684832716283019655932542976\n",
      "2^161 = 2923003274661805836407369665432566039311865085952\n",
      "2^162 = 5846006549323611672814739330865132078623730171904\n",
      "2^163 = 11692013098647223345629478661730264157247460343808\n",
      "2^164 = 23384026197294446691258957323460528314494920687616\n",
      "2^165 = 46768052394588893382517914646921056628989841375232\n",
      "2^166 = 93536104789177786765035829293842113257979682750464\n"
     ]
    }
   ],
   "source": [
    "# Exercise4"
   ]
  },
  {
   "cell_type": "markdown",
   "metadata": {
    "id": "uMZLIraa6z20"
   },
   "source": [
    "### Wrap `while` loop with a `function`"
   ]
  },
  {
   "cell_type": "code",
   "execution_count": null,
   "metadata": {
    "id": "uB7YLJxP6z22",
    "outputId": "7a6a127b-26b5-4c77-88e9-fd31a779f82f"
   },
   "outputs": [
    {
     "name": "stdout",
     "output_type": "stream",
     "text": [
      "True\n"
     ]
    }
   ],
   "source": [
    "# use while loops when there is an indeterminate number of iterations\n",
    "\n",
    "def leftmostDigit(n):\n",
    "    n = abs(n)\n",
    "    while (n >= 10):\n",
    "        n = n//10\n",
    "    return n\n",
    "\n",
    "print(leftmostDigit(72658489290098) == 7)"
   ]
  },
  {
   "cell_type": "markdown",
   "metadata": {
    "id": "xOyJBwEn6z25"
   },
   "source": [
    "### `break` and `continue` statements\n",
    "* With the `break` statement we can stop the loop even if the while condition is true\n",
    "* With the `continue` statement we can stop the current iteration, and continue with the next"
   ]
  },
  {
   "cell_type": "code",
   "execution_count": null,
   "metadata": {
    "id": "eAPfe1eT6z26",
    "outputId": "a017df81-9632-4ecf-cb84-1464b6fd4094"
   },
   "outputs": [
    {
     "name": "stdout",
     "output_type": "stream",
     "text": [
      "1\n",
      "2\n",
      "3\n"
     ]
    }
   ],
   "source": [
    "i = 1\n",
    "while i < 6:\n",
    "    print(i)\n",
    "    if i == 3:\n",
    "        break\n",
    "    i += 1"
   ]
  },
  {
   "cell_type": "code",
   "execution_count": null,
   "metadata": {
    "id": "FvTxSsbP6z28",
    "outputId": "f2aeb54e-83fc-4fdc-897a-89e3cb792259",
    "scrolled": true
   },
   "outputs": [
    {
     "name": "stdout",
     "output_type": "stream",
     "text": [
      "2\n",
      "4\n",
      "5\n",
      "6\n"
     ]
    }
   ],
   "source": [
    "i = 1\n",
    "while i < 6:\n",
    "    i += 1 # what if put this to the end of the loop?\n",
    "    if i == 3:\n",
    "        continue\n",
    "    print(i)"
   ]
  },
  {
   "cell_type": "markdown",
   "metadata": {
    "id": "Ugn4z_OB6z3A"
   },
   "source": [
    "### <span style=\"color:red\">Exercise5:</span> Do the `√2 bisection task` until the estimation error less than 10<sup>-10</sup>\n"
   ]
  },
  {
   "cell_type": "code",
   "execution_count": null,
   "metadata": {
    "id": "mEsbqilA6z3A",
    "outputId": "2c0c1cf8-8bdc-44b3-ea34-a147a2b8cd1c",
    "scrolled": true
   },
   "outputs": [
    {
     "name": "stdout",
     "output_type": "stream",
     "text": [
      "1.0 < √2 < 2.0\n",
      "1.0 < √2 < 1.5\n",
      "1.25 < √2 < 1.5\n",
      "1.375 < √2 < 1.5\n",
      "1.375 < √2 < 1.4375\n",
      "1.40625 < √2 < 1.4375\n",
      "1.40625 < √2 < 1.421875\n",
      "1.4140625 < √2 < 1.421875\n",
      "1.4140625 < √2 < 1.41796875\n",
      "1.4140625 < √2 < 1.416015625\n",
      "1.4140625 < √2 < 1.4150390625\n",
      "1.4140625 < √2 < 1.41455078125\n",
      "1.4140625 < √2 < 1.414306640625\n",
      "1.4141845703125 < √2 < 1.414306640625\n",
      "1.4141845703125 < √2 < 1.41424560546875\n",
      "1.4141845703125 < √2 < 1.414215087890625\n",
      "1.4141998291015625 < √2 < 1.414215087890625\n",
      "1.4142074584960938 < √2 < 1.414215087890625\n",
      "1.4142112731933594 < √2 < 1.414215087890625\n",
      "1.4142131805419922 < √2 < 1.414215087890625\n",
      "1.4142131805419922 < √2 < 1.4142141342163086\n",
      "1.4142131805419922 < √2 < 1.4142136573791504\n",
      "1.4142134189605713 < √2 < 1.4142136573791504\n",
      "1.4142135381698608 < √2 < 1.4142136573791504\n",
      "1.4142135381698608 < √2 < 1.4142135977745056\n",
      "1.4142135381698608 < √2 < 1.4142135679721832\n",
      "1.414213553071022 < √2 < 1.4142135679721832\n",
      "1.4142135605216026 < √2 < 1.4142135679721832\n",
      "1.4142135605216026 < √2 < 1.414213564246893\n",
      "1.4142135605216026 < √2 < 1.4142135623842478\n",
      "1.4142135614529252 < √2 < 1.4142135623842478\n",
      "1.4142135619185865 < √2 < 1.4142135623842478\n",
      "1.4142135621514171 < √2 < 1.4142135623842478\n",
      "1.4142135622678325 < √2 < 1.4142135623842478\n",
      "1.4142135623260401 < √2 < 1.4142135623842478\n"
     ]
    }
   ],
   "source": [
    "# Exercise5\n",
    "\n",
    "lower_bound = 0.0\n",
    "upper_bound = 2.0\n",
    "\n",
    "# start your while loop here"
   ]
  },
  {
   "cell_type": "markdown",
   "metadata": {
    "id": "H9GkORDM6z3C"
   },
   "source": [
    "### Infinite \"while\" loop with break:"
   ]
  },
  {
   "cell_type": "code",
   "execution_count": null,
   "metadata": {
    "id": "SiSZlYVW6z3D",
    "outputId": "2eb8b3c2-6216-4702-b0d0-95bb1821eb00"
   },
   "outputs": [
    {
     "name": "stdout",
     "output_type": "stream",
     "text": [
      "Enter a string (or 'done' to quit): a\n",
      "  You entered:  a\n",
      "Enter a string (or 'done' to quit): b\n",
      "  You entered:  b\n",
      "Enter a string (or 'done' to quit): done\n",
      "Bye!\n",
      "You entered 2 lines (not counting 'done').\n"
     ]
    }
   ],
   "source": [
    "def readUntilDone():\n",
    "    linesEntered = 0\n",
    "    while (True):\n",
    "        response = input(\"Enter a string (or 'done' to quit): \")\n",
    "        if (response == \"done\"):\n",
    "            break\n",
    "        print(\"  You entered: \", response)\n",
    "        linesEntered += 1\n",
    "    print(\"Bye!\")\n",
    "    return linesEntered\n",
    "\n",
    "linesEntered = readUntilDone()\n",
    "print(\"You entered\", linesEntered, \"lines (not counting 'done').\")"
   ]
  },
  {
   "cell_type": "code",
   "execution_count": null,
   "metadata": {
    "id": "l0s-sZff6z3E"
   },
   "outputs": [],
   "source": [
    "# Note: there are faster/better ways.  We're just going for clarity and simplicity here.\n",
    "def isPrime(n):\n",
    "    if (n < 2):\n",
    "        return False\n",
    "    for factor in range(2,n):\n",
    "        if (n % factor == 0):\n",
    "            return False\n",
    "    return True\n",
    "\n",
    "# And take it for a spin\n",
    "for n in range(100):\n",
    "    if isPrime(n):\n",
    "        print(n, end=\" \")\n",
    "print()"
   ]
  },
  {
   "cell_type": "code",
   "execution_count": null,
   "metadata": {
    "id": "E6W6JYn36z3I"
   },
   "outputs": [],
   "source": [
    "#Note: this is still not the fastest way, but it's a nice improvement.\n",
    "def fasterIsPrime(n):\n",
    "    if (n < 2):\n",
    "        return False\n",
    "    if (n == 2):\n",
    "        return True\n",
    "    if (n % 2 == 0):\n",
    "        return False\n",
    "    maxFactor = round(n**0.5)\n",
    "    for factor in range(3,maxFactor+1,2):\n",
    "        if (n % factor == 0):\n",
    "            return False\n",
    "    return True\n",
    "\n",
    "# And try out this version:\n",
    "for n in range(100):\n",
    "    if fasterIsPrime(n):\n",
    "        print(n, end=\" \")\n",
    "print()"
   ]
  },
  {
   "cell_type": "code",
   "execution_count": null,
   "metadata": {
    "id": "n01mWY_i6z3N",
    "outputId": "3ba39d52-55d2-45af-c7df-cb14a03d7288"
   },
   "outputs": [
    {
     "name": "stdout",
     "output_type": "stream",
     "text": [
      "They seem to work the same!\n",
      "Timing isPrime( 499 ) , returns  True , time =  0.0 ms\n",
      "Timing fasterIsPrime( 499 ) , returns  True , time =  0.0 ms\n"
     ]
    }
   ],
   "source": [
    "def isPrime(n):\n",
    "    if (n < 2):\n",
    "        return False\n",
    "    for factor in range(2,n):\n",
    "        if (n % factor == 0):\n",
    "            return False\n",
    "    return True\n",
    "\n",
    "def fasterIsPrime(n):\n",
    "    if (n < 2):\n",
    "        return False\n",
    "    if (n == 2):\n",
    "        return True\n",
    "    if (n % 2 == 0):\n",
    "        return False\n",
    "    maxFactor = round(n**0.5)\n",
    "    for factor in range(3,maxFactor+1,2):\n",
    "        if (n % factor == 0):\n",
    "            return False\n",
    "    return True\n",
    "\n",
    "# Verify these are the same\n",
    "for n in range(100):\n",
    "    assert(isPrime(n) == fasterIsPrime(n))\n",
    "print(\"They seem to work the same!\")\n",
    "\n",
    "# Now let's see if we really sped things up\n",
    "import time\n",
    "bigPrime = 499 # Try 1010809, or 10101023, or 102030407\n",
    "print(\"Timing isPrime(\",bigPrime,\")\", end=\" \")\n",
    "time0 = time.time()\n",
    "print(\", returns \", isPrime(bigPrime), end=\" \")\n",
    "time1 = time.time()\n",
    "print(\", time = \",(time1-time0)*1000,\"ms\")\n",
    "\n",
    "print(\"Timing fasterIsPrime(\",bigPrime,\")\", end=\" \")\n",
    "time0 = time.time()\n",
    "print(\", returns \", fasterIsPrime(bigPrime), end=\" \")\n",
    "time1 = time.time()\n",
    "print(\", time = \",(time1-time0)*1000,\"ms\")"
   ]
  },
  {
   "cell_type": "code",
   "execution_count": null,
   "metadata": {
    "id": "UifBPgiz6z3P"
   },
   "outputs": [],
   "source": []
  }
 ],
 "metadata": {
  "colab": {
   "name": "W03L02_loops_and_lists.ipynb",
   "provenance": []
  },
  "kernelspec": {
   "display_name": "Python 3",
   "language": "python",
   "name": "python3"
  },
  "language_info": {
   "codemirror_mode": {
    "name": "ipython",
    "version": 3
   },
   "file_extension": ".py",
   "mimetype": "text/x-python",
   "name": "python",
   "nbconvert_exporter": "python",
   "pygments_lexer": "ipython3",
   "version": "3.7.4"
  }
 },
 "nbformat": 4,
 "nbformat_minor": 1
}
