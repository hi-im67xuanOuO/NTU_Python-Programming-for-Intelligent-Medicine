{
 "cells": [
  {
   "cell_type": "markdown",
   "metadata": {},
   "source": [
    "<div style=\"text-align:center;color:#888888;\"><h2> IMP 5001 - Introduction to Medical Informatics </h2></div>\n",
    "<div style=\"text-align:center;\"><h1> Variables, Expressions and Statements </h1></div>\n",
    "\n",
    "<div style=\"color:#999999;text-align:right;\">Ref: <a href=\"https://greenteapress.com/wp/think-python/\">Think Python</a> &ensp; <a href=\"https://learnpythonthehardway.org\">Learn Python the Hard Way</a></div>"
   ]
  },
  {
   "cell_type": "markdown",
   "metadata": {},
   "source": [
    "<div style=\"color:blue\">In programming, a <i>variable</i> refers to a value. This allows a program to <i>store</i> and <i>recall</i> information.</div>"
   ]
  },
  {
   "cell_type": "markdown",
   "metadata": {},
   "source": [
    "### The *print()* function"
   ]
  },
  {
   "cell_type": "markdown",
   "metadata": {},
   "source": [
    "In python, we show values on the display with the ***print()*** function"
   ]
  },
  {
   "cell_type": "code",
   "execution_count": 1,
   "metadata": {
    "scrolled": false
   },
   "outputs": [
    {
     "name": "stdout",
     "output_type": "stream",
     "text": [
      "Hello World!\n",
      "Hello Again\n",
      "One More Hello\n",
      "Two More Hello\n",
      "Say \"Hello\"\n",
      "No More 'Hello'\n"
     ]
    }
   ],
   "source": [
    "# Put what we want to show as an argument in the `()`\n",
    "print('Hello World!')\n",
    "\n",
    "# Another `print()` will show on a new line\n",
    "print('Hello Again')\n",
    "\n",
    "# We can also use double quotes to wrap string (i.e., ' or \")\n",
    "print(\"One More Hello\")\n",
    "\n",
    "# We can pass multiple arguments into print() function.\n",
    "# They will be printed in order with a space between each 2 neighbors\n",
    "print(\"Two\", 'More', \"Hello\")\n",
    "\n",
    "# To print double quotes, wrap it with single quotes, and vice versa\n",
    "print('Say \"Hello\"')\n",
    "print(\"No More 'Hello'\")"
   ]
  },
  {
   "cell_type": "code",
   "execution_count": 2,
   "metadata": {},
   "outputs": [
    {
     "name": "stdout",
     "output_type": "stream",
     "text": [
      "Hello World!\n"
     ]
    }
   ],
   "source": [
    "# Print on same line\n",
    "print(\"Hello \", end=\"\")\n",
    "print(\"World!\")"
   ]
  },
  {
   "cell_type": "code",
   "execution_count": 3,
   "metadata": {},
   "outputs": [
    {
     "name": "stdout",
     "output_type": "stream",
     "text": [
      "Hello World!\n"
     ]
    }
   ],
   "source": [
    "# Function call to print string\n",
    "def helloWorld():\n",
    "    print(\"Hello World!\")\n",
    "\n",
    "helloWorld()"
   ]
  },
  {
   "cell_type": "markdown",
   "metadata": {},
   "source": [
    "### <span style=\"color:red\">Exercise1:</span> Print your name and student ID as below:\n",
    "My name is Din-Din  \n",
    "My studnet ID is \"B07901000\""
   ]
  },
  {
   "cell_type": "code",
   "execution_count": 4,
   "metadata": {
    "scrolled": true
   },
   "outputs": [],
   "source": [
    "# Exercise1\n"
   ]
  },
  {
   "cell_type": "markdown",
   "metadata": {},
   "source": [
    "### Comments"
   ]
  },
  {
   "cell_type": "markdown",
   "metadata": {},
   "source": [
    "Anything between the # symbol and the end of line is comment.\n",
    "* Python interpreter ignores comments.\n",
    "* Properly comment your code makes it more readable and ease future maintenance."
   ]
  },
  {
   "cell_type": "code",
   "execution_count": 5,
   "metadata": {},
   "outputs": [
    {
     "name": "stdout",
     "output_type": "stream",
     "text": [
      "I could have code like this.\n",
      "This will run.\n"
     ]
    }
   ],
   "source": [
    "# A comment, this is so you can read your program later.\n",
    "# Anything after the # is ignored by python interpreter.\n",
    "\n",
    "print(\"I could have code like this.\") # and the comment after is ignored\n",
    "\n",
    "# You can also use a comment to \"disable\" code:\n",
    "# When you need this line of code in the future, just \"uncomment\" it by removing the leading `#`\n",
    "# print(\"This won't run.\")\n",
    "\n",
    "print(\"This will run.\")\n",
    "\n",
    "# Block comment\n",
    "\n",
    "# db   db d88888b db      db       .d88b.       db   d8b   db  .d88b.  d8888b. db      d8888b. \n",
    "# 88   88 88      88      88      .8P  Y8.      88   I8I   88 .8P  Y8. 88  `8D 88      88  `8D \n",
    "# 88ooo88 88ooooo 88      88      88    88      88   I8I   88 88    88 88oobY  88      88   88 \n",
    "# 88~~~88 88~~~~~ 88      88      88    88      Y8   I8I   88 88    88 88`8b   88      88   88 \n",
    "# 88   88 88.     88booo. 88booo. `8b  d8       `8b d8 8b d8  `8b  d8  88 `88. 88booo. 88  .8D \n",
    "# YP   YP Y88888P Y88888P Y88888P  `Y88P         `8b8  `8d8    `Y88P   88   YD Y88888P Y8888D "
   ]
  },
  {
   "cell_type": "markdown",
   "metadata": {},
   "source": [
    "## Variables"
   ]
  },
  {
   "cell_type": "markdown",
   "metadata": {},
   "source": [
    "A ***variable*** holds a value. You can change the value of a variable at any point of your program by an ***Assignment statement***."
   ]
  },
  {
   "cell_type": "markdown",
   "metadata": {},
   "source": [
    "### Assignment Statements"
   ]
  },
  {
   "cell_type": "markdown",
   "metadata": {},
   "source": [
    "An ***assignment statement*** gives a variable a value. If this is the first appearance of the variable, it is created. Otherwise, it is modified."
   ]
  },
  {
   "cell_type": "code",
   "execution_count": 6,
   "metadata": {},
   "outputs": [],
   "source": [
    "# First appearance of `message`. This creates a variable named `message` and assigns the value 'hello' to it.\n",
    "message = 'hello'"
   ]
  },
  {
   "cell_type": "code",
   "execution_count": 7,
   "metadata": {},
   "outputs": [
    {
     "name": "stdout",
     "output_type": "stream",
     "text": [
      "hello\n"
     ]
    }
   ],
   "source": [
    "# The manipulation applied to a variable(`message`) is actually applied to its value('hello').\n",
    "print(message)"
   ]
  },
  {
   "cell_type": "code",
   "execution_count": 8,
   "metadata": {},
   "outputs": [
    {
     "name": "stdout",
     "output_type": "stream",
     "text": [
      "n is 17 , and pi is 3.14159\n"
     ]
    }
   ],
   "source": [
    "# more assignments\n",
    "n = 17\n",
    "pi = 3.14159\n",
    "\n",
    "# Print variables along with some descriptions\n",
    "print('n is', n, ', and pi is', pi)\n",
    "\n"
   ]
  },
  {
   "cell_type": "code",
   "execution_count": 9,
   "metadata": {},
   "outputs": [
    {
     "name": "stdout",
     "output_type": "stream",
     "text": [
      "n is 17 , and pi is 3.14159\n",
      "n is 17 , and pi is 3.14159\n"
     ]
    }
   ],
   "source": [
    "# This also works (We called it an `f-string`)\n",
    "# Note the `f` before the string\n",
    "\n",
    "print(f'n is {n} , and pi is {pi}')\n",
    "\n",
    "# This is equivalent to the f-string expression above\n",
    "print('n is {} , and pi is {}'.format(n, pi))"
   ]
  },
  {
   "cell_type": "code",
   "execution_count": 10,
   "metadata": {},
   "outputs": [
    {
     "name": "stdout",
     "output_type": "stream",
     "text": [
      "He said his name is Fred and he is 42 years old.\n"
     ]
    }
   ],
   "source": [
    "name = 'Fred'\n",
    "age = 42\n",
    "print('He said his name is {name} and he is {age} years old.'.format(name=name, age=age))"
   ]
  },
  {
   "cell_type": "code",
   "execution_count": 11,
   "metadata": {},
   "outputs": [
    {
     "name": "stdout",
     "output_type": "stream",
     "text": [
      "He said his name is Fred and he is 42 years old.\n"
     ]
    }
   ],
   "source": [
    "print('He said his name is {} and he is {} years old.'.format(name, age))"
   ]
  },
  {
   "cell_type": "code",
   "execution_count": 12,
   "metadata": {},
   "outputs": [
    {
     "data": {
      "text/plain": [
       "'He said his name is Fred and he is 42 years old.'"
      ]
     },
     "execution_count": 12,
     "metadata": {},
     "output_type": "execute_result"
    }
   ],
   "source": [
    "f'He said his name is {name} and he is {age} years old.'"
   ]
  },
  {
   "cell_type": "code",
   "execution_count": 13,
   "metadata": {},
   "outputs": [
    {
     "name": "stdout",
     "output_type": "stream",
     "text": [
      "He said his name is FRED     \n",
      "and he is 42 years old.\n"
     ]
    }
   ],
   "source": [
    "name = 'fred'\n",
    "seven = 7\n",
    "print(f'''He said his name is {name.upper()}     \n",
    "and he is {6 * seven} years old.''')"
   ]
  },
  {
   "cell_type": "markdown",
   "metadata": {},
   "source": [
    "### <span style=\"color:red\">Exercise2:</span> Define your weight and height as variables, then print it out as below:\n",
    "I'm 175 meters tall, and 65.3 kgs heavy"
   ]
  },
  {
   "cell_type": "code",
   "execution_count": 14,
   "metadata": {
    "scrolled": true
   },
   "outputs": [],
   "source": [
    "# Exercise2\n"
   ]
  },
  {
   "cell_type": "markdown",
   "metadata": {},
   "source": [
    "### Variable names\n",
    "Naming rules:\n",
    "* Unlimited in length.\n",
    "* Case is significant.\n",
    "* The valid characters include A-Z,a-z,_, except for the first character, the digits 0 through 9.\n",
    "* Cannot be ***reserved words*** (or ***keywords***) -- the interpreter uses keywords to recognize the program structure.\n",
    "\n",
    "| <!-- --> | <!-- --> | <!-- --> | <!-- --> | <!-- --> | <!-- --> | \n",
    "| --- | --- | --- | --- | --- | --- |\n",
    "| False | class | finally | is | return |\n",
    "| None | continue | for | lambda | try |\n",
    "| True       |def        |from       |nonlocal   |while|\n",
    "| and        |del        |global     |not        |with|\n",
    "| as         |elif       |if         |or         |yield|\n",
    "| assert     |else       |import     |pass\n",
    "| break      |except     |in         |raise\n",
    "\n",
    "\n",
    "Most editors highlight keywords (usually by displaying them in <span style=\"color:DeepPink;\">different</span> colors)."
   ]
  },
  {
   "cell_type": "code",
   "execution_count": 15,
   "metadata": {
    "scrolled": true
   },
   "outputs": [
    {
     "ename": "SyntaxError",
     "evalue": "invalid syntax (<ipython-input-15-2ba47c2f4242>, line 2)",
     "output_type": "error",
     "traceback": [
      "\u001b[1;36m  File \u001b[1;32m\"<ipython-input-15-2ba47c2f4242>\"\u001b[1;36m, line \u001b[1;32m2\u001b[0m\n\u001b[1;33m    2Good2BeTrue = 'yes'\u001b[0m\n\u001b[1;37m               ^\u001b[0m\n\u001b[1;31mSyntaxError\u001b[0m\u001b[1;31m:\u001b[0m invalid syntax\n"
     ]
    }
   ],
   "source": [
    "# What happens if you use illegal variable names?\n",
    "2Good2BeTrue = 'yes'"
   ]
  },
  {
   "cell_type": "markdown",
   "metadata": {},
   "source": [
    "### Type of Variables\n",
    "Each python variable belongs to a ***data type***, which defines what operations can be performed on this variable"
   ]
  },
  {
   "cell_type": "code",
   "execution_count": 16,
   "metadata": {},
   "outputs": [
    {
     "name": "stdout",
     "output_type": "stream",
     "text": [
      "<class 'str'>\n",
      "<class 'int'>\n",
      "<class 'float'>\n"
     ]
    }
   ],
   "source": [
    "print(type(message))\n",
    "print(type(n))\n",
    "print(type(pi))"
   ]
  },
  {
   "cell_type": "markdown",
   "metadata": {},
   "source": [
    "### Python Built-In Types  \n",
    "We will go through some of these types in detail later"
   ]
  },
  {
   "cell_type": "code",
   "execution_count": 17,
   "metadata": {
    "scrolled": false
   },
   "outputs": [
    {
     "name": "stdout",
     "output_type": "stream",
     "text": [
      "<class 'bool'>\n",
      "<class 'int'>\n",
      "<class 'float'>\n",
      "<class 'complex'>\n",
      "<class 'str'>\n",
      "<class 'list'>\n",
      "<class 'tuple'>\n",
      "<class 'dict'>\n",
      "<class 'range'>\n",
      "<class 'Exception'>\n"
     ]
    }
   ],
   "source": [
    "print(type( True ))\n",
    "print(type( 3 ))\n",
    "print(type( 3.0 ))\n",
    "print(type( 2+3j ))\n",
    "print(type( '3' ))\n",
    "print(type( [3,4,5] ))\n",
    "print(type( (3,4,5) ))\n",
    "print(type( {'3':3} ))\n",
    "print(type(range(5)))\n",
    "print(type(Exception()))"
   ]
  },
  {
   "cell_type": "markdown",
   "metadata": {},
   "source": [
    "### Implicit Type Conversion\n",
    "Sometimes python automatically converts one data type to another in order to **avoid data loss**. This process doesn't need any user involvement."
   ]
  },
  {
   "cell_type": "code",
   "execution_count": 18,
   "metadata": {
    "scrolled": true
   },
   "outputs": [
    {
     "name": "stdout",
     "output_type": "stream",
     "text": [
      "Data type of a: <class 'int'>\n",
      "Data type of b: <class 'float'>\n",
      "Value of c: 124.23\n",
      "Data type of c: <class 'float'>\n"
     ]
    }
   ],
   "source": [
    "a = 123\n",
    "b = 1.23\n",
    "\n",
    "c = a + b\n",
    "\n",
    "print(\"Data type of a:\", type(a))\n",
    "print(\"Data type of b:\", type(b))\n",
    "\n",
    "print(\"Value of c:\", c)\n",
    "print(\"Data type of c:\", type(c))"
   ]
  },
  {
   "cell_type": "code",
   "execution_count": 19,
   "metadata": {
    "scrolled": false
   },
   "outputs": [
    {
     "name": "stdout",
     "output_type": "stream",
     "text": [
      "Data type of a: <class 'int'>\n",
      "Data type of b: <class 'int'>\n",
      "Value of c: 0.26973684210526316\n",
      "Data type of c: <class 'float'>\n"
     ]
    }
   ],
   "source": [
    "a = 123\n",
    "b = 456\n",
    "\n",
    "c = a / b\n",
    "\n",
    "print(\"Data type of a:\", type(a))\n",
    "print(\"Data type of b:\", type(b))\n",
    "\n",
    "# Note that Python2 will not do this conversion\n",
    "print(\"Value of c:\", c)\n",
    "print(\"Data type of c:\", type(c))"
   ]
  },
  {
   "cell_type": "markdown",
   "metadata": {},
   "source": [
    "### Explicit Type Conversion\n",
    "Explicit conversion, also known as ***type casting***, is when data type conversion takes place because **you clearly defined it** in your program. You basically force an expression to be of a specific type. The general form of an explicit data type conversion is as follows:\n",
    "\n",
    "    (required_data_type)(expression)"
   ]
  },
  {
   "cell_type": "code",
   "execution_count": 20,
   "metadata": {
    "scrolled": true
   },
   "outputs": [
    {
     "name": "stdout",
     "output_type": "stream",
     "text": [
      "Data type of a: <class 'int'>\n",
      "Data type of b: <class 'int'>\n",
      "5\n",
      "Data type of a + b: <class 'int'>\n"
     ]
    }
   ],
   "source": [
    "a = 3\n",
    "b = 2\n",
    "\n",
    "print(\"Data type of a:\", type(a))\n",
    "print(\"Data type of b:\", type(b))\n",
    "print(a+b)\n",
    "print(\"Data type of a + b:\", type(a + b))\n",
    "\n"
   ]
  },
  {
   "cell_type": "code",
   "execution_count": 21,
   "metadata": {},
   "outputs": [
    {
     "name": "stdout",
     "output_type": "stream",
     "text": [
      "Value of c: 5.0\n",
      "Data type of c: <class 'float'>\n"
     ]
    }
   ],
   "source": [
    "c = float(a + b)\n",
    "print(\"Value of c:\", c)\n",
    "print(\"Data type of c:\", type(c))"
   ]
  },
  {
   "cell_type": "code",
   "execution_count": 22,
   "metadata": {
    "scrolled": false
   },
   "outputs": [
    {
     "name": "stdout",
     "output_type": "stream",
     "text": [
      "Data type of a: <class 'float'>\n",
      "Data type of b: <class 'float'>\n",
      "Data type of a + b: <class 'float'>\n",
      "5.3\n"
     ]
    }
   ],
   "source": [
    "a = 3.3\n",
    "b = 2.0\n",
    "\n",
    "\n",
    "\n",
    "print(\"Data type of a:\", type(a))\n",
    "print(\"Data type of b:\", type(b))\n",
    "print(\"Data type of a + b:\", type(a + b))\n",
    "print(a+b)\n",
    "\n"
   ]
  },
  {
   "cell_type": "code",
   "execution_count": 23,
   "metadata": {},
   "outputs": [
    {
     "name": "stdout",
     "output_type": "stream",
     "text": [
      "Value of c: 5\n",
      "Data type of c: <class 'int'>\n"
     ]
    }
   ],
   "source": [
    "c = int(a + b)\n",
    "print(\"Value of c:\", c)\n",
    "print(\"Data type of c:\", type(c))"
   ]
  },
  {
   "cell_type": "markdown",
   "metadata": {},
   "source": [
    "#### Explicit Type Conversion with Strings"
   ]
  },
  {
   "cell_type": "code",
   "execution_count": 24,
   "metadata": {
    "scrolled": false
   },
   "outputs": [
    {
     "ename": "TypeError",
     "evalue": "can only concatenate str (not \"int\") to str",
     "output_type": "error",
     "traceback": [
      "\u001b[1;31m---------------------------------------------------------------------------\u001b[0m",
      "\u001b[1;31mTypeError\u001b[0m                                 Traceback (most recent call last)",
      "\u001b[1;32m<ipython-input-24-e17cedad38b8>\u001b[0m in \u001b[0;36m<module>\u001b[1;34m\u001b[0m\n\u001b[0;32m      3\u001b[0m \u001b[1;33m\u001b[0m\u001b[0m\n\u001b[0;32m      4\u001b[0m \u001b[0mtotal\u001b[0m \u001b[1;33m=\u001b[0m \u001b[0mprice_cake\u001b[0m \u001b[1;33m+\u001b[0m \u001b[0mprice_cookie\u001b[0m\u001b[1;33m\u001b[0m\u001b[0m\n\u001b[1;32m----> 5\u001b[1;33m \u001b[0mprint\u001b[0m\u001b[1;33m(\u001b[0m\u001b[1;34m\"The total is: \"\u001b[0m \u001b[1;33m+\u001b[0m \u001b[0mtotal\u001b[0m  \u001b[1;33m+\u001b[0m \u001b[1;34m\"$\"\u001b[0m\u001b[1;33m)\u001b[0m\u001b[1;33m\u001b[0m\u001b[0m\n\u001b[0m",
      "\u001b[1;31mTypeError\u001b[0m: can only concatenate str (not \"int\") to str"
     ]
    }
   ],
   "source": [
    "price_cake = 15\n",
    "price_cookie = 6\n",
    "\n",
    "total = price_cake + price_cookie\n",
    "print(\"The total is: \" + total  + \"$\")"
   ]
  },
  {
   "cell_type": "markdown",
   "metadata": {},
   "source": [
    "You need to explicitly convert `total` to `str` type in order to do concatenation"
   ]
  },
  {
   "cell_type": "code",
   "execution_count": 25,
   "metadata": {
    "scrolled": false
   },
   "outputs": [
    {
     "name": "stdout",
     "output_type": "stream",
     "text": [
      "The total is: 21$\n"
     ]
    }
   ],
   "source": [
    "price_cake = 15\n",
    "price_cookie = 6\n",
    "\n",
    "total = str(price_cake + price_cookie)\n",
    "print(\"The total is: \" + total  + \"$\")"
   ]
  },
  {
   "cell_type": "markdown",
   "metadata": {},
   "source": [
    "Convert `str` to `int`; Do math; Then convert it back."
   ]
  },
  {
   "cell_type": "code",
   "execution_count": 26,
   "metadata": {
    "scrolled": true
   },
   "outputs": [
    {
     "name": "stdout",
     "output_type": "stream",
     "text": [
      "The total is: 156$\n",
      "The total is: 21$\n"
     ]
    }
   ],
   "source": [
    "price_cake = '15'\n",
    "price_cookie = '6'\n",
    "\n",
    "# This is a string concatenation rather than an addition\n",
    "total = price_cake + price_cookie \n",
    "print(\"The total is: \" + total + \"$\")\n",
    "\n",
    "# Explicit type conversion to integer\n",
    "total = int(price_cake) + int(price_cookie) \n",
    "print(\"The total is: \" + str(total)  + \"$\")"
   ]
  },
  {
   "cell_type": "markdown",
   "metadata": {},
   "source": [
    "### Expressions and Statements"
   ]
  },
  {
   "cell_type": "markdown",
   "metadata": {},
   "source": [
    "An ***expression*** is a combination of values, variables, and operators.\n",
    "* A value all by itself is an expression.\n",
    "* A variable all by itself is an expression."
   ]
  },
  {
   "cell_type": "code",
   "execution_count": 28,
   "metadata": {},
   "outputs": [
    {
     "data": {
      "text/plain": [
       "42"
      ]
     },
     "execution_count": 28,
     "metadata": {},
     "output_type": "execute_result"
    }
   ],
   "source": [
    "# Examples of expressions\n",
    "# Note that we have created the variable n in earlier code.\n",
    "42"
   ]
  },
  {
   "cell_type": "code",
   "execution_count": 29,
   "metadata": {},
   "outputs": [
    {
     "data": {
      "text/plain": [
       "17"
      ]
     },
     "execution_count": 29,
     "metadata": {},
     "output_type": "execute_result"
    }
   ],
   "source": [
    "n"
   ]
  },
  {
   "cell_type": "code",
   "execution_count": 30,
   "metadata": {},
   "outputs": [
    {
     "data": {
      "text/plain": [
       "42"
      ]
     },
     "execution_count": 30,
     "metadata": {},
     "output_type": "execute_result"
    }
   ],
   "source": [
    "n + 25"
   ]
  },
  {
   "cell_type": "markdown",
   "metadata": {},
   "source": [
    "***Evaluation*** is the process (by Python interpreter) of ***finding the result of an expression***."
   ]
  },
  {
   "cell_type": "markdown",
   "metadata": {},
   "source": [
    "A ***statement*** is a unit of code that ***has an effect***, like creating a variable or displaying a value."
   ]
  },
  {
   "cell_type": "code",
   "execution_count": 31,
   "metadata": {
    "scrolled": true
   },
   "outputs": [
    {
     "name": "stdout",
     "output_type": "stream",
     "text": [
      "17\n"
     ]
    }
   ],
   "source": [
    "# Examples of statements\n",
    "\n",
    "# `n` is an expression\n",
    "# `17` is an expression\n",
    "# `n = 17` is a statement\n",
    "n = 17\n",
    "\n",
    "# `print(n)` is also a statement\n",
    "print(n)"
   ]
  },
  {
   "cell_type": "code",
   "execution_count": 32,
   "metadata": {},
   "outputs": [
    {
     "data": {
      "text/plain": [
       "2.0"
      ]
     },
     "execution_count": 32,
     "metadata": {},
     "output_type": "execute_result"
    }
   ],
   "source": [
    "b"
   ]
  },
  {
   "cell_type": "markdown",
   "metadata": {},
   "source": [
    "###  Some Builtin Functions"
   ]
  },
  {
   "cell_type": "code",
   "execution_count": 33,
   "metadata": {},
   "outputs": [
    {
     "name": "stdout",
     "output_type": "stream",
     "text": [
      "Type conversion functions:\n",
      "False\n",
      "42.0\n",
      "2\n",
      "And some basic math functions:\n",
      "5\n",
      "3\n",
      "2\n",
      "8\n",
      "2.4\n"
     ]
    }
   ],
   "source": [
    "print(\"Type conversion functions:\")\n",
    "print(bool(0))   # convert to boolean (True or False)\n",
    "print(float(42)) # convert to a floating point number\n",
    "print(int(2.8))  # convert to an integer (int)\n",
    "\n",
    "print(\"And some basic math functions:\")\n",
    "print(abs(-5))   # absolute value\n",
    "print(max(2,3))  # return the max value\n",
    "print(min(2,3))  # return the min value\n",
    "print(pow(2,3))  # raise to the given power (pow(x,y) == x**y)\n",
    "print(round(2.354, 1)) # round with the given number of digits"
   ]
  },
  {
   "cell_type": "markdown",
   "metadata": {},
   "source": [
    "### Numbers, Math, and Logics"
   ]
  },
  {
   "cell_type": "markdown",
   "metadata": {},
   "source": [
    "Python ***Arithmetic Operators***:\n",
    "* `+`&nbsp;&nbsp;&nbsp;&nbsp;&nbsp;Addition\n",
    "* `-`&nbsp;&nbsp;&nbsp;&nbsp;&nbsp;Subtraction\n",
    "* `*`&nbsp;&nbsp;&nbsp;&nbsp;&nbsp;Multiplication\n",
    "* `/`&nbsp;&nbsp;&nbsp;&nbsp;&nbsp;Division\n",
    "* `%`&nbsp;&nbsp;&nbsp;&nbsp;&nbsp;Modulus\n",
    "* `**`&nbsp;&nbsp;&nbsp;Exponent\n",
    "* `//`&nbsp;&nbsp;&nbsp;Floor Division\n",
    "  \n",
    "Python ***Comparison Operators***:\n",
    "* `==`&nbsp;&nbsp;&nbsp;Equal\n",
    "* `!=`&nbsp;&nbsp;&nbsp;Not Equal\n",
    "* `>`&nbsp;&nbsp;&nbsp;&nbsp;&nbsp;Greater Than\n",
    "* `<`&nbsp;&nbsp;&nbsp;&nbsp;&nbsp;Less Than\n",
    "* `>=`&nbsp;&nbsp;&nbsp;Greater Than or Equal To\n",
    "* `<=`&nbsp;&nbsp;&nbsp;Less Than or Equal To"
   ]
  },
  {
   "cell_type": "code",
   "execution_count": 34,
   "metadata": {},
   "outputs": [
    {
     "name": "stdout",
     "output_type": "stream",
     "text": [
      "I will now count my chickens:\n",
      "Hens 30.0\n"
     ]
    }
   ],
   "source": [
    "print(\"I will now count my chickens:\")\n",
    "\n",
    "print(\"Hens\", 25 + 30 / 6)\n"
   ]
  },
  {
   "cell_type": "code",
   "execution_count": 35,
   "metadata": {},
   "outputs": [
    {
     "name": "stdout",
     "output_type": "stream",
     "text": [
      "Roosters 97\n"
     ]
    }
   ],
   "source": [
    "print(\"Roosters\", 100 - 25 * 3 % 4)\n",
    "\n"
   ]
  },
  {
   "cell_type": "code",
   "execution_count": 36,
   "metadata": {},
   "outputs": [
    {
     "name": "stdout",
     "output_type": "stream",
     "text": [
      "Now I will count the eggs:\n",
      "6.75\n"
     ]
    }
   ],
   "source": [
    "print(\"Now I will count the eggs:\")\n",
    "\n",
    "print(3+2+1-5+ 6%2- 1/4+ 6)\n",
    "\n"
   ]
  },
  {
   "cell_type": "code",
   "execution_count": 37,
   "metadata": {},
   "outputs": [
    {
     "name": "stdout",
     "output_type": "stream",
     "text": [
      "Is it true that 3 + 2 < 5 - 7?\n",
      "False\n"
     ]
    }
   ],
   "source": [
    "print(\"Is it true that 3 + 2 < 5 - 7?\")\n",
    "\n",
    "print(3 + 2 < 5 - 7)\n",
    "\n"
   ]
  },
  {
   "cell_type": "code",
   "execution_count": 38,
   "metadata": {},
   "outputs": [
    {
     "name": "stdout",
     "output_type": "stream",
     "text": [
      "What is 3 + 2? 5\n",
      "What is 5 - 7? -2\n",
      "Oh, that's why it's False.\n"
     ]
    }
   ],
   "source": [
    "print(\"What is 3 + 2?\", 3 + 2)\n",
    "print(\"What is 5 - 7?\", 5 - 7)\n",
    "\n",
    "print(\"Oh, that's why it's False.\")\n",
    "\n"
   ]
  },
  {
   "cell_type": "code",
   "execution_count": 39,
   "metadata": {},
   "outputs": [
    {
     "name": "stdout",
     "output_type": "stream",
     "text": [
      "How about some more.\n",
      "Is it greater? True\n",
      "Is it greater or equal? True\n",
      "Is it less or equal? False\n"
     ]
    }
   ],
   "source": [
    "print(\"How about some more.\")\n",
    "\n",
    "print(\"Is it greater?\", 5 > -2)\n",
    "print(\"Is it greater or equal?\", 5 >= -2)\n",
    "print(\"Is it less or equal?\", 5 <= -2)"
   ]
  },
  {
   "cell_type": "markdown",
   "metadata": {},
   "source": [
    "#### Types Affect Semantics"
   ]
  },
  {
   "cell_type": "code",
   "execution_count": 40,
   "metadata": {},
   "outputs": [
    {
     "name": "stdout",
     "output_type": "stream",
     "text": [
      "6\n",
      "abcabcabc\n",
      "5\n",
      "abcdef\n"
     ]
    },
    {
     "ename": "TypeError",
     "evalue": "unsupported operand type(s) for +: 'int' and 'str'",
     "output_type": "error",
     "traceback": [
      "\u001b[1;31m---------------------------------------------------------------------------\u001b[0m",
      "\u001b[1;31mTypeError\u001b[0m                                 Traceback (most recent call last)",
      "\u001b[1;32m<ipython-input-40-2363ba005a96>\u001b[0m in \u001b[0;36m<module>\u001b[1;34m\u001b[0m\n\u001b[0;32m      3\u001b[0m \u001b[0mprint\u001b[0m\u001b[1;33m(\u001b[0m\u001b[1;36m3\u001b[0m \u001b[1;33m+\u001b[0m \u001b[1;36m2\u001b[0m\u001b[1;33m)\u001b[0m\u001b[1;33m\u001b[0m\u001b[0m\n\u001b[0;32m      4\u001b[0m \u001b[0mprint\u001b[0m\u001b[1;33m(\u001b[0m\u001b[1;34m\"abc\"\u001b[0m \u001b[1;33m+\u001b[0m \u001b[1;34m\"def\"\u001b[0m\u001b[1;33m)\u001b[0m\u001b[1;33m\u001b[0m\u001b[0m\n\u001b[1;32m----> 5\u001b[1;33m \u001b[0mprint\u001b[0m\u001b[1;33m(\u001b[0m\u001b[1;36m3\u001b[0m \u001b[1;33m+\u001b[0m \u001b[1;34m\"def\"\u001b[0m\u001b[1;33m)\u001b[0m\u001b[1;33m\u001b[0m\u001b[0m\n\u001b[0m",
      "\u001b[1;31mTypeError\u001b[0m: unsupported operand type(s) for +: 'int' and 'str'"
     ]
    }
   ],
   "source": [
    "print(3 * 2)\n",
    "print(3 * \"abc\")\n",
    "print(3 + 2)\n",
    "print(\"abc\" + \"def\")\n",
    "print(3 + \"def\")"
   ]
  },
  {
   "cell_type": "markdown",
   "metadata": {},
   "source": [
    "#### Integer Division"
   ]
  },
  {
   "cell_type": "code",
   "execution_count": 41,
   "metadata": {},
   "outputs": [
    {
     "name": "stdout",
     "output_type": "stream",
     "text": [
      "The / operator does 'normal' float division:\n",
      " 5/3  = 1.6666666666666667\n",
      "\n",
      "The // operator does integer division:\n",
      " 5//3 = 1\n",
      " 2//3 = 0\n",
      "-1//3 = -1\n",
      "-4//3 = -2\n"
     ]
    }
   ],
   "source": [
    "print(\"The / operator does 'normal' float division:\")\n",
    "print(\" 5/3  =\", ( 5/3))\n",
    "print()\n",
    "print(\"The // operator does integer division:\")\n",
    "print(\" 5//3 =\", ( 5//3))\n",
    "print(\" 2//3 =\", ( 2//3))\n",
    "print(\"-1//3 =\", (-1//3))\n",
    "print(\"-4//3 =\", (-4//3))"
   ]
  },
  {
   "cell_type": "markdown",
   "metadata": {},
   "source": [
    "#### Approximate Values of Floating-Point Numbers"
   ]
  },
  {
   "cell_type": "code",
   "execution_count": 42,
   "metadata": {},
   "outputs": [
    {
     "name": "stdout",
     "output_type": "stream",
     "text": [
      "True\n"
     ]
    }
   ],
   "source": [
    "print(0.1 + 0.1 == 0.2)        # True, but..."
   ]
  },
  {
   "cell_type": "code",
   "execution_count": 43,
   "metadata": {},
   "outputs": [
    {
     "name": "stdout",
     "output_type": "stream",
     "text": [
      "False\n"
     ]
    }
   ],
   "source": [
    "print (0.1+0.1+0.1 == 0.3)"
   ]
  },
  {
   "cell_type": "code",
   "execution_count": 44,
   "metadata": {},
   "outputs": [
    {
     "data": {
      "text/plain": [
       "0.30000000000000004"
      ]
     },
     "execution_count": 44,
     "metadata": {},
     "output_type": "execute_result"
    }
   ],
   "source": [
    "0.1+0.1+0.1"
   ]
  },
  {
   "cell_type": "code",
   "execution_count": 45,
   "metadata": {},
   "outputs": [
    {
     "data": {
      "text/plain": [
       "5.551115123125783e-17"
      ]
     },
     "execution_count": 45,
     "metadata": {},
     "output_type": "execute_result"
    }
   ],
   "source": [
    "0.1+0.1+0.1-0.3"
   ]
  },
  {
   "cell_type": "markdown",
   "metadata": {},
   "source": [
    "#### Equality Testing with math.isclose:"
   ]
  },
  {
   "cell_type": "code",
   "execution_count": 46,
   "metadata": {},
   "outputs": [
    {
     "name": "stdout",
     "output_type": "stream",
     "text": [
      "The problem....\n",
      "False\n",
      "\n",
      "The solution...\n",
      "True\n"
     ]
    }
   ],
   "source": [
    "print(\"The problem....\")\n",
    "d1 = 0.1 + 0.1 + 0.1\n",
    "d2 = 0.3\n",
    "print(d1 == d2)                # False (never use == with floats!)\n",
    "\n",
    "print()\n",
    "print(\"The solution...\")\n",
    "import math\n",
    "print(math.isclose(d1, d2))  # True!\n",
    "# math.isclose checks if the two numbers are ALMOST equal, within a small error"
   ]
  },
  {
   "cell_type": "markdown",
   "metadata": {},
   "source": [
    "### <span style=\"color:red\">Exercise3:</span> Define the variables and do some math so that the results are correct"
   ]
  },
  {
   "cell_type": "code",
   "execution_count": null,
   "metadata": {
    "scrolled": true
   },
   "outputs": [],
   "source": [
    "# Exercise3\n",
    "\n",
    "cars = 100\n",
    "space_in_a_car = 4\n",
    "drivers = 30\n",
    "passengers = 90\n",
    "\n",
    "# Insert your code here\n",
    "\n",
    "print(\"There are {} cars available.\".format(cars))\n",
    "print(\"Each car has {} available seats for passengers.\".format(space_in_a_car))\n",
    "print(\"There are only {} drivers available.\".format(drivers))\n",
    "print(\"There will be {} empty cars today.\".format(cars_not_driven))\n",
    "print(\"We can transport {} people today.\".format(carpool_capacity))\n",
    "print(\"We have {} passenger today.\".format(passengers))\n",
    "print(\"We need to put about {} in each car.\".format(average_passengers_per_car))\n",
    "\n"
   ]
  },
  {
   "cell_type": "markdown",
   "metadata": {},
   "source": [
    "### Order of operations"
   ]
  },
  {
   "cell_type": "markdown",
   "metadata": {},
   "source": [
    "Precedence: **PEMDAS**\n",
    "\n",
    "<b>P</b>arentheses > <b>E</b>xponentiation > <b>M</b>ultiplication and <b>D</b>ivision > <b>A</b>ddition and <b>S</b>ubtraction\n",
    "\n",
    "Association:\n",
    "* In general, left to right\n",
    "* For exponentiation, from right to left"
   ]
  },
  {
   "cell_type": "code",
   "execution_count": 47,
   "metadata": {},
   "outputs": [
    {
     "name": "stdout",
     "output_type": "stream",
     "text": [
      "x = 57\n",
      "y = 97\n",
      "z = 527\n"
     ]
    }
   ],
   "source": [
    "# try out\n",
    "x = 5 + 6 * 3 ** 2 - 2\n",
    "y = (5 + 6) * 3 ** 2 - 2\n",
    "z = (5 + 6 * 3) ** 2 - 2\n",
    "print('x =',x)\n",
    "print('y =',y)\n",
    "print('z =',z)"
   ]
  },
  {
   "cell_type": "code",
   "execution_count": null,
   "metadata": {},
   "outputs": [],
   "source": [
    "print(\"Precedence:\")\n",
    "print(2+3*4)  # prints 14, not 20\n",
    "print(5+4%3)  # prints  6, not 0 (% has same precedence as *, /, and //)\n",
    "print(2**3*4) # prints 32, not 4096 (** has higher precedence than *, /, //, and %)\n",
    "\n",
    "print()\n",
    "\n",
    "print(\"Associativity:\")\n",
    "print(5-4-3)   # prints -2, not 4 (- associates left-to-right)\n",
    "print(4**3**2) # prints 262144, not 4096 (** associates right-to-left)"
   ]
  },
  {
   "cell_type": "markdown",
   "metadata": {},
   "source": [
    "### Debugging"
   ]
  },
  {
   "cell_type": "markdown",
   "metadata": {},
   "source": [
    "Types of errors:\n",
    "* **Syntax error**: Syntax refers to the structure of a program and the rules about that structure. When you encounter this, it is likely that you forget something like `)` or `'` or you have wrong identation(縮排)\n",
    "* **Runtime error**: For example, divide by zero, wrong encoding of your `.py` file, ...\n",
    "* **Semantic error**: Semantic means *related to meaning*. The code does not behave as expected."
   ]
  },
  {
   "cell_type": "code",
   "execution_count": null,
   "metadata": {},
   "outputs": [],
   "source": [
    "# Syntax error\n",
    "print('Hello)"
   ]
  },
  {
   "cell_type": "code",
   "execution_count": null,
   "metadata": {},
   "outputs": [],
   "source": [
    "# runtime error\n",
    "appleCount = 200\n",
    "headCount = 0\n",
    "average = appleCount / headCount\n",
    "print('Each student gets %f apples.' % average)"
   ]
  },
  {
   "cell_type": "code",
   "execution_count": null,
   "metadata": {},
   "outputs": [],
   "source": [
    "# semantic error\n",
    "print('Hell, World!')\n",
    "print('Hello, Word!')"
   ]
  },
  {
   "cell_type": "code",
   "execution_count": null,
   "metadata": {},
   "outputs": [],
   "source": []
  }
 ],
 "metadata": {
  "kernelspec": {
   "display_name": "Python 3",
   "language": "python",
   "name": "python3"
  },
  "language_info": {
   "codemirror_mode": {
    "name": "ipython",
    "version": 3
   },
   "file_extension": ".py",
   "mimetype": "text/x-python",
   "name": "python",
   "nbconvert_exporter": "python",
   "pygments_lexer": "ipython3",
   "version": "3.7.0"
  }
 },
 "nbformat": 4,
 "nbformat_minor": 2
}
