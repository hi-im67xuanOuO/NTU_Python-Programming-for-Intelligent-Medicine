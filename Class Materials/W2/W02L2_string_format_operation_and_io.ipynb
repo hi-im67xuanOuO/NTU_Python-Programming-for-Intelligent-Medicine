{
 "cells": [
  {
   "cell_type": "markdown",
   "metadata": {},
   "source": [
    "<div style=\"text-align:center;color:#888888;\"><h2> IMP 5001 - Introduction to Medical Informatics </h2></div>\n",
    "<div style=\"text-align:center;\"><h1> String Fomat, Operation, and I/O </h1></div># NTUEE Computer Programming\n",
    "\n",
    "<div style=\"color:#999999;text-align:right;\">Ref: <a href=\"https://greenteapress.com/wp/think-python/\">Think Python</a> &ensp; <a href=\"https://learnpythonthehardway.org\">Learn Python the Hard Way</a></div>"
   ]
  },
  {
   "cell_type": "markdown",
   "metadata": {},
   "source": [
    "<div style=\"color:blue\">In this lecture, let's talk about <b>String</b> and <b>print()</b></div>"
   ]
  },
  {
   "cell_type": "markdown",
   "metadata": {},
   "source": [
    "### Review\n",
    "We have already learned some basic string operations in the previous lecture, now lets do some warm-up"
   ]
  },
  {
   "cell_type": "code",
   "execution_count": 4,
   "metadata": {
    "scrolled": true
   },
   "outputs": [
    {
     "name": "stdout",
     "output_type": "stream",
     "text": [
      "Let's talk about Aladdin.\n",
      "He's 74 inches tall.\n",
      "He's 180 pounds heavy.\n",
      "He's got Blue eyes and Brown hair.\n",
      "His teeth are usually White depending on the coffee.\n",
      "If I add 35, 74, and 180 I get 289\n"
     ]
    }
   ],
   "source": [
    "name = 'Aladdin'\n",
    "age = 35\n",
    "height = 74\n",
    "weight = 180\n",
    "eyes = 'Blue'\n",
    "teeth = 'White'\n",
    "hair = 'Brown'\n",
    "\n",
    "print(f\"Let's talk about {name}.\")\n",
    "print(f\"He's {height} inches tall.\")\n",
    "print(f\"He's {weight} pounds heavy.\")\n",
    "print(f\"He's got {eyes} eyes and {hair} hair.\")\n",
    "print(f\"His teeth are usually {teeth} depending on the coffee.\")\n",
    "\n",
    "total = age + height + weight\n",
    "print(f\"If I add {age}, {height}, and {weight} I get {total}\")"
   ]
  },
  {
   "cell_type": "markdown",
   "metadata": {},
   "source": [
    "### <span style=\"color:red\">Exercise1:</span> Define variables so that the code block generates following outputs:\n",
    "  \n",
    "I said: There are 10 types of people  \n",
    "I also said: 'Those who know binary and those who don't.'  \n",
    "Isn't that joke do funny?! False  \n",
    "This is the left side of...a string with a right side.  "
   ]
  },
  {
   "cell_type": "code",
   "execution_count": 9,
   "metadata": {},
   "outputs": [
    {
     "name": "stdout",
     "output_type": "stream",
     "text": [
      "I said: There are 10 types of people\n",
      "I also said: 'Those who know binary and those who don't.'\n",
      "Isn't that joke do funny?! False\n",
      "This is the left side of...a tring with a right side\n"
     ]
    }
   ],
   "source": [
    "# Exercise1\n",
    "\n",
    "# Insert your code here\n",
    "\n",
    "print(f\"I said: {x.format(types_of_people)}\")\n",
    "print(f\"I also said: '{y.format(binary, do_not)}'\")\n",
    "print(joke_eval.format(hilarious))\n",
    "print(l + '...' + r)"
   ]
  },
  {
   "cell_type": "markdown",
   "metadata": {},
   "source": [
    "### String operations"
   ]
  },
  {
   "cell_type": "markdown",
   "metadata": {},
   "source": [
    "* The **+** operator performs **string concatenation**.\n",
    "* The **\\*** operator performs **repetition**."
   ]
  },
  {
   "cell_type": "code",
   "execution_count": 10,
   "metadata": {},
   "outputs": [
    {
     "name": "stdout",
     "output_type": "stream",
     "text": [
      "Hello, world!\n",
      "Hello! Hello! Hello! \n"
     ]
    }
   ],
   "source": [
    "message = 'Hello' + ', world!'\n",
    "print(message)\n",
    "message = 'Hello! ' * 3\n",
    "print(message)"
   ]
  },
  {
   "cell_type": "markdown",
   "metadata": {},
   "source": [
    "#### No automatic conversion to String."
   ]
  },
  {
   "cell_type": "code",
   "execution_count": 11,
   "metadata": {},
   "outputs": [
    {
     "ename": "TypeError",
     "evalue": "can only concatenate str (not \"int\") to str",
     "output_type": "error",
     "traceback": [
      "\u001b[1;31m---------------------------------------------------------------------------\u001b[0m",
      "\u001b[1;31mTypeError\u001b[0m                                 Traceback (most recent call last)",
      "\u001b[1;32m<ipython-input-11-a56eab5ce434>\u001b[0m in \u001b[0;36m<module>\u001b[1;34m\u001b[0m\n\u001b[0;32m      1\u001b[0m \u001b[0mmyAge\u001b[0m \u001b[1;33m=\u001b[0m \u001b[1;36m10\u001b[0m\u001b[1;33m\u001b[0m\u001b[0m\n\u001b[1;32m----> 2\u001b[1;33m \u001b[0mmessage\u001b[0m \u001b[1;33m=\u001b[0m \u001b[1;34m'I am '\u001b[0m \u001b[1;33m+\u001b[0m \u001b[0mmyAge\u001b[0m \u001b[1;33m+\u001b[0m \u001b[1;34m' years old.'\u001b[0m\u001b[1;33m\u001b[0m\u001b[0m\n\u001b[0m\u001b[0;32m      3\u001b[0m \u001b[0mprint\u001b[0m\u001b[1;33m(\u001b[0m\u001b[0mmessage\u001b[0m\u001b[1;33m)\u001b[0m\u001b[1;33m\u001b[0m\u001b[0m\n",
      "\u001b[1;31mTypeError\u001b[0m: can only concatenate str (not \"int\") to str"
     ]
    }
   ],
   "source": [
    "myAge = 10\n",
    "message = 'I am ' + myAge + ' years old.'\n",
    "print(message)"
   ]
  },
  {
   "cell_type": "markdown",
   "metadata": {},
   "source": [
    "#### Convert to String first, using the ```str()``` function."
   ]
  },
  {
   "cell_type": "code",
   "execution_count": 12,
   "metadata": {},
   "outputs": [
    {
     "name": "stdout",
     "output_type": "stream",
     "text": [
      "I am 10 years old.\n"
     ]
    }
   ],
   "source": [
    "myAge = 10\n",
    "message = 'I am ' + str(myAge) + ' years old.'\n",
    "print(message)"
   ]
  },
  {
   "cell_type": "markdown",
   "metadata": {},
   "source": [
    "### Multi-line String"
   ]
  },
  {
   "cell_type": "code",
   "execution_count": 13,
   "metadata": {},
   "outputs": [
    {
     "name": "stdout",
     "output_type": "stream",
     "text": [
      "\n",
      "A: May I help you?\n",
      "B: Yes, I want to check my reservation.\n",
      "A: No problem. Just give me a minute.\n",
      "\n"
     ]
    }
   ],
   "source": [
    "# If we wrap string with `\"\"\"` or `'''`, the `new lines`(換行) in the string would be kept\n",
    "\n",
    "s = \"\"\"\n",
    "A: May I help you?\n",
    "B: Yes, I want to check my reservation.\n",
    "A: No problem. Just give me a minute.\n",
    "\"\"\"\n",
    "\n",
    "print(s)"
   ]
  },
  {
   "cell_type": "markdown",
   "metadata": {},
   "source": [
    "### The `end` argument"
   ]
  },
  {
   "cell_type": "code",
   "execution_count": 14,
   "metadata": {},
   "outputs": [
    {
     "name": "stdout",
     "output_type": "stream",
     "text": [
      "Hello\n",
      "world! 1\n",
      "Hello\n",
      "world! 2\n",
      "Helloworld! 3\n",
      "Hello world! 4\u0007\n"
     ]
    }
   ],
   "source": [
    "# By default, there is a new line after each print()\n",
    "print('Hello')\n",
    "print('world! 1')\n",
    "\n",
    "# This is equivalent to the code above\n",
    "print('Hello', end='\\n')\n",
    "print('world! 2')\n",
    "\n",
    "# Remove `end`\n",
    "print('Hello', end='')\n",
    "print('world! 3')\n",
    "\n",
    "# Modify `end`\n",
    "print('Hello', end=' ')\n",
    "print('world! 4\\a')"
   ]
  },
  {
   "cell_type": "markdown",
   "metadata": {},
   "source": [
    "### Escape Sequences\n",
    "The `\\n` above is a character representing a `new line`  \n",
    "The `\\` backslash character encodes difficult-to-type characters, such as a `new line` or a `tab`, into a string.  \n",
    "The characters start with `\\` are called `Escape Sequences`  \n",
    "Lets name a few.\n",
    "\n",
    "| Escape     | What it does                                                  |\n",
    "|------------|---------------------------------------------------------------|\n",
    "| \\\\         | Backslash                                                     |\n",
    "| \\'         | Single-quote                                                  |\n",
    "| \\\"         | Double-quote                                                  |\n",
    "| \\a         | ASCII bell                                                    |\n",
    "| \\b         | ASCII backspace                                               |\n",
    "| \\f         | ASCII formfeed                                                |\n",
    "| \\n         | ASCII linefeed                                                |\n",
    "| \\N{name}   | Character named `name` in the Unicode database (Unicode only) |\n",
    "| \\r         | Carriage Return                                               |\n",
    "| \\t         | Horizontal Tab                                                |\n",
    "| \\uxxxx     | Character with 16-bit hex value xxxx                          |\n",
    "| \\Uxxxxxxxx | Character with 32-bit hex value xxxxxxxx                      |\n",
    "| \\v         | ASCII vertical tab (VT)                                       |\n",
    "| \\ooo       | Character with octal value ooo                                |\n",
    "| \\xhh       | Character with hex value hh                                   |"
   ]
  },
  {
   "cell_type": "code",
   "execution_count": 15,
   "metadata": {
    "scrolled": true
   },
   "outputs": [
    {
     "name": "stdout",
     "output_type": "stream",
     "text": [
      "\tI'm tabbed in.\n",
      "I'm split\n",
      "on a line.\n",
      "I'm \\ a \\ cat.\n",
      "\n",
      "I'll do a list:\n",
      "\t* Cat food\n",
      "\t* Fishies\n",
      "\t* Catnip\n",
      "\t* Grass\n",
      "\n"
     ]
    }
   ],
   "source": [
    "tabby_cat = \"\\tI'm tabbed in.\"\n",
    "persian_cat = \"I'm split\\non a line.\"\n",
    "backslash_cat = \"I'm \\\\ a \\\\ cat.\"\n",
    "\n",
    "fat_cat = \"\"\"\n",
    "I'll do a list:\n",
    "\\t* Cat food\n",
    "\\t* Fishies\n",
    "\\t* Catnip\\n\\t* Grass\n",
    "\"\"\"\n",
    "\n",
    "print(tabby_cat)\n",
    "print(persian_cat)\n",
    "print(backslash_cat)\n",
    "print(fat_cat)"
   ]
  },
  {
   "cell_type": "markdown",
   "metadata": {},
   "source": [
    "### <span style=\"color:red\">Exercise2:</span> Insert *\\\\\\*, *\\'*, *\\\"*, *\\b*, *\\n*, *\\t*, into the string *`abcdefghijklmnopqrstuvwxyz`* and print it out so that the result becomes:\n",
    "  \n",
    "abcde  \n",
    "fgh\\iklm&nbsp;&nbsp;&nbsp;&nbsp;&nbsp;&nbsp;nop\"qr'stuvwxyz\n"
   ]
  },
  {
   "cell_type": "code",
   "execution_count": null,
   "metadata": {
    "scrolled": true
   },
   "outputs": [],
   "source": [
    "# Exercise2"
   ]
  },
  {
   "cell_type": "markdown",
   "metadata": {},
   "source": [
    "### The *input()* function\n",
    "The *input()* function helps us get infomation from user running our program"
   ]
  },
  {
   "cell_type": "code",
   "execution_count": 16,
   "metadata": {},
   "outputs": [
    {
     "name": "stdout",
     "output_type": "stream",
     "text": [
      "How old are you? 32\n",
      "How tall are you? 178\n",
      "How much do you weigh? 90\n",
      "So, you're 32 old, 178 tall and 90 heavy.\n"
     ]
    }
   ],
   "source": [
    "print(\"How old are you?\", end=' ')\n",
    "age = input()\n",
    "print(\"How tall are you?\", end=' ')\n",
    "height = input()\n",
    "print(\"How much do you weigh?\", end=' ')\n",
    "weight = input()\n",
    "\n",
    "print(f\"So, you're {age} old, {height} tall and {weight} heavy.\")"
   ]
  },
  {
   "cell_type": "markdown",
   "metadata": {},
   "source": [
    "We can also put the questioning string as an argument. Like:"
   ]
  },
  {
   "cell_type": "code",
   "execution_count": 17,
   "metadata": {
    "scrolled": false
   },
   "outputs": [
    {
     "name": "stdout",
     "output_type": "stream",
     "text": [
      "How old are you? 32\n",
      "How tall are you? 178\n",
      "How much do you weight? 90\n",
      "So, you're 32 old, 178 tall and 90 heavy.\n"
     ]
    }
   ],
   "source": [
    "age = input(\"How old are you? \")\n",
    "height = input(\"How tall are you? \")\n",
    "weight = input(\"How much do you weight? \")\n",
    "\n",
    "print(f\"So, you're {age} old, {height} tall and {weight} heavy.\")"
   ]
  },
  {
   "cell_type": "code",
   "execution_count": 18,
   "metadata": {},
   "outputs": [
    {
     "name": "stdout",
     "output_type": "stream",
     "text": [
      "Enter a number: 2\n"
     ]
    },
    {
     "ename": "TypeError",
     "evalue": "unsupported operand type(s) for /: 'str' and 'int'",
     "output_type": "error",
     "traceback": [
      "\u001b[1;31m---------------------------------------------------------------------------\u001b[0m",
      "\u001b[1;31mTypeError\u001b[0m                                 Traceback (most recent call last)",
      "\u001b[1;32m<ipython-input-18-c811778f3513>\u001b[0m in \u001b[0;36m<module>\u001b[1;34m\u001b[0m\n\u001b[0;32m      1\u001b[0m \u001b[0mx\u001b[0m \u001b[1;33m=\u001b[0m \u001b[0minput\u001b[0m\u001b[1;33m(\u001b[0m\u001b[1;34m\"Enter a number: \"\u001b[0m\u001b[1;33m)\u001b[0m\u001b[1;33m\u001b[0m\u001b[0m\n\u001b[1;32m----> 2\u001b[1;33m \u001b[0mprint\u001b[0m\u001b[1;33m(\u001b[0m\u001b[1;34m\"One half of\"\u001b[0m\u001b[1;33m,\u001b[0m \u001b[0mx\u001b[0m\u001b[1;33m,\u001b[0m \u001b[1;34m\"=\"\u001b[0m\u001b[1;33m,\u001b[0m \u001b[0mx\u001b[0m\u001b[1;33m/\u001b[0m\u001b[1;36m2\u001b[0m\u001b[1;33m)\u001b[0m \u001b[1;31m# Error!\u001b[0m\u001b[1;33m\u001b[0m\u001b[0m\n\u001b[0m",
      "\u001b[1;31mTypeError\u001b[0m: unsupported operand type(s) for /: 'str' and 'int'"
     ]
    }
   ],
   "source": [
    "x = input(\"Enter a number: \")\n",
    "print(\"One half of\", x, \"=\", x/2) # Error!"
   ]
  },
  {
   "cell_type": "code",
   "execution_count": 19,
   "metadata": {},
   "outputs": [
    {
     "name": "stdout",
     "output_type": "stream",
     "text": [
      "Enter a number: 2\n",
      "One half of 2 = 1.0\n"
     ]
    }
   ],
   "source": [
    "x = int(input(\"Enter a number: \"))\n",
    "print(\"One half of\", x, \"=\", x/2)"
   ]
  },
  {
   "cell_type": "markdown",
   "metadata": {},
   "source": [
    "### <span style=\"color:red\">Exercise3:</span> Use *input()* to ask user some questions and do summarization:\n",
    "  \n",
    "I'd like to ask you a few questions.  \n",
    "Do you like me?  \n",
    "\\> Nope  \n",
    "Where do you live?  \n",
    "\\> Taoyuan  \n",
    "What kind of computer do you have?  \n",
    "\\> A mid-2014 macbook  \n",
    "  \n",
    "Alright, so you said Nope about liking me.  \n",
    "You live in Taoyuan. Not sure where that is.  \n",
    "And you have a A mid-2014 macbook computer. Nice.  "
   ]
  },
  {
   "cell_type": "code",
   "execution_count": null,
   "metadata": {
    "scrolled": true
   },
   "outputs": [],
   "source": [
    "# Exercise3"
   ]
  },
  {
   "cell_type": "code",
   "execution_count": null,
   "metadata": {},
   "outputs": [],
   "source": []
  },
  {
   "cell_type": "code",
   "execution_count": null,
   "metadata": {},
   "outputs": [],
   "source": []
  }
 ],
 "metadata": {
  "kernelspec": {
   "display_name": "Python 3",
   "language": "python",
   "name": "python3"
  },
  "language_info": {
   "codemirror_mode": {
    "name": "ipython",
    "version": 3
   },
   "file_extension": ".py",
   "mimetype": "text/x-python",
   "name": "python",
   "nbconvert_exporter": "python",
   "pygments_lexer": "ipython3",
   "version": "3.7.4"
  }
 },
 "nbformat": 4,
 "nbformat_minor": 2
}
