{
 "cells": [
  {
   "cell_type": "markdown",
   "metadata": {},
   "source": [
    "<div style=\"text-align:center;color:#888888;\"><h2> IMP 5001 - Introduction to Medical Informatics </h2></div>\n",
    "<div style=\"text-align:center;\"><h1> Basic Functions </h1></div>\n",
    "\n",
    "<div style=\"color:#999999;text-align:right;\">Ref: <a href=\"http://www.ucs.cam.ac.uk/docs/course-notes/unix-courses/PythonAB\">Python: Introduction for Absolute Beginners</a> &ensp; <a href=\"https://learnpythonthehardway.org\">Learn Python the Hard Way</a> &ensp; <a href=\"https://www.w3schools.com/python/default.asp\">w3schools</a></div>"
   ]
  },
  {
   "cell_type": "markdown",
   "metadata": {},
   "source": [
    "**Function** is a ***named*** block of code.\n",
    "You \"**call**\" a function by name."
   ]
  },
  {
   "cell_type": "markdown",
   "metadata": {},
   "source": [
    "## Functional calls"
   ]
  },
  {
   "cell_type": "markdown",
   "metadata": {},
   "source": [
    "A function **call** allows you to perform a complicated task (i.e., many statements) with a simple function call statement.\n",
    "\n",
    "Some Python built-in functions and math functions:\n",
    "\n",
    "    print()\n",
    "    dir()\n",
    "    help()\n",
    "    int()\n",
    "    str()\n",
    "    float()\n",
    "    math.log10()\n",
    "    math.sin()\n"
   ]
  },
  {
   "cell_type": "code",
   "execution_count": 1,
   "metadata": {},
   "outputs": [],
   "source": [
    "def times(x, y):      # create and assign function\n",
    "    return x * y      # body executed when called "
   ]
  },
  {
   "cell_type": "code",
   "execution_count": 2,
   "metadata": {},
   "outputs": [
    {
     "name": "stdout",
     "output_type": "stream",
     "text": [
      "<function times at 0x000001FE62F63730>\n"
     ]
    }
   ],
   "source": [
    "print(times)"
   ]
  },
  {
   "cell_type": "markdown",
   "metadata": {},
   "source": [
    "A function takes **argument(s)** and **return** a result."
   ]
  },
  {
   "cell_type": "code",
   "execution_count": 3,
   "metadata": {},
   "outputs": [
    {
     "name": "stdout",
     "output_type": "stream",
     "text": [
      "42.0\n"
     ]
    }
   ],
   "source": [
    "# What's the argument and what's the result?\n",
    "f = float('42')\n",
    "\n",
    "# Argument: '42'\n",
    "# Result: the float value of '42'; assigned to f\n",
    "\n",
    "print(f)"
   ]
  },
  {
   "cell_type": "code",
   "execution_count": 4,
   "metadata": {},
   "outputs": [
    {
     "data": {
      "text/plain": [
       "16"
      ]
     },
     "execution_count": 4,
     "metadata": {},
     "output_type": "execute_result"
    }
   ],
   "source": [
    "times(4, 4)"
   ]
  },
  {
   "cell_type": "code",
   "execution_count": 5,
   "metadata": {},
   "outputs": [
    {
     "data": {
      "text/plain": [
       "12.56"
      ]
     },
     "execution_count": 5,
     "metadata": {},
     "output_type": "execute_result"
    }
   ],
   "source": [
    "x = times(3.14, 4)   # save result object\n",
    "x"
   ]
  },
  {
   "cell_type": "markdown",
   "metadata": {},
   "source": [
    "## Polymorphism"
   ]
  },
  {
   "cell_type": "markdown",
   "metadata": {},
   "source": [
    "Following example shows a crucial philosophical difference between Python and statically typed languages like C/C++ and Java.\n",
    "\n",
    "**In Python, your code is not supposed to care about the specific data type**\n"
   ]
  },
  {
   "cell_type": "code",
   "execution_count": 6,
   "metadata": {},
   "outputs": [
    {
     "data": {
      "text/plain": [
       "'NINININI'"
      ]
     },
     "execution_count": 6,
     "metadata": {},
     "output_type": "execute_result"
    }
   ],
   "source": [
    "times('NI', 4)       # Functions are \"Typeless\""
   ]
  },
  {
   "cell_type": "code",
   "execution_count": 7,
   "metadata": {},
   "outputs": [
    {
     "data": {
      "text/plain": [
       "'hello hello hello '"
      ]
     },
     "execution_count": 7,
     "metadata": {},
     "output_type": "execute_result"
    }
   ],
   "source": [
    "times('hello ', 3)"
   ]
  },
  {
   "cell_type": "markdown",
   "metadata": {},
   "source": [
    "This sort of type-dependent behavior is known *`polymorphism`*:\n",
    ">meaning of an operation depends on the objects being operated upon\n",
    "\n",
    "In fact, every operation is a polymorphic operation in Python:\n",
    "* printing, indexing, the \\* operator, ...  and much more"
   ]
  },
  {
   "cell_type": "markdown",
   "metadata": {},
   "source": [
    "## Composition"
   ]
  },
  {
   "cell_type": "markdown",
   "metadata": {},
   "source": [
    "You can put an arbitrary expression **whereever** a value is expected, for example, use an expression as an argument to a function."
   ]
  },
  {
   "cell_type": "code",
   "execution_count": 9,
   "metadata": {},
   "outputs": [
    {
     "name": "stdout",
     "output_type": "stream",
     "text": [
      "1.0\n"
     ]
    }
   ],
   "source": [
    "# pass result of `math.pi/2` to the function `math.sin()` as an argument\n",
    "# pass result of math.sin(math.pi/2) to the function `print()` as an argument\n",
    "import math\n",
    "print(math.sin(math.pi/2))"
   ]
  },
  {
   "cell_type": "markdown",
   "metadata": {},
   "source": [
    "## Define Our Own Functions"
   ]
  },
  {
   "cell_type": "markdown",
   "metadata": {},
   "source": [
    "Besides built-in functions, we can also define our-own function for **re-using** purposes\n",
    "\n",
    "A **function definition** has following syntax:\n",
    "\n",
    "    def <function_name>(arg1, arg2, ...):\n",
    "        <body>\n",
    "\n",
    "which specifies:\n",
    "* **name** of the function\n",
    "* **arguments**: what the function expects to receive as input\n",
    "* **body**: the block of code that run when the function is **called**.\n",
    "\n",
    "Python uses **indentation**(縮排) to identify the **body** of the function.\n",
    "\n",
    "We call the function by its name:\n",
    "\n",
    "    <function_name>(a1, a2, ...)"
   ]
  },
  {
   "cell_type": "code",
   "execution_count": 10,
   "metadata": {},
   "outputs": [
    {
     "name": "stdout",
     "output_type": "stream",
     "text": [
      "Hello!\n",
      "This is James Bond.\n"
     ]
    }
   ],
   "source": [
    "# define a function \"sayHello\" \n",
    "# \"sayHello\" takes no arguments -- nothing inside the parenthesis.\n",
    "def sayHello():\n",
    "    print('Hello!')\n",
    "    print('This is James Bond.') # The definition ends here. Why?\n",
    "\n",
    "# Now we call the function defined above\n",
    "sayHello()"
   ]
  },
  {
   "cell_type": "markdown",
   "metadata": {},
   "source": [
    "The syntax of calling the new function is the same as the built-in functions."
   ]
  },
  {
   "cell_type": "code",
   "execution_count": 11,
   "metadata": {
    "scrolled": true
   },
   "outputs": [
    {
     "name": "stdout",
     "output_type": "stream",
     "text": [
      "Hello!\n",
      "This is James Bond.\n",
      "Hello!\n",
      "This is James Bond.\n"
     ]
    }
   ],
   "source": [
    "def twoHello():\n",
    "    sayHello()\n",
    "    sayHello()\n",
    "\n",
    "twoHello() # What happens if you miss the parentheses? Why?"
   ]
  },
  {
   "cell_type": "markdown",
   "metadata": {},
   "source": [
    "A function must be defined **before** you can call it."
   ]
  },
  {
   "cell_type": "code",
   "execution_count": 12,
   "metadata": {
    "scrolled": true
   },
   "outputs": [
    {
     "ename": "NameError",
     "evalue": "name 'goodMorning' is not defined",
     "output_type": "error",
     "traceback": [
      "\u001b[1;31m---------------------------------------------------------------------------\u001b[0m",
      "\u001b[1;31mNameError\u001b[0m                                 Traceback (most recent call last)",
      "\u001b[1;32m<ipython-input-12-fac54f8c5daa>\u001b[0m in \u001b[0;36m<module>\u001b[1;34m\u001b[0m\n\u001b[1;32m----> 1\u001b[1;33m \u001b[0mgoodMorning\u001b[0m\u001b[1;33m(\u001b[0m\u001b[1;33m)\u001b[0m\u001b[1;33m\u001b[0m\u001b[0m\n\u001b[0m\u001b[0;32m      2\u001b[0m \u001b[1;33m\u001b[0m\u001b[0m\n\u001b[0;32m      3\u001b[0m \u001b[1;32mdef\u001b[0m \u001b[0mgoodMorning\u001b[0m\u001b[1;33m(\u001b[0m\u001b[1;33m)\u001b[0m\u001b[1;33m:\u001b[0m\u001b[1;33m\u001b[0m\u001b[0m\n\u001b[0;32m      4\u001b[0m     \u001b[0mprint\u001b[0m\u001b[1;33m(\u001b[0m\u001b[1;34m'Good morning!'\u001b[0m\u001b[1;33m)\u001b[0m\u001b[1;33m\u001b[0m\u001b[0m\n",
      "\u001b[1;31mNameError\u001b[0m: name 'goodMorning' is not defined"
     ]
    }
   ],
   "source": [
    "goodMorning()\n",
    "\n",
    "def goodMorning():\n",
    "    print('Good morning!')"
   ]
  },
  {
   "cell_type": "markdown",
   "metadata": {},
   "source": [
    "### <span style=\"color:red\">Exercise1:</span> Define a function `intro()` that prints a brief introduction of yourself "
   ]
  },
  {
   "cell_type": "code",
   "execution_count": null,
   "metadata": {
    "scrolled": false
   },
   "outputs": [],
   "source": [
    "# Exercise1\n",
    "\n",
    "# Define your `intro()` function here\n",
    "\n",
    "intro()"
   ]
  },
  {
   "cell_type": "markdown",
   "metadata": {},
   "source": [
    "## Docstring\n",
    "Python documentation strings (or docstrings) provide a convenient way of\n",
    "associating documentation with Python modules, functions, classes, and methods (which are all `objects`). \n",
    "\n",
    "An object's docstring is defined by including a string constant as the **first\n",
    "statement in the object's definition**. \n",
    "\n",
    "It's specified in source code that is used, like a comment, to document a\n",
    "specific segment of code.\n",
    "\n",
    "Unlike comments, the docstring should describe what the function does, not how.\n",
    "\n",
    "This allows the program to inspect these comments at run time, for instance as\n",
    "an interactive help system, or as metadata.\n",
    "\n",
    "Docstrings can be accessed by the `__doc__` attribute on objects."
   ]
  },
  {
   "cell_type": "code",
   "execution_count": 13,
   "metadata": {},
   "outputs": [
    {
     "name": "stdout",
     "output_type": "stream",
     "text": [
      "Help on function sayHello in module __main__:\n",
      "\n",
      "sayHello()\n",
      "    This function prints a hello message along with the programmer's name\n",
      "\n"
     ]
    }
   ],
   "source": [
    "def sayHello():\n",
    "    \"This function prints a hello message along with the programmer's name\"\n",
    "    print('Hello!')\n",
    "    print('This is James Bond.')\n",
    "\n",
    "help(sayHello)\n",
    "\n",
    "# or:\n",
    "# print(sayHello.__doc__)"
   ]
  },
  {
   "cell_type": "markdown",
   "metadata": {},
   "source": [
    "## Flow of Execution"
   ]
  },
  {
   "cell_type": "markdown",
   "metadata": {},
   "source": [
    "In a Python program, execution always begins at the first statement. Statements are executed one at a time, in order from **top to bottom**.\n",
    "\n",
    "Function definitions do not alter the flow of execution of the program, but remember that **statements inside the function are not executed until the function is called**.\n",
    "\n",
    "A function call is like a detour(迂迴路線) in the flow of execution. Instead of going to the next statement, the flow jumps to the body of the function, executes all the statements there, and then comes back to pick up where it left off.\n",
    "\n",
    "That sounds simple enough, until you remember that **one function can call another**. While in the middle of one function, the program might have to execute the statements in another function. But while executing that new function, the program might have to execute yet another function!\n",
    "\n",
    "When you read a program, you don’t always want to read from top to bottom. Sometimes it makes more sense if you follow the flow of execution."
   ]
  },
  {
   "cell_type": "markdown",
   "metadata": {},
   "source": [
    "## Parameters and arguments"
   ]
  },
  {
   "cell_type": "markdown",
   "metadata": {
    "collapsed": true
   },
   "source": [
    "For functions that take inputs, the values you pass to them are **arguments**."
   ]
  },
  {
   "cell_type": "code",
   "execution_count": 14,
   "metadata": {},
   "outputs": [
    {
     "name": "stdout",
     "output_type": "stream",
     "text": [
      "You have 20 cheeses!\n",
      "You have 30 boxes of crackers!\n",
      "Man that's enough for a party!\n",
      "Get a blanket.\n",
      "\n",
      "You have 30 cheeses!\n",
      "You have 20 boxes of crackers!\n",
      "Man that's enough for a party!\n",
      "Get a blanket.\n",
      "\n",
      "You have 10 cheeses!\n",
      "You have 50 boxes of crackers!\n",
      "Man that's enough for a party!\n",
      "Get a blanket.\n",
      "\n",
      "You have 30 cheeses!\n",
      "You have 11 boxes of crackers!\n",
      "Man that's enough for a party!\n",
      "Get a blanket.\n",
      "\n",
      "You have 110 cheeses!\n",
      "You have 1050 boxes of crackers!\n",
      "Man that's enough for a party!\n",
      "Get a blanket.\n",
      "\n"
     ]
    }
   ],
   "source": [
    "# define a function with 2 arguments\n",
    "def cheeseAndCrackers(cheese_count, boxes_of_crackers):\n",
    "    print(f\"You have {cheese_count} cheeses!\")\n",
    "    print(f\"You have {boxes_of_crackers} boxes of crackers!\")\n",
    "    print(\"Man that's enough for a party!\")\n",
    "    print(\"Get a blanket.\\n\")\n",
    "\n",
    "# We can give values to the function directly\n",
    "cheeseAndCrackers(20, 30)\n",
    "\n",
    "# We can specify which value is for which argument\n",
    "cheeseAndCrackers(boxes_of_crackers=20, cheese_count=30)\n",
    "\n",
    "# OR, we can use variables:\n",
    "amount_of_cheese = 10\n",
    "amount_of_crackers = 50\n",
    "cheeseAndCrackers(amount_of_cheese, amount_of_crackers)\n",
    "\n",
    "# We can even do math inside too\n",
    "cheeseAndCrackers(10 + 20, 5 + 6)\n",
    "\n",
    "# And we can combine the two, variables and math\n",
    "cheeseAndCrackers(amount_of_cheese + 100, amount_of_crackers + 1000)"
   ]
  },
  {
   "cell_type": "markdown",
   "metadata": {},
   "source": [
    "### <span style=\"color:red\">Exercise2:</span> Define a function `printTwice()` that takes an argument and print it twice\n"
   ]
  },
  {
   "cell_type": "code",
   "execution_count": 17,
   "metadata": {
    "scrolled": true
   },
   "outputs": [
    {
     "name": "stdout",
     "output_type": "stream",
     "text": [
      "HelloHello\n",
      "33\n",
      "Hello, World!Hello, World!\n"
     ]
    }
   ],
   "source": [
    "# Exercise2\n",
    "\n",
    "# Define your `printTwice()` function here\n",
    "\n",
    "printTwice('Hello')\n",
    "printTwice(3)\n",
    "printTwice('Hello, ' + 'World!')"
   ]
  },
  {
   "cell_type": "markdown",
   "metadata": {},
   "source": [
    "Inside the function, the arguments are assigned to variables called **parameters**.  \n",
    "For example, ```printTwice('Hello')``` will assign the value ```'Hello'``` to the variable *item* in ```printTwice(item)```."
   ]
  },
  {
   "cell_type": "markdown",
   "metadata": {},
   "source": [
    "### <span style=\"color:red\">Exercise3:</span> Write a function named `alignCenter` that takes a string named `s` as a parameter and prints `s` in the center of a 50-column line\n",
    "\n",
    "** Print nothing if the input string longer than 50 characters\n",
    "\n",
    "hint: make good use of `len()`, `//`, and `+`, `*` operator of `str`\n",
    "\n",
    "Sample output:\n",
    "\n",
    "           Near, far, wherever you are\n",
    "       I believe that the heart does go on\n",
    "           Once more you open the door\n",
    "           And you're here in my heart\n",
    "          And my heart will go on and on\n",
    "                         \n",
    "                   Hold me now\n",
    "                   Touch me now\n",
    "         I don't want to live without you\n",
    "      Nothing's gonna change my love for you\n",
    "    You ought know by now how much I love you\n",
    "           One thing you can be sure of\n",
    "      I'll never ask for more than your love"
   ]
  },
  {
   "cell_type": "code",
   "execution_count": 18,
   "metadata": {},
   "outputs": [],
   "source": [
    "# Exercise3\n",
    "\n",
    "max_len = 50\n",
    "def alignCenter(s):\n",
    "    # modify this function (remember to remove the `pass` statement)\n",
    "    pass\n",
    "\n",
    "alignCenter(\"Near, far, wherever you are\")\n",
    "alignCenter(\"I believe that the heart does go on\")\n",
    "alignCenter(\"This should not be print\" * 3)\n",
    "alignCenter(\"Once more you open the door\")\n",
    "alignCenter(\"And you're here in my heart\")\n",
    "alignCenter(\"And my heart will go on and on\")\n",
    "alignCenter(\"\")\n",
    "alignCenter(\"Hold me now\")\n",
    "alignCenter(\"Oh my god \" * 6)\n",
    "alignCenter(\"Touch me now\")\n",
    "alignCenter(\"I don't want to live without you\")\n",
    "alignCenter(\"Nothing's gonna change my love for you\")\n",
    "alignCenter(\"You ought know by now how much I love you\")\n",
    "alignCenter(\"z\" * 51)\n",
    "alignCenter(\"One thing you can be sure of\")\n",
    "alignCenter(\"I'll never ask for more than your love\")\n"
   ]
  },
  {
   "cell_type": "markdown",
   "metadata": {},
   "source": [
    "## Return Statements"
   ]
  },
  {
   "cell_type": "code",
   "execution_count": 19,
   "metadata": {},
   "outputs": [
    {
     "name": "stdout",
     "output_type": "stream",
     "text": [
      "True\n",
      "False\n",
      "False\n"
     ]
    }
   ],
   "source": [
    "# Basic example\n",
    "\n",
    "def isPositive(x):\n",
    "    return (x > 0)\n",
    "\n",
    "print(isPositive(5))  # True\n",
    "print(isPositive(-5)) # False\n",
    "print(isPositive(0))  # False"
   ]
  },
  {
   "cell_type": "code",
   "execution_count": 20,
   "metadata": {},
   "outputs": [
    {
     "name": "stdout",
     "output_type": "stream",
     "text": [
      "Hello!\n",
      "True\n"
     ]
    }
   ],
   "source": [
    "# Return ends the function immediately:\n",
    "\n",
    "def isPositive(x):\n",
    "    print(\"Hello!\")   # runs\n",
    "    return (x > 0)\n",
    "    print(\"Goodbye!\") # does not run (\"dead code\")\n",
    "\n",
    "print(isPositive(5))  # prints Hello, then True"
   ]
  },
  {
   "cell_type": "code",
   "execution_count": 21,
   "metadata": {},
   "outputs": [
    {
     "name": "stdout",
     "output_type": "stream",
     "text": [
      "None\n"
     ]
    }
   ],
   "source": [
    "def f(x):\n",
    "    x + 42\n",
    "\n",
    "print(f(5)) # None"
   ]
  },
  {
   "cell_type": "code",
   "execution_count": 22,
   "metadata": {},
   "outputs": [
    {
     "name": "stdout",
     "output_type": "stream",
     "text": [
      "None\n"
     ]
    }
   ],
   "source": [
    "# Another example:\n",
    "def g(x):\n",
    "    result = x + 42\n",
    "\n",
    "print(g(5)) # None"
   ]
  },
  {
   "cell_type": "code",
   "execution_count": 23,
   "metadata": {},
   "outputs": [
    {
     "name": "stdout",
     "output_type": "stream",
     "text": [
      "8\n",
      "27\n",
      "None\n"
     ]
    }
   ],
   "source": [
    "def cubed(x):\n",
    "    print(x**3) # Here is the error!\n",
    "\n",
    "cubed(2)          # seems to work!\n",
    "print(cubed(3)) "
   ]
  },
  {
   "cell_type": "code",
   "execution_count": 24,
   "metadata": {},
   "outputs": [
    {
     "name": "stdout",
     "output_type": "stream",
     "text": [
      "64\n"
     ]
    },
    {
     "ename": "TypeError",
     "evalue": "unsupported operand type(s) for *: 'int' and 'NoneType'",
     "output_type": "error",
     "traceback": [
      "\u001b[1;31m---------------------------------------------------------------------------\u001b[0m",
      "\u001b[1;31mTypeError\u001b[0m                                 Traceback (most recent call last)",
      "\u001b[1;32m<ipython-input-24-b936c123ae9c>\u001b[0m in \u001b[0;36m<module>\u001b[1;34m\u001b[0m\n\u001b[1;32m----> 1\u001b[1;33m \u001b[0mprint\u001b[0m\u001b[1;33m(\u001b[0m\u001b[1;36m2\u001b[0m\u001b[1;33m*\u001b[0m\u001b[0mcubed\u001b[0m\u001b[1;33m(\u001b[0m\u001b[1;36m4\u001b[0m\u001b[1;33m)\u001b[0m\u001b[1;33m)\u001b[0m\u001b[1;33m\u001b[0m\u001b[0m\n\u001b[0m",
      "\u001b[1;31mTypeError\u001b[0m: unsupported operand type(s) for *: 'int' and 'NoneType'"
     ]
    }
   ],
   "source": [
    "print(2*cubed(4)) "
   ]
  },
  {
   "cell_type": "code",
   "execution_count": 25,
   "metadata": {},
   "outputs": [],
   "source": [
    "# Once again (correctly):\n",
    "\n",
    "def cubed(x):\n",
    "    return (x**3) # That's better!\n"
   ]
  },
  {
   "cell_type": "markdown",
   "metadata": {},
   "source": [
    "## Why functions?"
   ]
  },
  {
   "cell_type": "markdown",
   "metadata": {},
   "source": [
    "* Readability & Debuggability -- Group statements into a function with a **meaningful** name.\n",
    "* Elimination of repetitive code, ease of maintenance.\n",
    "* Divide and conquer.\n",
    "* Resue."
   ]
  },
  {
   "cell_type": "code",
   "execution_count": null,
   "metadata": {},
   "outputs": [],
   "source": []
  }
 ],
 "metadata": {
  "kernelspec": {
   "display_name": "Python 3",
   "language": "python",
   "name": "python3"
  },
  "language_info": {
   "codemirror_mode": {
    "name": "ipython",
    "version": 3
   },
   "file_extension": ".py",
   "mimetype": "text/x-python",
   "name": "python",
   "nbconvert_exporter": "python",
   "pygments_lexer": "ipython3",
   "version": "3.7.4"
  }
 },
 "nbformat": 4,
 "nbformat_minor": 2
}
