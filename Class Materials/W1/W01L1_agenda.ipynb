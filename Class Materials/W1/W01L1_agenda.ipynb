{
 "cells": [
  {
   "cell_type": "markdown",
   "metadata": {
    "colab_type": "text",
    "id": "ZdMAGzIavoo3"
   },
   "source": [
    "<div style=\"text-align:center;color:#888888;\"><h2> IMP 5001 - Introduction to Medical Informatics </h2></div>\n",
    "<div style=\"text-align:center;\"><h1> Python & Anaconda 入門說明會 </h1></div>\n",
    "  \n",
    "  \n",
    "### Outline:\n",
    "#### 1. 處理 Anaconda 安裝過程疑難雜症 & 介紹基本command line\n",
    "#### 2. 介紹 jupyter notebook (& spyder)"
   ]
  },
  {
   "cell_type": "markdown",
   "metadata": {
    "colab_type": "text",
    "id": "n1JkQxQUvoo4"
   },
   "source": [
    "### 建議同學可先下載文字編輯器 (三者擇一即可)\n",
    "\n",
    "<div style=\"text-align:center;\">\n",
    "    <img style=\"height:150px;display:inline-block;margin:5px 20px;\" src=\"./figures/editor_vs_code.png\"/>\n",
    "    <img style=\"height:150px;display:inline-block;margin:5px 20px;\" src=\"figures/editor_sublime.png\"/>\n",
    "    <img style=\"height:150px;display:inline-block;margin:5px 20px;\" src=\"figures/editor_notepad.png\"/>\n",
    "</div>\n"
   ]
  },
  {
   "cell_type": "markdown",
   "metadata": {
    "colab_type": "text",
    "id": "qQ1n7Z1ivoo6"
   },
   "source": [
    "## Open command line \n",
    "\n",
    "### In windows\n",
    "\n",
    "For simplicity, we can use the `Anaconda Prompt` in Anaconda.\n",
    "\n",
    "Search `Anaconda Prompt` in the start menu.\n",
    "<img width=\"20%\" src=\"figures/cmd_win_start_menu.png\"/>\n",
    "\n",
    "Then click it to open Anaconda Prompt.\n",
    "<img width=\"60%\" src=\"figures/cmd_win_anaconda_prompt.png\"/>\n",
    "\n",
    "### In mac\n",
    "\n",
    "Use Spotlight Search. Type command-Space, enter **`terminal`** in the text box, and then select Terminal—Utilities.\n",
    "<img width=\"60%\" src=\"figures/cmd_mac_find_termial.png\"/>\n",
    "\n",
    "Then click it to open termial.\n",
    "<img width=\"60%\" src=\"figures/cmd_mac_termial.png\"/>\n"
   ]
  },
  {
   "cell_type": "markdown",
   "metadata": {
    "colab_type": "text",
    "id": "AQppNdkXvoo7"
   },
   "source": [
    "## Basic Commands\n",
    "<div style=\"color:#999999;text-align:right;\">Ref: <a href=\"https://arian-celina.com/windows-cmd-macos-terminal-navigation/\">Windows Command Line (CMD) and Mac OS Terminal Navigation Commands</a>\n",
    "   "
   ]
  },
  {
   "cell_type": "markdown",
   "metadata": {
    "colab_type": "text",
    "id": "gxOcXBH0voo7"
   },
   "source": [
    "### List files and folders\n",
    "If you want to list files and folders in that directory use:\n",
    "\n",
    "    WINDOWS : dir\n",
    "<img width=\"50%\" src=\"figures/cmd_win_dir.png\"/>\n",
    "\n",
    "\n",
    "    MAC OS : ls\n",
    "<img width=\"50%\" src=\"figures/cmd_mac_ls.png\"/>"
   ]
  },
  {
   "cell_type": "markdown",
   "metadata": {
    "colab_type": "text",
    "id": "gIloVPdwvoo8"
   },
   "source": [
    "### Move to directory\n",
    "If you want to change your current directory to another directory, use:\n",
    "\n",
    "    WINDOWS : cd “path to the folder”\n",
    "<img width=\"50%\" src=\"figures/cmd_win_cd.png\"/>\n",
    "\n",
    "\n",
    "    MAC OS : cd “path to the folder”\n",
    "<img width=\"50%\" src=\"figures/cmd_mac_cd.png\"/>\n",
    "\t"
   ]
  },
  {
   "cell_type": "markdown",
   "metadata": {
    "colab_type": "text",
    "id": "GoWu3o_vvoo8"
   },
   "source": [
    "### Get back to parent directory\n",
    "If you want to go one directory up in the directory tree, execute:\n",
    "\n",
    "    WINDOWS : cd ..\n",
    "<img width=\"50%\" src=\"figures/cmd_win_cd_back.png\"/>\n",
    "\n",
    "\n",
    "    #### MAC OS : cd ..\n",
    "<img width=\"50%\" src=\"figures/cmd_mac_cd_back.png\"/>\n",
    "\t"
   ]
  },
  {
   "cell_type": "markdown",
   "metadata": {
    "colab_type": "text",
    "id": "w-EzKM9Bvoo9"
   },
   "source": [
    "### Get to the root\n",
    "Wherever you are in the directory tree, you can move to the root directory by executing:\n",
    "\n",
    "    WINDOWS : cd \\\n",
    "<img width=\"50%\" src=\"figures/cmd_win_cd_root.png\"/>\n",
    "\n",
    "\n",
    "    MAC OS : cd /\n",
    "<img width=\"50%\" src=\"figures/cmd_mac_cd_root.png\"/>\n",
    "\t"
   ]
  },
  {
   "cell_type": "markdown",
   "metadata": {
    "colab_type": "text",
    "id": "eD_LkK-qvoo9"
   },
   "source": [
    "### Create a directory\n",
    "Creating a new directory is done using\n",
    "\n",
    "    WINDOWS : mkdir MyFolderName\t \n",
    "<img width=\"50%\" src=\"figures/cmd_win_mkdir.png\"/>\n",
    "\n",
    "\n",
    "    MAC OS : mkdir MyFolderName\n",
    "<img width=\"50%\" src=\"figures/cmd_mac_mkdir.png\"/>\n",
    "\t"
   ]
  },
  {
   "cell_type": "markdown",
   "metadata": {
    "colab_type": "text",
    "id": "YhDEDiFbvoo-"
   },
   "source": [
    "### Rename a directory\n",
    "To rename a directory execute:\n",
    "\n",
    "    WINDOWS : ren oldName newName\n",
    "<img width=\"50%\" src=\"figures/cmd_win_rename.png\"/>\n",
    "\n",
    "\n",
    "    MAC OS : mv oldName newName\n",
    "<img width=\"50%\" src=\"figures/cmd_mac_rename.png\"/>"
   ]
  },
  {
   "cell_type": "markdown",
   "metadata": {
    "colab_type": "text",
    "id": "LD9CF7YCvoo-"
   },
   "source": [
    "### Remove a directory\n",
    "Removing a directory first requires the directory to be emptied from contents, and then be removed. Removal commands are:\n",
    "    \n",
    "    WINDOWS : rmdir MyFolderName\n",
    "<img width=\"50%\" src=\"figures/cmd_win_rm_dir.png\"/>\n",
    "\n",
    "\n",
    "    MAC OS : rm -r MyFolderName\n",
    "<img width=\"50%\" src=\"figures/cmd_mac_rm_dir.png\"/>"
   ]
  },
  {
   "cell_type": "markdown",
   "metadata": {
    "colab_type": "text",
    "id": "waopv166voo_"
   },
   "source": [
    "### Check the Path\n",
    "Some programs need to be added to the PATH in order to be accessible through command line interface. If you want to check your current path, you can execute the following command:\n",
    "    \n",
    "    WINDOWS : cd\t\n",
    "<img width=\"50%\" src=\"figures/cmd_win_check_path.png\"/>\n",
    "\n",
    "\n",
    "    MAC OS : pwd\n",
    "<img width=\"50%\" src=\"figures/cmd_mac_check_path.png\"/>\n",
    "\n",
    "\n",
    "\n",
    "\n",
    "\t"
   ]
  },
  {
   "cell_type": "code",
   "execution_count": null,
   "metadata": {
    "colab": {},
    "colab_type": "code",
    "id": "6BjVgc03voo_"
   },
   "outputs": [],
   "source": []
  }
 ],
 "metadata": {
  "colab": {
   "name": "W01L1_agenda.ipynb",
   "provenance": []
  },
  "kernelspec": {
   "display_name": "Python 3 (ipykernel)",
   "language": "python",
   "name": "python3"
  },
  "language_info": {
   "codemirror_mode": {
    "name": "ipython",
    "version": 3
   },
   "file_extension": ".py",
   "mimetype": "text/x-python",
   "name": "python",
   "nbconvert_exporter": "python",
   "pygments_lexer": "ipython3",
   "version": "3.7.9"
  }
 },
 "nbformat": 4,
 "nbformat_minor": 2
}
