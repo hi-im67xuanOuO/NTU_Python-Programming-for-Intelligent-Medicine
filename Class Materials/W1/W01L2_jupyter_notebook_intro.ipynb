{
 "cells": [
  {
   "cell_type": "markdown",
   "metadata": {
    "colab_type": "text",
    "id": "ZpE0thy-vwEw"
   },
   "source": [
    "<div style=\"text-align:center;color:#888888;\"><h2> IMP 5001 - Introduction to Medical Informatics </h2></div>\n",
    "<div style=\"text-align:center;\"><h1> An introduction to jupyter notebook </h1></div>\n",
    "\n",
    "<div style=\"color:#999999;text-align:right;\">Ref: <a href=\"https://www.dataquest.io/blog/jupyter-notebook-tutorial/\">DATAQUEST</a>"
   ]
  },
  {
   "cell_type": "markdown",
   "metadata": {
    "colab_type": "text",
    "id": "hO3iiRQVvwEx"
   },
   "source": [
    "### Launch `jupyter notebook` from `Anaconda Navigator`\n",
    "<img width=\"50%\" src=\"figures/choose_jpnb.png\"/>"
   ]
  },
  {
   "cell_type": "markdown",
   "metadata": {
    "colab_type": "text",
    "id": "prr7rBgHvwEy"
   },
   "source": [
    "### Select `new` -> `Python 3` (notebook)\n",
    "<img width=\"80%\" src=\"figures/new_notebook.png\"/>\n",
    "\n",
    "#### Here we are! Your first Jupyter Notebook will open in new tab\n",
    "#### Each notebook uses its own tab because you can open multiple notebooks simultaneously.\n",
    "#### If you switch back to the dashboard, you will see the new file Untitled.ipynb with a green icon that tells you your notebook is running: \n",
    "<img width=\"40%\" src=\"figures/untitled_green.png\"/>"
   ]
  },
  {
   "cell_type": "markdown",
   "metadata": {
    "colab_type": "text",
    "id": "gyC1bSQLvwEz"
   },
   "source": [
    "### Now switch back to the notebook and rename it by clicking the title:\n",
    "<img width=\"90%\" src=\"figures/notebook_rename.png\"/>"
   ]
  },
  {
   "cell_type": "markdown",
   "metadata": {
    "colab_type": "text",
    "id": "UeYDhlj9vwEz"
   },
   "source": [
    "### There are two terms that you should notice: *`cell`* and *`kernel`* \n",
    "### They are key both to understanding Jupyter and to what makes it more than just a word processor.\n",
    "\n",
    "1. A *kernel* is a \"computational engine\" that executes the code contained in a notebook document.\n",
    "2. A *cell* is a container for text to be displayed in the notebook or code to be executed by the notebook's kernel."
   ]
  },
  {
   "cell_type": "markdown",
   "metadata": {
    "colab_type": "text",
    "id": "tUnwevjJvwE0"
   },
   "source": [
    "## Cells\n",
    "Cells form the body of a notebook\n",
    "### There are two main cell types:\n",
    "1. A **code cell** contains code to be executed in the kernel and displays its output below.\n",
    "2. A **Markdown cell** contains text formatted using Markdown and displays its output in-place when it is run.\n",
    "\n",
    "### Code Cells\n",
    "The first cell in a new notebook is always a **code cell**. Let's test it out with a classic hello world example.  \n",
    "Type **`print('Hello World!')`** into the cell and click the **`Run`** button in the toolbar above:\n",
    "<img width=\"60%\" src=\"figures/notebook_print_hello_world.png\"/>"
   ]
  },
  {
   "cell_type": "code",
   "execution_count": null,
   "metadata": {
    "colab": {},
    "colab_type": "code",
    "id": "IlYmG7NLvwE1",
    "outputId": "fce33987-5ed4-4f13-fabc-f13e29f08253"
   },
   "outputs": [
    {
     "name": "stdout",
     "output_type": "stream",
     "text": [
      "Hello World!\n"
     ]
    }
   ],
   "source": [
    "print(\"Hello World!\")"
   ]
  },
  {
   "cell_type": "markdown",
   "metadata": {
    "colab_type": "text",
    "id": "mB0feb-JvwE5"
   },
   "source": [
    " When you ran the cell, its output will have been displayed below and the label to its left will have changed from `In [ ]` to `In [1]`.  \n",
    "The output of a code cell also forms part of the document.  \n",
    "You can always tell the difference between code and Markdown cells because code cells have that label on the left and Markdown cells do not.  \n",
    "The `In` part of the label is simply short for \"Input,\" while the label number indicates when the cell was executed on the kernel — in this case the cell was executed first. Run the cell again and the label will change to `In [2]` because now the cell was the second to be run on the kernel."
   ]
  },
  {
   "cell_type": "markdown",
   "metadata": {
    "colab_type": "text",
    "id": "bwmBU43_vwE5"
   },
   "source": [
    "#### Now let's import some packages\n",
    "<img width=\"40%\" src=\"figures/notebook_import_time.png\"/>\n",
    "#### Then\n",
    "<img width=\"50%\" src=\"figures/notebook_time_sleep.png\"/>\n",
    "This cell doesn't produce any output, but it does take three seconds to execute.  \n",
    "Notice how Jupyter signifies that the cell is currently running by changing its label to In `[*]`.  \n",
    "  \n",
    "#### Add a new cell below by clicking the **`+`** button on the top bar"
   ]
  },
  {
   "cell_type": "code",
   "execution_count": null,
   "metadata": {
    "colab": {},
    "colab_type": "code",
    "id": "xkM3A1YuvwE6"
   },
   "outputs": [],
   "source": [
    "import time"
   ]
  },
  {
   "cell_type": "code",
   "execution_count": null,
   "metadata": {
    "colab": {},
    "colab_type": "code",
    "id": "gCLPJvDdvwE8"
   },
   "outputs": [],
   "source": [
    "time.sleep(3)"
   ]
  },
  {
   "cell_type": "markdown",
   "metadata": {
    "colab_type": "text",
    "id": "eprXj74fvwE-"
   },
   "source": [
    "### Markdown Cells\n",
    "Markdown is a lightweight, easy to learn markup language for formatting plain text. Its syntax has a one-to-one correspondance with HTML tags, so some prior knowledge here would be helpful but is not a prerequisite.  \n",
    "Let's cover the basics with a quick example.\n",
    "\n",
    "#### Change the cell type to `Markdown`\n",
    "<img width=\"70%\" src=\"figures/notebook_change_cell_type.png\"/>\n",
    "\n",
    "#### Then\n",
    "<img width=\"100%\" src=\"figures/notebook_markdown_example.png\"/>\n",
    "\n",
    "#### Run it\n",
    "<img width=\"90%\" src=\"figures/notebook_markdown_run.png\"/>"
   ]
  },
  {
   "cell_type": "markdown",
   "metadata": {
    "colab_type": "text",
    "id": "21TmimcivwE_"
   },
   "source": [
    "## Kernels\n",
    "\n",
    "Behind every notebook runs a kernel. When you run a code cell, that code is executed within the kernel and any output is returned back to the cell to be displayed. The kernel's state persists over time and between cells — it pertains to the document as a whole and not individual cells.  \n",
    "In an example above, we import **`time`** in a cell and it will be available for all other cells except that the kernel fails. Thus, we can call **`time.sleep(3)`** in another cell without import again."
   ]
  },
  {
   "cell_type": "markdown",
   "metadata": {
    "colab_type": "text",
    "id": "MLZlmcUJvwE_"
   },
   "source": [
    "### What if we restart the kernel and access `time` before import?\n",
    "restart the kernel\n",
    "<img width=\"60%\" src=\"figures/notebook_restart_kernel.png\"/>\n",
    "run the `time.sleep(3)` cell\n",
    "<img width=\"70%\" src=\"figures/notebook_access_before_import.png\"/>\n",
    "run the `import time` cell, then run this again  \n",
    "#### The NameError disappeared\n",
    "So next time your find similar error when viewing course material, **find the cell that declares the missed name, then run it again.**"
   ]
  },
  {
   "cell_type": "markdown",
   "metadata": {
    "colab_type": "text",
    "id": "jblMjKbSvwFA"
   },
   "source": [
    "### Sometimes we get different output when re-run the same cell\n",
    "declare a variable\n",
    "<img width=\"40%\" src=\"figures/notebook_declare_a.png\"/>\n",
    "multiply a by itself and print it out\n",
    "<img width=\"40%\" src=\"figures/notebook_a_by_a.png\"/>\n",
    "\n",
    "#### now re-run the second cell many times, and you will get a really large number!\n",
    "<img width=\"80%\" src=\"figures/notebook_large_a.png\"/>\n",
    "\n",
    "#### save and leave the notebook"
   ]
  },
  {
   "cell_type": "code",
   "execution_count": null,
   "metadata": {
    "colab": {},
    "colab_type": "code",
    "id": "H33MpDLfvwFA"
   },
   "outputs": [],
   "source": []
  }
 ],
 "metadata": {
  "colab": {
   "name": "W01L2_jupyter_notebook_intro.ipynb",
   "provenance": []
  },
  "kernelspec": {
   "display_name": "Python 3 (ipykernel)",
   "language": "python",
   "name": "python3"
  },
  "language_info": {
   "codemirror_mode": {
    "name": "ipython",
    "version": 3
   },
   "file_extension": ".py",
   "mimetype": "text/x-python",
   "name": "python",
   "nbconvert_exporter": "python",
   "pygments_lexer": "ipython3",
   "version": "3.7.9"
  }
 },
 "nbformat": 4,
 "nbformat_minor": 1
}
