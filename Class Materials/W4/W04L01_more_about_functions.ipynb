{
 "cells": [
  {
   "cell_type": "markdown",
   "metadata": {},
   "source": [
    "<div style=\"text-align:center;color:#888888;\"><h2> IMP 5001 - Introduction to Medical Informatics </h2></div>\n",
    "<div style=\"text-align:center;\"><h1> More About Functions </h1></div>\n",
    "\n",
    "<div style=\"color:#999999;text-align:right;\">Ref: <a href=\"http://www.ucs.cam.ac.uk/docs/course-notes/unix-courses/PythonAB\">Python: Introduction for Absolute Beginners</a> &ensp; <a href=\"https://learnpythonthehardway.org\">Learn Python the Hard Way</a> &ensp; <a href=\"https://www.w3schools.com/python/default.asp\">w3schools</a></div>"
   ]
  },
  {
   "cell_type": "markdown",
   "metadata": {},
   "source": [
    "## Binary search\n",
    "\n",
    "We can use functions to implement `binary search`, which is a searching algorithm to search something in a list. "
   ]
  },
  {
   "cell_type": "code",
   "execution_count": null,
   "metadata": {},
   "outputs": [],
   "source": [
    "def binary_search(_list, item):\n",
    "    # low and high keep track of which part of the list you'll search in.\n",
    "    low = 0\n",
    "    high = len(_list) - 1\n",
    "\n",
    "    # While you haven't narrowed it down to one element ...\n",
    "    while low <= high:\n",
    "        # ... check the middle element\n",
    "        mid = (low + high) // 2\n",
    "        guess = _list[mid]\n",
    "        # Found the item.\n",
    "        if guess == item:\n",
    "            return mid\n",
    "        # The guess was too high.\n",
    "        if guess > item:\n",
    "            high = mid - 1\n",
    "        # The guess was too low.\n",
    "        else:\n",
    "            low = mid + 1\n",
    "\n",
    "    # Item doesn't exist\n",
    "    return None"
   ]
  },
  {
   "cell_type": "code",
   "execution_count": null,
   "metadata": {},
   "outputs": [],
   "source": [
    "my_list = [1, 3, 5, 7, 9]\n",
    "print(binary_search(my_list, 7))"
   ]
  },
  {
   "cell_type": "code",
   "execution_count": null,
   "metadata": {},
   "outputs": [],
   "source": [
    "print(binary_search(my_list, -1))"
   ]
  },
  {
   "cell_type": "markdown",
   "metadata": {},
   "source": [
    "### <span style=\"color:red\">Exercise4:</span> Intersecting Sequences\n",
    "\n",
    "Write a function:\n",
    "\n",
    "    def intersect(seq1, seq2)\n",
    "\n",
    "that shows the intersecting elements of 2 sequences(lists).\n"
   ]
  },
  {
   "cell_type": "code",
   "execution_count": null,
   "metadata": {},
   "outputs": [],
   "source": [
    "# Exercise4\n",
    "\n",
    "def intersect(seq1, seq2):\n",
    "    # modify this function\n",
    "    # remember to remove the `pass` statement\n",
    "    pass\n",
    "\n",
    "print(intersect('Hello', 'Http'))\n",
    "print(intersect('SPAM','SCAM'))\n",
    "print(intersect([1, 2, 4, 8], [1, 3, 8, 11]))"
   ]
  },
  {
   "cell_type": "markdown",
   "metadata": {},
   "source": [
    "## Variables and parameters are local"
   ]
  },
  {
   "cell_type": "markdown",
   "metadata": {},
   "source": [
    "When you create a variable inside a function, it is **local**, which means that it **only exists inside the function**."
   ]
  },
  {
   "cell_type": "code",
   "execution_count": null,
   "metadata": {
    "scrolled": true
   },
   "outputs": [],
   "source": [
    "def concat(part1, part2):\n",
    "    cat = part1 + part2\n",
    "    print(cat)"
   ]
  },
  {
   "cell_type": "code",
   "execution_count": null,
   "metadata": {},
   "outputs": [],
   "source": [
    "p1 = 'Bing tiddle '\n",
    "p2 = 'tiddle bang.'\n",
    "\n",
    "concat(p1,p2)\n",
    "\n",
    "print(cat)  # Error: We do not know what 'cat' means from this viewpoint. (But within func concat, we know what 'cat' means)"
   ]
  },
  {
   "cell_type": "code",
   "execution_count": null,
   "metadata": {},
   "outputs": [],
   "source": [
    "#Scope Example\n",
    "X = 99          # We declare Global variable X, func\n",
    "\n",
    "def func():\n",
    "    #local scope\n",
    "    X = 88      # We declare Local variable X (and hence hides Global X). Everything happening to local X remains only in func() \n",
    "    \n",
    "func()\n",
    "print(X)       # Global varialbe X unchanged"
   ]
  },
  {
   "cell_type": "code",
   "execution_count": null,
   "metadata": {},
   "outputs": [],
   "source": [
    "# Local Variable Scope\n",
    "\n",
    "x = 100\n",
    "\n",
    "def f(x):\n",
    "    print(\"In f, x =\", x)\n",
    "    x += 5\n",
    "    print(\"In f, x =\", x)\n",
    "    return x\n",
    "\n",
    "def g(x):\n",
    "\n",
    "    print('func g() is called x is', x) \n",
    "    return f(x*2) + f(x*3)\n",
    "\n",
    "print(g(2))\n",
    "print('global variable x is', x) "
   ]
  },
  {
   "cell_type": "code",
   "execution_count": null,
   "metadata": {},
   "outputs": [],
   "source": [
    "f(x)"
   ]
  },
  {
   "cell_type": "code",
   "execution_count": null,
   "metadata": {},
   "outputs": [],
   "source": [
    "print('global variable x is', x) "
   ]
  },
  {
   "cell_type": "code",
   "execution_count": null,
   "metadata": {},
   "outputs": [],
   "source": [
    "# Another Example:\n",
    "\n",
    "def f(x):\n",
    "    print(\"In f, x =\", x)\n",
    "    x += 7\n",
    "    return round(x / 3)\n",
    "\n",
    "def g(x):\n",
    "    print(\"function g() is called, x is \", x)\n",
    "    x *= 10\n",
    "    return 2 * f(x)\n",
    "\n",
    "def h(x):\n",
    "    print(\"function h() is called, x is \", x) \n",
    "    x += 3\n",
    "    return f(x+4) + g(x)\n",
    "\n",
    "print(h(f(1)))"
   ]
  },
  {
   "cell_type": "code",
   "execution_count": null,
   "metadata": {},
   "outputs": [],
   "source": [
    "# Global statement\n",
    "X = 100          #Global variable X = 100, func2\n",
    "\n",
    "def func2():\n",
    "    global X\n",
    "    X = 99       #Global X: outside def\n",
    "    \n",
    "func2()\n",
    "print(X)"
   ]
  },
  {
   "cell_type": "code",
   "execution_count": null,
   "metadata": {
    "scrolled": true
   },
   "outputs": [],
   "source": [
    "#Global Scope\n",
    "g = 100\n",
    "\n",
    "# Within the WHOLE function f, if g is not defined, then within function f python will interpret g as global.\n",
    "def f(x):\n",
    "    y = x + g   # Interpret as the global g(=100)\n",
    "    return y\n",
    "\n",
    "print(f(5)) # 105\n",
    "print(f(6)) # 106\n",
    "print(g)    # 100"
   ]
  },
  {
   "cell_type": "code",
   "execution_count": null,
   "metadata": {},
   "outputs": [],
   "source": [
    "#Global Scope\n",
    "g = 100\n",
    "\n",
    "# Within the WHOLE function f, if g is anywhere defined, then within the WHOLE function f python will interpret g as local \n",
    "# variable (and hence hides global g).  \n",
    "def f(x):\n",
    "    y = x + g   # 2. As a result, the statement y = x+g, which refers to (not yet defined) local g, leads to an error.\n",
    "    g = 0       # 1. By this statement of assignment, python interprets every g within the whole function f as local variable.                 \n",
    "    return y\n",
    "\n",
    "print(f(5)) # 105\n",
    "print(f(6)) # 106\n",
    "print(g)    # 100"
   ]
  },
  {
   "cell_type": "code",
   "execution_count": null,
   "metadata": {},
   "outputs": [],
   "source": [
    "#Global Scope: Another Example\n",
    "g = 100\n",
    "\n",
    "def f(x):\n",
    "    # If we want to modify a global variable, we must declare it as global.\n",
    "    # Otherwise, Python will assume it is a local variable.\n",
    "    global g\n",
    "    g += 1\n",
    "    return x + g\n",
    "\n",
    "print(f(5)) # 106\n",
    "print(f(6)) # 108\n",
    "print(g)    # 102"
   ]
  },
  {
   "cell_type": "code",
   "execution_count": null,
   "metadata": {},
   "outputs": [],
   "source": [
    "y, z = 4, 5\n",
    "\n",
    "def te():\n",
    "    global k\n",
    "    k = y + z\n",
    "te()\n"
   ]
  },
  {
   "cell_type": "code",
   "execution_count": null,
   "metadata": {},
   "outputs": [],
   "source": [
    "print(k, y, z)"
   ]
  },
  {
   "cell_type": "code",
   "execution_count": null,
   "metadata": {},
   "outputs": [],
   "source": [
    "# Nested Scope \n",
    "# A reference (X) looks for the name X in the current local scope(function); \n",
    "# then in the local scope of any lexically enclosing function in the source code from\n",
    "# inner to outer; then in the current global scope (the module file)\n",
    "\n",
    "x = 99 \n",
    "\n",
    "def f1():\n",
    "    x = 88\n",
    "    def f2():\n",
    "        print(x)\n",
    "    f2()\n",
    "    \n",
    "f1()"
   ]
  },
  {
   "cell_type": "code",
   "execution_count": null,
   "metadata": {},
   "outputs": [],
   "source": [
    "x = 99 \n",
    "\n",
    "def f1():   \n",
    "    def f2():\n",
    "        print(x)\n",
    "    f2()\n",
    "    \n",
    "f1()"
   ]
  },
  {
   "cell_type": "markdown",
   "metadata": {},
   "source": [
    "## Call by reference or call by value?\n",
    "\n",
    "All parameters (arguments) in the Python language are passed by reference.  It means if you change the object a parameter refers to within a function, the change also reflects back in the calling function."
   ]
  },
  {
   "cell_type": "code",
   "execution_count": null,
   "metadata": {},
   "outputs": [],
   "source": [
    "def changeMe(lt):\n",
    "    lt.append([1,2,3,4]);\n",
    "    print(\"Values inside the function: \", lt)\n",
    "\n",
    "mylist = [10,20,30]\n",
    "changeMe( mylist )\n",
    "print(\"Values outside the function: \", mylist)"
   ]
  },
  {
   "cell_type": "code",
   "execution_count": null,
   "metadata": {},
   "outputs": [],
   "source": [
    "def changer(a, b, c, d):\n",
    "    print('In changer start', a is x, b is y, c is z, d is w)\n",
    "    a = 2\n",
    "    b[0] = 'spam'\n",
    "    c = ['spam', 4]\n",
    "    e = d.__add__(3)   # e is assigned as d + 3, but d is unchanged\n",
    "    print(a,b,c,d,e)\n",
    "    print('In changer end  ', a is x, b is y, c is z, d is w)\n",
    "\n",
    "x = 1\n",
    "y = [1, 2]\n",
    "z = [3, 4]\n",
    "w = 0\n",
    "print(x,y,z,w)\n",
    "changer(x,y,z,w)\n",
    "print(x,y,z,w)"
   ]
  },
  {
   "cell_type": "markdown",
   "metadata": {},
   "source": [
    "### Immutable arguments are effectively passed \"by value\" \n",
    "\n",
    "* In the event that you pass arguments like whole numbers, strings or tuples to a function, the passing is like <i>call-by-value</i> because you can not change the value of the immutable objects being passed to the function."
   ]
  },
  {
   "cell_type": "code",
   "execution_count": null,
   "metadata": {},
   "outputs": [],
   "source": [
    "x = 1\n",
    "y = [1, 2]\n",
    "z = [3, 4]\n",
    "y1 = y[:]   # y1 is a copy of y "
   ]
  },
  {
   "cell_type": "code",
   "execution_count": null,
   "metadata": {},
   "outputs": [],
   "source": [
    "changer(x, y[:], z, 999)"
   ]
  },
  {
   "cell_type": "code",
   "execution_count": null,
   "metadata": {},
   "outputs": [],
   "source": [
    "x, y, z"
   ]
  },
  {
   "cell_type": "markdown",
   "metadata": {},
   "source": [
    "## Argument Types\n",
    "\n",
    "There are 4 types of arguments:\n",
    "1. Required Arguments\n",
    "2. Keyword Arguments\n",
    "3. Default Arguments\n",
    "4. Variable-length Arguments"
   ]
  },
  {
   "cell_type": "markdown",
   "metadata": {},
   "source": [
    "### Required Arguments\n",
    "\n",
    "Required arguments are the arguments passed to a function in correct positional order. Here, the number of arguments in the function call should match exactly with the function definition.\n",
    "\n",
    "To call the function printme(), you definitely need to pass one argument, otherwise it gives a syntax error as follows:"
   ]
  },
  {
   "cell_type": "code",
   "execution_count": null,
   "metadata": {
    "scrolled": false
   },
   "outputs": [],
   "source": [
    "def printMe(s):\n",
    "    print(s)\n",
    "\n",
    "printMe()"
   ]
  },
  {
   "cell_type": "markdown",
   "metadata": {},
   "source": [
    "### Keyword Arguments\n",
    "\n",
    "When you use keyword arguments in a function call, the caller identifies the arguments **by the parameter name**.\n",
    "\n",
    "This allows you to skip arguments or place them out of order because the Python interpreter is able to use the keywords provided to match the values with parameters. You can also make keyword calls to the printme() function in the following ways"
   ]
  },
  {
   "cell_type": "code",
   "execution_count": null,
   "metadata": {
    "scrolled": false
   },
   "outputs": [],
   "source": [
    "def printInfo(name, age):\n",
    "    print(\"Name: \", name)\n",
    "    print(\"Age:  \", age)\n",
    "\n",
    "printInfo(age=50, name=\"miki\")"
   ]
  },
  {
   "cell_type": "markdown",
   "metadata": {},
   "source": [
    "### Default Arguments\n",
    "\n",
    "A default argument is an argument that **assumes a default value if a value is not provided in the function call** for that argument. The following example gives an idea on default arguments, it prints default age if it is not passed:"
   ]
  },
  {
   "cell_type": "code",
   "execution_count": null,
   "metadata": {
    "scrolled": false
   },
   "outputs": [],
   "source": [
    "def printInfo(name, age=35):\n",
    "    print(\"Name: \", name)\n",
    "    print(\"Age \", age)\n",
    "\n",
    "\n",
    "printInfo(name=\"miki\")\n",
    "\n",
    "# or just:\n",
    "printInfo(\"Din-Din\")"
   ]
  },
  {
   "cell_type": "markdown",
   "metadata": {},
   "source": [
    "#### Before going through the last type of argument, let's have some examples first:"
   ]
  },
  {
   "cell_type": "code",
   "execution_count": null,
   "metadata": {
    "scrolled": true
   },
   "outputs": [],
   "source": [
    "def teamIntro(team_name, member_a, member_b, member_c):\n",
    "    print(f\"Hello, we are team {team_name}!\")\n",
    "    print(\"There are 3 members in our team:\")\n",
    "    print(f\"{member_a}, {member_b}, {member_c}\")\n",
    "\n",
    "teamIntro('LuLaLe', 'Lu', 'La', 'Le')"
   ]
  },
  {
   "cell_type": "markdown",
   "metadata": {},
   "source": [
    "#### What if we don't know number of members when defining this function?"
   ]
  },
  {
   "cell_type": "code",
   "execution_count": null,
   "metadata": {
    "scrolled": true
   },
   "outputs": [],
   "source": [
    "def teamIntro(team_name, members):\n",
    "    print(f\"Hello, we are team {team_name}!\")\n",
    "    print(f\"There are {len(members)} members in our team:\")\n",
    "    print(f\"{', '.join(members)}\")\n",
    "\n",
    "members = ['Lu', 'La', 'Le', 'Lo']\n",
    "teamIntro('LuLaLeLo', members)"
   ]
  },
  {
   "cell_type": "markdown",
   "metadata": {},
   "source": [
    "#### What if we prefer calling function this way: *`teamIntro('LuLaLeLo', 'Lu', 'La', 'Le', 'Lo')`* ?\n",
    "#### (Note that number of arguments is variable)"
   ]
  },
  {
   "cell_type": "code",
   "execution_count": null,
   "metadata": {
    "scrolled": true
   },
   "outputs": [],
   "source": [
    "# Note the `Asterisk(*)`\n",
    "def teamIntro(team_name, *members):\n",
    "    print(f\"Hello, we are team {team_name}!\")\n",
    "    print(f\"There are {len(members)} members in our team:\")\n",
    "    print(f\"{', '.join(members)}\")\n",
    "    \n",
    "    # Now `members` is no longer a list, it's another data type called `tuple`\n",
    "    print(type(members))\n",
    "    print(members)\n",
    "\n",
    "teamIntro('Teletubbies', 'Din-Din', 'DC', 'La-La', 'Shao-Po')"
   ]
  },
  {
   "cell_type": "markdown",
   "metadata": {},
   "source": [
    "### Python `tuples`\n",
    "\n",
    "A **`tuple`** is a collection which is **ordered** and **unchangeable**. In Python, tuples are written with round brackets.\n",
    "\n",
    "Most of tuple operations are just like the way we operate `lists`, except that **tuples are unchangeable**."
   ]
  },
  {
   "cell_type": "code",
   "execution_count": null,
   "metadata": {
    "scrolled": true
   },
   "outputs": [],
   "source": [
    "fruits = ('apple', 'banana', 'cherry')\n",
    "\n",
    "print(fruits)\n",
    "print(fruits[0])\n",
    "print(fruits[1:])\n",
    "\n",
    "# Loops through a tuple\n",
    "for x in fruits:\n",
    "    print(x)\n",
    "\n",
    "# length of a tuple\n",
    "print(len(fruits))\n",
    "\n",
    "# you cannot modify tuple\n",
    "# this will raise an error\n",
    "# besides, you cannot add items to a tuple, either(i.e., tuples don't have `append()` method)\n",
    "fruits[1] = \"blackcurrant\""
   ]
  },
  {
   "cell_type": "markdown",
   "metadata": {},
   "source": [
    "#### Now let's go back to the last argument type -- `Variable-length Arguments`"
   ]
  },
  {
   "cell_type": "markdown",
   "metadata": {},
   "source": [
    "### Variable-length Arguments\n",
    "\n",
    "You may need to process a function for more arguments than you specified while defining the function. These arguments are called variable-length arguments and are not named in the function definition, unlike required and default arguments.\n",
    "\n",
    "Syntax for a function with non-keyword variable arguments:\n",
    "\n",
    "    def <function_name>([formal_args,] *var_args_tuple ):\n",
    "        <function body>\n",
    "\n",
    "An asterisk (\\*) is placed before the variable name that holds the values of all nonkeyword variable arguments. This tuple remains empty if no additional arguments are specified during the function call. Following is a simple example"
   ]
  },
  {
   "cell_type": "code",
   "execution_count": null,
   "metadata": {
    "scrolled": true
   },
   "outputs": [],
   "source": [
    "def printInfo(arg1, *vartuple):\n",
    "    print(\"Output is: \")\n",
    "    print(arg1)\n",
    "    for var in vartuple:\n",
    "        print(var)\n",
    "\n",
    "printInfo(10)\n",
    "printInfo(70, 60, 50)"
   ]
  },
  {
   "cell_type": "markdown",
   "metadata": {},
   "source": [
    "### <span style=\"color:red\">Exercise5:</span> Write a function named `splitAndPrint` that takes an arbitrary number of arguments, convert them to `str`, and prints odd-odered ones out in a sequence, separated by `_`\n",
    "\n",
    "hint: make good use of `str()`, `for` loop, and the `join()` function of strings\n"
   ]
  },
  {
   "cell_type": "code",
   "execution_count": null,
   "metadata": {},
   "outputs": [],
   "source": [
    "# Exercise4\n",
    "\n",
    "def splitAndPrint(*args):\n",
    "    # modify this function (remember to remove the `pass` statement)\n",
    "    pass\n",
    "                 \n",
    "splitAndPrint('a','b','c','d','e','f','g')\n",
    "splitAndPrint(*[i for i in range(20)])"
   ]
  },
  {
   "cell_type": "markdown",
   "metadata": {},
   "source": [
    "* Readability & Debuggability -- Group statements into a function with a **meaningful** name.\n",
    "* Elimination of repetitive code, ease of maintenance.\n",
    "* Divide and conquer.\n",
    "* Resue."
   ]
  }
 ],
 "metadata": {
  "kernelspec": {
   "display_name": "Python 3",
   "language": "python",
   "name": "python3"
  },
  "language_info": {
   "codemirror_mode": {
    "name": "ipython",
    "version": 3
   },
   "file_extension": ".py",
   "mimetype": "text/x-python",
   "name": "python",
   "nbconvert_exporter": "python",
   "pygments_lexer": "ipython3",
   "version": "3.7.4"
  }
 },
 "nbformat": 4,
 "nbformat_minor": 2
}
