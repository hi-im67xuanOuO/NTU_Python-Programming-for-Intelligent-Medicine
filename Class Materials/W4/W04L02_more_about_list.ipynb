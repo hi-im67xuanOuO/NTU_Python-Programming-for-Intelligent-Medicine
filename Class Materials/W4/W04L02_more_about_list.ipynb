{
 "cells": [
  {
   "cell_type": "markdown",
   "metadata": {},
   "source": [
    "<div style=\"text-align:center;color:#888888;\"><h2> IMP 5001 - Introduction to Medical Informatics </h2></div>\n",
    "<div style=\"text-align:center;\"><h1> More about Lists </h1></div>\n",
    "\n",
    "<div style=\"color:#999999;text-align:right;\">Ref: <a href=\"http://www.ucs.cam.ac.uk/docs/course-notes/unix-courses/PythonAB\">Python: Introduction for Absolute Beginners</a> &ensp; <a href=\"https://learnpythonthehardway.org\">Learn Python the Hard Way</a> &ensp; <a href=\"https://www.w3schools.com/python/default.asp\">w3schools</a></div>"
   ]
  },
  {
   "cell_type": "markdown",
   "metadata": {},
   "source": [
    "We will talk more about python `list` in this lecture"
   ]
  },
  {
   "cell_type": "markdown",
   "metadata": {},
   "source": [
    "## Review"
   ]
  },
  {
   "cell_type": "code",
   "execution_count": null,
   "metadata": {},
   "outputs": [],
   "source": [
    "# create a list\n",
    "l = [-20, -10, 5, 2, 8]\n",
    "print(l)"
   ]
  },
  {
   "cell_type": "code",
   "execution_count": null,
   "metadata": {},
   "outputs": [],
   "source": [
    "# add an element to the end of the list\n",
    "l.append(20)\n",
    "print(l)"
   ]
  },
  {
   "cell_type": "code",
   "execution_count": null,
   "metadata": {},
   "outputs": [],
   "source": [
    "# concatenate 2 lists with `+` operator\n",
    "l = l + [40,50]\n",
    "print(l)"
   ]
  },
  {
   "cell_type": "code",
   "execution_count": null,
   "metadata": {},
   "outputs": [],
   "source": [
    "# concatenate 2 lists with `extend()` function\n",
    "l.extend([88,99,102])\n",
    "print(l)"
   ]
  },
  {
   "cell_type": "code",
   "execution_count": null,
   "metadata": {},
   "outputs": [],
   "source": [
    "# insert an element to a specific position\n",
    "l.insert(3,7)\n",
    "print(l)"
   ]
  },
  {
   "cell_type": "code",
   "execution_count": null,
   "metadata": {},
   "outputs": [],
   "source": [
    "# delete the 3rd element with `del` statement\n",
    "del l[2]\n",
    "print(l)"
   ]
  },
  {
   "cell_type": "code",
   "execution_count": null,
   "metadata": {},
   "outputs": [],
   "source": [
    "# delete a specific element with `remove()` function\n",
    "l.remove(7)\n",
    "print(l)"
   ]
  },
  {
   "cell_type": "code",
   "execution_count": null,
   "metadata": {},
   "outputs": [],
   "source": [
    "# get the last item and remove it from the list with `pop()` function\n",
    "i = l.pop()\n",
    "print(i)\n",
    "print(l)"
   ]
  },
  {
   "cell_type": "code",
   "execution_count": null,
   "metadata": {},
   "outputs": [],
   "source": [
    "# get the item at a given index and remove it from the list with `pop()` function\n",
    "i = l.pop(3)\n",
    "print(i)\n",
    "print(l)"
   ]
  },
  {
   "cell_type": "code",
   "execution_count": null,
   "metadata": {},
   "outputs": [],
   "source": [
    "# some list properties\n",
    "print(\"len =\", len(l))\n",
    "print(\"min =\", min(l))\n",
    "print(\"max =\", max(l))\n",
    "print(\"sum =\", sum(l))"
   ]
  },
  {
   "cell_type": "code",
   "execution_count": null,
   "metadata": {},
   "outputs": [],
   "source": [
    "# find index for an element\n",
    "print(l.index(40))"
   ]
  },
  {
   "cell_type": "code",
   "execution_count": null,
   "metadata": {},
   "outputs": [],
   "source": [
    "# check if an element is in the list\n",
    "print(27 in l)"
   ]
  },
  {
   "cell_type": "code",
   "execution_count": null,
   "metadata": {},
   "outputs": [],
   "source": [
    "# list indexing\n",
    "print(l[2])\n",
    "print(l[-2])\n",
    "print(l[2:5])\n",
    "print(l[2:-1:2])"
   ]
  },
  {
   "cell_type": "code",
   "execution_count": null,
   "metadata": {},
   "outputs": [],
   "source": [
    "# remove items with slice assignment\n",
    "print(l)\n",
    "l[2:4] = []\n",
    "print(l)"
   ]
  },
  {
   "cell_type": "code",
   "execution_count": null,
   "metadata": {},
   "outputs": [],
   "source": [
    "# remove items with `del` statement\n",
    "del l[2:4]\n",
    "print(l)"
   ]
  },
  {
   "cell_type": "markdown",
   "metadata": {},
   "source": [
    "## Sawpping Elements"
   ]
  },
  {
   "cell_type": "code",
   "execution_count": null,
   "metadata": {},
   "outputs": [],
   "source": [
    "# failed swap\n",
    "\n",
    "a = [ 2, 3, 5, 7 ]\n",
    "print(\"a =\", a)\n",
    "\n",
    "a[0] = a[1]\n",
    "a[1] = a[0]\n",
    "print(\"After failed swap of a[0] and a[1]:\")\n",
    "print(\"   a=\",a)"
   ]
  },
  {
   "cell_type": "code",
   "execution_count": null,
   "metadata": {},
   "outputs": [],
   "source": [
    "# swap with a temp variable\n",
    "a = [ 2, 3, 5, 7 ]\n",
    "print(\"a =\", a)\n",
    "\n",
    "temp = a[0]\n",
    "a[0] = a[1]\n",
    "a[1] = temp\n",
    "print(\"After swapping a[0] and a[1]:\")\n",
    "print(\"   a=\",a)"
   ]
  },
  {
   "cell_type": "code",
   "execution_count": null,
   "metadata": {},
   "outputs": [],
   "source": [
    "# swap with parallel (tuple) assignment\n",
    "a = [ 2, 3, 5, 7 ]\n",
    "print(\"a =\", a)\n",
    "\n",
    "a[0],a[1] = a[1],a[0]\n",
    "print(\"After swapping a[0] and a[1]:\")\n",
    "print(\"   a=\",a)"
   ]
  },
  {
   "cell_type": "markdown",
   "metadata": {},
   "source": [
    "## Looping Forward and Backward"
   ]
  },
  {
   "cell_type": "code",
   "execution_count": null,
   "metadata": {},
   "outputs": [],
   "source": [
    "# looping backward\n",
    "a = [ 2, 3, 5, 7 ]\n",
    "print(\"And here are the items in reverse:\")\n",
    "for index in range(len(a)):\n",
    "    revIndex = len(a)-1-index\n",
    "    print(\"a[\", revIndex, \"] =\", a[revIndex])"
   ]
  },
  {
   "cell_type": "code",
   "execution_count": null,
   "metadata": {},
   "outputs": [],
   "source": [
    "# looping backward with reversed(list)\n",
    "a = [ 2, 3, 5, 7 ]\n",
    "print(\"And here are the items in reverse:\")\n",
    "for item in reversed(a):\n",
    "    print(item)\n",
    "print(a)"
   ]
  },
  {
   "cell_type": "code",
   "execution_count": null,
   "metadata": {
    "scrolled": true
   },
   "outputs": [],
   "source": [
    "# looping backward with destructive list.reverse()\n",
    "\n",
    "a = [ 2, 3, 5, 7 ]\n",
    "print(\"And here are the items in reverse:\")\n",
    "a.reverse()\n",
    "for item in a:\n",
    "    print(item)\n",
    "print(a)"
   ]
  },
  {
   "cell_type": "markdown",
   "metadata": {},
   "source": [
    "## Comparing Lists\n",
    "\n",
    "The `lists` are compared **element-by-element** in lexicographical ordering."
   ]
  },
  {
   "cell_type": "code",
   "execution_count": null,
   "metadata": {
    "scrolled": true
   },
   "outputs": [],
   "source": [
    "a = [2, 3, 5, 3, 7]\n",
    "b = [2, 3, 5, 3, 7]\n",
    "c = [2, 3, 5, 3, 8]\n",
    "d = [2, 3, 5, 4, 0]\n",
    "e = [2, 3, 5]\n",
    "f = [2, 3, 5, 4]\n",
    "\n",
    "print(\"a == b:\", (a == b))\n",
    "print(\"a == c:\", (a == c))\n",
    "print(\"a < c:\", (a < c))\n",
    "print(\"a < d:\", (a < d))\n",
    "print(\"a < e:\", (a < e))\n",
    "print(\"a > e:\", (a > e))\n",
    "print(\"a == e:\", (a == e))\n",
    "print(\"a > f:\", (a > f))\n",
    "print(\"a < f:\", (a < f))"
   ]
  },
  {
   "cell_type": "markdown",
   "metadata": {},
   "source": [
    "### <span style=\"color:red\">Exercise1:</span> Score Comparison\n",
    "\n",
    "A programming constest has following scoring rules:\n",
    "1. A contestant's final position is determined by his/her latest score\n",
    "2. If two contestants have the same lastest score, compare the second score count from end instead. So on and so forth.\n",
    "\n",
    "Please write a program to determine the winner among 2 contestants given their scores.\n"
   ]
  },
  {
   "cell_type": "code",
   "execution_count": null,
   "metadata": {},
   "outputs": [],
   "source": [
    "# Exercise1\n",
    "\n",
    "score1 = [80, 75, 92, 88, 94]\n",
    "score2 = [58, 72, 60, 70, 93, 88, 94]\n",
    "\n",
    "# write your code here to determine the winner\n",
    "winner = 'contestant 1'\n",
    "\n",
    "print(\"score1 is\", score1)\n",
    "print(\"score2 is\", score2)\n",
    "print(f\"The winner is... {winner}!\")"
   ]
  },
  {
   "cell_type": "markdown",
   "metadata": {},
   "source": [
    "## Copy vs. Alias"
   ]
  },
  {
   "cell_type": "code",
   "execution_count": null,
   "metadata": {},
   "outputs": [],
   "source": [
    "import copy\n",
    "\n",
    "a = [2, 3]\n",
    "b = a             # This is not a copy, but an alias\n",
    "c = copy.copy(a)  # Ok\n",
    "\n",
    "# At first, things seem ok\n",
    "print(\"At first...\")\n",
    "print(\"   a =\", a)\n",
    "print(\"   b =\", b)\n",
    "print(\"   c =\", c)\n",
    "\n",
    "# Now modify a[0]\n",
    "a[0] = 42\n",
    "print(\"But after a[0] = 42\")\n",
    "print(\"   a =\", a)\n",
    "print(\"   b =\", b)\n",
    "print(\"   c =\", c)"
   ]
  },
  {
   "cell_type": "code",
   "execution_count": null,
   "metadata": {},
   "outputs": [],
   "source": [
    "import copy\n",
    "\n",
    "a = [2, 3]\n",
    "\n",
    "# Other ways to copy\n",
    "b = copy.copy(a)\n",
    "c = a[:]\n",
    "d = a + [ ]\n",
    "e = list(a)\n",
    "f = copy.deepcopy(a)\n",
    "\n",
    "a[0] = 42\n",
    "print(a, b, c, d, e, f)"
   ]
  },
  {
   "cell_type": "code",
   "execution_count": null,
   "metadata": {},
   "outputs": [],
   "source": [
    "import copy\n",
    "\n",
    "# Create a 2d list\n",
    "a = [ [ 1, 2, 3 ] , [ 4, 5, 6 ] ]\n"
   ]
  },
  {
   "cell_type": "code",
   "execution_count": null,
   "metadata": {},
   "outputs": [],
   "source": [
    "b = copy.copy(a)\n",
    "c = a[:]\n",
    "e = list(a)\n",
    "f = copy.deepcopy(a)\n",
    "a[0][0] = 9"
   ]
  },
  {
   "cell_type": "code",
   "execution_count": null,
   "metadata": {},
   "outputs": [],
   "source": [
    "print(b)\n",
    "print(c)\n",
    "print(e)\n",
    "print(f)"
   ]
  },
  {
   "cell_type": "markdown",
   "metadata": {},
   "source": [
    "## Sorting Lists"
   ]
  },
  {
   "cell_type": "code",
   "execution_count": null,
   "metadata": {},
   "outputs": [],
   "source": [
    "# destructively with list.sort()\n",
    "\n",
    "a = [ 7, 2, 5, 3, 5, 11, 7 ]\n",
    "print(\"At first, a =\", a)\n",
    "a.sort()\n",
    "print(\"After a.sort(), a =\",a)"
   ]
  },
  {
   "cell_type": "code",
   "execution_count": null,
   "metadata": {},
   "outputs": [],
   "source": [
    "# non-destructively with sorted(list)\n",
    "\n",
    "a = [ 7, 2, 5, 3, 5, 11, 7 ]\n",
    "print(\"At first\")\n",
    "print(\"   a =\", a)\n",
    "b = sorted(a)\n",
    "print(\"After b = sorted(a)\")\n",
    "print(\"   a =\", a)\n",
    "print(\"   b =\", b)"
   ]
  },
  {
   "cell_type": "code",
   "execution_count": null,
   "metadata": {},
   "outputs": [],
   "source": [
    "# sorting with a key function\n",
    "a = [ 10, 2, -5, 8, -3, 7, 1 ]\n",
    "print(sorted(a))\n",
    "print(sorted(a, key=abs))"
   ]
  },
  {
   "cell_type": "markdown",
   "metadata": {},
   "source": [
    "## Iterating multiple lists simultaneously"
   ]
  },
  {
   "cell_type": "code",
   "execution_count": null,
   "metadata": {},
   "outputs": [],
   "source": [
    "a = [i for i in range(1,11)]\n",
    "b = [1/j for j in a]"
   ]
  },
  {
   "cell_type": "code",
   "execution_count": null,
   "metadata": {},
   "outputs": [],
   "source": [
    "a "
   ]
  },
  {
   "cell_type": "code",
   "execution_count": null,
   "metadata": {},
   "outputs": [],
   "source": [
    "b"
   ]
  },
  {
   "cell_type": "code",
   "execution_count": null,
   "metadata": {
    "scrolled": true
   },
   "outputs": [],
   "source": [
    "# way 1: iterate with index\n",
    "\n",
    "for k in range(len(a)):\n",
    "    print(f\"Reciprocal of {a[k]}: {round(b[k],3)}\")"
   ]
  },
  {
   "cell_type": "code",
   "execution_count": null,
   "metadata": {
    "scrolled": true
   },
   "outputs": [],
   "source": [
    "# way 2: zip() function\n",
    "\n",
    "for aa, bb in zip(a, b):\n",
    "    print(f\"Reciprocal of {aa}: {round(bb,3)}\")"
   ]
  },
  {
   "cell_type": "markdown",
   "metadata": {},
   "source": [
    "### <span style=\"color:red\">Exercise2:</span> Score Table\n",
    "\n",
    "Please print out a transcript according to given name and score info.\n",
    "\n",
    "Note: the spaces between items are Tabs ('\\t')\n"
   ]
  },
  {
   "cell_type": "code",
   "execution_count": null,
   "metadata": {},
   "outputs": [],
   "source": [
    "# Exercise2\n",
    "\n",
    "names = ['Lu Lu', 'Le Le', 'La La', 'Lo Lo', 'Di Di']\n",
    "score_chinese = [80, 75, 92, 88, 94]\n",
    "score_english = [58, 72, 60, 70, 93]\n",
    "score_math = [80, 65, 77, 54, 98]\n",
    "\n",
    "# write your code here"
   ]
  },
  {
   "cell_type": "markdown",
   "metadata": {},
   "source": [
    "## Nested Lists\n",
    "Nested lists are **lists of lists** (of lists...)"
   ]
  },
  {
   "cell_type": "markdown",
   "metadata": {},
   "source": [
    "Supposed that we are going to create a **table** of temperature degrees in both celsius(°C) and fahrenheit(°F)"
   ]
  },
  {
   "cell_type": "markdown",
   "metadata": {},
   "source": [
    "Lets try to create table1 first:"
   ]
  },
  {
   "cell_type": "code",
   "execution_count": 1,
   "metadata": {},
   "outputs": [
    {
     "name": "stdout",
     "output_type": "stream",
     "text": [
      "[[20, 25, 30, 35, 40], [68.0, 77.0, 86.0, 95.0, 104.0]]\n",
      "[20, 25, 30, 35, 40]\n",
      "30\n"
     ]
    }
   ],
   "source": [
    "c_degrees = [c for c in range(20, 41, 5)]\n",
    "f_degrees = [(9/5)*c + 32 for c in c_degrees]\n",
    "table1 = [c_degrees, f_degrees]\n",
    "\n",
    "print(table1)\n",
    "print(table1[0])\n",
    "print(table1[0][2])"
   ]
  },
  {
   "cell_type": "markdown",
   "metadata": {},
   "source": [
    "Then table2:"
   ]
  },
  {
   "cell_type": "code",
   "execution_count": null,
   "metadata": {},
   "outputs": [],
   "source": [
    "table2 = [[c, f] for c, f in zip(c_degrees, f_degrees)]\n",
    "\n",
    "print(table2)\n",
    "print(table2[3])\n",
    "print(table2[3][1])"
   ]
  },
  {
   "cell_type": "markdown",
   "metadata": {},
   "source": [
    "### Traversing Nested Lists"
   ]
  },
  {
   "cell_type": "code",
   "execution_count": null,
   "metadata": {},
   "outputs": [],
   "source": [
    "# `scores` is a list recording several player's scores in a game.\n",
    "# each player has different times of trial\n",
    "\n",
    "scores = []\n",
    "# score of player no. 0:\n",
    "scores.append([12, 16, 11, 12])\n",
    "# score of player no. 1:\n",
    "scores.append([9])\n",
    "# score of player no. 2:\n",
    "scores.append([6, 9, 11, 14, 17, 15, 14, 20])\n",
    "\n",
    "for p in range(len(scores)):\n",
    "    print(f\"Player{p}: \", end='')\n",
    "    for g in range(len(scores[p])):\n",
    "        score = scores[p][g]\n",
    "        print(f\"{score} \", end='')\n",
    "    print(\"\")"
   ]
  },
  {
   "cell_type": "code",
   "execution_count": null,
   "metadata": {},
   "outputs": [],
   "source": []
  }
 ],
 "metadata": {
  "kernelspec": {
   "display_name": "Python 3",
   "language": "python",
   "name": "python3"
  },
  "language_info": {
   "codemirror_mode": {
    "name": "ipython",
    "version": 3
   },
   "file_extension": ".py",
   "mimetype": "text/x-python",
   "name": "python",
   "nbconvert_exporter": "python",
   "pygments_lexer": "ipython3",
   "version": "3.7.4"
  }
 },
 "nbformat": 4,
 "nbformat_minor": 2
}
