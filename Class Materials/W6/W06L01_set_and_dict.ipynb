{
 "cells": [
  {
   "cell_type": "markdown",
   "metadata": {
    "id": "61IcUkLmcA9h"
   },
   "source": [
    "<div style=\"text-align:center;color:#888888;\"><h2> IMP 5001 - Introduction to Medical Informatics </h2></div>\n",
    "<div style=\"text-align:center;\"><h1> Set and Dict </h1></div>"
   ]
  },
  {
   "cell_type": "markdown",
   "metadata": {
    "id": "m5F5JE1FcA9l"
   },
   "source": [
    "## Set"
   ]
  },
  {
   "cell_type": "code",
   "execution_count": null,
   "metadata": {
    "id": "a4DivbuecA9m",
    "outputId": "c56e0fd0-5d21-4862-a0e5-44d2934fd850"
   },
   "outputs": [
    {
     "name": "stdout",
     "output_type": "stream",
     "text": [
      "set()\n"
     ]
    }
   ],
   "source": [
    "# Creating Sets \n",
    "# Create an empty set \n",
    "\n",
    "s = set()\n",
    "print(s)     # prints set()\n",
    "\n"
   ]
  },
  {
   "cell_type": "code",
   "execution_count": null,
   "metadata": {
    "id": "1iI1L70TcA9o",
    "outputId": "4e1229e0-5ca5-456f-b70b-70832e309f98"
   },
   "outputs": [
    {
     "name": "stdout",
     "output_type": "stream",
     "text": [
      "False\n",
      "<class 'dict'>\n"
     ]
    }
   ],
   "source": [
    "# Caution: { } is not an empty set! \n",
    "s = { }\n",
    "print(type(s) == set)  # False!\n",
    "print(type(s))         # This is a dict (we'll learn about those soon)\n"
   ]
  },
  {
   "cell_type": "code",
   "execution_count": null,
   "metadata": {
    "id": "wk_VKA85cA9o",
    "outputId": "41377bbe-b5d1-4c26-f693-96620e6ff546"
   },
   "outputs": [
    {
     "name": "stdout",
     "output_type": "stream",
     "text": [
      "{2}\n",
      "1\n"
     ]
    }
   ],
   "source": [
    "# Elements are unique\n",
    "\n",
    "s = set([2,2,2])\n",
    "print(s)          # prints {2}\n",
    "print(len(s))     # prints 1\n"
   ]
  },
  {
   "cell_type": "code",
   "execution_count": null,
   "metadata": {
    "id": "A9YfPLfYcA9p",
    "outputId": "e32168a8-a3f6-4408-b1fc-4a8ce57858e7"
   },
   "outputs": [
    {
     "name": "stdout",
     "output_type": "stream",
     "text": [
      "<class 'set'>\n",
      "{2, 3, 5}\n"
     ]
    }
   ],
   "source": [
    "# Create a statically-allocated set \n",
    "s = { 2, 3, 5 }\n",
    "\n",
    "print(type(s))\n",
    "\n",
    "print(s)    # prints { 2, 3, 5 }\n"
   ]
  },
  {
   "cell_type": "code",
   "execution_count": null,
   "metadata": {
    "id": "D_qx1mMLcA9q",
    "outputId": "c236d8f4-32e4-4923-e7ae-b163525eb6b1"
   },
   "outputs": [
    {
     "name": "stdout",
     "output_type": "stream",
     "text": [
      "{8, 2, 4}\n",
      "8\n",
      "2\n",
      "4\n"
     ]
    }
   ],
   "source": [
    "# Properties of Sets  \n",
    "# Sets are unordered\n",
    "\n",
    "s = set([2,4,8])\n",
    "print(s)          # prints {8, 2, 4} in standard Python  \n",
    "\n",
    "for element in s: # prints 8, 2, 4\n",
    "    print(element)\n",
    "\n"
   ]
  },
  {
   "cell_type": "code",
   "execution_count": null,
   "metadata": {
    "id": "4lXOzpVIcA9r",
    "outputId": "a459286b-6dba-4d76-d905-b788fde75bfa"
   },
   "outputs": [
    {
     "name": "stdout",
     "output_type": "stream",
     "text": [
      "{'dog', 'cow', 'cat'}\n"
     ]
    }
   ],
   "source": [
    "# Create a set from a list \n",
    "\n",
    "s = set([\"cat\", \"cow\", \"dog\"])\n",
    "print(s)\n"
   ]
  },
  {
   "cell_type": "code",
   "execution_count": null,
   "metadata": {
    "id": "07Jj4rFKcA9r",
    "outputId": "616b5c78-0317-48ea-9148-04cdb9faacda"
   },
   "outputs": [
    {
     "name": "stdout",
     "output_type": "stream",
     "text": [
      "{'o', 'w', 'h', 'a'}\n"
     ]
    }
   ],
   "source": [
    "# Create a set from any iterable object \n",
    "\n",
    "s = set(\"wahoo\")\n",
    "print(s)     \n"
   ]
  },
  {
   "cell_type": "code",
   "execution_count": null,
   "metadata": {
    "id": "V74Zj_E_cA9s",
    "outputId": "0fd00091-9510-4dfd-916c-88f31d696354"
   },
   "outputs": [
    {
     "name": "stdout",
     "output_type": "stream",
     "text": [
      "{'mutable', 'are', 'lists'}\n"
     ]
    }
   ],
   "source": [
    "b = set([\"lists\", \"are\", \"mutable\"])\n",
    "print(b)"
   ]
  },
  {
   "cell_type": "code",
   "execution_count": null,
   "metadata": {
    "id": "CwiBrCp_cA9s",
    "outputId": "2b20591f-cde6-4227-f139-9083365ffb71"
   },
   "outputs": [
    {
     "name": "stdout",
     "output_type": "stream",
     "text": [
      "{'mutable', 'are', 'lists'}\n"
     ]
    }
   ],
   "source": [
    "a = [\"lists\", \"are\", \"mutable\"]\n",
    "c = set(a)\n",
    "print(c)"
   ]
  },
  {
   "cell_type": "code",
   "execution_count": null,
   "metadata": {
    "id": "72_JqXk1cA9t",
    "outputId": "d2a7828f-e1ae-4901-de17-52c67a2a242f"
   },
   "outputs": [
    {
     "ename": "TypeError",
     "evalue": "unhashable type: 'list'",
     "output_type": "error",
     "traceback": [
      "\u001b[1;31m---------------------------------------------------------------------------\u001b[0m",
      "\u001b[1;31mTypeError\u001b[0m                                 Traceback (most recent call last)",
      "\u001b[1;32m<ipython-input-10-821d2096ad58>\u001b[0m in \u001b[0;36m<module>\u001b[1;34m\u001b[0m\n\u001b[1;32m----> 1\u001b[1;33m \u001b[0md\u001b[0m \u001b[1;33m=\u001b[0m \u001b[1;33m{\u001b[0m\u001b[0ma\u001b[0m\u001b[1;33m}\u001b[0m\u001b[1;33m\u001b[0m\u001b[0m\n\u001b[0m",
      "\u001b[1;31mTypeError\u001b[0m: unhashable type: 'list'"
     ]
    }
   ],
   "source": [
    "d = {a}"
   ]
  },
  {
   "cell_type": "code",
   "execution_count": null,
   "metadata": {
    "id": "KuQBp9HscA9u",
    "outputId": "4c774f9a-3607-41a9-953d-351f08cb5bcd"
   },
   "outputs": [
    {
     "ename": "TypeError",
     "evalue": "unhashable type: 'list'",
     "output_type": "error",
     "traceback": [
      "\u001b[1;31m---------------------------------------------------------------------------\u001b[0m",
      "\u001b[1;31mTypeError\u001b[0m                                 Traceback (most recent call last)",
      "\u001b[1;32m<ipython-input-11-848ced3076fc>\u001b[0m in \u001b[0;36m<module>\u001b[1;34m\u001b[0m\n\u001b[0;32m      2\u001b[0m \u001b[1;33m\u001b[0m\u001b[0m\n\u001b[0;32m      3\u001b[0m \u001b[0ma\u001b[0m \u001b[1;33m=\u001b[0m \u001b[1;33m[\u001b[0m\u001b[1;34m\"lists\"\u001b[0m\u001b[1;33m,\u001b[0m \u001b[1;34m\"are\"\u001b[0m\u001b[1;33m,\u001b[0m \u001b[1;34m\"mutable\"\u001b[0m\u001b[1;33m]\u001b[0m\u001b[1;33m\u001b[0m\u001b[0m\n\u001b[1;32m----> 4\u001b[1;33m \u001b[0ms\u001b[0m \u001b[1;33m=\u001b[0m \u001b[0mset\u001b[0m\u001b[1;33m(\u001b[0m\u001b[1;33m[\u001b[0m\u001b[0ma\u001b[0m\u001b[1;33m]\u001b[0m\u001b[1;33m)\u001b[0m       \u001b[1;31m# TypeError: unhashable type: 'list'\u001b[0m\u001b[1;33m\u001b[0m\u001b[0m\n\u001b[0m\u001b[0;32m      5\u001b[0m \u001b[0mprint\u001b[0m\u001b[1;33m(\u001b[0m\u001b[0ms\u001b[0m\u001b[1;33m)\u001b[0m\u001b[1;33m\u001b[0m\u001b[0m\n",
      "\u001b[1;31mTypeError\u001b[0m: unhashable type: 'list'"
     ]
    }
   ],
   "source": [
    "# Elements Must Be Immutable\n",
    "\n",
    "a = [\"lists\", \"are\", \"mutable\"]\n",
    "s = set([a])       # TypeError: unhashable type: 'list'\n",
    "print(s)\n"
   ]
  },
  {
   "cell_type": "code",
   "execution_count": null,
   "metadata": {
    "id": "KSnq6QmrcA9u",
    "outputId": "90185d01-bc01-4732-864f-874acbdebaec"
   },
   "outputs": [
    {
     "ename": "TypeError",
     "evalue": "unhashable type: 'set'",
     "output_type": "error",
     "traceback": [
      "\u001b[1;31m---------------------------------------------------------------------------\u001b[0m",
      "\u001b[1;31mTypeError\u001b[0m                                 Traceback (most recent call last)",
      "\u001b[1;32m<ipython-input-12-9e22b415e560>\u001b[0m in \u001b[0;36m<module>\u001b[1;34m\u001b[0m\n\u001b[0;32m      2\u001b[0m \u001b[1;33m\u001b[0m\u001b[0m\n\u001b[0;32m      3\u001b[0m \u001b[0ms1\u001b[0m \u001b[1;33m=\u001b[0m \u001b[0mset\u001b[0m\u001b[1;33m(\u001b[0m\u001b[1;33m[\u001b[0m\u001b[1;34m\"sets\"\u001b[0m\u001b[1;33m,\u001b[0m \u001b[1;34m\"are\"\u001b[0m\u001b[1;33m,\u001b[0m \u001b[1;34m\"mutable\"\u001b[0m\u001b[1;33m,\u001b[0m \u001b[1;34m\"too\"\u001b[0m\u001b[1;33m]\u001b[0m\u001b[1;33m)\u001b[0m\u001b[1;33m\u001b[0m\u001b[0m\n\u001b[1;32m----> 4\u001b[1;33m \u001b[0ms2\u001b[0m \u001b[1;33m=\u001b[0m \u001b[0mset\u001b[0m\u001b[1;33m(\u001b[0m\u001b[1;33m[\u001b[0m\u001b[0ms1\u001b[0m\u001b[1;33m]\u001b[0m\u001b[1;33m)\u001b[0m     \u001b[1;31m# TypeError: unhashable type: 'set'\u001b[0m\u001b[1;33m\u001b[0m\u001b[0m\n\u001b[0m\u001b[0;32m      5\u001b[0m \u001b[0mprint\u001b[0m\u001b[1;33m(\u001b[0m\u001b[0ms\u001b[0m\u001b[1;33m)\u001b[0m\u001b[1;33m\u001b[0m\u001b[0m\n",
      "\u001b[1;31mTypeError\u001b[0m: unhashable type: 'set'"
     ]
    }
   ],
   "source": [
    "# Another example: \n",
    "\n",
    "s1 = set([\"sets\", \"are\", \"mutable\", \"too\"])\n",
    "s2 = set([s1])     # TypeError: unhashable type: 'set'\n",
    "print(s)\n"
   ]
  },
  {
   "cell_type": "code",
   "execution_count": null,
   "metadata": {
    "id": "ZuGTryUlcA9u",
    "outputId": "bee85af5-e0ce-47b2-8c31-c0211ea1d923"
   },
   "outputs": [
    {
     "name": "stdout",
     "output_type": "stream",
     "text": [
      "True\n",
      "False\n"
     ]
    }
   ],
   "source": [
    "s = set([2,3,5])\n",
    "print(3 in s)          # prints True\n",
    "print(4 in s)          # prints False\n"
   ]
  },
  {
   "cell_type": "code",
   "execution_count": null,
   "metadata": {
    "id": "J01ghT3CcA9v",
    "outputId": "13cf117f-c0e3-4545-a445-df395be6e3fd"
   },
   "outputs": [
    {
     "name": "stdout",
     "output_type": "stream",
     "text": [
      "0\n",
      "1\n",
      "4\n",
      "6\n"
     ]
    }
   ],
   "source": [
    "for x in range(7):\n",
    "    if (x not in s):\n",
    "        print(x)       # prints 0 1 4 6"
   ]
  },
  {
   "cell_type": "code",
   "execution_count": null,
   "metadata": {
    "id": "spDv8sF9cA9v",
    "outputId": "b7a43e2d-1330-4a64-fe59-aa229601dc73"
   },
   "outputs": [
    {
     "name": "stdout",
     "output_type": "stream",
     "text": [
      "3\n"
     ]
    }
   ],
   "source": [
    "# len(s): cardinality (size) of set s  \n",
    "s = { 2, 3, 2, 4, 3 }\n",
    "print(len(s))\n",
    " "
   ]
  },
  {
   "cell_type": "code",
   "execution_count": null,
   "metadata": {
    "id": "vJqK_VZbcA9v",
    "outputId": "da357453-a20c-4a64-de29-652a72e1403d"
   },
   "outputs": [
    {
     "name": "stdout",
     "output_type": "stream",
     "text": [
      "{1, 2, 3, 4}\n",
      "{1, 2, 3}\n"
     ]
    }
   ],
   "source": [
    "# s.copy() new set with a shallow copy of s  \n",
    "\n",
    "s = { 1, 2, 3 }\n",
    "t = s.copy()\n",
    "s.add(4)\n",
    "print(s)\n",
    "print(t)\n",
    " "
   ]
  },
  {
   "cell_type": "code",
   "execution_count": null,
   "metadata": {
    "id": "fiPhQ4cScA9v",
    "outputId": "f54c6157-ea5d-4d05-bfba-b7205c3c62dd"
   },
   "outputs": [
    {
     "name": "stdout",
     "output_type": "stream",
     "text": [
      "8\n",
      "{2, 4}\n"
     ]
    }
   ],
   "source": [
    "#s.pop() remove and return an arbitrary element from s; raises KeyError if empty  \n",
    "\n",
    "s = { 2, 4, 8 }\n",
    "print(s.pop())  # unpredictable!\n",
    "print(s)\n",
    " "
   ]
  },
  {
   "cell_type": "code",
   "execution_count": null,
   "metadata": {
    "id": "Ej9SyiggcA9w",
    "outputId": "ed860c69-2cbd-4ccb-a6e9-dd573c307e82"
   },
   "outputs": [
    {
     "name": "stdout",
     "output_type": "stream",
     "text": [
      "set() 0\n"
     ]
    }
   ],
   "source": [
    "# s.clear()  remove all elements from set s  \n",
    "\n",
    "s = { 1, 2, 3 }\n",
    "s.clear()\n",
    "print(s, len(s))\n",
    " "
   ]
  },
  {
   "cell_type": "code",
   "execution_count": null,
   "metadata": {
    "id": "jHLCW6rhcA9w",
    "outputId": "c9d49dbe-1ec7-4958-fa1c-7fb28385cf26"
   },
   "outputs": [
    {
     "name": "stdout",
     "output_type": "stream",
     "text": [
      "False\n",
      "True\n"
     ]
    }
   ],
   "source": [
    "# Operations on a set and an element\n",
    "# 'x in s' test x for membership in s  \n",
    "\n",
    "s = { 1, 2, 3 }\n",
    "print(0 in s)\n",
    "print(1 in s)\n",
    " "
   ]
  },
  {
   "cell_type": "code",
   "execution_count": null,
   "metadata": {
    "id": "oCTHcdQbcA9w",
    "outputId": "230bd1b4-0df3-4a85-d42b-3fac2f09fd22"
   },
   "outputs": [
    {
     "name": "stdout",
     "output_type": "stream",
     "text": [
      "True\n",
      "False\n"
     ]
    }
   ],
   "source": [
    "# `x not in s` test x for non-membership in s \n",
    "\n",
    "s = { 1, 2, 3 }\n",
    "print(0 not in s)\n",
    "print(1 not in s)\n",
    " "
   ]
  },
  {
   "cell_type": "code",
   "execution_count": null,
   "metadata": {
    "id": "5rDiwA2BcA9x",
    "outputId": "7e97ea5f-fbee-4537-b255-a2b900114022"
   },
   "outputs": [
    {
     "name": "stdout",
     "output_type": "stream",
     "text": [
      "{1, 2, 3} False\n",
      "{1, 2, 3, 4} True\n"
     ]
    }
   ],
   "source": [
    "# `s.add(x)` add element x to set s  \n",
    "\n",
    "s = { 1, 2, 3 }\n",
    "print(s, 4 in s)\n",
    "s.add(4)\n",
    "print(s, 4 in s)\n",
    " "
   ]
  },
  {
   "cell_type": "code",
   "execution_count": null,
   "metadata": {
    "id": "vNpvNrk0cA9x",
    "outputId": "829b7cf9-d928-4e7d-8437-d5b8c827db65"
   },
   "outputs": [
    {
     "name": "stdout",
     "output_type": "stream",
     "text": [
      "{1, 2, 3} True\n"
     ]
    }
   ],
   "source": [
    "# `s.remove(x)` remove x from set s; raises KeyError if not present \n",
    "\n",
    "s = { 1, 2, 3 }\n",
    "print(s, 3 in s)\n"
   ]
  },
  {
   "cell_type": "code",
   "execution_count": null,
   "metadata": {
    "id": "yeBCdo1xcA9x",
    "outputId": "6bf3e9bf-10b8-4363-cf4d-6e9db03a8108"
   },
   "outputs": [
    {
     "ename": "KeyError",
     "evalue": "3",
     "output_type": "error",
     "traceback": [
      "\u001b[1;31m---------------------------------------------------------------------------\u001b[0m",
      "\u001b[1;31mKeyError\u001b[0m                                  Traceback (most recent call last)",
      "\u001b[1;32m<ipython-input-24-b06e0f5ff900>\u001b[0m in \u001b[0;36m<module>\u001b[1;34m\u001b[0m\n\u001b[1;32m----> 1\u001b[1;33m \u001b[0ms\u001b[0m\u001b[1;33m.\u001b[0m\u001b[0mremove\u001b[0m\u001b[1;33m(\u001b[0m\u001b[1;36m3\u001b[0m\u001b[1;33m)\u001b[0m\u001b[1;33m\u001b[0m\u001b[0m\n\u001b[0m",
      "\u001b[1;31mKeyError\u001b[0m: 3"
     ]
    }
   ],
   "source": [
    "s.remove(3)\n"
   ]
  },
  {
   "cell_type": "code",
   "execution_count": null,
   "metadata": {
    "id": "M3-s3R9jcA9x",
    "outputId": "83f1214f-a3d6-42a3-ea11-bd281afe81f9"
   },
   "outputs": [
    {
     "name": "stdout",
     "output_type": "stream",
     "text": [
      "{1, 2} False\n"
     ]
    }
   ],
   "source": [
    "print(s, 3 in s)\n"
   ]
  },
  {
   "cell_type": "code",
   "execution_count": null,
   "metadata": {
    "id": "acIGYBO4cA9y",
    "outputId": "3fc21285-0716-4ad6-a568-80731646bf80"
   },
   "outputs": [
    {
     "ename": "KeyError",
     "evalue": "3",
     "output_type": "error",
     "traceback": [
      "\u001b[1;31m---------------------------------------------------------------------------\u001b[0m",
      "\u001b[1;31mKeyError\u001b[0m                                  Traceback (most recent call last)",
      "\u001b[1;32m<ipython-input-26-2c8e6db749c9>\u001b[0m in \u001b[0;36m<module>\u001b[1;34m\u001b[0m\n\u001b[1;32m----> 1\u001b[1;33m \u001b[0ms\u001b[0m\u001b[1;33m.\u001b[0m\u001b[0mremove\u001b[0m\u001b[1;33m(\u001b[0m\u001b[1;36m3\u001b[0m\u001b[1;33m)\u001b[0m \u001b[1;31m# crashes\u001b[0m\u001b[1;33m\u001b[0m\u001b[0m\n\u001b[0m\u001b[0;32m      2\u001b[0m \u001b[1;33m\u001b[0m\u001b[0m\n",
      "\u001b[1;31mKeyError\u001b[0m: 3"
     ]
    }
   ],
   "source": [
    "s.remove(3) # crashes\n",
    " "
   ]
  },
  {
   "cell_type": "code",
   "execution_count": null,
   "metadata": {
    "id": "kxPC6NANcA9y",
    "outputId": "1e3e9bfa-d828-44fd-d751-4770130eb655"
   },
   "outputs": [
    {
     "name": "stdout",
     "output_type": "stream",
     "text": [
      "{1, 2, 3} True\n",
      "{1, 2} False\n",
      "{1, 2} False\n"
     ]
    }
   ],
   "source": [
    "# `s.discard(x)` removes x from set s if present \n",
    "\n",
    "s = { 1, 2, 3 }\n",
    "print(s, 3 in s)\n",
    "s.discard(3)\n",
    "print(s, 3 in s)\n",
    "s.discard(3) # does not crash!\n",
    "print(s, 3 in s)\n",
    " "
   ]
  },
  {
   "cell_type": "code",
   "execution_count": null,
   "metadata": {
    "id": "J-3Got8hcA9y",
    "outputId": "7d3496f7-43ad-4b4d-a164-bae57fbef81e"
   },
   "outputs": [
    {
     "name": "stdout",
     "output_type": "stream",
     "text": [
      "False False\n"
     ]
    }
   ],
   "source": [
    "# Operations on two sets (or a set and an iterable\n",
    "# `s.issubset(t)` `s <= t`: test whether every element in s is in t  \n",
    "\n",
    "print({1,2} <= {1}, {1,2}.issubset({1}))\n"
   ]
  },
  {
   "cell_type": "code",
   "execution_count": null,
   "metadata": {
    "id": "enGxbMKacA9y",
    "outputId": "2f7dbf35-6760-40a4-89aa-24e70480d696"
   },
   "outputs": [
    {
     "name": "stdout",
     "output_type": "stream",
     "text": [
      "True True\n"
     ]
    }
   ],
   "source": [
    "print({1,2} <= {1,2}, {1,2}.issubset({1,2}))\n"
   ]
  },
  {
   "cell_type": "code",
   "execution_count": null,
   "metadata": {
    "id": "Lz6ZhQkacA9z",
    "outputId": "5eda04fb-18db-4099-e93e-0eb6fc6d6d45"
   },
   "outputs": [
    {
     "name": "stdout",
     "output_type": "stream",
     "text": [
      "True True\n"
     ]
    }
   ],
   "source": [
    "print({1,2} <= {1,2,3}, {1,2}.issubset({1,2,3}))\n",
    " "
   ]
  },
  {
   "cell_type": "code",
   "execution_count": null,
   "metadata": {
    "id": "GSyClHGccA9z",
    "outputId": "edc91590-13df-4d4c-933f-24c4fec900a9"
   },
   "outputs": [
    {
     "name": "stdout",
     "output_type": "stream",
     "text": [
      "True True\n"
     ]
    }
   ],
   "source": [
    "# `s.issuperset(t)` `s >= t`: test whether every element in t is in s  \n",
    "\n",
    "print({1,2} >= {1}, {1,2}.issuperset({1}))\n"
   ]
  },
  {
   "cell_type": "code",
   "execution_count": null,
   "metadata": {
    "id": "vYZWtTEfcA9z",
    "outputId": "7101912c-d70b-4f26-bc34-6788fd2d2245"
   },
   "outputs": [
    {
     "name": "stdout",
     "output_type": "stream",
     "text": [
      "True True\n"
     ]
    }
   ],
   "source": [
    "print({1,2} >= {1,2}, {1,2}.issuperset({1,2}))\n"
   ]
  },
  {
   "cell_type": "code",
   "execution_count": null,
   "metadata": {
    "id": "5ykh6gSvcA9z",
    "outputId": "e91b0400-3cf0-4cf3-b6ca-3977a7b16113"
   },
   "outputs": [
    {
     "name": "stdout",
     "output_type": "stream",
     "text": [
      "False False\n"
     ]
    }
   ],
   "source": [
    "print({1,2} >= {1,2,3}, {1,2}.issuperset({1,2,3}))\n",
    " "
   ]
  },
  {
   "cell_type": "code",
   "execution_count": null,
   "metadata": {
    "id": "LcWqFuwZcA9z",
    "outputId": "96fbce73-8255-4d22-9321-af50e8e39284"
   },
   "outputs": [
    {
     "name": "stdout",
     "output_type": "stream",
     "text": [
      "{1, 2} {1, 2}\n"
     ]
    }
   ],
   "source": [
    "# `s.union(t)`  `s | t`: new set with elements from either s or t  \n",
    "\n",
    "print({1,2} | {1}, {1,2}.union({1}))\n"
   ]
  },
  {
   "cell_type": "code",
   "execution_count": null,
   "metadata": {
    "id": "pALZq8l0cA90",
    "outputId": "fa124eb2-aba4-43d5-c629-7d2d9e7addff"
   },
   "outputs": [
    {
     "name": "stdout",
     "output_type": "stream",
     "text": [
      "{1, 2, 3} {1, 2, 3}\n"
     ]
    }
   ],
   "source": [
    "print({1,2} | {1,3}, {1,2}.union({1,3}))\n"
   ]
  },
  {
   "cell_type": "code",
   "execution_count": null,
   "metadata": {
    "id": "3_hi5HuIcA90",
    "outputId": "16bbca7b-c6ca-4916-ac81-b93b761d692d"
   },
   "outputs": [
    {
     "name": "stdout",
     "output_type": "stream",
     "text": [
      "{1, 2} {1, 2, 3}\n"
     ]
    }
   ],
   "source": [
    "s = {1,2}\n",
    "t = s | {1,3}\n",
    "print(s, t)\n",
    " "
   ]
  },
  {
   "cell_type": "code",
   "execution_count": null,
   "metadata": {
    "id": "8fL2ZWtfcA90",
    "outputId": "83e23313-66a3-4d1d-99bc-53cf8c14879a"
   },
   "outputs": [
    {
     "name": "stdout",
     "output_type": "stream",
     "text": [
      "{1} {1}\n"
     ]
    }
   ],
   "source": [
    "# `s.intersection(t)` `s & t`:  new set with elements common to s and t  \n",
    "\n",
    "print({1,2} & {1}, {1,2}.intersection({1}))\n"
   ]
  },
  {
   "cell_type": "code",
   "execution_count": null,
   "metadata": {
    "id": "RVtu9jfOcA90",
    "outputId": "f9c6eec9-fe0d-4311-8912-ccd24cef9d07"
   },
   "outputs": [
    {
     "name": "stdout",
     "output_type": "stream",
     "text": [
      "{1} {1}\n"
     ]
    }
   ],
   "source": [
    "print({1,2} & {1,3}, {1,2}.intersection({1,3}))\n"
   ]
  },
  {
   "cell_type": "code",
   "execution_count": null,
   "metadata": {
    "id": "UUIIj0G8cA90",
    "outputId": "3352ed6d-545f-4fb6-de97-9e60975fd9b3"
   },
   "outputs": [
    {
     "name": "stdout",
     "output_type": "stream",
     "text": [
      "{1, 2} {1}\n"
     ]
    }
   ],
   "source": [
    "s = {1,2}\n",
    "t = s & {1,3}\n",
    "print(s, t)\n",
    " "
   ]
  },
  {
   "cell_type": "code",
   "execution_count": null,
   "metadata": {
    "id": "jQSINoj9cA91",
    "outputId": "6352c3f4-32eb-48f8-bfed-d4052c772ec8"
   },
   "outputs": [
    {
     "name": "stdout",
     "output_type": "stream",
     "text": [
      "{2} {2}\n"
     ]
    }
   ],
   "source": [
    "# `s.symmetric_difference(t)` `s ^ t`: new set with elements in either s or t but not both  \n",
    "\n",
    "print({1,2} ^ {1}, {1,2}.symmetric_difference({1}))\n"
   ]
  },
  {
   "cell_type": "code",
   "execution_count": null,
   "metadata": {
    "id": "CuH0LVYscA91",
    "outputId": "924bb29d-3b91-415b-da1f-ee6122407c3b"
   },
   "outputs": [
    {
     "name": "stdout",
     "output_type": "stream",
     "text": [
      "{2, 3} {2, 3}\n"
     ]
    }
   ],
   "source": [
    "print({1,2} ^ {1,3}, {1,2}.symmetric_difference({1,3}))\n"
   ]
  },
  {
   "cell_type": "code",
   "execution_count": null,
   "metadata": {
    "id": "dgAvuadJcA91",
    "outputId": "2a21b2d5-04f0-43b6-800a-2317be551127"
   },
   "outputs": [
    {
     "name": "stdout",
     "output_type": "stream",
     "text": [
      "{1, 2} {2, 3}\n"
     ]
    }
   ],
   "source": [
    "s = {1,2}\n",
    "t = s ^ {1,3}\n",
    "print(s, t)\n",
    " "
   ]
  },
  {
   "cell_type": "code",
   "execution_count": null,
   "metadata": {
    "id": "jtUUCrQQcA91",
    "outputId": "eaf99ba7-db97-4744-b289-0e8a2936a19e"
   },
   "outputs": [
    {
     "name": "stdout",
     "output_type": "stream",
     "text": [
      "{1, 2, 3}\n"
     ]
    }
   ],
   "source": [
    "# `s.update(t)` `s |= t`: modify s adding all elements found in t \n",
    "\n",
    "s = {1,2}\n",
    "t = {1,3}\n",
    "u = {2,3}\n",
    "\n",
    "s.update(u)\n",
    "\n",
    "print(s)"
   ]
  },
  {
   "cell_type": "code",
   "execution_count": null,
   "metadata": {
    "id": "BCrD_RihcA91",
    "outputId": "fff686ec-92ab-4313-a582-5af52be7db39"
   },
   "outputs": [
    {
     "name": "stdout",
     "output_type": "stream",
     "text": [
      "{1, 2, 3} {2, 3}\n"
     ]
    }
   ],
   "source": [
    "t |= u\n",
    "print(t, u)\n",
    " "
   ]
  },
  {
   "cell_type": "code",
   "execution_count": null,
   "metadata": {
    "id": "lX_ZHuQtcA92",
    "outputId": "65334132-cf9a-414c-c302-fa64221ab0c0"
   },
   "outputs": [
    {
     "name": "stdout",
     "output_type": "stream",
     "text": [
      "{2}\n"
     ]
    }
   ],
   "source": [
    "# `s.intersection_update(t)` `s &= t`: modify s keeping only elements also found in t \n",
    "\n",
    "s = {1,2}\n",
    "t = {1,3}\n",
    "u = {2,3}\n",
    "s.intersection_update(u)\n",
    "\n",
    "print(s)"
   ]
  },
  {
   "cell_type": "code",
   "execution_count": null,
   "metadata": {
    "id": "tpaju_OwcA93",
    "outputId": "d9168585-8f87-4fcd-f7d4-110562d3924f"
   },
   "outputs": [
    {
     "name": "stdout",
     "output_type": "stream",
     "text": [
      "{3} {2, 3}\n"
     ]
    }
   ],
   "source": [
    "t &= u\n",
    "print(t, u)\n",
    " "
   ]
  },
  {
   "cell_type": "code",
   "execution_count": null,
   "metadata": {
    "id": "TT60AMi9cA94",
    "outputId": "17c33df2-85cb-4b95-81d3-947bec2d5077"
   },
   "outputs": [
    {
     "name": "stdout",
     "output_type": "stream",
     "text": [
      "{1}\n"
     ]
    }
   ],
   "source": [
    "# `s.difference_update(t)` `s -= t`: modify s removing all elements found in t  \n",
    "s = {1,2}\n",
    "t = {1,3}\n",
    "u = {2,3}\n",
    "s.difference_update(u)\n",
    "\n",
    "print(s)"
   ]
  },
  {
   "cell_type": "code",
   "execution_count": null,
   "metadata": {
    "id": "434WwImTcA94",
    "outputId": "96744a69-2241-44c4-be41-4235b9c0f7bf"
   },
   "outputs": [
    {
     "name": "stdout",
     "output_type": "stream",
     "text": [
      "{1} {2, 3}\n"
     ]
    }
   ],
   "source": [
    "t -= u\n",
    "print(t, u)\n",
    " "
   ]
  },
  {
   "cell_type": "code",
   "execution_count": null,
   "metadata": {
    "id": "OIPPjXUIcA94",
    "outputId": "6c38d5ec-2653-4c6e-bb64-8c9623dd36ad"
   },
   "outputs": [
    {
     "name": "stdout",
     "output_type": "stream",
     "text": [
      "{1, 3}\n"
     ]
    }
   ],
   "source": [
    "# `s.symmetric_difference_update(t)` `s ^= t`: modify s keeping elements from s or t but not both  \n",
    "\n",
    "s = {1,2}\n",
    "t = {1,3}\n",
    "u = {2,3}\n",
    "s.symmetric_difference_update(u)\n",
    "\n",
    "print(s)"
   ]
  },
  {
   "cell_type": "code",
   "execution_count": null,
   "metadata": {
    "id": "T1PPWfdCcA95",
    "outputId": "8874740e-9946-4be7-cec1-75e04bc190cf"
   },
   "outputs": [
    {
     "name": "stdout",
     "output_type": "stream",
     "text": [
      "{1, 2} {2, 3}\n"
     ]
    }
   ],
   "source": [
    "t ^= u\n",
    "print( t, u)\n",
    " "
   ]
  },
  {
   "cell_type": "code",
   "execution_count": null,
   "metadata": {
    "id": "J5YANmRIcA95",
    "outputId": "3ae195de-b292-4d4a-c1ac-f0c4675308ef"
   },
   "outputs": [
    {
     "name": "stdout",
     "output_type": "stream",
     "text": [
      "{1, 2, 3, (4, 5, 6)}\n"
     ]
    },
    {
     "data": {
      "text/plain": [
       "{(4, 5, 6), 1, 2, 3}"
      ]
     },
     "execution_count": 52,
     "metadata": {},
     "output_type": "execute_result"
    }
   ],
   "source": [
    "# tuples can be embedded in sets because they are immutable\n",
    "\n",
    "s = {1, 2, 3}\n",
    "s.add((4, 5, 6))\n",
    "print(s)\n",
    "s"
   ]
  },
  {
   "cell_type": "code",
   "execution_count": null,
   "metadata": {
    "id": "z89PRlqscA95",
    "outputId": "d1fccb6d-e07a-466d-85a4-00228b4affd0"
   },
   "outputs": [
    {
     "name": "stdout",
     "output_type": "stream",
     "text": [
      "{1, 2, 3, (9,), (4, 5, 6)}\n"
     ]
    }
   ],
   "source": [
    "s.add((9,))\n",
    "print(s)"
   ]
  },
  {
   "cell_type": "code",
   "execution_count": null,
   "metadata": {
    "id": "Evfxt4bScA95",
    "outputId": "5f04124a-7918-488b-89d1-e4324a98eec0"
   },
   "outputs": [
    {
     "ename": "TypeError",
     "evalue": "unhashable type: 'dict'",
     "output_type": "error",
     "traceback": [
      "\u001b[1;31m---------------------------------------------------------------------------\u001b[0m",
      "\u001b[1;31mTypeError\u001b[0m                                 Traceback (most recent call last)",
      "\u001b[1;32m<ipython-input-54-823ff14e6bb1>\u001b[0m in \u001b[0;36m<module>\u001b[1;34m\u001b[0m\n\u001b[0;32m      1\u001b[0m \u001b[1;31m# lists and dicts are mutable => can not be embedded in sets\u001b[0m\u001b[1;33m\u001b[0m\u001b[1;33m\u001b[0m\u001b[0m\n\u001b[0;32m      2\u001b[0m \u001b[1;33m\u001b[0m\u001b[0m\n\u001b[1;32m----> 3\u001b[1;33m \u001b[0ms\u001b[0m\u001b[1;33m.\u001b[0m\u001b[0madd\u001b[0m\u001b[1;33m(\u001b[0m\u001b[1;33m{\u001b[0m\u001b[1;34m'a'\u001b[0m\u001b[1;33m:\u001b[0m\u001b[1;36m1\u001b[0m\u001b[1;33m}\u001b[0m\u001b[1;33m)\u001b[0m\u001b[1;33m\u001b[0m\u001b[0m\n\u001b[0m",
      "\u001b[1;31mTypeError\u001b[0m: unhashable type: 'dict'"
     ]
    }
   ],
   "source": [
    "# lists and dicts are mutable => can not be embedded in sets\n",
    "\n",
    "s.add({'a':1})"
   ]
  },
  {
   "cell_type": "code",
   "execution_count": null,
   "metadata": {
    "id": "jg74I5SjcA95",
    "outputId": "d5192883-cf4c-47ed-a0e7-6be14e738f58"
   },
   "outputs": [
    {
     "data": {
      "text/plain": [
       "{1, 4, 9, 16}"
      ]
     },
     "execution_count": 55,
     "metadata": {},
     "output_type": "execute_result"
    }
   ],
   "source": [
    "# Set Comprehension\n",
    "{x ** 2 for x in [1, 2, 3, 4]}"
   ]
  },
  {
   "cell_type": "code",
   "execution_count": null,
   "metadata": {
    "id": "0hQ2pTFCcA95",
    "outputId": "c32dd02f-9290-460e-800a-0645b70e4e6b"
   },
   "outputs": [
    {
     "data": {
      "text/plain": [
       "{'a', 'm', 'p', 's'}"
      ]
     },
     "execution_count": 56,
     "metadata": {},
     "output_type": "execute_result"
    }
   ],
   "source": [
    "{x for x in 'spam'}  # same as set([\"spam\"])"
   ]
  },
  {
   "cell_type": "code",
   "execution_count": null,
   "metadata": {
    "id": "vGCgbwJIcA96",
    "outputId": "ea12c8d4-465d-4edd-e6d0-c0d1dcaf1cb0"
   },
   "outputs": [
    {
     "data": {
      "text/plain": [
       "{'aaaa', 'mmmm', 'pppp', 'ssss'}"
      ]
     },
     "execution_count": 57,
     "metadata": {},
     "output_type": "execute_result"
    }
   ],
   "source": [
    "{c*4 for c in \"spam\"}"
   ]
  },
  {
   "cell_type": "code",
   "execution_count": null,
   "metadata": {
    "id": "DH-suSTYcA96",
    "outputId": "b71a1df7-3e00-43e5-d820-894310ccb2a6"
   },
   "outputs": [
    {
     "data": {
      "text/plain": [
       "{1, 2, 3, 4, 5}"
      ]
     },
     "execution_count": 58,
     "metadata": {},
     "output_type": "execute_result"
    }
   ],
   "source": [
    "# Why Sets?\n",
    "\n",
    "# Because items are stored only once in a set, set can be\n",
    "# used to filter duplicates out of other collections (though items may be reordered)\n",
    "\n",
    "L = [1, 2, 1, 3, 2, 4, 5]\n",
    "set(L)"
   ]
  },
  {
   "cell_type": "code",
   "execution_count": null,
   "metadata": {
    "id": "gL31m-yIcA96",
    "outputId": "63ce5dff-b722-4f0e-ece4-f03c5970e967"
   },
   "outputs": [
    {
     "data": {
      "text/plain": [
       "[1, 2, 3, 4, 5]"
      ]
     },
     "execution_count": 59,
     "metadata": {},
     "output_type": "execute_result"
    }
   ],
   "source": [
    "L = list(set(L))\n",
    "L"
   ]
  },
  {
   "cell_type": "code",
   "execution_count": null,
   "metadata": {
    "id": "Lbx9l09ycA97",
    "outputId": "1ad2c2f4-0216-4894-c74b-0a224844ba57"
   },
   "outputs": [
    {
     "data": {
      "text/plain": [
       "{3, 7}"
      ]
     },
     "execution_count": 60,
     "metadata": {},
     "output_type": "execute_result"
    }
   ],
   "source": [
    "# Set can be used to isolate differences in lists, strings, and other iterable objects\n",
    "\n",
    "set([1, 3, 5, 7]) - set([1, 2, 4, 5, 6 ])"
   ]
  },
  {
   "cell_type": "code",
   "execution_count": null,
   "metadata": {
    "id": "wA-QZRyhcA97",
    "outputId": "6af2ed8b-5fe2-48a3-c2dc-8f6980367be7"
   },
   "outputs": [
    {
     "data": {
      "text/plain": [
       "{'c', 'e', 'f'}"
      ]
     },
     "execution_count": 61,
     "metadata": {},
     "output_type": "execute_result"
    }
   ],
   "source": [
    "set('abcdefg') - set('abdgij')"
   ]
  },
  {
   "cell_type": "code",
   "execution_count": null,
   "metadata": {
    "id": "JAvWR9z5cA97",
    "outputId": "533d51d0-1593-45c7-c1fa-17fe20ebf245"
   },
   "outputs": [
    {
     "data": {
      "text/plain": [
       "{'p', 's'}"
      ]
     },
     "execution_count": 62,
     "metadata": {},
     "output_type": "execute_result"
    }
   ],
   "source": [
    "set('spam') - set(['h', 'a', 'm'])"
   ]
  },
  {
   "cell_type": "code",
   "execution_count": null,
   "metadata": {
    "id": "x-FBS7x6cA97",
    "outputId": "57310bfe-2a9a-4bfc-b6c3-81eb05e27cd8",
    "scrolled": true
   },
   "outputs": [
    {
     "data": {
      "text/plain": [
       "['__add__',\n",
       " '__class__',\n",
       " '__contains__',\n",
       " '__delattr__',\n",
       " '__dir__',\n",
       " '__doc__',\n",
       " '__eq__',\n",
       " '__format__',\n",
       " '__ge__',\n",
       " '__getattribute__',\n",
       " '__getitem__',\n",
       " '__getnewargs__',\n",
       " '__gt__',\n",
       " '__hash__',\n",
       " '__init__',\n",
       " '__init_subclass__',\n",
       " '__iter__',\n",
       " '__le__',\n",
       " '__len__',\n",
       " '__lt__',\n",
       " '__mod__',\n",
       " '__mul__',\n",
       " '__ne__',\n",
       " '__new__',\n",
       " '__reduce__',\n",
       " '__reduce_ex__',\n",
       " '__repr__',\n",
       " '__rmod__',\n",
       " '__rmul__',\n",
       " '__setattr__',\n",
       " '__sizeof__',\n",
       " '__str__',\n",
       " '__subclasshook__',\n",
       " 'capitalize',\n",
       " 'center',\n",
       " 'count',\n",
       " 'decode',\n",
       " 'endswith',\n",
       " 'expandtabs',\n",
       " 'find',\n",
       " 'fromhex',\n",
       " 'hex',\n",
       " 'index',\n",
       " 'isalnum',\n",
       " 'isalpha',\n",
       " 'isascii',\n",
       " 'isdigit',\n",
       " 'islower',\n",
       " 'isspace',\n",
       " 'istitle',\n",
       " 'isupper',\n",
       " 'join',\n",
       " 'ljust',\n",
       " 'lower',\n",
       " 'lstrip',\n",
       " 'maketrans',\n",
       " 'partition',\n",
       " 'replace',\n",
       " 'rfind',\n",
       " 'rindex',\n",
       " 'rjust',\n",
       " 'rpartition',\n",
       " 'rsplit',\n",
       " 'rstrip',\n",
       " 'split',\n",
       " 'splitlines',\n",
       " 'startswith',\n",
       " 'strip',\n",
       " 'swapcase',\n",
       " 'title',\n",
       " 'translate',\n",
       " 'upper',\n",
       " 'zfill']"
      ]
     },
     "execution_count": 63,
     "metadata": {},
     "output_type": "execute_result"
    }
   ],
   "source": [
    "dir(bytes)"
   ]
  },
  {
   "cell_type": "code",
   "execution_count": null,
   "metadata": {
    "id": "uCaSNdeFcA98",
    "outputId": "65d9e22e-73fe-48d4-de47-98c724477f95",
    "scrolled": true
   },
   "outputs": [
    {
     "data": {
      "text/plain": [
       "['__add__',\n",
       " '__alloc__',\n",
       " '__class__',\n",
       " '__contains__',\n",
       " '__delattr__',\n",
       " '__delitem__',\n",
       " '__dir__',\n",
       " '__doc__',\n",
       " '__eq__',\n",
       " '__format__',\n",
       " '__ge__',\n",
       " '__getattribute__',\n",
       " '__getitem__',\n",
       " '__gt__',\n",
       " '__hash__',\n",
       " '__iadd__',\n",
       " '__imul__',\n",
       " '__init__',\n",
       " '__init_subclass__',\n",
       " '__iter__',\n",
       " '__le__',\n",
       " '__len__',\n",
       " '__lt__',\n",
       " '__mod__',\n",
       " '__mul__',\n",
       " '__ne__',\n",
       " '__new__',\n",
       " '__reduce__',\n",
       " '__reduce_ex__',\n",
       " '__repr__',\n",
       " '__rmod__',\n",
       " '__rmul__',\n",
       " '__setattr__',\n",
       " '__setitem__',\n",
       " '__sizeof__',\n",
       " '__str__',\n",
       " '__subclasshook__',\n",
       " 'append',\n",
       " 'capitalize',\n",
       " 'center',\n",
       " 'clear',\n",
       " 'copy',\n",
       " 'count',\n",
       " 'decode',\n",
       " 'endswith',\n",
       " 'expandtabs',\n",
       " 'extend',\n",
       " 'find',\n",
       " 'fromhex',\n",
       " 'hex',\n",
       " 'index',\n",
       " 'insert',\n",
       " 'isalnum',\n",
       " 'isalpha',\n",
       " 'isascii',\n",
       " 'isdigit',\n",
       " 'islower',\n",
       " 'isspace',\n",
       " 'istitle',\n",
       " 'isupper',\n",
       " 'join',\n",
       " 'ljust',\n",
       " 'lower',\n",
       " 'lstrip',\n",
       " 'maketrans',\n",
       " 'partition',\n",
       " 'pop',\n",
       " 'remove',\n",
       " 'replace',\n",
       " 'reverse',\n",
       " 'rfind',\n",
       " 'rindex',\n",
       " 'rjust',\n",
       " 'rpartition',\n",
       " 'rsplit',\n",
       " 'rstrip',\n",
       " 'split',\n",
       " 'splitlines',\n",
       " 'startswith',\n",
       " 'strip',\n",
       " 'swapcase',\n",
       " 'title',\n",
       " 'translate',\n",
       " 'upper',\n",
       " 'zfill']"
      ]
     },
     "execution_count": 64,
     "metadata": {},
     "output_type": "execute_result"
    }
   ],
   "source": [
    "dir(bytearray)"
   ]
  },
  {
   "cell_type": "code",
   "execution_count": null,
   "metadata": {
    "id": "fSZuSOdncA98",
    "outputId": "9c8ce37d-ce5b-44f9-8008-54477b7ece47"
   },
   "outputs": [
    {
     "data": {
      "text/plain": [
       "{'__getnewargs__'}"
      ]
     },
     "execution_count": 65,
     "metadata": {},
     "output_type": "execute_result"
    }
   ],
   "source": [
    "set(dir(bytes)) - set(dir(bytearray))"
   ]
  },
  {
   "cell_type": "code",
   "execution_count": null,
   "metadata": {
    "id": "YP_Jm4bBcA98",
    "outputId": "518b9bca-b5f2-4f45-b473-f9d1b3231590"
   },
   "outputs": [
    {
     "name": "stdout",
     "output_type": "stream",
     "text": [
      "['remove', '__alloc__', 'reverse', 'extend', '__delitem__', 'pop', '__imul__', 'append', '__iadd__', '__setitem__', 'clear', 'copy', 'insert']\n"
     ]
    }
   ],
   "source": [
    "L = list(set(dir(bytearray)) - set(dir(bytes)))\n",
    "print(L)"
   ]
  },
  {
   "cell_type": "code",
   "execution_count": null,
   "metadata": {
    "id": "_3kUuPfmcA98",
    "outputId": "8c2785a9-903a-4b74-e8d1-9cd2599fd0dc"
   },
   "outputs": [
    {
     "data": {
      "text/plain": [
       "['remove', 'reverse', 'extend', 'pop', 'append', 'clear', 'copy', 'insert']"
      ]
     },
     "execution_count": 67,
     "metadata": {},
     "output_type": "execute_result"
    }
   ],
   "source": [
    "L = list(set(dir(bytearray)) - set(dir(bytes)))\n",
    "\n",
    "[name for name in L if not name.startswith(\"__\")  ]"
   ]
  },
  {
   "cell_type": "code",
   "execution_count": null,
   "metadata": {
    "id": "12xqflhxcA99",
    "outputId": "09f62451-b6bd-41e3-f56d-065a04a9a657"
   },
   "outputs": [
    {
     "data": {
      "text/plain": [
       "False"
      ]
     },
     "execution_count": 68,
     "metadata": {},
     "output_type": "execute_result"
    }
   ],
   "source": [
    "# Set can perfrom order-neutral equality tests\n",
    "L1 = [1, 3, 5, 2, 4]\n",
    "L2 = [2, 5, 3, 4, 1]\n",
    "\n",
    "L1 == L2"
   ]
  },
  {
   "cell_type": "code",
   "execution_count": null,
   "metadata": {
    "id": "5s5o2CDIcA99",
    "outputId": "64399f29-bc4c-4e41-d5de-2f89f772e84a",
    "scrolled": true
   },
   "outputs": [
    {
     "data": {
      "text/plain": [
       "True"
      ]
     },
     "execution_count": 69,
     "metadata": {},
     "output_type": "execute_result"
    }
   ],
   "source": [
    "set(L1) == set(L2) # order-neutral equality"
   ]
  },
  {
   "cell_type": "code",
   "execution_count": null,
   "metadata": {
    "id": "zx_b5H9tcA99",
    "outputId": "3bf6004f-4650-4d55-f7f7-35b8fcde361b"
   },
   "outputs": [
    {
     "data": {
      "text/plain": [
       "True"
      ]
     },
     "execution_count": 71,
     "metadata": {},
     "output_type": "execute_result"
    }
   ],
   "source": [
    "sorted(L1) == sorted(L2)    #Similar but results ordered"
   ]
  },
  {
   "cell_type": "markdown",
   "metadata": {
    "collapsed": true,
    "id": "2rqI6bOhcA99"
   },
   "source": [
    "#### Sets can be used to keep track of where you've already been when traversing a graph or other cyclic structure\n",
    "\n",
    "#### Sets are also convenient when you're dealing with large data sets (for example database query results)"
   ]
  },
  {
   "cell_type": "markdown",
   "metadata": {
    "id": "Oc9O6sBecA99"
   },
   "source": [
    "### <span style=\"color:red\">Exercise1:</span> Staff Info Query\n",
    "\n",
    "In a small company, there are 5 people working on the staff. Some of them are engineers and some are managers.\n",
    "\n",
    "\n",
    "(A) For each question below, write a boolean expression to find the answer:\n",
    "\n",
    "1. Is bob an engineer?\n",
    "2. Are all managers engineers?\n",
    "3. Are both sue and bob engineers?\n",
    "\n",
    "(B) For each query below, please use `set` operation to find the set of people that meet the query:\n",
    "\n",
    "1. People who are both engineer and manager\n",
    "2. All people on the staff\n",
    "3. Engineers who are not managers\n",
    "4. Managers who are not engineers\n",
    "5. Who are in one but not both of engineer and manager set?\n",
    "6. Who are both an engineer and a manager?"
   ]
  },
  {
   "cell_type": "code",
   "execution_count": null,
   "metadata": {
    "id": "ZV1Ujia0cA99",
    "scrolled": false
   },
   "outputs": [],
   "source": [
    "# Exercise 1\n",
    "\n",
    "engineers ={'bob', 'sue', 'ann', 'vic'}\n",
    "managers = {'tom', 'sue'}"
   ]
  },
  {
   "cell_type": "markdown",
   "metadata": {
    "id": "mvviINedcA9-"
   },
   "source": [
    "### Sets are Very Efficient"
   ]
  },
  {
   "cell_type": "code",
   "execution_count": null,
   "metadata": {
    "id": "Gh0Wnx2UcA9-",
    "outputId": "c4fbb27c-8318-4cb7-c80f-63b25d36f7eb"
   },
   "outputs": [
    {
     "name": "stdout",
     "output_type": "stream",
     "text": [
      "Using a list... \n",
      "count= 5000  and time = 0.3507 seconds\n"
     ]
    }
   ],
   "source": [
    "import time\n",
    "\n",
    "n = 10000\n",
    "\n",
    "# 1. Create a list [2,4,6,...,n] then check for membership\n",
    "# among [1,2,3,...,n] in that list.\n",
    "\n",
    "# don't count the list creation in the timing\n",
    "a = list(range(2,n+1,2))\n",
    "\n",
    "print(\"Using a list... \")\n",
    "start = time.time()\n",
    "count = 0\n",
    "for x in range(n+1):\n",
    "    if x in a:\n",
    "        count += 1\n",
    "end = time.time()\n",
    "elapsed1 = end - start\n",
    "print(\"count=\", count,\" and time = %0.4f seconds\" % elapsed1)\n",
    "\n"
   ]
  },
  {
   "cell_type": "code",
   "execution_count": null,
   "metadata": {
    "id": "uwt1aNSjcA9-",
    "outputId": "baeb8d04-73bd-4e6c-f59c-e993b735e570",
    "scrolled": true
   },
   "outputs": [
    {
     "name": "stdout",
     "output_type": "stream",
     "text": [
      "Using a set.... \n",
      "count= 5000  and time = 0.0010 seconds\n",
      "With n=10000, sets ran about 353.6 times faster than lists!\n",
      "Try a larger n to see an even greater savings!\n"
     ]
    }
   ],
   "source": [
    "# Repeat, using a set\n",
    "\n",
    "print(\"Using a set.... \")\n",
    "start = time.time()\n",
    "s = set(a)\n",
    "count = 0\n",
    "for x in range(n+1):\n",
    "    if x in s:\n",
    "        count += 1\n",
    "end = time.time()\n",
    "elapsed2 = end - start\n",
    "print(\"count=\", count,\" and time = %0.4f seconds\" % elapsed2)\n",
    "print(\"With n=%d, sets ran about %0.1f times faster than lists!\" %\n",
    "      (n, elapsed1/elapsed2))\n",
    "print(\"Try a larger n to see an even greater savings!\")"
   ]
  },
  {
   "cell_type": "markdown",
   "metadata": {
    "id": "66QiMbm_cA9-"
   },
   "source": [
    "## Dict (Dictionary)\n",
    "\n",
    "Q: How to access elements of a `list`?\n",
    "\n",
    "A: By **number** indices\n",
    "\n",
    "Q: What if I want to define my own indices?\n",
    "\n",
    "A: Then you should use dict. **A `dict` is a `key-value` mapping**.\n"
   ]
  },
  {
   "cell_type": "code",
   "execution_count": null,
   "metadata": {
    "id": "6WD1qw6ecA9-",
    "outputId": "6fce8bc3-114a-4426-8ec2-4806c9a9f437"
   },
   "outputs": [
    {
     "name": "stdout",
     "output_type": "stream",
     "text": [
      "Enter a city name --> pittsburgh\n",
      "pittsburgh is in PA\n"
     ]
    }
   ],
   "source": [
    "# Quick Example\n",
    "\n",
    "# declare a dict\n",
    "stateMap = {\n",
    "    # key: value\n",
    "    'pittsburgh':'PA',\n",
    "    'chicago':'IL',\n",
    "    'seattle':'WA',\n",
    "    'boston':'MA',\n",
    "}\n",
    "\n",
    "city = input(\"Enter a city name --> \").lower()\n",
    "\n",
    "# `in` checks if a value exists in the dict\n",
    "if (city in stateMap):\n",
    "    # access value by `dict[key]`\n",
    "    print(city, \"is in\", stateMap[city])\n",
    "else:\n",
    "    print(\"Sorry, never heard of it.\")\n"
   ]
  },
  {
   "cell_type": "markdown",
   "metadata": {
    "id": "btvX2kf4cA9-"
   },
   "source": [
    "### A `dict` is a mapping"
   ]
  },
  {
   "cell_type": "markdown",
   "metadata": {
    "id": "nP4B-7hCcA9-"
   },
   "source": [
    "A **dictionary** is a collection of key-value pairs.  \n",
    "It is similar to a list in the sense that we use   \n",
    "* **integer indices** to access list **elements**, and\n",
    "* **keys** to access dictionary **values**.\n",
    "\n",
    "A key-value pair is called an **item**.  \n",
    "A dictionary is actually a **mapping** from keys to values.\n",
    "\n",
    "A dictionary that we own maps a word (key) to its meaning and usge (value)."
   ]
  },
  {
   "cell_type": "code",
   "execution_count": null,
   "metadata": {
    "id": "t9ziKbwOcA9_",
    "outputId": "ca9acbe4-c6a2-47ca-e981-3c8488dca4c2"
   },
   "outputs": [
    {
     "name": "stdout",
     "output_type": "stream",
     "text": [
      "Enter an integer (0 to end) --> 5\n",
      "I have seen 5 a total of 1 time(s)\n",
      "Enter an integer (0 to end) --> 7\n",
      "I have seen 7 a total of 1 time(s)\n",
      "Enter an integer (0 to end) --> 8\n",
      "I have seen 8 a total of 1 time(s)\n",
      "Enter an integer (0 to end) --> 2\n",
      "I have seen 2 a total of 1 time(s)\n",
      "Enter an integer (0 to end) --> 4\n",
      "I have seen 4 a total of 1 time(s)\n",
      "Enter an integer (0 to end) --> 6\n",
      "I have seen 6 a total of 1 time(s)\n",
      "Enter an integer (0 to end) --> 8\n",
      "I have seen 8 a total of 2 time(s)\n",
      "Enter an integer (0 to end) --> 54\n",
      "I have seen 54 a total of 1 time(s)\n",
      "Enter an integer (0 to end) --> 462\n",
      "I have seen 462 a total of 1 time(s)\n",
      "Enter an integer (0 to end) --> 72\n",
      "I have seen 72 a total of 1 time(s)\n",
      "Enter an integer (0 to end) --> 3\n",
      "I have seen 3 a total of 1 time(s)\n",
      "Enter an integer (0 to end) --> 5\n",
      "I have seen 5 a total of 2 time(s)\n",
      "Enter an integer (0 to end) --> 7\n",
      "I have seen 7 a total of 2 time(s)\n",
      "Enter an integer (0 to end) --> 0\n",
      "Done, counts: {5: 2, 7: 2, 8: 2, 2: 1, 4: 1, 6: 1, 54: 1, 462: 1, 72: 1, 3: 1}\n"
     ]
    }
   ],
   "source": [
    "# Another Example: \n",
    "\n",
    "# declare an empty dict\n",
    "# equivalent to: `counts = {}`\n",
    "counts = dict()\n",
    "\n",
    "while True:\n",
    "    n = int(input(\"Enter an integer (0 to end) --> \"))\n",
    "    if (n == 0): break\n",
    "    if (n in counts):\n",
    "        counts[n] += 1\n",
    "    else:\n",
    "        counts[n] = 1\n",
    "    print(\"I have seen\", n, \"a total of\", counts[n], \"time(s)\")\n",
    "print(\"Done, counts:\", counts)\n"
   ]
  },
  {
   "cell_type": "code",
   "execution_count": null,
   "metadata": {
    "id": "zzwKHfbocA9_",
    "outputId": "068a37ec-5aff-4a9f-dab8-10462a6deb1a"
   },
   "outputs": [
    {
     "name": "stdout",
     "output_type": "stream",
     "text": [
      "{}\n"
     ]
    }
   ],
   "source": [
    "# Create an empty dictionary \n",
    "\n",
    "d = dict()\n",
    "print(d)    # prints {}\n",
    "\n"
   ]
  },
  {
   "cell_type": "code",
   "execution_count": null,
   "metadata": {
    "id": "6PC8dz3pcA9_",
    "outputId": "6f512635-9fbd-4cf9-eb2a-b0b6212ab0c2"
   },
   "outputs": [
    {
     "name": "stdout",
     "output_type": "stream",
     "text": [
      "{}\n"
     ]
    }
   ],
   "source": [
    "# Create an empty dictionary using braces syntax \n",
    "d = { }\n",
    "print(d)    # prints {}\n"
   ]
  },
  {
   "cell_type": "code",
   "execution_count": null,
   "metadata": {
    "id": "8pegHLXScA9_",
    "outputId": "2e5aaf0d-a4b3-4967-ab2c-f618e25b120f"
   },
   "outputs": [
    {
     "name": "stdout",
     "output_type": "stream",
     "text": [
      "{'cow': 5, 'dog': 98, 'cat': 1}\n"
     ]
    }
   ],
   "source": [
    "# Create a dictionary from a list of (key, value) pairs \n",
    "\n",
    "pairs = [(\"cow\", 5), (\"dog\", 98), (\"cat\", 1)]\n",
    "d = dict(pairs)\n",
    "print(d)    # unpredictable order!\n"
   ]
  },
  {
   "cell_type": "code",
   "execution_count": null,
   "metadata": {
    "id": "U8bW63tAcA9_",
    "outputId": "5c238b8b-10df-4ad8-ff47-8d7007fcad14"
   },
   "outputs": [
    {
     "name": "stdout",
     "output_type": "stream",
     "text": [
      "{'cow': 5, 'dog': 98, 'cat': 1}\n"
     ]
    }
   ],
   "source": [
    "# Statically-allocate a dictionary \n",
    "d = { \"cow\":5, \"dog\":98, \"cat\":1 }\n",
    "print(d)    \n"
   ]
  },
  {
   "cell_type": "code",
   "execution_count": null,
   "metadata": {
    "id": "_dm-UONocA-A",
    "outputId": "68131c1a-bebf-491e-d9a9-0241f24f7c99"
   },
   "outputs": [
    {
     "name": "stdout",
     "output_type": "stream",
     "text": [
      "38\n",
      "{'fred': 38}\n"
     ]
    }
   ],
   "source": [
    "# Properties of Dictionaries  1.Dictionaries Map Keys to Values\n",
    "\n",
    "ages = dict()\n",
    "key = \"fred\"\n",
    "value = 38\n",
    "ages[key] = value  # \"fred\" is the key, 38 is the value\n",
    "\n",
    "print(ages[key])\n",
    "print(ages)\n",
    "\n"
   ]
  },
  {
   "cell_type": "code",
   "execution_count": null,
   "metadata": {
    "id": "cv5Psa_5cA-A",
    "outputId": "94d5b2e3-a5cd-458d-f092-b9b6d9ca157d"
   },
   "outputs": [
    {
     "name": "stdout",
     "output_type": "stream",
     "text": [
      "{2: 100, 4: 200, 8: 300}\n"
     ]
    }
   ],
   "source": [
    "# Keys are Sets\n",
    "# Keys are unordered \n",
    "# Keys can also be integers\n",
    "d = dict()\n",
    "d[2] = 100\n",
    "d[4] = 200\n",
    "d[8] = 300\n",
    "print(d)  # unpredictable order\n",
    "\n"
   ]
  },
  {
   "cell_type": "code",
   "execution_count": null,
   "metadata": {
    "id": "4m2NhpMMcA-A",
    "outputId": "cf077af0-2372-4fa7-d262-0b4e700f49d8"
   },
   "outputs": [
    {
     "name": "stdout",
     "output_type": "stream",
     "text": [
      "{2: 400}\n"
     ]
    }
   ],
   "source": [
    "# Keys are unique \n",
    "d = dict()\n",
    "d[2] = 100\n",
    "d[2] = 200\n",
    "d[2] = 400\n",
    "print(d)  # { 2:400 }\n"
   ]
  },
  {
   "cell_type": "code",
   "execution_count": null,
   "metadata": {
    "id": "knKzCrJGcA-A",
    "outputId": "34f5b6ee-2cc9-44a4-9f6d-09d967d01af5"
   },
   "outputs": [
    {
     "ename": "TypeError",
     "evalue": "unhashable type: 'list'",
     "output_type": "error",
     "traceback": [
      "\u001b[1;31m---------------------------------------------------------------------------\u001b[0m",
      "\u001b[1;31mTypeError\u001b[0m                                 Traceback (most recent call last)",
      "\u001b[1;32m<ipython-input-13-4c6ddd2c2728>\u001b[0m in \u001b[0;36m<module>\u001b[1;34m\u001b[0m\n\u001b[0;32m      3\u001b[0m \u001b[0md\u001b[0m \u001b[1;33m=\u001b[0m \u001b[0mdict\u001b[0m\u001b[1;33m(\u001b[0m\u001b[1;33m)\u001b[0m\u001b[1;33m\u001b[0m\u001b[0m\n\u001b[0;32m      4\u001b[0m \u001b[0ma\u001b[0m \u001b[1;33m=\u001b[0m \u001b[1;33m[\u001b[0m\u001b[1;36m1\u001b[0m\u001b[1;33m]\u001b[0m \u001b[1;31m# lists are mutable, so...\u001b[0m\u001b[1;33m\u001b[0m\u001b[0m\n\u001b[1;32m----> 5\u001b[1;33m \u001b[0md\u001b[0m\u001b[1;33m[\u001b[0m\u001b[0ma\u001b[0m\u001b[1;33m]\u001b[0m \u001b[1;33m=\u001b[0m \u001b[1;36m42\u001b[0m \u001b[1;31m# Error: unhashable type: 'list'\u001b[0m\u001b[1;33m\u001b[0m\u001b[0m\n\u001b[0m",
      "\u001b[1;31mTypeError\u001b[0m: unhashable type: 'list'"
     ]
    }
   ],
   "source": [
    "# Keys must be immutable \n",
    "\n",
    "d = dict()\n",
    "a = [1] # lists are mutable, so...\n",
    "d[a] = 42 # Error: unhashable type: 'list'\n"
   ]
  },
  {
   "cell_type": "code",
   "execution_count": null,
   "metadata": {
    "id": "gzbv_NldcA-B",
    "outputId": "36fafa2b-cd27-4eaa-f3c9-6bc4626990f7"
   },
   "outputs": [
    {
     "name": "stdout",
     "output_type": "stream",
     "text": [
      "[1, 2]\n",
      "[1, 2, 3]\n"
     ]
    }
   ],
   "source": [
    "# Values are Unrestricted\n",
    "\n",
    "# values may be mutable\n",
    "d = dict()\n",
    "a = [1,2]\n",
    "d[\"fred\"] = a\n",
    "print(d[\"fred\"])\n",
    "a += [3]\n",
    "print(d[\"fred\"]) # sees change in a!"
   ]
  },
  {
   "cell_type": "code",
   "execution_count": null,
   "metadata": {
    "id": "JcLT0OricA-B",
    "outputId": "95d3917e-a0a4-4172-e830-8d3b715a413a"
   },
   "outputs": [
    {
     "name": "stdout",
     "output_type": "stream",
     "text": [
      "2\n"
     ]
    }
   ],
   "source": [
    "# `len(d)`: the number of items (key-value pairs) in dictionary d  \n",
    "# Please see complete Dictionary Operations\n",
    "# https://docs.python.org/3/library/stdtypes.html#mapping-types-dict\n",
    "\n",
    "\n",
    "d = { 1:[1,2,3,4,5], 2:\"abcd\" }\n",
    "print(len(d))\n",
    " "
   ]
  },
  {
   "cell_type": "code",
   "execution_count": null,
   "metadata": {
    "id": "IdGn8p6IcA-B",
    "outputId": "e872afbc-09e0-4210-cc12-01f568c52feb"
   },
   "outputs": [
    {
     "name": "stdout",
     "output_type": "stream",
     "text": [
      "{1: 'a', 2: 'b'}\n",
      "{1: 'a'}\n"
     ]
    }
   ],
   "source": [
    "# `d.copy()`: new dictionary with a shallow copy of d  \n",
    "\n",
    "d1 = { 1:\"a\" }\n",
    "d2 = d1.copy()\n",
    "d1[2] = \"b\"\n",
    "print(d1)\n",
    "print(d2)\n",
    " "
   ]
  },
  {
   "cell_type": "code",
   "execution_count": null,
   "metadata": {
    "id": "7xkq34hacA-B",
    "outputId": "f4496cd1-7381-480c-81b6-21218c173770"
   },
   "outputs": [
    {
     "name": "stdout",
     "output_type": "stream",
     "text": [
      "(2, 'b')\n",
      "{1: 'a'}\n"
     ]
    }
   ],
   "source": [
    "# `popitem()`: remove and return an arbitrary (key,value) pair from d; raises KeyError if empty  \n",
    "d = { 1:\"a\", 2:\"b\" }\n",
    "print(d.popitem())  # unpredictable!\n",
    "print(d)\n",
    " "
   ]
  },
  {
   "cell_type": "code",
   "execution_count": null,
   "metadata": {
    "id": "4b37WZu4cA-C",
    "outputId": "773024b4-bc1e-4181-9c12-51253b048992"
   },
   "outputs": [
    {
     "name": "stdout",
     "output_type": "stream",
     "text": [
      "{} 0\n"
     ]
    }
   ],
   "source": [
    "# `d.clear()`: remove all items from dictionary d  \n",
    "d = { 1:\"a\", 2:\"b\" }\n",
    "d.clear()\n",
    "print(d, len(d))\n",
    " "
   ]
  },
  {
   "cell_type": "code",
   "execution_count": null,
   "metadata": {
    "id": "UDOU6mKucA-C",
    "outputId": "2baf55ab-e443-46c7-b049-27dad18f0a28"
   },
   "outputs": [
    {
     "name": "stdout",
     "output_type": "stream",
     "text": [
      "1 a\n",
      "2 b\n"
     ]
    }
   ],
   "source": [
    "# `for key in d`: Iterate over all keys in d.  \n",
    "\n",
    "d = { 1:\"a\", 2:\"b\" }\n",
    "for key in d:\n",
    "    print(key, d[key])\n",
    " "
   ]
  },
  {
   "cell_type": "code",
   "execution_count": null,
   "metadata": {
    "id": "6aSDnl64cA-C",
    "outputId": "6c091f26-08be-476c-d638-9d9ef5c4b0d1"
   },
   "outputs": [
    {
     "name": "stdout",
     "output_type": "stream",
     "text": [
      "False\n",
      "True\n",
      "False\n"
     ]
    }
   ],
   "source": [
    "# `key in d`: test if d has the given key  \n",
    "\n",
    "d = { 1:\"a\", 2:\"b\" }\n",
    "print(0 in d)\n",
    "print(1 in d)\n",
    "print(\"a\" in d)  \n",
    " "
   ]
  },
  {
   "cell_type": "code",
   "execution_count": null,
   "metadata": {
    "id": "EtZOoofGcA-C",
    "outputId": "730d0e4e-670c-4411-9c41-39e084232e2a"
   },
   "outputs": [
    {
     "name": "stdout",
     "output_type": "stream",
     "text": [
      "True\n",
      "False\n",
      "True\n"
     ]
    }
   ],
   "source": [
    "# `key not in d`: test if d does not have the given key  \n",
    "\n",
    "d = { 1:\"a\", 2:\"b\" }\n",
    "print(0 not in d)\n",
    "print(1 not in d)\n",
    "print(\"a\" not in d)\n",
    " "
   ]
  },
  {
   "cell_type": "code",
   "execution_count": null,
   "metadata": {
    "id": "JQpbWf7UcA-C",
    "outputId": "97923bac-152c-4947-f578-42fcb4c1e01b"
   },
   "outputs": [
    {
     "name": "stdout",
     "output_type": "stream",
     "text": [
      "a\n"
     ]
    },
    {
     "ename": "KeyError",
     "evalue": "3",
     "output_type": "error",
     "traceback": [
      "\u001b[1;31m---------------------------------------------------------------------------\u001b[0m",
      "\u001b[1;31mKeyError\u001b[0m                                  Traceback (most recent call last)",
      "\u001b[1;32m<ipython-input-22-48b6b2b97169>\u001b[0m in \u001b[0;36m<module>\u001b[1;34m\u001b[0m\n\u001b[0;32m      3\u001b[0m \u001b[0md\u001b[0m \u001b[1;33m=\u001b[0m \u001b[1;33m{\u001b[0m \u001b[1;36m1\u001b[0m\u001b[1;33m:\u001b[0m\u001b[1;34m\"a\"\u001b[0m\u001b[1;33m,\u001b[0m \u001b[1;36m2\u001b[0m\u001b[1;33m:\u001b[0m\u001b[1;34m\"b\"\u001b[0m \u001b[1;33m}\u001b[0m\u001b[1;33m\u001b[0m\u001b[0m\n\u001b[0;32m      4\u001b[0m \u001b[0mprint\u001b[0m\u001b[1;33m(\u001b[0m\u001b[0md\u001b[0m\u001b[1;33m[\u001b[0m\u001b[1;36m1\u001b[0m\u001b[1;33m]\u001b[0m\u001b[1;33m)\u001b[0m\u001b[1;33m\u001b[0m\u001b[0m\n\u001b[1;32m----> 5\u001b[1;33m \u001b[0mprint\u001b[0m\u001b[1;33m(\u001b[0m\u001b[0md\u001b[0m\u001b[1;33m[\u001b[0m\u001b[1;36m3\u001b[0m\u001b[1;33m]\u001b[0m\u001b[1;33m)\u001b[0m \u001b[1;31m# crash!\u001b[0m\u001b[1;33m\u001b[0m\u001b[0m\n\u001b[0m\u001b[0;32m      6\u001b[0m \u001b[1;33m\u001b[0m\u001b[0m\n",
      "\u001b[1;31mKeyError\u001b[0m: 3"
     ]
    }
   ],
   "source": [
    "# `d[key]`: the item of d with the given key. Raises a KeyError if key is not in the map.  \n",
    "\n",
    "d = { 1:\"a\", 2:\"b\" }\n",
    "print(d[1])\n",
    "print(d[3]) # crash!\n",
    " "
   ]
  },
  {
   "cell_type": "code",
   "execution_count": null,
   "metadata": {
    "id": "SysTu_cvcA-D",
    "outputId": "c50026ef-4b95-4676-efd0-89a5b66f27ed"
   },
   "outputs": [
    {
     "name": "stdout",
     "output_type": "stream",
     "text": [
      "a\n",
      "42\n"
     ]
    }
   ],
   "source": [
    "# `d[key] = value`: assign value to d[key]\n",
    "\n",
    "\n",
    "d = { 1:\"a\", 2:\"b\" }\n",
    "print(d[1])\n",
    "d[1] = 42\n",
    "print(d[1])\n",
    " "
   ]
  },
  {
   "cell_type": "code",
   "execution_count": null,
   "metadata": {
    "id": "y6m5hmpTcA-D",
    "outputId": "7ee11c94-e9b3-4768-a242-590cae4def51"
   },
   "outputs": [
    {
     "name": "stdout",
     "output_type": "stream",
     "text": [
      "a\n",
      "a\n",
      "None\n",
      "42\n"
     ]
    }
   ],
   "source": [
    "# `get(key[,default])` will return the corresponding value if key is in the dict\n",
    "# otherwise return default (or None if no default is provided)\n",
    "d = { 1:\"a\", 2:\"b\" }\n",
    "print(d.get(1))     # works like d[1] here\n",
    "print(d.get(1, 42)) # default is ignored\n",
    "print(d.get(0))     # doesn't crash!\n",
    "print(d.get(0, 42)) # default is used\n",
    " "
   ]
  },
  {
   "cell_type": "code",
   "execution_count": null,
   "metadata": {
    "id": "sPZOB_JWcA-D",
    "outputId": "b9a28469-96b7-49a6-eb16-80dbe0a2f25d"
   },
   "outputs": [
    {
     "name": "stdout",
     "output_type": "stream",
     "text": [
      "True\n",
      "False\n"
     ]
    },
    {
     "ename": "KeyError",
     "evalue": "1",
     "output_type": "error",
     "traceback": [
      "\u001b[1;31m---------------------------------------------------------------------------\u001b[0m",
      "\u001b[1;31mKeyError\u001b[0m                                  Traceback (most recent call last)",
      "\u001b[1;32m<ipython-input-25-3bdc1df069a0>\u001b[0m in \u001b[0;36m<module>\u001b[1;34m\u001b[0m\n\u001b[0;32m      5\u001b[0m \u001b[1;32mdel\u001b[0m \u001b[0md\u001b[0m\u001b[1;33m[\u001b[0m\u001b[1;36m1\u001b[0m\u001b[1;33m]\u001b[0m\u001b[1;33m\u001b[0m\u001b[0m\n\u001b[0;32m      6\u001b[0m \u001b[0mprint\u001b[0m\u001b[1;33m(\u001b[0m\u001b[1;36m1\u001b[0m \u001b[1;32min\u001b[0m \u001b[0md\u001b[0m\u001b[1;33m)\u001b[0m\u001b[1;33m\u001b[0m\u001b[0m\n\u001b[1;32m----> 7\u001b[1;33m \u001b[1;32mdel\u001b[0m \u001b[0md\u001b[0m\u001b[1;33m[\u001b[0m\u001b[1;36m1\u001b[0m\u001b[1;33m]\u001b[0m \u001b[1;31m# crash!\u001b[0m\u001b[1;33m\u001b[0m\u001b[0m\n\u001b[0m\u001b[0;32m      8\u001b[0m \u001b[1;33m\u001b[0m\u001b[0m\n",
      "\u001b[1;31mKeyError\u001b[0m: 1"
     ]
    }
   ],
   "source": [
    "# `del d[key]` removes the key-value pair from d. Raises KeyError if key not in d.\n",
    "\n",
    "d = { 1:\"a\", 2:\"b\" }\n",
    "print(1 in d)\n",
    "del d[1]\n",
    "print(1 in d)\n",
    "del d[1] # crash!\n",
    " "
   ]
  },
  {
   "cell_type": "code",
   "execution_count": null,
   "metadata": {
    "id": "R2Cm5HzBcA-E",
    "outputId": "22cbd239-aa1a-4570-f707-d5d4ba52729a",
    "scrolled": true
   },
   "outputs": [
    {
     "name": "stdout",
     "output_type": "stream",
     "text": [
      "{1: 'a', 2: 'c', 3: 'd'}\n",
      "{2: 'c', 3: 'd', 4: 'e'}\n"
     ]
    }
   ],
   "source": [
    "# `d1.update(d2)` updates the dict with the key-value pairs from other, overwriting existing keys.  \n",
    "d1 = { 1:\"a\", 2:\"b\" }\n",
    "d2 = { 2:\"c\", 3:\"d\" }\n",
    "d1.update(d2)\n",
    "d2[4] = \"e\"\n",
    "print(d1)\n",
    "print(d2)\n",
    " "
   ]
  },
  {
   "cell_type": "markdown",
   "metadata": {
    "id": "saQsNHFWcA-E"
   },
   "source": [
    "### <span style=\"color:red\">Exercise2:</span> Counting Characters\n",
    "\n",
    "Write a function:\n",
    "\n",
    "    count_char(S)\n",
    "\n",
    "that takes a string S and returns a `dict` containing number of occurrences of each character occurring in S\n",
    "\n",
    "For example:\n",
    "\n",
    "* count_char('brontosaurus') should returns:\n",
    "    * {'b': 1, 'r': 2, 'o': 2, 'n': 1, 't': 1, 's': 2, 'a': 1, 'u': 2}"
   ]
  },
  {
   "cell_type": "code",
   "execution_count": null,
   "metadata": {
    "id": "D60E3o4mcA-G",
    "scrolled": false
   },
   "outputs": [],
   "source": [
    "# Exercise 2\n",
    "\n",
    "def count_char(S):\n",
    "    # write your code here\n",
    "    pass\n",
    "\n",
    "print(count_char('brontosaurus'))"
   ]
  },
  {
   "cell_type": "code",
   "execution_count": null,
   "metadata": {
    "id": "_I0lhi9-cA-G"
   },
   "outputs": [],
   "source": [
    "!pip3 install matplotlib\n",
    "import matplotlib.pyplot as plt\n",
    "\n",
    "with open('files/alice_in_wonderland.txt', 'r', encoding='utf8') as f:\n",
    "    counts = count_char(f.read().lower())\n",
    "    keys = sorted([k for k in counts.keys() if k.isalpha()])\n",
    "    vals = [counts[k] for k in keys]\n",
    "    plt.bar(keys, vals)"
   ]
  },
  {
   "cell_type": "markdown",
   "metadata": {
    "id": "bgX9mOElcA-G"
   },
   "source": [
    "### Looping and dictionaries"
   ]
  },
  {
   "cell_type": "markdown",
   "metadata": {
    "id": "1x98LGOPcA-H"
   },
   "source": [
    "If you use a dictionary in a **for** statement, it traverses the keys of the dictionary."
   ]
  },
  {
   "cell_type": "code",
   "execution_count": null,
   "metadata": {
    "id": "cjiCEk1zcA-I",
    "outputId": "b0460947-5953-45d7-a04d-1e4b62858543",
    "scrolled": true
   },
   "outputs": [
    {
     "name": "stdout",
     "output_type": "stream",
     "text": [
      "dog 3\n",
      "cat 2\n",
      "bird 4\n"
     ]
    }
   ],
   "source": [
    "zoo = {'dog':3, 'cat': 2, 'bird':4}\n",
    "for k in zoo:\n",
    "    print(k,zoo[k])"
   ]
  },
  {
   "cell_type": "markdown",
   "metadata": {
    "id": "cE4ACPDUcA-I"
   },
   "source": [
    "To traverse in sorted order, use the built-in function `sorted`."
   ]
  },
  {
   "cell_type": "code",
   "execution_count": null,
   "metadata": {
    "id": "SPWYfMSjcA-I",
    "outputId": "afe40144-50ed-4f59-fbe7-ca65b034c003"
   },
   "outputs": [
    {
     "name": "stdout",
     "output_type": "stream",
     "text": [
      "bird 4\n",
      "cat 2\n",
      "dog 3\n"
     ]
    }
   ],
   "source": [
    "zoo = {'dog':3, 'cat': 2, 'bird':4}\n",
    "for k in sorted(zoo):\n",
    "    print(k,zoo[k])"
   ]
  },
  {
   "cell_type": "markdown",
   "metadata": {
    "id": "ctDHbazWcA-J"
   },
   "source": [
    "### Reverse lookup"
   ]
  },
  {
   "cell_type": "markdown",
   "metadata": {
    "id": "hjpFllvrcA-J"
   },
   "source": [
    "Given a value *v*, find the key that maps to the value.  \n",
    "Issues:  \n",
    "1. The dictionary may not have the value *v* -- raise the built-in `LookupError` exception.\n",
    "2. There can be more than one key that maps to *v* -- return the first one that matches.\n",
    "\n",
    "This is not what the dictionary is designed to do.  \n",
    "Thus, there is no easy way to do reverse lookup and it is slow."
   ]
  },
  {
   "cell_type": "markdown",
   "metadata": {
    "id": "domsfzhKcA-J"
   },
   "source": [
    "When raising an exception, you can include a message as the argument."
   ]
  },
  {
   "cell_type": "code",
   "execution_count": null,
   "metadata": {
    "id": "V6scJkhtcA-J",
    "outputId": "4f59cfe8-acc9-4a69-ea16-a4c5d79e40ee"
   },
   "outputs": [
    {
     "name": "stdout",
     "output_type": "stream",
     "text": [
      "cat\n"
     ]
    },
    {
     "ename": "LookupError",
     "evalue": "The value 5 does not appear in the dictionary.",
     "output_type": "error",
     "traceback": [
      "\u001b[1;31m---------------------------------------------------------------------------\u001b[0m",
      "\u001b[1;31mLookupError\u001b[0m                               Traceback (most recent call last)",
      "\u001b[1;32m<ipython-input-29-5a82162443bf>\u001b[0m in \u001b[0;36m<module>\u001b[1;34m\u001b[0m\n\u001b[0;32m      8\u001b[0m \u001b[0mhasTwo\u001b[0m \u001b[1;33m=\u001b[0m \u001b[0mreverseLookup\u001b[0m\u001b[1;33m(\u001b[0m\u001b[0mzoo\u001b[0m\u001b[1;33m,\u001b[0m\u001b[1;36m2\u001b[0m\u001b[1;33m)\u001b[0m\u001b[1;33m\u001b[0m\u001b[0m\n\u001b[0;32m      9\u001b[0m \u001b[0mprint\u001b[0m\u001b[1;33m(\u001b[0m\u001b[0mhasTwo\u001b[0m\u001b[1;33m)\u001b[0m\u001b[1;33m\u001b[0m\u001b[0m\n\u001b[1;32m---> 10\u001b[1;33m \u001b[0mhasFive\u001b[0m \u001b[1;33m=\u001b[0m \u001b[0mreverseLookup\u001b[0m\u001b[1;33m(\u001b[0m\u001b[0mzoo\u001b[0m\u001b[1;33m,\u001b[0m\u001b[1;36m5\u001b[0m\u001b[1;33m)\u001b[0m\u001b[1;33m\u001b[0m\u001b[0m\n\u001b[0m\u001b[0;32m     11\u001b[0m \u001b[0mprint\u001b[0m\u001b[1;33m(\u001b[0m\u001b[0mhasFive\u001b[0m\u001b[1;33m)\u001b[0m\u001b[1;33m\u001b[0m\u001b[0m\n",
      "\u001b[1;32m<ipython-input-29-5a82162443bf>\u001b[0m in \u001b[0;36mreverseLookup\u001b[1;34m(d, v)\u001b[0m\n\u001b[0;32m      3\u001b[0m         \u001b[1;32mif\u001b[0m \u001b[0md\u001b[0m\u001b[1;33m[\u001b[0m\u001b[0mkey\u001b[0m\u001b[1;33m]\u001b[0m \u001b[1;33m==\u001b[0m \u001b[0mv\u001b[0m\u001b[1;33m:\u001b[0m\u001b[1;33m\u001b[0m\u001b[0m\n\u001b[0;32m      4\u001b[0m             \u001b[1;32mreturn\u001b[0m \u001b[0mkey\u001b[0m\u001b[1;33m\u001b[0m\u001b[0m\n\u001b[1;32m----> 5\u001b[1;33m     \u001b[1;32mraise\u001b[0m \u001b[0mLookupError\u001b[0m\u001b[1;33m(\u001b[0m\u001b[1;34m'The value %s does not appear in the dictionary.'\u001b[0m \u001b[1;33m%\u001b[0m \u001b[0mv\u001b[0m\u001b[1;33m)\u001b[0m\u001b[1;33m\u001b[0m\u001b[0m\n\u001b[0m\u001b[0;32m      6\u001b[0m \u001b[1;33m\u001b[0m\u001b[0m\n\u001b[0;32m      7\u001b[0m \u001b[0mzoo\u001b[0m \u001b[1;33m=\u001b[0m \u001b[1;33m{\u001b[0m\u001b[1;34m'dog'\u001b[0m\u001b[1;33m:\u001b[0m\u001b[1;36m3\u001b[0m\u001b[1;33m,\u001b[0m \u001b[1;34m'cat'\u001b[0m\u001b[1;33m:\u001b[0m \u001b[1;36m2\u001b[0m\u001b[1;33m,\u001b[0m \u001b[1;34m'bird'\u001b[0m\u001b[1;33m:\u001b[0m\u001b[1;36m4\u001b[0m\u001b[1;33m}\u001b[0m\u001b[1;33m\u001b[0m\u001b[0m\n",
      "\u001b[1;31mLookupError\u001b[0m: The value 5 does not appear in the dictionary."
     ]
    }
   ],
   "source": [
    "def reverseLookup(d,v):\n",
    "    for key in d:\n",
    "        if d[key] == v:\n",
    "            return key\n",
    "    raise LookupError('The value %s does not appear in the dictionary.' % v)\n",
    "    \n",
    "zoo = {'dog':3, 'cat': 2, 'bird':4}\n",
    "hasTwo = reverseLookup(zoo,2)\n",
    "print(hasTwo)\n",
    "hasFive = reverseLookup(zoo,5)\n",
    "print(hasFive)"
   ]
  },
  {
   "cell_type": "markdown",
   "metadata": {
    "id": "PzGQvS1ocA-K"
   },
   "source": [
    "### Boost performance by avoiding repeated work"
   ]
  },
  {
   "cell_type": "markdown",
   "metadata": {
    "id": "Wl85mH-icA-K"
   },
   "source": [
    "The `fibonacci` function can be easily implemented with recursive call."
   ]
  },
  {
   "cell_type": "code",
   "execution_count": null,
   "metadata": {
    "id": "9pxirLLjcA-K",
    "outputId": "b927553b-7279-46e5-ad8f-80cc70e59612"
   },
   "outputs": [
    {
     "name": "stdout",
     "output_type": "stream",
     "text": [
      "55\n"
     ]
    }
   ],
   "source": [
    "def fibonacci(n):\n",
    "    if n == 0:\n",
    "        return 0\n",
    "    elif n == 1:\n",
    "        return 1\n",
    "    else:\n",
    "        return fibonacci(n-1) + fibonacci(n-2)\n",
    "print(fibonacci(10))"
   ]
  },
  {
   "cell_type": "markdown",
   "metadata": {
    "id": "R3fVvrE0cA-K"
   },
   "source": [
    "However, this implementation is inefficient in that the same Fibonacci number may be computed several times, as we have discussed."
   ]
  },
  {
   "cell_type": "markdown",
   "metadata": {
    "id": "38NsOBJqcA-K"
   },
   "source": [
    "**Idea: redundant work can be saved in a `dict` and recall whenever needed**"
   ]
  },
  {
   "cell_type": "code",
   "execution_count": null,
   "metadata": {
    "id": "ha5Mju5jcA-K",
    "outputId": "bb00127f-8421-4011-acd6-a549dbf16f14"
   },
   "outputs": [
    {
     "name": "stdout",
     "output_type": "stream",
     "text": [
      "55\n"
     ]
    }
   ],
   "source": [
    "known = {0:0,1:1}\n",
    "\n",
    "def fibonacci2(n):\n",
    "    if n in known:\n",
    "        return known[n]\n",
    "    ans = fibonacci2(n-1) + fibonacci2(n-2)\n",
    "    known[n] = ans\n",
    "    return ans\n",
    "print(fibonacci2(10))"
   ]
  },
  {
   "cell_type": "markdown",
   "metadata": {
    "id": "uM95G5a7cA-K"
   },
   "source": [
    "### Performance Analysis"
   ]
  },
  {
   "cell_type": "code",
   "execution_count": null,
   "metadata": {
    "id": "FQSPCQ6OcA-L",
    "outputId": "6b12e777-25e5-45f7-9a58-953f83b35721"
   },
   "outputs": [
    {
     "name": "stdout",
     "output_type": "stream",
     "text": [
      "Performance analysis for fibonacci with Input (10,) :\n",
      "Time elapsed: 0.0003008842468261719 sec\n",
      "Performance analysis for fibonacci2 with Input (10,) :\n",
      "Time elapsed: 4.8160552978515625e-05 sec\n",
      "\n",
      "Performance analysis for fibonacci with Input (20,) :\n",
      "Time elapsed: 0.002606630325317383 sec\n",
      "Performance analysis for fibonacci2 with Input (20,) :\n",
      "Time elapsed: 3.147125244140625e-05 sec\n",
      "\n",
      "Performance analysis for fibonacci with Input (30,) :\n",
      "Time elapsed: 0.33283257484436035 sec\n",
      "Performance analysis for fibonacci2 with Input (30,) :\n",
      "Time elapsed: 0.00021076202392578125 sec\n",
      "\n",
      "Performance analysis for fibonacci with Input (40,) :\n",
      "Time elapsed: 41.58278965950012 sec\n",
      "Performance analysis for fibonacci2 with Input (40,) :\n",
      "Time elapsed: 0.00023245811462402344 sec\n",
      "\n"
     ]
    }
   ],
   "source": [
    "import time\n",
    "\n",
    "def performance_analysis(func, arg):\n",
    "    print(f\"Performance analysis for {func.__name__} with Input {arg} :\")\n",
    "    start_time = time.time()\n",
    "    func(*arg)\n",
    "    time.sleep(1)\n",
    "    # workaround for timing inaccuracy\n",
    "    stop_time = time.time()\n",
    "    print(f\"Time elapsed: {stop_time - start_time - 1} sec\")\n",
    "\n",
    "for i in range(1,5):\n",
    "    performance_analysis(fibonacci, (10*i,))\n",
    "    performance_analysis(fibonacci2, (10*i,))\n",
    "    print()"
   ]
  },
  {
   "cell_type": "markdown",
   "metadata": {
    "id": "Jnwxz0-LcA-L"
   },
   "source": [
    "## Global variables"
   ]
  },
  {
   "cell_type": "markdown",
   "metadata": {
    "id": "rgwXI7wzcA-M"
   },
   "source": [
    "Recall that the parameters and variables defined in a function only exist inside the function, i.e., they are **local**."
   ]
  },
  {
   "cell_type": "code",
   "execution_count": null,
   "metadata": {
    "id": "4LI3KWzpcA-M",
    "outputId": "8b15a681-7817-4b13-f2dd-0c48939defe0"
   },
   "outputs": [
    {
     "ename": "NameError",
     "evalue": "name 'bla' is not defined",
     "output_type": "error",
     "traceback": [
      "\u001b[1;31m---------------------------------------------------------------------------\u001b[0m",
      "\u001b[1;31mNameError\u001b[0m                                 Traceback (most recent call last)",
      "\u001b[1;32m<ipython-input-33-643a97af7e0d>\u001b[0m in \u001b[0;36m<module>\u001b[1;34m\u001b[0m\n\u001b[0;32m      1\u001b[0m \u001b[1;32mdef\u001b[0m \u001b[0mfoo\u001b[0m\u001b[1;33m(\u001b[0m\u001b[1;33m)\u001b[0m\u001b[1;33m:\u001b[0m\u001b[1;33m\u001b[0m\u001b[0m\n\u001b[0;32m      2\u001b[0m     \u001b[0mbla\u001b[0m \u001b[1;33m=\u001b[0m \u001b[1;36m3\u001b[0m\u001b[1;33m\u001b[0m\u001b[0m\n\u001b[1;32m----> 3\u001b[1;33m \u001b[0mprint\u001b[0m\u001b[1;33m(\u001b[0m\u001b[0mbla\u001b[0m\u001b[1;33m)\u001b[0m\u001b[1;33m\u001b[0m\u001b[0m\n\u001b[0m",
      "\u001b[1;31mNameError\u001b[0m: name 'bla' is not defined"
     ]
    }
   ],
   "source": [
    "def foo():\n",
    "    bla = 3\n",
    "print(bla)"
   ]
  },
  {
   "cell_type": "markdown",
   "metadata": {
    "id": "ZbF2l-AicA-M"
   },
   "source": [
    "On the other hand, those declared outside functions are **global**.  \n",
    "It gets tricky when we have a global and a local variable with the same name.\n",
    "\n",
    "In the following example, *blabla* is a global variable.  \n",
    "However, inside `foo`, you declare a **local** variable also named *blabla*.  \n",
    "Within `foo`, the local one overrides the global one."
   ]
  },
  {
   "cell_type": "code",
   "execution_count": null,
   "metadata": {
    "id": "V_jVsAotcA-M",
    "outputId": "b0394f3e-805e-4dcf-9702-17ee3cda71a1"
   },
   "outputs": [
    {
     "name": "stdout",
     "output_type": "stream",
     "text": [
      "9\n"
     ]
    }
   ],
   "source": [
    "blabla = 9\n",
    "\n",
    "def foo():\n",
    "    blabla = 10 # blabla is local, because it is declared within 'foo'\n",
    "    \n",
    "foo()\n",
    "\n",
    "print(blabla)"
   ]
  },
  {
   "cell_type": "markdown",
   "metadata": {
    "id": "41c38kjzcA-M"
   },
   "source": [
    "However, if inside a function, you access a variable, say *yy*, that's not declared locally, Python will use the global *yy* if it exists."
   ]
  },
  {
   "cell_type": "code",
   "execution_count": null,
   "metadata": {
    "id": "hpNTcdJ6cA-M",
    "outputId": "a84a5f1c-8fc0-4f00-bb2d-e61087353504"
   },
   "outputs": [
    {
     "name": "stdout",
     "output_type": "stream",
     "text": [
      "10\n"
     ]
    }
   ],
   "source": [
    "yy = 9\n",
    "\n",
    "def foo():\n",
    "    xx = yy + 1 # yy is global, because it is not declared within 'foo'\n",
    "    print(xx)\n",
    "    \n",
    "foo()"
   ]
  },
  {
   "cell_type": "markdown",
   "metadata": {
    "id": "Q-3B6l0pcA-N"
   },
   "source": [
    "What if you need to update a global variable within a function?  \n",
    "Solution: declare it as **global**."
   ]
  },
  {
   "cell_type": "code",
   "execution_count": null,
   "metadata": {
    "id": "8d_KFFV6cA-N",
    "outputId": "78aa86e4-ab69-4387-e8c7-230b912d71f2"
   },
   "outputs": [
    {
     "name": "stdout",
     "output_type": "stream",
     "text": [
      "10\n"
     ]
    }
   ],
   "source": [
    "def foo():\n",
    "    global blabla\n",
    "    blabla = 10 # this assigns 9 to the \"global\" blabla\n",
    "blabla = 9\n",
    "foo()\n",
    "print(blabla)"
   ]
  },
  {
   "cell_type": "markdown",
   "metadata": {
    "id": "OHUsNJILcA-N"
   },
   "source": [
    "**Global variables can be very convenient.**\n",
    "1. As shared variables for all functions, saving the troublesome passing and returning values.\n",
    "2. A convenient way to set global states.\n",
    "\n",
    "**But, too many of them also makes your program bug-prone.**"
   ]
  },
  {
   "cell_type": "code",
   "execution_count": null,
   "metadata": {
    "id": "SVu6ZCNncA-N",
    "outputId": "be2e8330-5b2a-4b0f-82f0-c7fc8b5fc849"
   },
   "outputs": [
    {
     "name": "stdout",
     "output_type": "stream",
     "text": [
      "reset the stock to 0\n",
      "produce 5\n",
      "produce 10\n",
      "over capacity!\n",
      "consume 20\n",
      "over consumption!\n",
      "current stock is 0\n"
     ]
    }
   ],
   "source": [
    "# 'verbose' is a status flag. \n",
    "# In general, you set its value here and only here.\n",
    "verbose = True\n",
    "# 'capacity' is a shared global variable.\n",
    "capacity = 10\n",
    "\n",
    "def reset():\n",
    "    global sum # without this, the 'sum' in next line is local\n",
    "    sum = 0\n",
    "    if verbose:\n",
    "        print('reset the stock to 0')\n",
    "\n",
    "def produce(n):\n",
    "    global sum # without this, the next line won't even work. Why?\n",
    "    if verbose:\n",
    "        print('produce %d' % n)\n",
    "    sum += n\n",
    "    if sum > capacity:\n",
    "        if verbose:\n",
    "            print('over capacity!')\n",
    "        sum = capacity\n",
    "\n",
    "def consume(n):\n",
    "    global sum\n",
    "    if verbose:\n",
    "        print('consume %d' % n)\n",
    "    sum -= n\n",
    "    if sum < 0:\n",
    "        if verbose:\n",
    "            print('over consumption!')\n",
    "        sum = 0\n",
    "\n",
    "def showStock():\n",
    "    global sum\n",
    "    print('current stock is %d' % sum)\n",
    "\n",
    "reset()\n",
    "produce(5)\n",
    "produce(10)\n",
    "consume(20)\n",
    "showStock()"
   ]
  },
  {
   "cell_type": "markdown",
   "metadata": {
    "id": "m0cHwXZVcA-N"
   },
   "source": [
    "### <span style=\"color:green\">Example: Fibonacci hit/miss counts</span>\n",
    "Modify `fibonacci2` so that it also updates the number of miss/hit."
   ]
  },
  {
   "cell_type": "code",
   "execution_count": null,
   "metadata": {
    "id": "F_s42QfycA-N",
    "outputId": "b9748723-82db-4476-a42a-8f0863e3744e"
   },
   "outputs": [
    {
     "name": "stdout",
     "output_type": "stream",
     "text": [
      "354224848179261915075\n",
      "99 100\n"
     ]
    }
   ],
   "source": [
    "miss = 0\n",
    "hit = 0\n",
    "known = {0:0,1:1}\n",
    "\n",
    "def fibonacci2(n):\n",
    "    global miss, hit, known\n",
    "    if n in known:\n",
    "        hit += 1\n",
    "        return known[n]\n",
    "    miss += 1\n",
    "    ans = fibonacci2(n-1) + fibonacci2(n-2)\n",
    "    known[n] = ans\n",
    "    return ans\n",
    "\n",
    "print(fibonacci2(100))\n",
    "print(miss,hit)"
   ]
  },
  {
   "cell_type": "markdown",
   "metadata": {
    "id": "JVDsOf6pcA-O"
   },
   "source": [
    "What happens if you declare *known* as a local variable in `fibonacci2`?  \n",
    "Why?"
   ]
  },
  {
   "cell_type": "code",
   "execution_count": null,
   "metadata": {
    "id": "jqdl3mE5cA-O"
   },
   "outputs": [],
   "source": []
  }
 ],
 "metadata": {
  "colab": {
   "name": "W06L01_set_and_dict.ipynb",
   "provenance": []
  },
  "kernelspec": {
   "display_name": "Python 3",
   "language": "python",
   "name": "python3"
  },
  "language_info": {
   "codemirror_mode": {
    "name": "ipython",
    "version": 3
   },
   "file_extension": ".py",
   "mimetype": "text/x-python",
   "name": "python",
   "nbconvert_exporter": "python",
   "pygments_lexer": "ipython3",
   "version": "3.8.10"
  }
 },
 "nbformat": 4,
 "nbformat_minor": 1
}
