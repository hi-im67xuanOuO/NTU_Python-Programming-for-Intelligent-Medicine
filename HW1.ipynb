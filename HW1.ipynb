{
  "cells": [
    {
      "cell_type": "markdown",
      "metadata": {
        "id": "NmS72oOVhkV_"
      },
      "source": [
        "## Q1"
      ]
    },
    {
      "cell_type": "code",
      "execution_count": null,
      "metadata": {
        "colab": {
          "base_uri": "https://localhost:8080/"
        },
        "id": "P4AX5U9pUuyR",
        "outputId": "cad13471-a256-4b0d-898e-c7aa71529d55"
      },
      "outputs": [
        {
          "name": "stdout",
          "output_type": "stream",
          "text": [
            "please input radius: 3.5\n",
            "please input height: 5\n",
            "Area=186.92476288859268, Volume=192.42255003237483\n"
          ]
        }
      ],
      "source": [
        "# TODO"
      ]
    },
    {
      "cell_type": "code",
      "execution_count": 10,
      "metadata": {},
      "outputs": [
        {
          "name": "stdout",
          "output_type": "stream",
          "text": [
            "Area=186.92476288859268, Volume=192.42255003237483\n"
          ]
        }
      ],
      "source": [
        "import math\n",
        "a = float(input(\"please input radius: \"))\n",
        "b = float(input(\"please input height: \"))\n",
        "pi = math.pi\n",
        "Area = a*a*pi*2 + 2*pi*a*b\n",
        "Volume = a*a*pi*b\n",
        "print(f\"Area={Area}, Volume={Volume}\")#.format(\"Area\",\"Volume\"))"
      ]
    },
    {
      "cell_type": "markdown",
      "metadata": {
        "id": "aUatB1nUnR8t"
      },
      "source": [
        "## Q2"
      ]
    },
    {
      "cell_type": "code",
      "execution_count": 39,
      "metadata": {
        "id": "0M91HxEpnRd6"
      },
      "outputs": [],
      "source": [
        "a=1\n",
        "b=1\n",
        "c=1\n",
        "\n",
        "def f(x):\n",
        "    global a,b,c # Don't modify this\n",
        "    # Given a integer x and return ax^2+bx+c, the value of a,b,c with be different when grading.\n",
        "    # TODO \n",
        "    ans = a*x**2 + b*x +c\n",
        "    return ans\n",
        "    #pass\n",
        "  \n",
        "def Q2(n):\n",
        "    # If f(n) is divide by 2 or 3 or 5 then print \"Yes:)\" otherwise print \"No:(\"\n",
        "    if n%2==0 or n%3==0 or n%5==0:\n",
        "        print(\"Yes:)\")\n",
        "        #ans = \"Yes:)\"\n",
        "    else:\n",
        "        print(\"No:(\")\n",
        "        #ans = \"No:(\"\n",
        "    #return ans\n",
        "    #pass"
      ]
    },
    {
      "cell_type": "code",
      "execution_count": 40,
      "metadata": {},
      "outputs": [
        {
          "name": "stdout",
          "output_type": "stream",
          "text": [
            "No:(\n"
          ]
        }
      ],
      "source": [
        "n = float(input())\n",
        "result = f(n)\n",
        "#print(result)\n",
        "Q2(result)\n",
        "# print(Q2(result))"
      ]
    },
    {
      "cell_type": "markdown",
      "metadata": {
        "id": "cC_oaqvU4waU"
      },
      "source": [
        "## Q3"
      ]
    },
    {
      "cell_type": "code",
      "execution_count": 2,
      "metadata": {
        "id": "KG4QivGE3loK"
      },
      "outputs": [],
      "source": [
        "import random\n",
        "\n",
        "def generate_answer(): # no need to modify this function\n",
        "  \"This function generates 2 random, unrepeated numbers\"\n",
        "  rand_nums = random.sample(list(range(0, 10)), k=2)\n",
        "  return rand_nums[0], rand_nums[1]\n",
        "\n",
        "def guessing_game(guess1, guess2):\n",
        "  # TODO\n",
        "  a,b = generate_answer()\n",
        "  A_count = 0\n",
        "  B_count = 0\n",
        "  ans = str(a)+str(b)\n",
        "  if guess1>=0 and guess2>=0:\n",
        "    if guess1 != guess2:\n",
        "      if isinstance(guess1,int) and isinstance(guess2,int):\n",
        "        if guess1 == a:\n",
        "              A_count+=1\n",
        "        if guess2 == b:\n",
        "              A_count+=1\n",
        "        if guess1 == b:\n",
        "              B_count+=1\n",
        "        if guess2 == a:\n",
        "              B_count+=1\n",
        "        \n",
        "        # print(f\"{A_count}A{B_count}B, the answer is {ans}.\")\n",
        "        print('{}A{}B, the answer is {}.'.format(A_count,B_count,ans))\n",
        "        return 0\n",
        "      else:\n",
        "        print(\"invalid guess!\")\n",
        "        return -1\n",
        "    else:\n",
        "      print(\"invalid guess!\")\n",
        "      return -1\n",
        "  #pass\n",
        "  "
      ]
    },
    {
      "cell_type": "code",
      "execution_count": 3,
      "metadata": {},
      "outputs": [
        {
          "name": "stdout",
          "output_type": "stream",
          "text": [
            "invalid guess!\n"
          ]
        },
        {
          "data": {
            "text/plain": [
              "-1"
            ]
          },
          "execution_count": 3,
          "metadata": {},
          "output_type": "execute_result"
        }
      ],
      "source": [
        "guessing_game(3, 3)"
      ]
    },
    {
      "cell_type": "code",
      "execution_count": 4,
      "metadata": {},
      "outputs": [
        {
          "name": "stdout",
          "output_type": "stream",
          "text": [
            "1A0B, the answer is 63.\n"
          ]
        },
        {
          "data": {
            "text/plain": [
              "0"
            ]
          },
          "execution_count": 4,
          "metadata": {},
          "output_type": "execute_result"
        }
      ],
      "source": [
        "guessing_game(4, 3)"
      ]
    },
    {
      "cell_type": "code",
      "execution_count": 5,
      "metadata": {},
      "outputs": [],
      "source": [
        "guessing_game(-4, 3)"
      ]
    },
    {
      "cell_type": "code",
      "execution_count": null,
      "metadata": {},
      "outputs": [],
      "source": []
    }
  ],
  "metadata": {
    "colab": {
      "collapsed_sections": [],
      "name": "IMP_hw1.ipynb",
      "provenance": []
    },
    "interpreter": {
      "hash": "40d3a090f54c6569ab1632332b64b2c03c39dcf918b08424e98f38b5ae0af88f"
    },
    "kernelspec": {
      "display_name": "Python 3.7.4 64-bit ('base': conda)",
      "name": "python3"
    },
    "language_info": {
      "codemirror_mode": {
        "name": "ipython",
        "version": 3
      },
      "file_extension": ".py",
      "mimetype": "text/x-python",
      "name": "python",
      "nbconvert_exporter": "python",
      "pygments_lexer": "ipython3",
      "version": "3.7.4"
    }
  },
  "nbformat": 4,
  "nbformat_minor": 0
}
