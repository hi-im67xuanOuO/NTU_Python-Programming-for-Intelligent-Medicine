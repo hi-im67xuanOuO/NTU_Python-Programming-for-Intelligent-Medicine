{
  "cells": [
    {
      "cell_type": "markdown",
      "metadata": {
        "id": "vJUcgM0BhZG8"
      },
      "source": [
        "## 注意事項\n",
        "\n",
        "- **作業繳交**\n",
        "\t1. 截止日期: 以Cool為準。\n",
        "\t1. 繳交方式: 上傳至Cool作業區。\n",
        "\t1. 檔案格式: 請**修改助教提供之ipynb檔**，繳交修改後的檔案，並以學號作為檔名。(ex. hw1_b1234567.ipynb)\n",
        "\t1. 抄襲以零分計算，並由校規處置。\n",
        "\t1. 遲交24hr以內，分數x0.8，超過一天不予繳交\n",
        "- **程式碼要求**\n",
        "\t1. 除非題目要求，程式碼請務必正確的包裝在function當中(import 內建函式庫不在此限ex. math)\n",
        "\t1. 函式定義外自己的測試程式碼請放在測試區中\n",
        "\t1. 強烈建議自行複製範例輸出的字串，和自己的輸出字串用函式比對，確認是否完全一樣\n",
        "\t1. 實際評分會包含範例以外的測試資料\n",
        "\t1. 請注意\"回傳\"與\"print\"的差別\n",
        "\n",
        "## [題目連結 HackMD](https://hackmd.io/@lycoris106b/r1_6gsHFF)"
      ]
    },
    {
      "cell_type": "markdown",
      "metadata": {
        "id": "ObUHQOIbP73F"
      },
      "source": [
        "# **Q1**"
      ]
    },
    {
      "cell_type": "code",
      "execution_count": 220,
      "metadata": {},
      "outputs": [],
      "source": [
        "m = 2722458769\n",
        "table = {}\n",
        "def Q1_CountNumbers(n):\n",
        "    if n in table: # 新增table儲存已經計算過的數值，就不用一直重算遞迴項\n",
        "        return table[n]\n",
        "    if n == 1: # Q1(1) = 5\n",
        "        table[n] = 5\n",
        "        return table[n]\n",
        "    if n == 2: # Q1(2) = 5*4 = 20\n",
        "        table[n] = 20\n",
        "        return table[n]\n",
        "    else:\n",
        "        if n % 2 == 1: #odd\n",
        "            if (n-1)%2 == 1:\n",
        "                ans = (Q1_CountNumbers((n-1)//2) * Q1_CountNumbers((n-1)//2))*4 % m\n",
        "            else:\n",
        "                ans = (Q1_CountNumbers((n-1)//2) * Q1_CountNumbers((n-1)//2))*5 % m\n",
        "        elif (n//2) % 2 == 1: #非2的次方項的偶數\n",
        "            ans = (Q1_CountNumbers(n//2-1) * Q1_CountNumbers(n//2+1)) % m\n",
        "        else: #2的次方項\n",
        "            ans = (Q1_CountNumbers(n//2) * Q1_CountNumbers(n//2)) % m\n",
        "    table[n] = ans\n",
        "    return ans\n",
        "\n",
        "# Q1_CountNumbers(1234567890)\n",
        "if __name__ == '__main__':\n",
        "    assert Q1_CountNumbers(2) == 20\n",
        "    assert Q1_CountNumbers(1234567898765432123456789) == 1663486587\n",
        "    assert Q1_CountNumbers(1234567890) == 569104491"
      ]
    },
    {
      "cell_type": "markdown",
      "metadata": {
        "id": "GrChe75RQEfu"
      },
      "source": [
        "# **Q2**"
      ]
    },
    {
      "cell_type": "code",
      "execution_count": 221,
      "metadata": {
        "id": "i9XNXUbrQDq_"
      },
      "outputs": [],
      "source": [
        "def CityTraversal(N, Map, Start):\n",
        "  visited = set()\n",
        "  future = set()\n",
        "  visited.add(Start)\n",
        "  future.add(Start)\n",
        "  \n",
        "  while len(future) != 0:\n",
        "    new = set()\n",
        "    for j in future:\n",
        "      for i in range(len(Map[j])):\n",
        "        if Map[j][i] == True and i not in future and i not in visited:\n",
        "          new.add(i)\n",
        "          visited.add(i)\n",
        "          #print(i,\":\",visited,future, new)\n",
        "    \n",
        "    future = new\n",
        "    #print(visited,future, new)\n",
        "  #print(visited)\n",
        "  return visited\n",
        "  #return visited.add(CityTraversal(N, Map, i))\n",
        "\n",
        "  \n",
        "if __name__ == '__main__':\n",
        "  CityTraversal(3, [[True, True, False], [False, True, False], [True, True, True]], 0)\n",
        "  map2 = [[True, False, True, True, False, False], [False, True, True, False, False, False], [True, False, True, False, False, False], [False, False, True, True, False, True], [False, True, False, True, True, False], [False, False, False, True, False, True]]\n",
        "  CityTraversal(6, map2, 2)"
      ]
    },
    {
      "cell_type": "markdown",
      "metadata": {
        "id": "aTX8S3V2QGl0"
      },
      "source": [
        "# **Q3**"
      ]
    },
    {
      "cell_type": "code",
      "execution_count": 222,
      "metadata": {
        "id": "xcXb9xDYgpyK"
      },
      "outputs": [],
      "source": [
        "def SpamDetector(mail_list, target_mail):\n",
        "  str_dict = {} # H{word}\n",
        "  for i in mail_list:\n",
        "    words = re.findall(r'(\\w+)', i)\n",
        "    for j in words:\n",
        "      if j.lower() in str_dict:\n",
        "            str_dict[j.lower()] += 1\n",
        "      else:\n",
        "            str_dict[j.lower()] = 1\n",
        "  #print(str_dict)\n",
        "\n",
        "  target_dict = {} # T{word}\n",
        "  target_words = re.findall(r'(\\w+)', target_mail)\n",
        "  for target in target_words:\n",
        "        if target.lower() in target_dict:\n",
        "              target_dict[target.lower()] += 1\n",
        "        else:\n",
        "              target_dict[target.lower()] = 1\n",
        "  #print(target_dict)\n",
        "  # print(target_words)\n",
        "  count = len(target_words) # N\n",
        "  \n",
        "  ans = 0\n",
        "  for n in list(target_dict.keys()):\n",
        "        if n in str_dict:\n",
        "              ans += str_dict[n]*target_dict[n]\n",
        "  ans = ans/count\n",
        "  #print(ans)\n",
        "  \n",
        "  return ans\n",
        "     \n",
        "  \n",
        "if __name__ == '__main__':\n",
        "  SpamDetector([\"Dear customer,\\n please download the attached file to update your system.\", \"Please click the link to renew your account: http://spamEmail.com\"], \"Due to recent activities on your account, we placed a suspension until you update your information.\\n\\nPlease click the link down below.\")"
      ]
    },
    {
      "cell_type": "markdown",
      "metadata": {
        "id": "sIgw1N1Ygq2a"
      },
      "source": [
        "# 測試區(實際評分會包含範例以外的測試資料)\n",
        "### 在if當中的程式可以不用移除"
      ]
    },
    {
      "cell_type": "code",
      "execution_count": 224,
      "metadata": {
        "id": "ABSC2jI4gqfW"
      },
      "outputs": [],
      "source": [
        "if __name__ == '__main__':\n",
        "  # You can leave anything you want in this block.\n",
        "  pass\n",
        "  #print(\"Hello world.\")"
      ]
    },
    {
      "cell_type": "code",
      "execution_count": null,
      "metadata": {},
      "outputs": [],
      "source": []
    }
  ],
  "metadata": {
    "colab": {
      "collapsed_sections": [],
      "name": "IMP_HW3.ipynb",
      "provenance": []
    },
    "kernelspec": {
      "display_name": "Python 3",
      "name": "python3"
    },
    "language_info": {
      "codemirror_mode": {
        "name": "ipython",
        "version": 3
      },
      "file_extension": ".py",
      "mimetype": "text/x-python",
      "name": "python",
      "nbconvert_exporter": "python",
      "pygments_lexer": "ipython3",
      "version": "3.7.4"
    }
  },
  "nbformat": 4,
  "nbformat_minor": 0
}
