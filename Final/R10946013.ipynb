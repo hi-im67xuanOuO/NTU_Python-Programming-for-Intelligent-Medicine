{
 "cells": [
  {
   "cell_type": "markdown",
   "metadata": {},
   "source": [
    "<div style=\"text-align:center;color:#888888;\"><h2> IMP 5004 - Python Programming for Intelligent Medicine </h2></div>\n",
    "<div style=\"text-align:center;\"><h1> Final Exam (110-1) - Solution </h1></div>\n",
    "\n",
    "* Exam date: 2022/01/06 9:10-12:10\n",
    "* There are 8 questions, 110 points in total.\n",
    "* Open everything including the Internet. Feel free to import any package you need.\n",
    "* \"Cheating\" is basically coordinating with others. So don't do that.\n",
    "* When you find necessary to raise an exception, please include a meaningful error message to indicate what the source of the error is."
   ]
  },
  {
   "cell_type": "code",
   "execution_count": 23,
   "metadata": {
    "ExecuteTime": {
     "end_time": "2022-01-06T01:37:03.499172Z",
     "start_time": "2022-01-06T01:37:03.492882Z"
    }
   },
   "outputs": [],
   "source": [
    "from IPython.core.interactiveshell import InteractiveShell\n",
    "InteractiveShell.ast_node_interactivity = \"all\""
   ]
  },
  {
   "cell_type": "code",
   "execution_count": 24,
   "metadata": {
    "ExecuteTime": {
     "end_time": "2022-01-06T01:37:03.634231Z",
     "start_time": "2022-01-06T01:37:03.623747Z"
    }
   },
   "outputs": [],
   "source": [
    "from IPython.display import Image\n",
    "%matplotlib inline"
   ]
  },
  {
   "cell_type": "code",
   "execution_count": 25,
   "metadata": {
    "ExecuteTime": {
     "end_time": "2022-01-06T01:37:03.765474Z",
     "start_time": "2022-01-06T01:37:03.752353Z"
    }
   },
   "outputs": [],
   "source": [
    "import numpy as np\n",
    "import os\n",
    "import pandas as pd"
   ]
  },
  {
   "cell_type": "code",
   "execution_count": 26,
   "metadata": {
    "ExecuteTime": {
     "end_time": "2022-01-06T01:37:03.886584Z",
     "start_time": "2022-01-06T01:37:03.878261Z"
    }
   },
   "outputs": [],
   "source": [
    "df = pd.read_csv(\"data/iris.csv\", index_col=False)"
   ]
  },
  {
   "cell_type": "markdown",
   "metadata": {},
   "source": [
    "### <span style=\"color:red\">Question 1:</span> Dataframe setting column name (5 pts)\n",
    "\n",
    "Please read the file `iris_data.npy` into a data frame, with the names of the columns being *sepallength*, *sepalwidth*, *petallength*, *petalwidth*, *species*, respectively.\n",
    "\n",
    "<span style=\"color:green\"> <b>Examples:</b></span>\n",
    "```python\n",
    "df = Q1('iris_data.npy')\n",
    "df.head()\n",
    "```\n",
    "Should result in\n",
    "<img src=\"img/iris_dataframe_raw.png\" style=\"height: 150px; \"/>"
   ]
  },
  {
   "cell_type": "code",
   "execution_count": 158,
   "metadata": {
    "ExecuteTime": {
     "end_time": "2022-01-06T03:02:58.258756Z",
     "start_time": "2022-01-06T03:02:58.252283Z"
    }
   },
   "outputs": [],
   "source": [
    "# Please write your code here. Remember to remove the pass statement.\n",
    "def Q1(df):\n",
    "    df = pd.read_csv(\"data/Q1.csv\")\n",
    "    return df"
   ]
  },
  {
   "cell_type": "code",
   "execution_count": 159,
   "metadata": {
    "ExecuteTime": {
     "end_time": "2022-01-06T03:02:58.779426Z",
     "start_time": "2022-01-06T03:02:58.739122Z"
    },
    "scrolled": true
   },
   "outputs": [
    {
     "data": {
      "text/html": [
       "<div>\n",
       "<style scoped>\n",
       "    .dataframe tbody tr th:only-of-type {\n",
       "        vertical-align: middle;\n",
       "    }\n",
       "\n",
       "    .dataframe tbody tr th {\n",
       "        vertical-align: top;\n",
       "    }\n",
       "\n",
       "    .dataframe thead th {\n",
       "        text-align: right;\n",
       "    }\n",
       "</style>\n",
       "<table border=\"1\" class=\"dataframe\">\n",
       "  <thead>\n",
       "    <tr style=\"text-align: right;\">\n",
       "      <th></th>\n",
       "      <th>sepallength</th>\n",
       "      <th>sepalwidth</th>\n",
       "      <th>petallength</th>\n",
       "      <th>petalwidth</th>\n",
       "      <th>species</th>\n",
       "    </tr>\n",
       "  </thead>\n",
       "  <tbody>\n",
       "    <tr>\n",
       "      <td>0</td>\n",
       "      <td>5.1</td>\n",
       "      <td>3.5</td>\n",
       "      <td>1.4</td>\n",
       "      <td>0.2</td>\n",
       "      <td>Iris-setosa</td>\n",
       "    </tr>\n",
       "    <tr>\n",
       "      <td>1</td>\n",
       "      <td>4.9</td>\n",
       "      <td>3.0</td>\n",
       "      <td>1.4</td>\n",
       "      <td>0.2</td>\n",
       "      <td>Iris-setosa</td>\n",
       "    </tr>\n",
       "    <tr>\n",
       "      <td>2</td>\n",
       "      <td>4.7</td>\n",
       "      <td>3.2</td>\n",
       "      <td>1.3</td>\n",
       "      <td>0.2</td>\n",
       "      <td>Iris-setosa</td>\n",
       "    </tr>\n",
       "    <tr>\n",
       "      <td>3</td>\n",
       "      <td>4.6</td>\n",
       "      <td>3.1</td>\n",
       "      <td>1.5</td>\n",
       "      <td>0.2</td>\n",
       "      <td>Iris-setosa</td>\n",
       "    </tr>\n",
       "    <tr>\n",
       "      <td>4</td>\n",
       "      <td>5.0</td>\n",
       "      <td>3.6</td>\n",
       "      <td>1.4</td>\n",
       "      <td>0.2</td>\n",
       "      <td>Iris-setosa</td>\n",
       "    </tr>\n",
       "  </tbody>\n",
       "</table>\n",
       "</div>"
      ],
      "text/plain": [
       "   sepallength  sepalwidth  petallength  petalwidth      species\n",
       "0          5.1         3.5          1.4         0.2  Iris-setosa\n",
       "1          4.9         3.0          1.4         0.2  Iris-setosa\n",
       "2          4.7         3.2          1.3         0.2  Iris-setosa\n",
       "3          4.6         3.1          1.5         0.2  Iris-setosa\n",
       "4          5.0         3.6          1.4         0.2  Iris-setosa"
      ]
     },
     "execution_count": 159,
     "metadata": {},
     "output_type": "execute_result"
    }
   ],
   "source": [
    "# This cell will not be graded. Feel free to alter at your wish.\n",
    "df = pd.read_csv(\"data/Q1.csv\")\n",
    "df = Q1(df)\n",
    "df.head()"
   ]
  },
  {
   "cell_type": "code",
   "execution_count": 160,
   "metadata": {
    "ExecuteTime": {
     "end_time": "2022-01-06T03:03:04.221599Z",
     "start_time": "2022-01-06T03:03:04.201682Z"
    }
   },
   "outputs": [
    {
     "data": {
      "text/html": [
       "<div>\n",
       "<style scoped>\n",
       "    .dataframe tbody tr th:only-of-type {\n",
       "        vertical-align: middle;\n",
       "    }\n",
       "\n",
       "    .dataframe tbody tr th {\n",
       "        vertical-align: top;\n",
       "    }\n",
       "\n",
       "    .dataframe thead th {\n",
       "        text-align: right;\n",
       "    }\n",
       "</style>\n",
       "<table border=\"1\" class=\"dataframe\">\n",
       "  <thead>\n",
       "    <tr style=\"text-align: right;\">\n",
       "      <th></th>\n",
       "      <th>sepallength</th>\n",
       "      <th>sepalwidth</th>\n",
       "      <th>petallength</th>\n",
       "      <th>petalwidth</th>\n",
       "      <th>species</th>\n",
       "    </tr>\n",
       "  </thead>\n",
       "  <tbody>\n",
       "    <tr>\n",
       "      <td>0</td>\n",
       "      <td>5.1</td>\n",
       "      <td>3.5</td>\n",
       "      <td>1.4</td>\n",
       "      <td>0.2</td>\n",
       "      <td>Iris-setosa</td>\n",
       "    </tr>\n",
       "    <tr>\n",
       "      <td>1</td>\n",
       "      <td>4.9</td>\n",
       "      <td>3.0</td>\n",
       "      <td>1.4</td>\n",
       "      <td>0.2</td>\n",
       "      <td>Iris-setosa</td>\n",
       "    </tr>\n",
       "    <tr>\n",
       "      <td>2</td>\n",
       "      <td>4.7</td>\n",
       "      <td>3.2</td>\n",
       "      <td>1.3</td>\n",
       "      <td>0.2</td>\n",
       "      <td>Iris-setosa</td>\n",
       "    </tr>\n",
       "    <tr>\n",
       "      <td>3</td>\n",
       "      <td>4.6</td>\n",
       "      <td>3.1</td>\n",
       "      <td>1.5</td>\n",
       "      <td>0.2</td>\n",
       "      <td>Iris-setosa</td>\n",
       "    </tr>\n",
       "    <tr>\n",
       "      <td>4</td>\n",
       "      <td>5.0</td>\n",
       "      <td>3.6</td>\n",
       "      <td>1.4</td>\n",
       "      <td>0.2</td>\n",
       "      <td>Iris-setosa</td>\n",
       "    </tr>\n",
       "  </tbody>\n",
       "</table>\n",
       "</div>"
      ],
      "text/plain": [
       "   sepallength  sepalwidth  petallength  petalwidth      species\n",
       "0          5.1         3.5          1.4         0.2  Iris-setosa\n",
       "1          4.9         3.0          1.4         0.2  Iris-setosa\n",
       "2          4.7         3.2          1.3         0.2  Iris-setosa\n",
       "3          4.6         3.1          1.5         0.2  Iris-setosa\n",
       "4          5.0         3.6          1.4         0.2  Iris-setosa"
      ]
     },
     "execution_count": 160,
     "metadata": {},
     "output_type": "execute_result"
    }
   ],
   "source": [
    "df = pd.read_csv(\"data/Q1.csv\")\n",
    "df.head()"
   ]
  },
  {
   "cell_type": "markdown",
   "metadata": {},
   "source": [
    "### <span style=\"color:red\">Question 2:</span> Show data summary (10 pts)\n",
    "\n",
    "Print out information including\n",
    "* count\n",
    "* mean\n",
    "* std (standard deviation)\n",
    "* min\n",
    "* The 12.5th, 25th, 50th, 75th, 87.5th percentiles\n",
    "* max\n",
    "\n",
    "for all the features (sepallength, sepalwidth, petallength, petalwidth) in iris dataset.\n",
    "\n",
    "(Percentile definition: https://en.wikipedia.org/wiki/Percentile)\n",
    "\n",
    "<span style=\"color:green\"> <b>Reference Output:</b></span>\n",
    "<img src=\"img/iris_summary.png\" style=\"height: 250px; \"/>"
   ]
  },
  {
   "cell_type": "code",
   "execution_count": 63,
   "metadata": {
    "ExecuteTime": {
     "end_time": "2022-01-06T01:54:33.540568Z",
     "start_time": "2022-01-06T01:54:33.472982Z"
    }
   },
   "outputs": [
    {
     "data": {
      "text/html": [
       "<div>\n",
       "<style scoped>\n",
       "    .dataframe tbody tr th:only-of-type {\n",
       "        vertical-align: middle;\n",
       "    }\n",
       "\n",
       "    .dataframe tbody tr th {\n",
       "        vertical-align: top;\n",
       "    }\n",
       "\n",
       "    .dataframe thead th {\n",
       "        text-align: right;\n",
       "    }\n",
       "</style>\n",
       "<table border=\"1\" class=\"dataframe\">\n",
       "  <thead>\n",
       "    <tr style=\"text-align: right;\">\n",
       "      <th></th>\n",
       "      <th>sepallength</th>\n",
       "      <th>sepalwidth</th>\n",
       "      <th>petallength</th>\n",
       "      <th>petalwidth</th>\n",
       "    </tr>\n",
       "  </thead>\n",
       "  <tbody>\n",
       "    <tr>\n",
       "      <td>count</td>\n",
       "      <td>150.000000</td>\n",
       "      <td>150.000000</td>\n",
       "      <td>150.000000</td>\n",
       "      <td>150.000000</td>\n",
       "    </tr>\n",
       "    <tr>\n",
       "      <td>mean</td>\n",
       "      <td>5.843333</td>\n",
       "      <td>3.054000</td>\n",
       "      <td>3.758667</td>\n",
       "      <td>1.198667</td>\n",
       "    </tr>\n",
       "    <tr>\n",
       "      <td>std</td>\n",
       "      <td>0.828066</td>\n",
       "      <td>0.433594</td>\n",
       "      <td>1.764420</td>\n",
       "      <td>0.763161</td>\n",
       "    </tr>\n",
       "    <tr>\n",
       "      <td>min</td>\n",
       "      <td>4.300000</td>\n",
       "      <td>2.000000</td>\n",
       "      <td>1.000000</td>\n",
       "      <td>0.100000</td>\n",
       "    </tr>\n",
       "    <tr>\n",
       "      <td>25%</td>\n",
       "      <td>5.100000</td>\n",
       "      <td>2.800000</td>\n",
       "      <td>1.600000</td>\n",
       "      <td>0.300000</td>\n",
       "    </tr>\n",
       "    <tr>\n",
       "      <td>50%</td>\n",
       "      <td>5.800000</td>\n",
       "      <td>3.000000</td>\n",
       "      <td>4.350000</td>\n",
       "      <td>1.300000</td>\n",
       "    </tr>\n",
       "    <tr>\n",
       "      <td>75%</td>\n",
       "      <td>6.400000</td>\n",
       "      <td>3.300000</td>\n",
       "      <td>5.100000</td>\n",
       "      <td>1.800000</td>\n",
       "    </tr>\n",
       "    <tr>\n",
       "      <td>87.5%</td>\n",
       "      <td>6.800000</td>\n",
       "      <td>3.500000</td>\n",
       "      <td>5.637500</td>\n",
       "      <td>2.100000</td>\n",
       "    </tr>\n",
       "    <tr>\n",
       "      <td>max</td>\n",
       "      <td>7.900000</td>\n",
       "      <td>4.400000</td>\n",
       "      <td>6.900000</td>\n",
       "      <td>2.500000</td>\n",
       "    </tr>\n",
       "  </tbody>\n",
       "</table>\n",
       "</div>"
      ],
      "text/plain": [
       "       sepallength  sepalwidth  petallength  petalwidth\n",
       "count   150.000000  150.000000   150.000000  150.000000\n",
       "mean      5.843333    3.054000     3.758667    1.198667\n",
       "std       0.828066    0.433594     1.764420    0.763161\n",
       "min       4.300000    2.000000     1.000000    0.100000\n",
       "25%       5.100000    2.800000     1.600000    0.300000\n",
       "50%       5.800000    3.000000     4.350000    1.300000\n",
       "75%       6.400000    3.300000     5.100000    1.800000\n",
       "87.5%     6.800000    3.500000     5.637500    2.100000\n",
       "max       7.900000    4.400000     6.900000    2.500000"
      ]
     },
     "execution_count": 63,
     "metadata": {},
     "output_type": "execute_result"
    }
   ],
   "source": [
    "# Please write your code here\n",
    "ans = df.describe()\n",
    "new_125 = pd.DataFrame({'sepallength':df.quantile(q=0.125)[0],\n",
    "                        'sepalwidth':df.quantile(q=0.125)[1],\n",
    "                        'petallength':df.quantile(q=0.125)[2],\n",
    "                        'petalwidth':df.quantile(q=0.125)[3]},\n",
    "                        index=['12.5%'])\n",
    "new_875 = pd.DataFrame({'sepallength':df.quantile(q=0.875)[0],\n",
    "                        'sepalwidth':df.quantile(q=0.875)[1],\n",
    "                        'petallength':df.quantile(q=0.875)[2],\n",
    "                        'petalwidth':df.quantile(q=0.875)[3]},\n",
    "                        index=['87.5%'])\n",
    "\n",
    "pd_arr1 = ans[:4]\n",
    "pd_arr2 = ans[4:]\n",
    "pd_arr1 = pd_arr1.append(new_125)\n",
    "pd_arr1 = pd_arr1.append(pd_arr2)\n",
    "\n",
    "pd_arr3 = ans[:7]\n",
    "pd_arr4 = ans[7:]\n",
    "pd_arr3 = pd_arr3.append(new_875)\n",
    "pd_arr3 = pd_arr3.append(pd_arr4)\n",
    "pd_arr3"
   ]
  },
  {
   "cell_type": "markdown",
   "metadata": {},
   "source": [
    "### <span style=\"color:red\">Question 3:</span> Filter a dataframe with multiple conditions (10 pts)\n",
    "Filter the rows that has *sepalwidth* > 2.1 and *petallength* < 1.4.\n",
    "\n",
    "<span style=\"color:green\"> <b>Reference Output:</b></span>\n",
    "<img src=\"img/row_selection.png\" style=\"height: 250px; \"/>"
   ]
  },
  {
   "cell_type": "code",
   "execution_count": 71,
   "metadata": {
    "ExecuteTime": {
     "end_time": "2022-01-06T01:59:26.460623Z",
     "start_time": "2022-01-06T01:59:26.409981Z"
    }
   },
   "outputs": [
    {
     "data": {
      "text/html": [
       "<div>\n",
       "<style scoped>\n",
       "    .dataframe tbody tr th:only-of-type {\n",
       "        vertical-align: middle;\n",
       "    }\n",
       "\n",
       "    .dataframe tbody tr th {\n",
       "        vertical-align: top;\n",
       "    }\n",
       "\n",
       "    .dataframe thead th {\n",
       "        text-align: right;\n",
       "    }\n",
       "</style>\n",
       "<table border=\"1\" class=\"dataframe\">\n",
       "  <thead>\n",
       "    <tr style=\"text-align: right;\">\n",
       "      <th></th>\n",
       "      <th>sepallength</th>\n",
       "      <th>sepalwidth</th>\n",
       "      <th>petallength</th>\n",
       "      <th>petalwidth</th>\n",
       "      <th>species</th>\n",
       "    </tr>\n",
       "  </thead>\n",
       "  <tbody>\n",
       "    <tr>\n",
       "      <td>2</td>\n",
       "      <td>4.7</td>\n",
       "      <td>3.2</td>\n",
       "      <td>1.3</td>\n",
       "      <td>0.2</td>\n",
       "      <td>Iris-setosa</td>\n",
       "    </tr>\n",
       "    <tr>\n",
       "      <td>13</td>\n",
       "      <td>4.3</td>\n",
       "      <td>3.0</td>\n",
       "      <td>1.1</td>\n",
       "      <td>0.1</td>\n",
       "      <td>Iris-setosa</td>\n",
       "    </tr>\n",
       "    <tr>\n",
       "      <td>14</td>\n",
       "      <td>5.8</td>\n",
       "      <td>4.0</td>\n",
       "      <td>1.2</td>\n",
       "      <td>0.2</td>\n",
       "      <td>Iris-setosa</td>\n",
       "    </tr>\n",
       "    <tr>\n",
       "      <td>16</td>\n",
       "      <td>5.4</td>\n",
       "      <td>3.9</td>\n",
       "      <td>1.3</td>\n",
       "      <td>0.4</td>\n",
       "      <td>Iris-setosa</td>\n",
       "    </tr>\n",
       "    <tr>\n",
       "      <td>22</td>\n",
       "      <td>4.6</td>\n",
       "      <td>3.6</td>\n",
       "      <td>1.0</td>\n",
       "      <td>0.2</td>\n",
       "      <td>Iris-setosa</td>\n",
       "    </tr>\n",
       "    <tr>\n",
       "      <td>35</td>\n",
       "      <td>5.0</td>\n",
       "      <td>3.2</td>\n",
       "      <td>1.2</td>\n",
       "      <td>0.2</td>\n",
       "      <td>Iris-setosa</td>\n",
       "    </tr>\n",
       "    <tr>\n",
       "      <td>36</td>\n",
       "      <td>5.5</td>\n",
       "      <td>3.5</td>\n",
       "      <td>1.3</td>\n",
       "      <td>0.2</td>\n",
       "      <td>Iris-setosa</td>\n",
       "    </tr>\n",
       "    <tr>\n",
       "      <td>38</td>\n",
       "      <td>4.4</td>\n",
       "      <td>3.0</td>\n",
       "      <td>1.3</td>\n",
       "      <td>0.2</td>\n",
       "      <td>Iris-setosa</td>\n",
       "    </tr>\n",
       "    <tr>\n",
       "      <td>40</td>\n",
       "      <td>5.0</td>\n",
       "      <td>3.5</td>\n",
       "      <td>1.3</td>\n",
       "      <td>0.3</td>\n",
       "      <td>Iris-setosa</td>\n",
       "    </tr>\n",
       "    <tr>\n",
       "      <td>41</td>\n",
       "      <td>4.5</td>\n",
       "      <td>2.3</td>\n",
       "      <td>1.3</td>\n",
       "      <td>0.3</td>\n",
       "      <td>Iris-setosa</td>\n",
       "    </tr>\n",
       "    <tr>\n",
       "      <td>42</td>\n",
       "      <td>4.4</td>\n",
       "      <td>3.2</td>\n",
       "      <td>1.3</td>\n",
       "      <td>0.2</td>\n",
       "      <td>Iris-setosa</td>\n",
       "    </tr>\n",
       "  </tbody>\n",
       "</table>\n",
       "</div>"
      ],
      "text/plain": [
       "    sepallength  sepalwidth  petallength  petalwidth      species\n",
       "2           4.7         3.2          1.3         0.2  Iris-setosa\n",
       "13          4.3         3.0          1.1         0.1  Iris-setosa\n",
       "14          5.8         4.0          1.2         0.2  Iris-setosa\n",
       "16          5.4         3.9          1.3         0.4  Iris-setosa\n",
       "22          4.6         3.6          1.0         0.2  Iris-setosa\n",
       "35          5.0         3.2          1.2         0.2  Iris-setosa\n",
       "36          5.5         3.5          1.3         0.2  Iris-setosa\n",
       "38          4.4         3.0          1.3         0.2  Iris-setosa\n",
       "40          5.0         3.5          1.3         0.3  Iris-setosa\n",
       "41          4.5         2.3          1.3         0.3  Iris-setosa\n",
       "42          4.4         3.2          1.3         0.2  Iris-setosa"
      ]
     },
     "execution_count": 71,
     "metadata": {},
     "output_type": "execute_result"
    }
   ],
   "source": [
    "# Please write your code here\n",
    "filt = (df['sepalwidth']>2.1) & (df['petallength']<1.4)\n",
    "df.loc[filt]"
   ]
  },
  {
   "cell_type": "markdown",
   "metadata": {},
   "source": [
    "### <span style=\"color:red\">Question 4:</span> Find correlations between features (10 pts)\n",
    "\n",
    "Find the correlation between *sepalwidth* and *petallength*.\n",
    "\n",
    "<span style=\"color:green\"> <b>Reference Output:</b></span>\n",
    "```python\n",
    "-0.42051609640115445\n",
    "```"
   ]
  },
  {
   "cell_type": "code",
   "execution_count": 73,
   "metadata": {
    "ExecuteTime": {
     "end_time": "2022-01-06T02:01:28.521936Z",
     "start_time": "2022-01-06T02:01:28.513607Z"
    }
   },
   "outputs": [
    {
     "data": {
      "text/plain": [
       "-0.42051609640115445"
      ]
     },
     "execution_count": 73,
     "metadata": {},
     "output_type": "execute_result"
    }
   ],
   "source": [
    "# Please write your code here\n",
    "r = np.corrcoef(df['sepalwidth'], df['petallength'])\n",
    "r[0][1]"
   ]
  },
  {
   "cell_type": "markdown",
   "metadata": {},
   "source": [
    "### <span style=\"color:red\">Question 5:</span> Logistic regression (15 pts)\n",
    "\n",
    "Fit a linear regression function that predicts *petallength* from *sepallength*\tand *petalwidth*.  The regression function takes the form\n",
    "\n",
    "$$y = w_0 x_0 + w_1 x_1 + b$$\n",
    "\n",
    "where $x_0$ is the *sepallength* and $x_1$ is the *petalwidth*, and $y$ is the estimated *petallength*.  Report $w_0$, $w_1$, $b$, as well as the $R^2$-value.\n",
    "\n",
    "<span style=\"color:green\"> <b>Examples:</b></span>\n",
    "```python\n",
    "R_sqr, w, b = Q5()\n",
    "print(f'y = {w[0]:.3f} x0 + {w[1]:.3f} x1 + {b:.3f}')\n",
    "print(f'R square = {R_sqr:.3f}')\n",
    "```\n",
    "Should result in\n",
    "```python\n",
    "y = 0.543 x0 + 1.744 x1 + -1.502\n",
    "R square = 0.948\n",
    "```"
   ]
  },
  {
   "cell_type": "code",
   "execution_count": 101,
   "metadata": {
    "ExecuteTime": {
     "end_time": "2022-01-06T02:14:25.393710Z",
     "start_time": "2022-01-06T02:14:25.383530Z"
    }
   },
   "outputs": [],
   "source": [
    "# Please write your code here. Remember to remove the pass statement.\n",
    "def Q5():\n",
    "    from sklearn.linear_model import LinearRegression\n",
    "    iris_df = df[['petallength','sepallength','petalwidth']]\n",
    "\n",
    "    X= iris_df.drop(labels= 'petallength', axis= 1)\n",
    "    y= iris_df['petallength']\n",
    "\n",
    "    from sklearn.model_selection import train_test_split\n",
    "    X_train, X_test, y_train, y_test = train_test_split(X, y, test_size= 0.3, random_state= 1)\n",
    "\n",
    "    lr = LinearRegression()\n",
    "    lr.fit(X_train, y_train)\n",
    "\n",
    "    lr.predict(X_test)\n",
    "    pred = lr.predict(X_test)\n",
    "    \n",
    "    from sklearn.metrics import r2_score\n",
    "    r_sqr = r2_score(y_test, pred)\n",
    "    w = lr.coef_\n",
    "    b = lr.intercept_\n",
    "    \n",
    "    return r_sqr, w, b"
   ]
  },
  {
   "cell_type": "code",
   "execution_count": 102,
   "metadata": {
    "ExecuteTime": {
     "end_time": "2022-01-06T02:14:26.177782Z",
     "start_time": "2022-01-06T02:14:26.153834Z"
    }
   },
   "outputs": [
    {
     "name": "stdout",
     "output_type": "stream",
     "text": [
      "y = 0.619 x0 + 1.648 x1 + -1.811\n",
      "R square = 0.926\n"
     ]
    }
   ],
   "source": [
    "# This cell will not be graded. Feel free to alter at your wish.\n",
    "R_sqr, w, b = Q5()\n",
    "print(f'y = {w[0]:.3f} x0 + {w[1]:.3f} x1 + {b:.3f}')\n",
    "print(f'R square = {R_sqr:.3f}')"
   ]
  },
  {
   "cell_type": "markdown",
   "metadata": {},
   "source": [
    "### <span style=\"color:red\">Question 6:</span> Asymetric random matrix (15 pts)\n",
    "Write a function `asymRandomMtx(n)` that returns a $n \\times n$ numpy array which is a random anti-symmetric matrix. (That is, $a_{ij}=-a_{ji}$ where $a_{kl}$ denotes the element at the $k$-th row and $l$-th column)\n",
    "\n",
    "<span style=\"color:green\"> <b>Examples:</b></span>\n",
    "```python\n",
    "asymRandomMtx(4)\n",
    "```\n",
    "A possible answer might be\n",
    "```python\n",
    "array([[ 0,  1,  0, -1],\n",
    "       [-1,  0,  0,  1],\n",
    "       [ 0,  0,  0, -1],\n",
    "       [ 1, -1,  1,  0]])\n",
    "```"
   ]
  },
  {
   "cell_type": "code",
   "execution_count": 179,
   "metadata": {
    "ExecuteTime": {
     "end_time": "2022-01-06T03:19:04.649751Z",
     "start_time": "2022-01-06T03:19:04.643067Z"
    }
   },
   "outputs": [],
   "source": [
    "# Please write your code here. Remember to remove the pass statement.\n",
    "def asymRandomMtx(n):\n",
    "    import random\n",
    "    array2D = [[round(random.random(),5) for _ in range(n)] for _ in range(n)]\n",
    "    for i in range(n):\n",
    "        for j in range(n):\n",
    "            if i==j:\n",
    "                array2D[i][j] = 0\n",
    "            if i<j:\n",
    "                array2D[i][j] = -array2D[j][i]\n",
    "    return array2D "
   ]
  },
  {
   "cell_type": "code",
   "execution_count": 182,
   "metadata": {
    "ExecuteTime": {
     "end_time": "2022-01-06T03:19:16.824402Z",
     "start_time": "2022-01-06T03:19:16.814355Z"
    }
   },
   "outputs": [
    {
     "data": {
      "text/plain": [
       "[[0, -0.34091, -0.95226, -0.38928],\n",
       " [0.34091, 0, -0.22483, -0.43204],\n",
       " [0.95226, 0.22483, 0, -0.91427],\n",
       " [0.38928, 0.43204, 0.91427, 0]]"
      ]
     },
     "execution_count": 182,
     "metadata": {},
     "output_type": "execute_result"
    }
   ],
   "source": [
    "# This cell will not be graded. Feel free to alter at your wish.\n",
    "np.random.seed(12345)\n",
    "asymRandomMtx(4)"
   ]
  },
  {
   "cell_type": "markdown",
   "metadata": {},
   "source": [
    "### <span style=\"color:red\">Question 7:</span> Solving system of linear equations (20 pts)\n",
    "\n",
    "Solve $x_1$, $x_2$, $x_3$ that satisfy the following system of equations:\n",
    "$$\\left[\\begin{array}{cc}  0.9344 & 0.0958\\\\ 0.0958 & 0.8599 \\end{array}\\right]^{10}\n",
    " \\left[\\begin{array}{c} -1.1916 x_1 + 0.1397 x_2 -1.8054 x_3\\\\ -0.8549 x_1 + 0.03040 x_2 -0.9211 x_3\\end{array}\\right]\n",
    "= \\left[\\begin{array}{c}  1.9890 \\\\ 1.3183 \\end{array}\\right]$$\n",
    "\n",
    "$$1.1441 x_1 -0.1975 x_2 + 0.2262 x_3 = 0.3270$$\n",
    "\n",
    "- Hint: `numpy.concatenate`.\n",
    "\n",
    "<span style=\"color:green\"> <b>Examples:</b></span>\n",
    "```python\n",
    "x = Q6()\n",
    "print(f'x1 = {x[0]:.4f}, x2 = {x[1]:.4f}, x3 = {x[2]:.4f}')\n",
    "```\n",
    "\n",
    "Should result in\n",
    "```python\n",
    "x1 = 0.3861, x2 = -1.1920, x3 = -1.5478\n",
    "```"
   ]
  },
  {
   "cell_type": "code",
   "execution_count": 154,
   "metadata": {
    "ExecuteTime": {
     "end_time": "2022-01-06T03:00:38.234870Z",
     "start_time": "2022-01-06T03:00:38.226507Z"
    }
   },
   "outputs": [],
   "source": [
    "# Please write your code here. Remember to remove the pass statement.\n",
    "def Q7():\n",
    "    A = [[0.9344, 0.0958],[0.0958, 0.8599]]\n",
    "    A = np.linalg.matrix_power(A, 10)\n",
    "    B = [[1.9890],[1.3183]]\n",
    "    X = np.linalg.inv(A).dot(B)\n",
    "    B_ = [[2.16791043],\n",
    "          [1.05943076],\n",
    "          [0.3270]]\n",
    "    A_ = [[-1.1916,0.1397,-1.8054],\n",
    "          [-0.8549,0.03040,-0.9211],\n",
    "          [1.1441,-0.1975,0.2262]]\n",
    "    X_ = np.linalg.solve(A_, B_)\n",
    "    ans = []\n",
    "    for i in X_:\n",
    "        ans.append(i[0])\n",
    "    return ans"
   ]
  },
  {
   "cell_type": "code",
   "execution_count": 155,
   "metadata": {
    "ExecuteTime": {
     "end_time": "2022-01-06T03:00:38.424045Z",
     "start_time": "2022-01-06T03:00:38.416731Z"
    }
   },
   "outputs": [
    {
     "name": "stdout",
     "output_type": "stream",
     "text": [
      "x1 = 0.3861, x2 = -1.1920, x3 = -1.5478\n"
     ]
    }
   ],
   "source": [
    "# This cell will not be graded. Feel free to alter at your wish.\n",
    "x = Q7()\n",
    "print(f'x1 = {x[0]:.4f}, x2 = {x[1]:.4f}, x3 = {x[2]:.4f}')"
   ]
  },
  {
   "cell_type": "markdown",
   "metadata": {},
   "source": [
    "### <span style=\"color:red\">Question 8:</span> Three random walkers (25 pts)\n",
    "\n",
    "*Ada*, *Chris*, *Jill*, *Leon*, and *Wesker* are drunk, and each of them independently performs random walk of `nsteps` steps among a straint line of integer points \n",
    "\n",
    "$...,-3,-2,-1,0,1,2,3,...$\n",
    "\n",
    "Suppose they initially start from various locations, we are interested in knowing who will endup in the right-most position after a fixed steps of random walk. \n",
    "\n",
    "Denote integer $X_i^{(t)}$ as the position at which person $i$ stands at time $t$, then for the next time step $t+1$ he/she will take one among the three following actions with equal probability ($1/3$ each):\n",
    "\n",
    "* Step forward:  $X_i^{(t+1)} = X_i^{(t)}+1$\n",
    "* Step backward: $X_i^{(t+1)} = X_i^{(t)}-1$\n",
    "* Not moving:    $X_i^{(t+1)} = X_i^{(t)}$\n",
    "\n",
    "Write a function `drunk_race(offset, nwalks, nsteps)` that simulates `nwalks` trials, where in each trial each person $i$ starts from $X_i^{(0)}=$ `offset[i]` and independently performs the aforementioned random walk for $T=$ `nsteps` steps. The output will be a pandas series indicating, for each person $i$, how many times among those `nwalks` trials does he/she end up at the right most position (i.e., $X_i^{(T)} = \\max_j X_j^{(T)}$) after random walk.\n",
    "\n",
    "<span style=\"color:green\"> <b>Examples:</b></span>\n",
    "```python\n",
    "nwalks = 5000\n",
    "nsteps = 1000\n",
    "players = ['Chris','Jill','Leon','Wesker','Ada']\n",
    "offset = pd.Series([0,10,20,30,40], index = players)\n",
    "\n",
    "wins = drunk_race(offset, nwalks, nsteps)\n",
    "print(f'Among {nwalks} trials of {nsteps}-step random walks:')\n",
    "for player in players:\n",
    "    print(f'{player:10s} starts at {offset[player]:3d} and ends up at the right-most in {wins[player]:5d} trials ({100*wins[player]/nwalks:2.2f} %)')\n",
    "```\n",
    "Might result in\n",
    "```python\n",
    "Among 5000 trials of 1000-step random walks:\n",
    "Chris      starts at   0 and ends up at the right-most in   204 trials (4.08 %)\n",
    "Jill       starts at  10 and ends up at the right-most in   431 trials (8.62 %)\n",
    "Leon       starts at  20 and ends up at the right-most in   777 trials (15.54 %)\n",
    "Wesker     starts at  30 and ends up at the right-most in  1394 trials (27.88 %)\n",
    "Ada        starts at  40 and ends up at the right-most in  2285 trials (45.70 %)\n",
    "```\n",
    "\n",
    "* Due to randomness the percentages may fluctuate a little bit.\n",
    "* Due to the occasional ties (two or more people ending up at the same rightmost position), the percentages may total over 100%."
   ]
  },
  {
   "cell_type": "code",
   "execution_count": null,
   "metadata": {},
   "outputs": [],
   "source": []
  },
  {
   "cell_type": "code",
   "execution_count": 232,
   "metadata": {
    "ExecuteTime": {
     "end_time": "2022-01-06T04:11:02.583145Z",
     "start_time": "2022-01-06T04:11:02.568260Z"
    }
   },
   "outputs": [],
   "source": [
    "# Please write your code here. Remember to remove the pass statement.\n",
    "def drunk_race(offset, nwalks = 5000, nsteps = 1000):\n",
    "    np.random.seed(12345)\n",
    "    max_time = list(0 for i in range(len(offset)))\n",
    "    times = list(0 for i in range(len(offset)))\n",
    "\n",
    "    for person in range(len(offset)):\n",
    "        max_ = offset[person] # 目前最大值\n",
    "        for i in range(nwalks):\n",
    "            for j in range(nsteps):\n",
    "                n = random.randint(0,2) #隨機生成0~2的整數\n",
    "                if n == 0: #向後退\n",
    "                    new = offset[person]-1\n",
    "                elif n == 1: #不動\n",
    "                    new = offset[person]\n",
    "                else: #向前走\n",
    "                    new = offset[person]+1\n",
    "            \n",
    "                if new > max_:\n",
    "                    max_ = new\n",
    "                    max_time[person] = i\n",
    "                    times[person]+=1\n",
    "    \n",
    "    result = pd.Series(max_time, index = players)\n",
    "    print(result)\n",
    "    return (result)"
   ]
  },
  {
   "cell_type": "code",
   "execution_count": 234,
   "metadata": {
    "ExecuteTime": {
     "end_time": "2022-01-06T04:11:39.397756Z",
     "start_time": "2022-01-06T04:11:39.323033Z"
    }
   },
   "outputs": [
    {
     "name": "stdout",
     "output_type": "stream",
     "text": [
      "Chris     2\n",
      "Jill      1\n",
      "Leon      4\n",
      "Wesker    3\n",
      "Ada       4\n",
      "dtype: int64\n",
      "Among 500 trials of 1-step random walks:\n",
      "Chris      starts at   0 and ends up at the right-most in     2 trials (0.40 %)\n",
      "Jill       starts at  10 and ends up at the right-most in     1 trials (0.20 %)\n",
      "Leon       starts at  20 and ends up at the right-most in     4 trials (0.80 %)\n",
      "Wesker     starts at  30 and ends up at the right-most in     3 trials (0.60 %)\n",
      "Ada        starts at  40 and ends up at the right-most in     4 trials (0.80 %)\n"
     ]
    }
   ],
   "source": [
    "# This cell will not be graded. Feel free to alter at your wish.\n",
    "np.random.seed(12345)\n",
    "nwalks = 500\n",
    "nsteps = 1\n",
    "players = ['Chris','Jill','Leon','Wesker','Ada']\n",
    "offset = pd.Series([0,10,20,30,40], index = players)\n",
    "\n",
    "wins = drunk_race(offset, nwalks, nsteps)\n",
    "print(f'Among {nwalks} trials of {nsteps}-step random walks:')\n",
    "for player in players:\n",
    "    print(f'{player:10s} starts at {offset[player]:3d} and ends up at the right-most in {wins[player]:5d} trials ({100*wins[player]/nwalks:2.2f} %)')"
   ]
  },
  {
   "cell_type": "code",
   "execution_count": null,
   "metadata": {},
   "outputs": [],
   "source": []
  }
 ],
 "metadata": {
  "kernelspec": {
   "display_name": "Python 3",
   "language": "python",
   "name": "python3"
  },
  "language_info": {
   "codemirror_mode": {
    "name": "ipython",
    "version": 3
   },
   "file_extension": ".py",
   "mimetype": "text/x-python",
   "name": "python",
   "nbconvert_exporter": "python",
   "pygments_lexer": "ipython3",
   "version": "3.7.4"
  },
  "toc": {
   "base_numbering": 1,
   "nav_menu": {},
   "number_sections": true,
   "sideBar": true,
   "skip_h1_title": false,
   "title_cell": "Table of Contents",
   "title_sidebar": "Contents",
   "toc_cell": false,
   "toc_position": {},
   "toc_section_display": true,
   "toc_window_display": false
  }
 },
 "nbformat": 4,
 "nbformat_minor": 4
}
